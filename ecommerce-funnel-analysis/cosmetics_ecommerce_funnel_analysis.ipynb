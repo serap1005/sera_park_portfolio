{
 "cells": [
  {
   "cell_type": "markdown",
   "metadata": {
    "id": "jR4fX00ayV2m"
   },
   "source": [
    "# **Cosmetics E-Commerce Funnel Analysis**  \n",
    "\n",
    "* Data Source: https://www.kaggle.com/datasets/mkechinov/ecommerce-events-history-in-cosmetics-shop"
   ]
  },
  {
   "cell_type": "code",
   "execution_count": 22,
   "metadata": {
    "colab": {
     "base_uri": "https://localhost:8080/",
     "height": 54
    },
    "executionInfo": {
     "elapsed": 23368,
     "status": "ok",
     "timestamp": 1698497076959,
     "user": {
      "displayName": "박지환",
      "userId": "03562376240636475247"
     },
     "user_tz": -540
    },
    "id": "A1F_aGxXyjaH",
    "outputId": "dbfce915-7cae-4deb-d0fe-04f5e850b16b"
   },
   "outputs": [],
   "source": [
    "import os\n",
    "import pandas as pd\n",
    "import numpy as np"
   ]
  },
  {
   "cell_type": "code",
   "execution_count": 2,
   "metadata": {
    "colab": {
     "base_uri": "https://localhost:8080/",
     "height": 293
    },
    "executionInfo": {
     "elapsed": 13834,
     "status": "ok",
     "timestamp": 1698497663997,
     "user": {
      "displayName": "박지환",
      "userId": "03562376240636475247"
     },
     "user_tz": -540
    },
    "id": "QoMmLoBq7oBn",
    "outputId": "b6269dbc-028d-41fc-e6fb-fcf7143837ec"
   },
   "outputs": [
    {
     "data": {
      "text/html": [
       "<div>\n",
       "<style scoped>\n",
       "    .dataframe tbody tr th:only-of-type {\n",
       "        vertical-align: middle;\n",
       "    }\n",
       "\n",
       "    .dataframe tbody tr th {\n",
       "        vertical-align: top;\n",
       "    }\n",
       "\n",
       "    .dataframe thead th {\n",
       "        text-align: right;\n",
       "    }\n",
       "</style>\n",
       "<table border=\"1\" class=\"dataframe\">\n",
       "  <thead>\n",
       "    <tr style=\"text-align: right;\">\n",
       "      <th></th>\n",
       "      <th>event_time</th>\n",
       "      <th>event_type</th>\n",
       "      <th>product_id</th>\n",
       "      <th>category_id</th>\n",
       "      <th>category_code</th>\n",
       "      <th>brand</th>\n",
       "      <th>price</th>\n",
       "      <th>user_id</th>\n",
       "      <th>user_session</th>\n",
       "    </tr>\n",
       "  </thead>\n",
       "  <tbody>\n",
       "    <tr>\n",
       "      <th>0</th>\n",
       "      <td>2019-12-01 00:00:00 UTC</td>\n",
       "      <td>remove_from_cart</td>\n",
       "      <td>5712790</td>\n",
       "      <td>1487580005268456287</td>\n",
       "      <td>NaN</td>\n",
       "      <td>f.o.x</td>\n",
       "      <td>6.27</td>\n",
       "      <td>576802932</td>\n",
       "      <td>51d85cb0-897f-48d2-918b-ad63965c12dc</td>\n",
       "    </tr>\n",
       "    <tr>\n",
       "      <th>1</th>\n",
       "      <td>2019-12-01 00:00:00 UTC</td>\n",
       "      <td>view</td>\n",
       "      <td>5764655</td>\n",
       "      <td>1487580005411062629</td>\n",
       "      <td>NaN</td>\n",
       "      <td>cnd</td>\n",
       "      <td>29.05</td>\n",
       "      <td>412120092</td>\n",
       "      <td>8adff31e-2051-4894-9758-224bfa8aec18</td>\n",
       "    </tr>\n",
       "    <tr>\n",
       "      <th>2</th>\n",
       "      <td>2019-12-01 00:00:02 UTC</td>\n",
       "      <td>cart</td>\n",
       "      <td>4958</td>\n",
       "      <td>1487580009471148064</td>\n",
       "      <td>NaN</td>\n",
       "      <td>runail</td>\n",
       "      <td>1.19</td>\n",
       "      <td>494077766</td>\n",
       "      <td>c99a50e8-2fac-4c4d-89ec-41c05f114554</td>\n",
       "    </tr>\n",
       "    <tr>\n",
       "      <th>3</th>\n",
       "      <td>2019-12-01 00:00:05 UTC</td>\n",
       "      <td>view</td>\n",
       "      <td>5848413</td>\n",
       "      <td>1487580007675986893</td>\n",
       "      <td>NaN</td>\n",
       "      <td>freedecor</td>\n",
       "      <td>0.79</td>\n",
       "      <td>348405118</td>\n",
       "      <td>722ffea5-73c0-4924-8e8f-371ff8031af4</td>\n",
       "    </tr>\n",
       "    <tr>\n",
       "      <th>4</th>\n",
       "      <td>2019-12-01 00:00:07 UTC</td>\n",
       "      <td>view</td>\n",
       "      <td>5824148</td>\n",
       "      <td>1487580005511725929</td>\n",
       "      <td>NaN</td>\n",
       "      <td>NaN</td>\n",
       "      <td>5.56</td>\n",
       "      <td>576005683</td>\n",
       "      <td>28172809-7e4a-45ce-bab0-5efa90117cd5</td>\n",
       "    </tr>\n",
       "  </tbody>\n",
       "</table>\n",
       "</div>"
      ],
      "text/plain": [
       "                event_time        event_type  product_id          category_id  \\\n",
       "0  2019-12-01 00:00:00 UTC  remove_from_cart     5712790  1487580005268456287   \n",
       "1  2019-12-01 00:00:00 UTC              view     5764655  1487580005411062629   \n",
       "2  2019-12-01 00:00:02 UTC              cart        4958  1487580009471148064   \n",
       "3  2019-12-01 00:00:05 UTC              view     5848413  1487580007675986893   \n",
       "4  2019-12-01 00:00:07 UTC              view     5824148  1487580005511725929   \n",
       "\n",
       "  category_code      brand  price    user_id  \\\n",
       "0           NaN      f.o.x   6.27  576802932   \n",
       "1           NaN        cnd  29.05  412120092   \n",
       "2           NaN     runail   1.19  494077766   \n",
       "3           NaN  freedecor   0.79  348405118   \n",
       "4           NaN        NaN   5.56  576005683   \n",
       "\n",
       "                           user_session  \n",
       "0  51d85cb0-897f-48d2-918b-ad63965c12dc  \n",
       "1  8adff31e-2051-4894-9758-224bfa8aec18  \n",
       "2  c99a50e8-2fac-4c4d-89ec-41c05f114554  \n",
       "3  722ffea5-73c0-4924-8e8f-371ff8031af4  \n",
       "4  28172809-7e4a-45ce-bab0-5efa90117cd5  "
      ]
     },
     "execution_count": 2,
     "metadata": {},
     "output_type": "execute_result"
    }
   ],
   "source": [
    "df = pd.read_csv('cosmetic.csv')\n",
    "df.head()"
   ]
  },
  {
   "cell_type": "code",
   "execution_count": 3,
   "metadata": {},
   "outputs": [
    {
     "name": "stdout",
     "output_type": "stream",
     "text": [
      "<class 'pandas.core.frame.DataFrame'>\n",
      "RangeIndex: 3533286 entries, 0 to 3533285\n",
      "Data columns (total 9 columns):\n",
      " #   Column         Dtype  \n",
      "---  ------         -----  \n",
      " 0   event_time     object \n",
      " 1   event_type     object \n",
      " 2   product_id     int64  \n",
      " 3   category_id    int64  \n",
      " 4   category_code  object \n",
      " 5   brand          object \n",
      " 6   price          float64\n",
      " 7   user_id        int64  \n",
      " 8   user_session   object \n",
      "dtypes: float64(1), int64(3), object(5)\n",
      "memory usage: 242.6+ MB\n"
     ]
    }
   ],
   "source": [
    "df.info()"
   ]
  },
  {
   "cell_type": "code",
   "execution_count": 10,
   "metadata": {},
   "outputs": [],
   "source": [
    "df = df.dropna(subset=['user_session'])\n",
    "\n",
    "df['category_code'] = df['category_code'].fillna('unknown')\n",
    "df['event_time'] = pd.to_datetime(df['event_time'])\n",
    "df['event_type'] = df['event_type'].astype('category')\n",
    "df['user_id'] = df['user_id'].astype(str) \n",
    "\n",
    "df = df.drop_duplicates()"
   ]
  },
  {
   "cell_type": "markdown",
   "metadata": {},
   "source": [
    "## Funnel Construction"
   ]
  },
  {
   "cell_type": "code",
   "execution_count": 12,
   "metadata": {},
   "outputs": [],
   "source": [
    "# pivot per session\n",
    "session_funnel = df.pivot_table(index='user_session',\n",
    "                                columns='event_type',\n",
    "                                values='event_time',\n",
    "                                aggfunc='count').fillna(0)"
   ]
  },
  {
   "cell_type": "code",
   "execution_count": 13,
   "metadata": {},
   "outputs": [],
   "source": [
    "# convert each funnel to boolean\n",
    "session_funnel['viewed'] = session_funnel['view'] > 0\n",
    "session_funnel['carted'] = session_funnel['cart'] > 0\n",
    "session_funnel['purchased'] = session_funnel['purchase'] > 0"
   ]
  },
  {
   "cell_type": "code",
   "execution_count": 14,
   "metadata": {},
   "outputs": [],
   "source": [
    "total_sessions = len(session_funnel)\n",
    "\n",
    "viewed = session_funnel['viewed'].sum()\n",
    "carted = session_funnel[session_funnel['carted']]['viewed'].sum()\n",
    "purchased = session_funnel[session_funnel['purchased']]['viewed'].sum()"
   ]
  },
  {
   "cell_type": "code",
   "execution_count": 15,
   "metadata": {},
   "outputs": [
    {
     "name": "stdout",
     "output_type": "stream",
     "text": [
      "Total sessions: 839812\n",
      "View → Cart Conversion Rate: 0.164\n",
      "Cart → Purchase Conversion Rate: 0.167\n",
      "View → Purchase Conversion Rate: 0.027\n"
     ]
    }
   ],
   "source": [
    "# conversion rate calculation\n",
    "view_to_cart = carted / viewed\n",
    "cart_to_purchase = purchased / carted\n",
    "view_to_purchase = purchased / viewed\n",
    "\n",
    "print(f\"Total sessions: {total_sessions}\")\n",
    "print(f\"View → Cart Conversion Rate: {view_to_cart:.3f}\")\n",
    "print(f\"Cart → Purchase Conversion Rate: {cart_to_purchase:.3f}\")\n",
    "print(f\"View → Purchase Conversion Rate: {view_to_purchase:.3f}\")"
   ]
  },
  {
   "cell_type": "markdown",
   "metadata": {},
   "source": [
    "#### **Business Insights**\n",
    "* The e-commerce funnel shows a sharp drop-off, with only 16.4% of views leading to cart actions and just 2.7% ending in purchase.\n",
    "* The cart-to-purchase rate (16.7%) indicates significant hesitation at the final conversion step, suggesting issues like pricing, friction, or trust.\n",
    "* Immediate opportunities exist in reducing cart abandonment and improving product-to-cart engagement via personalized nudges or UX optimization."
   ]
  },
  {
   "cell_type": "markdown",
   "metadata": {},
   "source": [
    "## Funnel Drop-off Analysis"
   ]
  },
  {
   "cell_type": "code",
   "execution_count": 16,
   "metadata": {},
   "outputs": [
    {
     "name": "stdout",
     "output_type": "stream",
     "text": [
      "Cart → Purchase Drop-off Rate: 85.72%\n"
     ]
    }
   ],
   "source": [
    "# to cart, but no purchase\n",
    "cart_drop_sessions = session_funnel[(session_funnel['carted']) & (~session_funnel['purchased'])]\n",
    "\n",
    "drop_ratio = len(cart_drop_sessions) / session_funnel['carted'].sum()\n",
    "print(f\"Cart → Purchase Drop-off Rate: {drop_ratio:.2%}\")"
   ]
  },
  {
   "cell_type": "code",
   "execution_count": 17,
   "metadata": {},
   "outputs": [
    {
     "data": {
      "text/plain": [
       "count    496382.000000\n",
       "mean          5.365182\n",
       "std          10.271196\n",
       "min           0.000000\n",
       "25%           1.730000\n",
       "50%           3.760000\n",
       "75%           5.560000\n",
       "max         327.780000\n",
       "Name: price, dtype: float64"
      ]
     },
     "execution_count": 17,
     "metadata": {},
     "output_type": "execute_result"
    }
   ],
   "source": [
    "remove_df = df[df['event_type'] == 'remove_from_cart']\n",
    "\n",
    "remove_df['price'].describe()"
   ]
  },
  {
   "cell_type": "code",
   "execution_count": 18,
   "metadata": {},
   "outputs": [
    {
     "data": {
      "text/plain": [
       "brand\n",
       "runail       37362\n",
       "masura       24767\n",
       "irisk        22213\n",
       "grattol      20121\n",
       "bpw.style    13265\n",
       "ingarden     10791\n",
       "pole          8419\n",
       "estel         7897\n",
       "bluesky       6530\n",
       "freedecor     6254\n",
       "Name: count, dtype: int64"
      ]
     },
     "execution_count": 18,
     "metadata": {},
     "output_type": "execute_result"
    }
   ],
   "source": [
    "remove_df['brand'].value_counts().head(10)"
   ]
  },
  {
   "cell_type": "markdown",
   "metadata": {},
   "source": [
    "#### **Business Insights**\n",
    "\n",
    "* 85.7% of sessions that added items to cart did not convert, highlighting a critical friction at the purchase step.\n",
    "* Cart removals are concentrated in low-to-mid price ranges (median $3.76), suggesting trust, urgency, or perceived value as core drop-off drivers.\n",
    "* Brands like Runail and Masura show high cart removals, warranting deeper UX, pricing, or content audits for potential mismatches."
   ]
  },
  {
   "cell_type": "markdown",
   "metadata": {},
   "source": [
    "## Segment Drop-off Analysis"
   ]
  },
  {
   "cell_type": "markdown",
   "metadata": {},
   "source": [
    "### cart -> purchase conversion rate per price range"
   ]
  },
  {
   "cell_type": "code",
   "execution_count": 19,
   "metadata": {},
   "outputs": [],
   "source": [
    "cart_df = df[df['event_type'] == 'cart'].copy()\n",
    "purchase_df = df[df['event_type'] == 'purchase'].copy()"
   ]
  },
  {
   "cell_type": "code",
   "execution_count": 20,
   "metadata": {},
   "outputs": [],
   "source": [
    "cart_prices = cart_df.groupby('user_session')['price'].mean().reset_index(name='cart_price')\n",
    "purchased_sessions = purchase_df['user_session'].unique()\n",
    "cart_prices['purchased'] = cart_prices['user_session'].isin(purchased_sessions)"
   ]
  },
  {
   "cell_type": "code",
   "execution_count": 21,
   "metadata": {},
   "outputs": [
    {
     "name": "stdout",
     "output_type": "stream",
     "text": [
      "  price_range  purchased\n",
      "0         0-2   0.110179\n",
      "1         2-5   0.143442\n",
      "2        5-10   0.144622\n",
      "3       10-20   0.172578\n",
      "4       20-50   0.179475\n",
      "5      50-100   0.192205\n",
      "6        100+   0.118421\n"
     ]
    }
   ],
   "source": [
    "bins = [0, 2, 5, 10, 20, 50, 100, 500]\n",
    "labels = ['0-2','2-5','5-10','10-20','20-50','50-100','100+']\n",
    "cart_prices['price_range'] = pd.cut(cart_prices['cart_price'], bins=bins, labels=labels, right=False)\n",
    "\n",
    "conversion_by_price = cart_prices.groupby('price_range')['purchased'].mean().reset_index()\n",
    "print(conversion_by_price)"
   ]
  },
  {
   "cell_type": "markdown",
   "metadata": {},
   "source": [
    "#### **Business Insights**\n",
    "\n",
    "* Conversion rates are highest for mid-range products ($10–100), peaking at 19.2%, while both low-end (<$2) and high-end (>$100) items underperform.\n",
    "* The lower-than-expected conversion for ultra-cheap items suggests quality skepticism, not price sensitivity.\n",
    "* This implies opportunity in repositioning or bundling low-end products and enhancing trust-building UX for high-value purchases."
   ]
  },
  {
   "cell_type": "markdown",
   "metadata": {},
   "source": [
    "## Actionable Strategy Recommendations"
   ]
  },
  {
   "cell_type": "markdown",
   "metadata": {},
   "source": [
    "### **Funnel Drop-off Analysis**\n",
    "\n",
    "Funnel analysis revealed significant friction at the conversion stage.\n",
    "\n",
    "- **Cart → Purchase Drop-off Rate:** **85.72%**\n",
    "- **Overall Conversion Rate (View → Purchase):** **2.7%**\n",
    "\n",
    "> A majority of users add items to cart but do not complete the purchase, highlighting friction at the decision point. This suggests issues related to trust, perceived value, or UX.\n",
    "\n",
    "---\n",
    "\n",
    "### **Cart Removal Analysis**\n",
    "\n",
    "Analyzed 490K+ cart removal events to understand drop-off patterns.\n",
    "\n",
    "- **Median price of removed items:** \\$3.76\n",
    "- **Most removed brands:** Runail, Masura, Irisk, Grattol\n",
    "\n",
    "> Cart removals are concentrated in low- to mid-priced products. While some high-priced items exist, most drop-offs occur in inexpensive items—implying quality concerns or impulse regret.\n",
    "\n",
    "---\n",
    "\n",
    "### **Conversion Rate by Price Range**\n",
    "\n",
    "| Price Range | Conversion Rate |\n",
    "|-------------|------------------|\n",
    "| \\$0–2        | 11.0%            |\n",
    "| \\$2–5        | 14.3%            |\n",
    "| \\$5–10       | 14.5%            |\n",
    "| \\$10–20      | 17.3%            |\n",
    "| \\$20–50      | 17.9%            |\n",
    "| \\$50–100     | **19.2%**        |\n",
    "| \\$100+       | 11.8%            |\n",
    "\n",
    "> Conversion rates are highest for mid-priced items (\\$10–100), while both ultra-low and high-end products suffer from lower performance. Users may be skeptical of quality at the low end and hesitant due to price at the high end.\n",
    "\n",
    "---\n",
    "\n",
    "### **Strategic Recommendations**\n",
    "\n",
    "#### 1. Reduce Cart Abandonment\n",
    "- Send targeted reminders for abandoned carts (especially in \\$0–2 and \\$100+ segments)\n",
    "- Trigger messages for prolonged cart idle times\n",
    "\n",
    "#### 2. Reposition Low-End Products\n",
    "- Reinforce value perception through reviews and bundling\n",
    "- Highlight quality assurance on product pages\n",
    "\n",
    "#### 3. Improve High-End Trust Factors\n",
    "- Display more product details and user testimonials\n",
    "- Offer installment payments or first-time buyer discounts\n",
    "\n",
    "#### 4. Targeted UX A/B Tests\n",
    "- Run UI experiments on high-drop brands like Runail and Masura\n",
    "- Optimize cart CTA and product detail layout\n",
    "\n",
    "---"
   ]
  },
  {
   "cell_type": "code",
   "execution_count": 23,
   "metadata": {},
   "outputs": [],
   "source": [
    "# Save csv for tableau\n",
    "\n",
    "session_funnel_final = session_funnel[['viewed', 'carted', 'purchased']].copy()\n",
    "session_with_price = cart_prices[['user_session', 'cart_price', 'price_range', 'purchased']]\n",
    "final_df = session_funnel_final.merge(session_with_price, left_index=True, right_on='user_session', how='left')\n",
    "final_df.to_csv(\"session_summary.csv\", index=False)\n"
   ]
  },
  {
   "cell_type": "code",
   "execution_count": null,
   "metadata": {},
   "outputs": [],
   "source": []
  },
  {
   "cell_type": "code",
   "execution_count": null,
   "metadata": {},
   "outputs": [],
   "source": []
  },
  {
   "cell_type": "code",
   "execution_count": null,
   "metadata": {},
   "outputs": [],
   "source": []
  }
 ],
 "metadata": {
  "colab": {
   "authorship_tag": "ABX9TyOFfl/8+CFLvEWc2DKQ7caX",
   "mount_file_id": "1pgJOawDMUy7r3dTVsk5Uat-eCWhE96Wn",
   "provenance": [],
   "toc_visible": true
  },
  "kernelspec": {
   "display_name": "Python 3 (ipykernel)",
   "language": "python",
   "name": "python3"
  },
  "language_info": {
   "codemirror_mode": {
    "name": "ipython",
    "version": 3
   },
   "file_extension": ".py",
   "mimetype": "text/x-python",
   "name": "python",
   "nbconvert_exporter": "python",
   "pygments_lexer": "ipython3",
   "version": "3.8.20"
  }
 },
 "nbformat": 4,
 "nbformat_minor": 4
}
