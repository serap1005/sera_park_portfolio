{
 "cells": [
  {
   "cell_type": "markdown",
   "metadata": {
    "id": "7FKmVU9LIZGa"
   },
   "source": [
    "# **Card Transaction History Analysis & Customer Segmentation**  \n",
    "---\n",
    "> **Context**\n",
    "\n",
    "* Project Summary\n",
    "* Situation Introduction\n",
    "  - Process 1\n",
    "  - Process 2\n",
    "  - Process 3"
   ]
  },
  {
   "cell_type": "markdown",
   "metadata": {
    "id": "tARBthaNT61x"
   },
   "source": [
    "## **Project Summary**\n",
    "---\n",
    "\n",
    "> **Project Title**\n",
    "\n",
    "```\n",
    "▶ Card Transaction History Analysis & Customer Segmentation\n",
    "```  \n",
    "\n",
    "> **Project Type**\n",
    "\n",
    "```\n",
    "▶ Data EDA & Insight Extraction\n",
    "```"
   ]
  },
  {
   "cell_type": "markdown",
   "metadata": {
    "id": "GX-jVEfQUXz4"
   },
   "source": [
    "\n",
    "## **Situation Introduction**\n",
    "---\n",
    "> **Scenario** \n",
    "\n",
    "```\n",
    "A company is planning to launch a new store, with no historical commercial district data. Especially, it is uncertain whether the brand’s profile aligns with the spending behavior of customers residing in that area. The company will analyze credit card spending data to profile local customers’ consumption patterns and compare them against the brand’s characteristics, enabling a data-driven decision on whether to proceed.\n",
    "\n",
    "```  \n",
    "\n",
    "> **Problem Definition**\n",
    "\n",
    "```\n",
    "▶ Unclear commercial viability of the target area for new brand entry\n",
    "\n",
    "```  \n",
    "\n",
    "> **Expected Outcome**\n",
    "\n",
    "```\n",
    "▶ Determine feasibility of entering the new commercial district\n",
    "▶ Understand local customer spending behavior\n",
    "```\n",
    "\n",
    "> **Proposed Solution**\n",
    "\n",
    "```\n",
    "▶ Analyze regional residents’ consumption behavior using credit card spending data\n",
    "▶ Match the consumption profile to the brand’s target profile to support entry decision-making\n",
    "\n",
    "```\n",
    "\n",
    "> **Performance Metric**  \n",
    "\n",
    "```\n",
    "▶ Final decision on new market entry\n",
    "```\n",
    "\n",
    "> **Operations**  \n",
    "\n",
    "```\n",
    "▶ Deliver insights through a comprehensive analytical report for management review\n",
    "\n",
    "```"
   ]
  },
  {
   "cell_type": "code",
   "execution_count": 1,
   "metadata": {
    "colab": {
     "base_uri": "https://localhost:8080/",
     "height": 53
    },
    "id": "-RcXCcYBIn_N",
    "outputId": "13f646c5-75f5-4322-e356-725ef4e3ff8b"
   },
   "outputs": [],
   "source": [
    "import warnings\n",
    "warnings.filterwarnings('ignore')\n"
   ]
  },
  {
   "cell_type": "code",
   "execution_count": 2,
   "metadata": {
    "colab": {
     "base_uri": "https://localhost:8080/",
     "height": 206
    },
    "id": "x1R7jWgVMFkm",
    "outputId": "0089216f-a0c7-4e96-9bc6-15fea60806d5"
   },
   "outputs": [
    {
     "data": {
      "text/html": [
       "<div>\n",
       "<style scoped>\n",
       "    .dataframe tbody tr th:only-of-type {\n",
       "        vertical-align: middle;\n",
       "    }\n",
       "\n",
       "    .dataframe tbody tr th {\n",
       "        vertical-align: top;\n",
       "    }\n",
       "\n",
       "    .dataframe thead th {\n",
       "        text-align: right;\n",
       "    }\n",
       "</style>\n",
       "<table border=\"1\" class=\"dataframe\">\n",
       "  <thead>\n",
       "    <tr style=\"text-align: right;\">\n",
       "      <th></th>\n",
       "      <th>store_id</th>\n",
       "      <th>date</th>\n",
       "      <th>time</th>\n",
       "      <th>card_id</th>\n",
       "      <th>amount</th>\n",
       "      <th>installments</th>\n",
       "      <th>days_of_week</th>\n",
       "      <th>holyday</th>\n",
       "    </tr>\n",
       "  </thead>\n",
       "  <tbody>\n",
       "    <tr>\n",
       "      <th>0</th>\n",
       "      <td>0</td>\n",
       "      <td>2016-12-14</td>\n",
       "      <td>18:05:31</td>\n",
       "      <td>d297bba73f</td>\n",
       "      <td>5</td>\n",
       "      <td>NaN</td>\n",
       "      <td>2</td>\n",
       "      <td>0</td>\n",
       "    </tr>\n",
       "    <tr>\n",
       "      <th>1</th>\n",
       "      <td>0</td>\n",
       "      <td>2016-12-14</td>\n",
       "      <td>18:05:54</td>\n",
       "      <td>d297bba73f</td>\n",
       "      <td>-5</td>\n",
       "      <td>NaN</td>\n",
       "      <td>2</td>\n",
       "      <td>0</td>\n",
       "    </tr>\n",
       "    <tr>\n",
       "      <th>2</th>\n",
       "      <td>0</td>\n",
       "      <td>2016-12-19</td>\n",
       "      <td>12:42:31</td>\n",
       "      <td>0880849c05</td>\n",
       "      <td>144</td>\n",
       "      <td>NaN</td>\n",
       "      <td>0</td>\n",
       "      <td>0</td>\n",
       "    </tr>\n",
       "    <tr>\n",
       "      <th>3</th>\n",
       "      <td>0</td>\n",
       "      <td>2016-12-19</td>\n",
       "      <td>12:48:08</td>\n",
       "      <td>8b4f9e0e95</td>\n",
       "      <td>66</td>\n",
       "      <td>NaN</td>\n",
       "      <td>0</td>\n",
       "      <td>0</td>\n",
       "    </tr>\n",
       "    <tr>\n",
       "      <th>4</th>\n",
       "      <td>0</td>\n",
       "      <td>2016-12-19</td>\n",
       "      <td>13:31:08</td>\n",
       "      <td>7ad237eed0</td>\n",
       "      <td>24</td>\n",
       "      <td>NaN</td>\n",
       "      <td>0</td>\n",
       "      <td>0</td>\n",
       "    </tr>\n",
       "  </tbody>\n",
       "</table>\n",
       "</div>"
      ],
      "text/plain": [
       "   store_id        date      time     card_id  amount  installments  \\\n",
       "0         0  2016-12-14  18:05:31  d297bba73f       5           NaN   \n",
       "1         0  2016-12-14  18:05:54  d297bba73f      -5           NaN   \n",
       "2         0  2016-12-19  12:42:31  0880849c05     144           NaN   \n",
       "3         0  2016-12-19  12:48:08  8b4f9e0e95      66           NaN   \n",
       "4         0  2016-12-19  13:31:08  7ad237eed0      24           NaN   \n",
       "\n",
       "   days_of_week  holyday  \n",
       "0             2        0  \n",
       "1             2        0  \n",
       "2             0        0  \n",
       "3             0        0  \n",
       "4             0        0  "
      ]
     },
     "execution_count": 2,
     "metadata": {},
     "output_type": "execute_result"
    }
   ],
   "source": [
    "import pandas as pd\n",
    "df = pd.read_csv('transaction.csv')\n",
    "df.head()"
   ]
  },
  {
   "cell_type": "code",
   "execution_count": 3,
   "metadata": {},
   "outputs": [],
   "source": [
    "import os\n",
    "import matplotlib.pyplot as plt\n",
    "\n",
    "def save_fig(fig_id, tight_layout=True, fig_extension=\"png\", resolution=300):\n",
    "    IMAGES_PATH = os.path.join(\"images\")\n",
    "    os.makedirs(IMAGES_PATH, exist_ok=True)\n",
    "    path = os.path.join(IMAGES_PATH, fig_id + \".\" + fig_extension)\n",
    "    print(\"Saving figure\", fig_id)\n",
    "    if tight_layout:\n",
    "        plt.tight_layout()\n",
    "    plt.savefig(path, format=fig_extension, dpi=resolution)"
   ]
  },
  {
   "cell_type": "markdown",
   "metadata": {
    "id": "lFJXhcFNRpeN"
   },
   "source": [
    "## **Process 1**  \n",
    "- **Analysis of usage patterns by industry**  \n",
    "---"
   ]
  },
  {
   "cell_type": "markdown",
   "metadata": {
    "id": "rQnuhzDmRux8"
   },
   "source": [
    "### Data Preprocessing  \n",
    "---\n",
    "* Review the basic characteristics of the collected dataset: \n",
    "\n",
    "  (1) Check data shape\n",
    "\n",
    "  (2) Verify data type\n",
    "\n",
    "  (3) Identify missing values\n",
    "\n",
    "  (4) Detect outliers"
   ]
  },
  {
   "cell_type": "code",
   "execution_count": 4,
   "metadata": {
    "colab": {
     "base_uri": "https://localhost:8080/"
    },
    "id": "mLoMsTklMMAk",
    "outputId": "8bc72b6d-a264-4e66-86fd-7fc011c92a33"
   },
   "outputs": [
    {
     "name": "stdout",
     "output_type": "stream",
     "text": [
      "df (3362796, 8)\n"
     ]
    }
   ],
   "source": [
    "print('df', df.shape)"
   ]
  },
  {
   "cell_type": "code",
   "execution_count": 5,
   "metadata": {
    "colab": {
     "base_uri": "https://localhost:8080/"
    },
    "id": "OR1VSwhFMm2y",
    "outputId": "31e4779b-34e8-494d-f9a3-bf8c59ab36cd"
   },
   "outputs": [
    {
     "name": "stdout",
     "output_type": "stream",
     "text": [
      "<class 'pandas.core.frame.DataFrame'>\n",
      "RangeIndex: 3362796 entries, 0 to 3362795\n",
      "Data columns (total 8 columns):\n",
      " #   Column        Dtype  \n",
      "---  ------        -----  \n",
      " 0   store_id      int64  \n",
      " 1   date          object \n",
      " 2   time          object \n",
      " 3   card_id       object \n",
      " 4   amount        int64  \n",
      " 5   installments  float64\n",
      " 6   days_of_week  int64  \n",
      " 7   holyday       int64  \n",
      "dtypes: float64(1), int64(4), object(3)\n",
      "memory usage: 205.2+ MB\n"
     ]
    }
   ],
   "source": [
    "df.info()"
   ]
  },
  {
   "cell_type": "code",
   "execution_count": 6,
   "metadata": {
    "colab": {
     "base_uri": "https://localhost:8080/"
    },
    "id": "blxiqVaaOLRY",
    "outputId": "f7e33e3c-ffb5-43df-f5e7-237f3761e9fa"
   },
   "outputs": [
    {
     "name": "stdout",
     "output_type": "stream",
     "text": [
      "store_id              0\n",
      "date                  0\n",
      "time                  0\n",
      "card_id               0\n",
      "amount                0\n",
      "installments    3345936\n",
      "days_of_week          0\n",
      "holyday               0\n",
      "dtype: int64\n"
     ]
    }
   ],
   "source": [
    "print(df.isnull().sum())"
   ]
  },
  {
   "cell_type": "code",
   "execution_count": 7,
   "metadata": {
    "colab": {
     "base_uri": "https://localhost:8080/",
     "height": 300
    },
    "id": "kL9r23ChR4k2",
    "outputId": "9c9ae9fe-ca42-408b-d400-baf085b7d1f3"
   },
   "outputs": [
    {
     "data": {
      "text/html": [
       "<div>\n",
       "<style scoped>\n",
       "    .dataframe tbody tr th:only-of-type {\n",
       "        vertical-align: middle;\n",
       "    }\n",
       "\n",
       "    .dataframe tbody tr th {\n",
       "        vertical-align: top;\n",
       "    }\n",
       "\n",
       "    .dataframe thead th {\n",
       "        text-align: right;\n",
       "    }\n",
       "</style>\n",
       "<table border=\"1\" class=\"dataframe\">\n",
       "  <thead>\n",
       "    <tr style=\"text-align: right;\">\n",
       "      <th></th>\n",
       "      <th>store_id</th>\n",
       "      <th>amount</th>\n",
       "      <th>installments</th>\n",
       "      <th>days_of_week</th>\n",
       "      <th>holyday</th>\n",
       "    </tr>\n",
       "  </thead>\n",
       "  <tbody>\n",
       "    <tr>\n",
       "      <th>count</th>\n",
       "      <td>3.362796e+06</td>\n",
       "      <td>3.362796e+06</td>\n",
       "      <td>16860.000000</td>\n",
       "      <td>3.362796e+06</td>\n",
       "      <td>3.362796e+06</td>\n",
       "    </tr>\n",
       "    <tr>\n",
       "      <th>mean</th>\n",
       "      <td>8.323770e+02</td>\n",
       "      <td>1.459623e+02</td>\n",
       "      <td>3.459490</td>\n",
       "      <td>3.066320e+00</td>\n",
       "      <td>4.431283e-02</td>\n",
       "    </tr>\n",
       "    <tr>\n",
       "      <th>std</th>\n",
       "      <td>5.468544e+02</td>\n",
       "      <td>6.017306e+02</td>\n",
       "      <td>2.382382</td>\n",
       "      <td>1.976153e+00</td>\n",
       "      <td>2.057892e-01</td>\n",
       "    </tr>\n",
       "    <tr>\n",
       "      <th>min</th>\n",
       "      <td>0.000000e+00</td>\n",
       "      <td>-2.500000e+05</td>\n",
       "      <td>2.000000</td>\n",
       "      <td>0.000000e+00</td>\n",
       "      <td>0.000000e+00</td>\n",
       "    </tr>\n",
       "    <tr>\n",
       "      <th>25%</th>\n",
       "      <td>3.350000e+02</td>\n",
       "      <td>3.200000e+01</td>\n",
       "      <td>3.000000</td>\n",
       "      <td>1.000000e+00</td>\n",
       "      <td>0.000000e+00</td>\n",
       "    </tr>\n",
       "    <tr>\n",
       "      <th>50%</th>\n",
       "      <td>8.220000e+02</td>\n",
       "      <td>7.500000e+01</td>\n",
       "      <td>3.000000</td>\n",
       "      <td>3.000000e+00</td>\n",
       "      <td>0.000000e+00</td>\n",
       "    </tr>\n",
       "    <tr>\n",
       "      <th>75%</th>\n",
       "      <td>1.342000e+03</td>\n",
       "      <td>1.500000e+02</td>\n",
       "      <td>3.000000</td>\n",
       "      <td>5.000000e+00</td>\n",
       "      <td>0.000000e+00</td>\n",
       "    </tr>\n",
       "    <tr>\n",
       "      <th>max</th>\n",
       "      <td>1.799000e+03</td>\n",
       "      <td>2.500000e+05</td>\n",
       "      <td>36.000000</td>\n",
       "      <td>6.000000e+00</td>\n",
       "      <td>1.000000e+00</td>\n",
       "    </tr>\n",
       "  </tbody>\n",
       "</table>\n",
       "</div>"
      ],
      "text/plain": [
       "           store_id        amount  installments  days_of_week       holyday\n",
       "count  3.362796e+06  3.362796e+06  16860.000000  3.362796e+06  3.362796e+06\n",
       "mean   8.323770e+02  1.459623e+02      3.459490  3.066320e+00  4.431283e-02\n",
       "std    5.468544e+02  6.017306e+02      2.382382  1.976153e+00  2.057892e-01\n",
       "min    0.000000e+00 -2.500000e+05      2.000000  0.000000e+00  0.000000e+00\n",
       "25%    3.350000e+02  3.200000e+01      3.000000  1.000000e+00  0.000000e+00\n",
       "50%    8.220000e+02  7.500000e+01      3.000000  3.000000e+00  0.000000e+00\n",
       "75%    1.342000e+03  1.500000e+02      3.000000  5.000000e+00  0.000000e+00\n",
       "max    1.799000e+03  2.500000e+05     36.000000  6.000000e+00  1.000000e+00"
      ]
     },
     "execution_count": 7,
     "metadata": {},
     "output_type": "execute_result"
    }
   ],
   "source": [
    "df.describe()"
   ]
  },
  {
   "cell_type": "code",
   "execution_count": 8,
   "metadata": {
    "id": "2dDYCdTgON6H"
   },
   "outputs": [],
   "source": [
    "df['installments'].fillna(0,inplace=True)"
   ]
  },
  {
   "cell_type": "code",
   "execution_count": 9,
   "metadata": {
    "colab": {
     "base_uri": "https://localhost:8080/"
    },
    "id": "Nw6-Tcdg0OxE",
    "outputId": "aa329dd6-b6a8-4a52-f368-c9ff2735fb98"
   },
   "outputs": [
    {
     "name": "stdout",
     "output_type": "stream",
     "text": [
      "store_id        0\n",
      "date            0\n",
      "time            0\n",
      "card_id         0\n",
      "amount          0\n",
      "installments    0\n",
      "days_of_week    0\n",
      "holyday         0\n",
      "dtype: int64\n"
     ]
    }
   ],
   "source": [
    "print(df.isnull().sum())"
   ]
  },
  {
   "cell_type": "markdown",
   "metadata": {
    "id": "lmTo-9fTSFLn"
   },
   "source": [
    "### Analysis of the share of use and sales by industry\n",
    "---  "
   ]
  },
  {
   "cell_type": "code",
   "execution_count": 10,
   "metadata": {
    "colab": {
     "base_uri": "https://localhost:8080/"
    },
    "id": "IS5_YCA-SMPk",
    "outputId": "4bcf8297-d9cb-43c7-f24d-29db06c188a9"
   },
   "outputs": [
    {
     "data": {
      "text/plain": [
       "store_id\n",
       "0       68773\n",
       "753     39318\n",
       "105     36063\n",
       "1342    33335\n",
       "428     33285\n",
       "        ...  \n",
       "1605        1\n",
       "991         1\n",
       "1263        1\n",
       "1530        1\n",
       "632         1\n",
       "Name: count, Length: 1775, dtype: int64"
      ]
     },
     "execution_count": 10,
     "metadata": {},
     "output_type": "execute_result"
    }
   ],
   "source": [
    "df['store_id'].value_counts()"
   ]
  },
  {
   "cell_type": "code",
   "execution_count": 11,
   "metadata": {
    "colab": {
     "base_uri": "https://localhost:8080/",
     "height": 206
    },
    "id": "OXssMyFuSXOm",
    "outputId": "d6300d0c-a587-4db4-8667-b1374091a975"
   },
   "outputs": [
    {
     "data": {
      "text/html": [
       "<div>\n",
       "<style scoped>\n",
       "    .dataframe tbody tr th:only-of-type {\n",
       "        vertical-align: middle;\n",
       "    }\n",
       "\n",
       "    .dataframe tbody tr th {\n",
       "        vertical-align: top;\n",
       "    }\n",
       "\n",
       "    .dataframe thead th {\n",
       "        text-align: right;\n",
       "    }\n",
       "</style>\n",
       "<table border=\"1\" class=\"dataframe\">\n",
       "  <thead>\n",
       "    <tr style=\"text-align: right;\">\n",
       "      <th></th>\n",
       "      <th>store_id</th>\n",
       "      <th>cnt</th>\n",
       "    </tr>\n",
       "  </thead>\n",
       "  <tbody>\n",
       "    <tr>\n",
       "      <th>0</th>\n",
       "      <td>0</td>\n",
       "      <td>68773</td>\n",
       "    </tr>\n",
       "    <tr>\n",
       "      <th>1</th>\n",
       "      <td>753</td>\n",
       "      <td>39318</td>\n",
       "    </tr>\n",
       "    <tr>\n",
       "      <th>2</th>\n",
       "      <td>105</td>\n",
       "      <td>36063</td>\n",
       "    </tr>\n",
       "    <tr>\n",
       "      <th>3</th>\n",
       "      <td>1342</td>\n",
       "      <td>33335</td>\n",
       "    </tr>\n",
       "    <tr>\n",
       "      <th>4</th>\n",
       "      <td>428</td>\n",
       "      <td>33285</td>\n",
       "    </tr>\n",
       "  </tbody>\n",
       "</table>\n",
       "</div>"
      ],
      "text/plain": [
       "   store_id    cnt\n",
       "0         0  68773\n",
       "1       753  39318\n",
       "2       105  36063\n",
       "3      1342  33335\n",
       "4       428  33285"
      ]
     },
     "execution_count": 11,
     "metadata": {},
     "output_type": "execute_result"
    }
   ],
   "source": [
    "df_store = pd.DataFrame(df['store_id'].value_counts()).reset_index()\n",
    "df_store.columns = ['store_id', 'cnt']\n",
    "df_store.head(5)"
   ]
  },
  {
   "cell_type": "code",
   "execution_count": 12,
   "metadata": {
    "colab": {
     "base_uri": "https://localhost:8080/",
     "height": 363
    },
    "id": "MyRSZYKLUM2I",
    "outputId": "2d1a2c80-31f2-47e5-a026-3bc81d612fdc"
   },
   "outputs": [
    {
     "data": {
      "text/html": [
       "<div>\n",
       "<style scoped>\n",
       "    .dataframe tbody tr th:only-of-type {\n",
       "        vertical-align: middle;\n",
       "    }\n",
       "\n",
       "    .dataframe tbody tr th {\n",
       "        vertical-align: top;\n",
       "    }\n",
       "\n",
       "    .dataframe thead th {\n",
       "        text-align: right;\n",
       "    }\n",
       "</style>\n",
       "<table border=\"1\" class=\"dataframe\">\n",
       "  <thead>\n",
       "    <tr style=\"text-align: right;\">\n",
       "      <th></th>\n",
       "      <th>store_id</th>\n",
       "      <th>cnt</th>\n",
       "      <th>total</th>\n",
       "      <th>ratio</th>\n",
       "    </tr>\n",
       "  </thead>\n",
       "  <tbody>\n",
       "    <tr>\n",
       "      <th>0</th>\n",
       "      <td>0</td>\n",
       "      <td>68773</td>\n",
       "      <td>3362796</td>\n",
       "      <td>2.05</td>\n",
       "    </tr>\n",
       "    <tr>\n",
       "      <th>1</th>\n",
       "      <td>753</td>\n",
       "      <td>39318</td>\n",
       "      <td>3362796</td>\n",
       "      <td>1.17</td>\n",
       "    </tr>\n",
       "    <tr>\n",
       "      <th>2</th>\n",
       "      <td>105</td>\n",
       "      <td>36063</td>\n",
       "      <td>3362796</td>\n",
       "      <td>1.07</td>\n",
       "    </tr>\n",
       "    <tr>\n",
       "      <th>3</th>\n",
       "      <td>1342</td>\n",
       "      <td>33335</td>\n",
       "      <td>3362796</td>\n",
       "      <td>0.99</td>\n",
       "    </tr>\n",
       "    <tr>\n",
       "      <th>4</th>\n",
       "      <td>428</td>\n",
       "      <td>33285</td>\n",
       "      <td>3362796</td>\n",
       "      <td>0.99</td>\n",
       "    </tr>\n",
       "    <tr>\n",
       "      <th>5</th>\n",
       "      <td>221</td>\n",
       "      <td>31409</td>\n",
       "      <td>3362796</td>\n",
       "      <td>0.93</td>\n",
       "    </tr>\n",
       "    <tr>\n",
       "      <th>6</th>\n",
       "      <td>161</td>\n",
       "      <td>27170</td>\n",
       "      <td>3362796</td>\n",
       "      <td>0.81</td>\n",
       "    </tr>\n",
       "    <tr>\n",
       "      <th>7</th>\n",
       "      <td>1038</td>\n",
       "      <td>25694</td>\n",
       "      <td>3362796</td>\n",
       "      <td>0.76</td>\n",
       "    </tr>\n",
       "    <tr>\n",
       "      <th>8</th>\n",
       "      <td>323</td>\n",
       "      <td>25221</td>\n",
       "      <td>3362796</td>\n",
       "      <td>0.75</td>\n",
       "    </tr>\n",
       "    <tr>\n",
       "      <th>9</th>\n",
       "      <td>1366</td>\n",
       "      <td>24946</td>\n",
       "      <td>3362796</td>\n",
       "      <td>0.74</td>\n",
       "    </tr>\n",
       "  </tbody>\n",
       "</table>\n",
       "</div>"
      ],
      "text/plain": [
       "   store_id    cnt    total  ratio\n",
       "0         0  68773  3362796   2.05\n",
       "1       753  39318  3362796   1.17\n",
       "2       105  36063  3362796   1.07\n",
       "3      1342  33335  3362796   0.99\n",
       "4       428  33285  3362796   0.99\n",
       "5       221  31409  3362796   0.93\n",
       "6       161  27170  3362796   0.81\n",
       "7      1038  25694  3362796   0.76\n",
       "8       323  25221  3362796   0.75\n",
       "9      1366  24946  3362796   0.74"
      ]
     },
     "execution_count": 12,
     "metadata": {},
     "output_type": "execute_result"
    }
   ],
   "source": [
    "df_store['total'] = df_store['cnt'].sum()\n",
    "df_store['ratio'] = round( (df_store['cnt'] / df_store['total']) * 100,2)\n",
    "df_store.head(10)"
   ]
  },
  {
   "cell_type": "code",
   "execution_count": 13,
   "metadata": {
    "colab": {
     "base_uri": "https://localhost:8080/",
     "height": 206
    },
    "id": "KqnnvvOqWiyV",
    "outputId": "e0729d9a-3fac-4ad8-b0e5-f2e3eed33298"
   },
   "outputs": [
    {
     "data": {
      "text/html": [
       "<div>\n",
       "<style scoped>\n",
       "    .dataframe tbody tr th:only-of-type {\n",
       "        vertical-align: middle;\n",
       "    }\n",
       "\n",
       "    .dataframe tbody tr th {\n",
       "        vertical-align: top;\n",
       "    }\n",
       "\n",
       "    .dataframe thead th {\n",
       "        text-align: right;\n",
       "    }\n",
       "</style>\n",
       "<table border=\"1\" class=\"dataframe\">\n",
       "  <thead>\n",
       "    <tr style=\"text-align: right;\">\n",
       "      <th></th>\n",
       "      <th>store_id</th>\n",
       "      <th>amount</th>\n",
       "    </tr>\n",
       "  </thead>\n",
       "  <tbody>\n",
       "    <tr>\n",
       "      <th>0</th>\n",
       "      <td>0</td>\n",
       "      <td>5234611</td>\n",
       "    </tr>\n",
       "    <tr>\n",
       "      <th>1</th>\n",
       "      <td>1</td>\n",
       "      <td>147950</td>\n",
       "    </tr>\n",
       "    <tr>\n",
       "      <th>2</th>\n",
       "      <td>2</td>\n",
       "      <td>1615060</td>\n",
       "    </tr>\n",
       "    <tr>\n",
       "      <th>3</th>\n",
       "      <td>3</td>\n",
       "      <td>62781</td>\n",
       "    </tr>\n",
       "    <tr>\n",
       "      <th>4</th>\n",
       "      <td>4</td>\n",
       "      <td>270312</td>\n",
       "    </tr>\n",
       "  </tbody>\n",
       "</table>\n",
       "</div>"
      ],
      "text/plain": [
       "   store_id   amount\n",
       "0         0  5234611\n",
       "1         1   147950\n",
       "2         2  1615060\n",
       "3         3    62781\n",
       "4         4   270312"
      ]
     },
     "execution_count": 13,
     "metadata": {},
     "output_type": "execute_result"
    }
   ],
   "source": [
    "df_amt = pd.DataFrame(df['amount'].groupby(df['store_id']).sum()).reset_index()\n",
    "df_amt.head(5)"
   ]
  },
  {
   "cell_type": "code",
   "execution_count": 14,
   "metadata": {
    "colab": {
     "base_uri": "https://localhost:8080/",
     "height": 206
    },
    "id": "tzKrtL3caV0A",
    "outputId": "92caacd4-3a01-49e0-fa85-eed83597decf"
   },
   "outputs": [
    {
     "data": {
      "text/html": [
       "<div>\n",
       "<style scoped>\n",
       "    .dataframe tbody tr th:only-of-type {\n",
       "        vertical-align: middle;\n",
       "    }\n",
       "\n",
       "    .dataframe tbody tr th {\n",
       "        vertical-align: top;\n",
       "    }\n",
       "\n",
       "    .dataframe thead th {\n",
       "        text-align: right;\n",
       "    }\n",
       "</style>\n",
       "<table border=\"1\" class=\"dataframe\">\n",
       "  <thead>\n",
       "    <tr style=\"text-align: right;\">\n",
       "      <th></th>\n",
       "      <th>store_id</th>\n",
       "      <th>amount</th>\n",
       "    </tr>\n",
       "  </thead>\n",
       "  <tbody>\n",
       "    <tr>\n",
       "      <th>746</th>\n",
       "      <td>753</td>\n",
       "      <td>9474601</td>\n",
       "    </tr>\n",
       "    <tr>\n",
       "      <th>1326</th>\n",
       "      <td>1342</td>\n",
       "      <td>7301327</td>\n",
       "    </tr>\n",
       "    <tr>\n",
       "      <th>158</th>\n",
       "      <td>161</td>\n",
       "      <td>5236075</td>\n",
       "    </tr>\n",
       "    <tr>\n",
       "      <th>0</th>\n",
       "      <td>0</td>\n",
       "      <td>5234611</td>\n",
       "    </tr>\n",
       "    <tr>\n",
       "      <th>948</th>\n",
       "      <td>958</td>\n",
       "      <td>4965728</td>\n",
       "    </tr>\n",
       "  </tbody>\n",
       "</table>\n",
       "</div>"
      ],
      "text/plain": [
       "      store_id   amount\n",
       "746        753  9474601\n",
       "1326      1342  7301327\n",
       "158        161  5236075\n",
       "0            0  5234611\n",
       "948        958  4965728"
      ]
     },
     "execution_count": 14,
     "metadata": {},
     "output_type": "execute_result"
    }
   ],
   "source": [
    "df_amt = df_amt.sort_values(by=['amount'], ascending=False)\n",
    "df_amt.head(5)"
   ]
  },
  {
   "cell_type": "code",
   "execution_count": 15,
   "metadata": {
    "colab": {
     "base_uri": "https://localhost:8080/",
     "height": 363
    },
    "id": "zjaY8_rvab0_",
    "outputId": "afc177b5-b7d5-49d5-dabf-aa375c2adf8d"
   },
   "outputs": [
    {
     "data": {
      "text/html": [
       "<div>\n",
       "<style scoped>\n",
       "    .dataframe tbody tr th:only-of-type {\n",
       "        vertical-align: middle;\n",
       "    }\n",
       "\n",
       "    .dataframe tbody tr th {\n",
       "        vertical-align: top;\n",
       "    }\n",
       "\n",
       "    .dataframe thead th {\n",
       "        text-align: right;\n",
       "    }\n",
       "</style>\n",
       "<table border=\"1\" class=\"dataframe\">\n",
       "  <thead>\n",
       "    <tr style=\"text-align: right;\">\n",
       "      <th></th>\n",
       "      <th>store_id</th>\n",
       "      <th>amount</th>\n",
       "      <th>total</th>\n",
       "      <th>ratio</th>\n",
       "    </tr>\n",
       "  </thead>\n",
       "  <tbody>\n",
       "    <tr>\n",
       "      <th>746</th>\n",
       "      <td>753</td>\n",
       "      <td>9474601</td>\n",
       "      <td>490841453</td>\n",
       "      <td>1.93</td>\n",
       "    </tr>\n",
       "    <tr>\n",
       "      <th>1326</th>\n",
       "      <td>1342</td>\n",
       "      <td>7301327</td>\n",
       "      <td>490841453</td>\n",
       "      <td>1.49</td>\n",
       "    </tr>\n",
       "    <tr>\n",
       "      <th>158</th>\n",
       "      <td>161</td>\n",
       "      <td>5236075</td>\n",
       "      <td>490841453</td>\n",
       "      <td>1.07</td>\n",
       "    </tr>\n",
       "    <tr>\n",
       "      <th>0</th>\n",
       "      <td>0</td>\n",
       "      <td>5234611</td>\n",
       "      <td>490841453</td>\n",
       "      <td>1.07</td>\n",
       "    </tr>\n",
       "    <tr>\n",
       "      <th>948</th>\n",
       "      <td>958</td>\n",
       "      <td>4965728</td>\n",
       "      <td>490841453</td>\n",
       "      <td>1.01</td>\n",
       "    </tr>\n",
       "    <tr>\n",
       "      <th>1065</th>\n",
       "      <td>1076</td>\n",
       "      <td>4860885</td>\n",
       "      <td>490841453</td>\n",
       "      <td>0.99</td>\n",
       "    </tr>\n",
       "    <tr>\n",
       "      <th>801</th>\n",
       "      <td>810</td>\n",
       "      <td>3677501</td>\n",
       "      <td>490841453</td>\n",
       "      <td>0.75</td>\n",
       "    </tr>\n",
       "    <tr>\n",
       "      <th>1013</th>\n",
       "      <td>1024</td>\n",
       "      <td>3330293</td>\n",
       "      <td>490841453</td>\n",
       "      <td>0.68</td>\n",
       "    </tr>\n",
       "    <tr>\n",
       "      <th>480</th>\n",
       "      <td>486</td>\n",
       "      <td>3235482</td>\n",
       "      <td>490841453</td>\n",
       "      <td>0.66</td>\n",
       "    </tr>\n",
       "    <tr>\n",
       "      <th>590</th>\n",
       "      <td>597</td>\n",
       "      <td>2999180</td>\n",
       "      <td>490841453</td>\n",
       "      <td>0.61</td>\n",
       "    </tr>\n",
       "  </tbody>\n",
       "</table>\n",
       "</div>"
      ],
      "text/plain": [
       "      store_id   amount      total  ratio\n",
       "746        753  9474601  490841453   1.93\n",
       "1326      1342  7301327  490841453   1.49\n",
       "158        161  5236075  490841453   1.07\n",
       "0            0  5234611  490841453   1.07\n",
       "948        958  4965728  490841453   1.01\n",
       "1065      1076  4860885  490841453   0.99\n",
       "801        810  3677501  490841453   0.75\n",
       "1013      1024  3330293  490841453   0.68\n",
       "480        486  3235482  490841453   0.66\n",
       "590        597  2999180  490841453   0.61"
      ]
     },
     "execution_count": 15,
     "metadata": {},
     "output_type": "execute_result"
    }
   ],
   "source": [
    "df_amt['total'] = df_amt['amount'].sum()\n",
    "df_amt['ratio'] = round( (df_amt['amount'] / df_amt['total']) * 100,2)\n",
    "df_amt.head(10)"
   ]
  },
  {
   "cell_type": "markdown",
   "metadata": {
    "id": "_pzTOIa8bwkR"
   },
   "source": [
    "## **Process 2**  \n",
    "- **Exploring Key Industries**  \n",
    "---"
   ]
  },
  {
   "cell_type": "markdown",
   "metadata": {
    "id": "ZNN8ssCab9Ef"
   },
   "source": [
    "### Analysis of the number of customers used by industry\n",
    "---"
   ]
  },
  {
   "cell_type": "code",
   "execution_count": 16,
   "metadata": {
    "colab": {
     "base_uri": "https://localhost:8080/",
     "height": 206
    },
    "id": "mc0NW3nNe_7_",
    "outputId": "9638eb1d-9818-4656-c330-1182cfb6da4b"
   },
   "outputs": [
    {
     "data": {
      "text/html": [
       "<div>\n",
       "<style scoped>\n",
       "    .dataframe tbody tr th:only-of-type {\n",
       "        vertical-align: middle;\n",
       "    }\n",
       "\n",
       "    .dataframe tbody tr th {\n",
       "        vertical-align: top;\n",
       "    }\n",
       "\n",
       "    .dataframe thead th {\n",
       "        text-align: right;\n",
       "    }\n",
       "</style>\n",
       "<table border=\"1\" class=\"dataframe\">\n",
       "  <thead>\n",
       "    <tr style=\"text-align: right;\">\n",
       "      <th></th>\n",
       "      <th>store_id</th>\n",
       "      <th>cnt</th>\n",
       "      <th>cnt_total</th>\n",
       "      <th>cnt_ratio</th>\n",
       "    </tr>\n",
       "  </thead>\n",
       "  <tbody>\n",
       "    <tr>\n",
       "      <th>0</th>\n",
       "      <td>0</td>\n",
       "      <td>68773</td>\n",
       "      <td>3362796</td>\n",
       "      <td>2.05</td>\n",
       "    </tr>\n",
       "    <tr>\n",
       "      <th>1</th>\n",
       "      <td>753</td>\n",
       "      <td>39318</td>\n",
       "      <td>3362796</td>\n",
       "      <td>1.17</td>\n",
       "    </tr>\n",
       "    <tr>\n",
       "      <th>2</th>\n",
       "      <td>105</td>\n",
       "      <td>36063</td>\n",
       "      <td>3362796</td>\n",
       "      <td>1.07</td>\n",
       "    </tr>\n",
       "    <tr>\n",
       "      <th>3</th>\n",
       "      <td>1342</td>\n",
       "      <td>33335</td>\n",
       "      <td>3362796</td>\n",
       "      <td>0.99</td>\n",
       "    </tr>\n",
       "    <tr>\n",
       "      <th>4</th>\n",
       "      <td>428</td>\n",
       "      <td>33285</td>\n",
       "      <td>3362796</td>\n",
       "      <td>0.99</td>\n",
       "    </tr>\n",
       "  </tbody>\n",
       "</table>\n",
       "</div>"
      ],
      "text/plain": [
       "   store_id    cnt  cnt_total  cnt_ratio\n",
       "0         0  68773    3362796       2.05\n",
       "1       753  39318    3362796       1.17\n",
       "2       105  36063    3362796       1.07\n",
       "3      1342  33335    3362796       0.99\n",
       "4       428  33285    3362796       0.99"
      ]
     },
     "execution_count": 16,
     "metadata": {},
     "output_type": "execute_result"
    }
   ],
   "source": [
    "df_store.columns = ['store_id', 'cnt', 'cnt_total', 'cnt_ratio']\n",
    "df_store.head(5)"
   ]
  },
  {
   "cell_type": "code",
   "execution_count": 17,
   "metadata": {
    "colab": {
     "base_uri": "https://localhost:8080/",
     "height": 206
    },
    "id": "4JLzisBSfpAC",
    "outputId": "b366e729-dc4a-449c-d6f2-2f72ee894dd7"
   },
   "outputs": [
    {
     "data": {
      "text/html": [
       "<div>\n",
       "<style scoped>\n",
       "    .dataframe tbody tr th:only-of-type {\n",
       "        vertical-align: middle;\n",
       "    }\n",
       "\n",
       "    .dataframe tbody tr th {\n",
       "        vertical-align: top;\n",
       "    }\n",
       "\n",
       "    .dataframe thead th {\n",
       "        text-align: right;\n",
       "    }\n",
       "</style>\n",
       "<table border=\"1\" class=\"dataframe\">\n",
       "  <thead>\n",
       "    <tr style=\"text-align: right;\">\n",
       "      <th></th>\n",
       "      <th>store_id</th>\n",
       "      <th>amt</th>\n",
       "      <th>amt_total</th>\n",
       "      <th>amt_ratio</th>\n",
       "    </tr>\n",
       "  </thead>\n",
       "  <tbody>\n",
       "    <tr>\n",
       "      <th>746</th>\n",
       "      <td>753</td>\n",
       "      <td>9474601</td>\n",
       "      <td>490841453</td>\n",
       "      <td>1.93</td>\n",
       "    </tr>\n",
       "    <tr>\n",
       "      <th>1326</th>\n",
       "      <td>1342</td>\n",
       "      <td>7301327</td>\n",
       "      <td>490841453</td>\n",
       "      <td>1.49</td>\n",
       "    </tr>\n",
       "    <tr>\n",
       "      <th>158</th>\n",
       "      <td>161</td>\n",
       "      <td>5236075</td>\n",
       "      <td>490841453</td>\n",
       "      <td>1.07</td>\n",
       "    </tr>\n",
       "    <tr>\n",
       "      <th>0</th>\n",
       "      <td>0</td>\n",
       "      <td>5234611</td>\n",
       "      <td>490841453</td>\n",
       "      <td>1.07</td>\n",
       "    </tr>\n",
       "    <tr>\n",
       "      <th>948</th>\n",
       "      <td>958</td>\n",
       "      <td>4965728</td>\n",
       "      <td>490841453</td>\n",
       "      <td>1.01</td>\n",
       "    </tr>\n",
       "  </tbody>\n",
       "</table>\n",
       "</div>"
      ],
      "text/plain": [
       "      store_id      amt  amt_total  amt_ratio\n",
       "746        753  9474601  490841453       1.93\n",
       "1326      1342  7301327  490841453       1.49\n",
       "158        161  5236075  490841453       1.07\n",
       "0            0  5234611  490841453       1.07\n",
       "948        958  4965728  490841453       1.01"
      ]
     },
     "execution_count": 17,
     "metadata": {},
     "output_type": "execute_result"
    }
   ],
   "source": [
    "df_amt.columns = ['store_id', 'amt', 'amt_total', 'amt_ratio']\n",
    "df_amt.head(5)"
   ]
  },
  {
   "cell_type": "code",
   "execution_count": 18,
   "metadata": {
    "colab": {
     "base_uri": "https://localhost:8080/",
     "height": 206
    },
    "id": "8VZQHqgZfqWh",
    "outputId": "9a47f033-1d48-4680-eeb2-55263026b879"
   },
   "outputs": [
    {
     "data": {
      "text/html": [
       "<div>\n",
       "<style scoped>\n",
       "    .dataframe tbody tr th:only-of-type {\n",
       "        vertical-align: middle;\n",
       "    }\n",
       "\n",
       "    .dataframe tbody tr th {\n",
       "        vertical-align: top;\n",
       "    }\n",
       "\n",
       "    .dataframe thead th {\n",
       "        text-align: right;\n",
       "    }\n",
       "</style>\n",
       "<table border=\"1\" class=\"dataframe\">\n",
       "  <thead>\n",
       "    <tr style=\"text-align: right;\">\n",
       "      <th></th>\n",
       "      <th>store_id</th>\n",
       "      <th>cnt</th>\n",
       "      <th>cnt_total</th>\n",
       "      <th>cnt_ratio</th>\n",
       "      <th>amt</th>\n",
       "      <th>amt_total</th>\n",
       "      <th>amt_ratio</th>\n",
       "    </tr>\n",
       "  </thead>\n",
       "  <tbody>\n",
       "    <tr>\n",
       "      <th>0</th>\n",
       "      <td>0</td>\n",
       "      <td>68773</td>\n",
       "      <td>3362796</td>\n",
       "      <td>2.05</td>\n",
       "      <td>5234611</td>\n",
       "      <td>490841453</td>\n",
       "      <td>1.07</td>\n",
       "    </tr>\n",
       "    <tr>\n",
       "      <th>1</th>\n",
       "      <td>753</td>\n",
       "      <td>39318</td>\n",
       "      <td>3362796</td>\n",
       "      <td>1.17</td>\n",
       "      <td>9474601</td>\n",
       "      <td>490841453</td>\n",
       "      <td>1.93</td>\n",
       "    </tr>\n",
       "    <tr>\n",
       "      <th>2</th>\n",
       "      <td>105</td>\n",
       "      <td>36063</td>\n",
       "      <td>3362796</td>\n",
       "      <td>1.07</td>\n",
       "      <td>2991082</td>\n",
       "      <td>490841453</td>\n",
       "      <td>0.61</td>\n",
       "    </tr>\n",
       "    <tr>\n",
       "      <th>3</th>\n",
       "      <td>1342</td>\n",
       "      <td>33335</td>\n",
       "      <td>3362796</td>\n",
       "      <td>0.99</td>\n",
       "      <td>7301327</td>\n",
       "      <td>490841453</td>\n",
       "      <td>1.49</td>\n",
       "    </tr>\n",
       "    <tr>\n",
       "      <th>4</th>\n",
       "      <td>428</td>\n",
       "      <td>33285</td>\n",
       "      <td>3362796</td>\n",
       "      <td>0.99</td>\n",
       "      <td>1312204</td>\n",
       "      <td>490841453</td>\n",
       "      <td>0.27</td>\n",
       "    </tr>\n",
       "  </tbody>\n",
       "</table>\n",
       "</div>"
      ],
      "text/plain": [
       "   store_id    cnt  cnt_total  cnt_ratio      amt  amt_total  amt_ratio\n",
       "0         0  68773    3362796       2.05  5234611  490841453       1.07\n",
       "1       753  39318    3362796       1.17  9474601  490841453       1.93\n",
       "2       105  36063    3362796       1.07  2991082  490841453       0.61\n",
       "3      1342  33335    3362796       0.99  7301327  490841453       1.49\n",
       "4       428  33285    3362796       0.99  1312204  490841453       0.27"
      ]
     },
     "execution_count": 18,
     "metadata": {},
     "output_type": "execute_result"
    }
   ],
   "source": [
    "df_merge = pd.merge(df_store, df_amt , how='left', on='store_id')\n",
    "df_merge.head(5)"
   ]
  },
  {
   "cell_type": "code",
   "execution_count": 19,
   "metadata": {
    "colab": {
     "base_uri": "https://localhost:8080/",
     "height": 206
    },
    "id": "0McfR03LjDyD",
    "outputId": "805f1f07-4438-435f-a137-ee5ef593f828"
   },
   "outputs": [
    {
     "data": {
      "text/html": [
       "<div>\n",
       "<style scoped>\n",
       "    .dataframe tbody tr th:only-of-type {\n",
       "        vertical-align: middle;\n",
       "    }\n",
       "\n",
       "    .dataframe tbody tr th {\n",
       "        vertical-align: top;\n",
       "    }\n",
       "\n",
       "    .dataframe thead th {\n",
       "        text-align: right;\n",
       "    }\n",
       "</style>\n",
       "<table border=\"1\" class=\"dataframe\">\n",
       "  <thead>\n",
       "    <tr style=\"text-align: right;\">\n",
       "      <th></th>\n",
       "      <th>store_id</th>\n",
       "      <th>customer</th>\n",
       "      <th>customer_total</th>\n",
       "      <th>customer_ratio</th>\n",
       "    </tr>\n",
       "  </thead>\n",
       "  <tbody>\n",
       "    <tr>\n",
       "      <th>0</th>\n",
       "      <td>0</td>\n",
       "      <td>12727</td>\n",
       "      <td>922522</td>\n",
       "      <td>1.38</td>\n",
       "    </tr>\n",
       "    <tr>\n",
       "      <th>1</th>\n",
       "      <td>1</td>\n",
       "      <td>8</td>\n",
       "      <td>922522</td>\n",
       "      <td>0.00</td>\n",
       "    </tr>\n",
       "    <tr>\n",
       "      <th>2</th>\n",
       "      <td>2</td>\n",
       "      <td>9053</td>\n",
       "      <td>922522</td>\n",
       "      <td>0.98</td>\n",
       "    </tr>\n",
       "    <tr>\n",
       "      <th>3</th>\n",
       "      <td>3</td>\n",
       "      <td>231</td>\n",
       "      <td>922522</td>\n",
       "      <td>0.03</td>\n",
       "    </tr>\n",
       "    <tr>\n",
       "      <th>4</th>\n",
       "      <td>4</td>\n",
       "      <td>1176</td>\n",
       "      <td>922522</td>\n",
       "      <td>0.13</td>\n",
       "    </tr>\n",
       "  </tbody>\n",
       "</table>\n",
       "</div>"
      ],
      "text/plain": [
       "   store_id  customer  customer_total  customer_ratio\n",
       "0         0     12727          922522            1.38\n",
       "1         1         8          922522            0.00\n",
       "2         2      9053          922522            0.98\n",
       "3         3       231          922522            0.03\n",
       "4         4      1176          922522            0.13"
      ]
     },
     "execution_count": 19,
     "metadata": {},
     "output_type": "execute_result"
    }
   ],
   "source": [
    "df_customer = pd.DataFrame(df['card_id'].groupby(df['store_id']).nunique()).reset_index()\n",
    "df_customer.columns = ['store_id', 'customer']\n",
    "df_customer['customer_total'] = df['card_id'].nunique()\n",
    "df_customer['customer_ratio'] = round((df_customer['customer'] / df_customer['customer_total'])*100,2)\n",
    "df_customer.head(5)"
   ]
  },
  {
   "cell_type": "code",
   "execution_count": 20,
   "metadata": {
    "colab": {
     "base_uri": "https://localhost:8080/",
     "height": 363
    },
    "id": "7hxI9gaf-2O6",
    "outputId": "3056abd9-f066-4955-8032-2af45e38f630"
   },
   "outputs": [
    {
     "data": {
      "text/html": [
       "<div>\n",
       "<style scoped>\n",
       "    .dataframe tbody tr th:only-of-type {\n",
       "        vertical-align: middle;\n",
       "    }\n",
       "\n",
       "    .dataframe tbody tr th {\n",
       "        vertical-align: top;\n",
       "    }\n",
       "\n",
       "    .dataframe thead th {\n",
       "        text-align: right;\n",
       "    }\n",
       "</style>\n",
       "<table border=\"1\" class=\"dataframe\">\n",
       "  <thead>\n",
       "    <tr style=\"text-align: right;\">\n",
       "      <th></th>\n",
       "      <th>store_id</th>\n",
       "      <th>customer</th>\n",
       "      <th>customer_total</th>\n",
       "      <th>customer_ratio</th>\n",
       "    </tr>\n",
       "  </thead>\n",
       "  <tbody>\n",
       "    <tr>\n",
       "      <th>423</th>\n",
       "      <td>428</td>\n",
       "      <td>18456</td>\n",
       "      <td>922522</td>\n",
       "      <td>2.00</td>\n",
       "    </tr>\n",
       "    <tr>\n",
       "      <th>218</th>\n",
       "      <td>221</td>\n",
       "      <td>17161</td>\n",
       "      <td>922522</td>\n",
       "      <td>1.86</td>\n",
       "    </tr>\n",
       "    <tr>\n",
       "      <th>289</th>\n",
       "      <td>293</td>\n",
       "      <td>14915</td>\n",
       "      <td>922522</td>\n",
       "      <td>1.62</td>\n",
       "    </tr>\n",
       "    <tr>\n",
       "      <th>1326</th>\n",
       "      <td>1342</td>\n",
       "      <td>14789</td>\n",
       "      <td>922522</td>\n",
       "      <td>1.60</td>\n",
       "    </tr>\n",
       "    <tr>\n",
       "      <th>932</th>\n",
       "      <td>942</td>\n",
       "      <td>13760</td>\n",
       "      <td>922522</td>\n",
       "      <td>1.49</td>\n",
       "    </tr>\n",
       "    <tr>\n",
       "      <th>1196</th>\n",
       "      <td>1209</td>\n",
       "      <td>13512</td>\n",
       "      <td>922522</td>\n",
       "      <td>1.46</td>\n",
       "    </tr>\n",
       "    <tr>\n",
       "      <th>0</th>\n",
       "      <td>0</td>\n",
       "      <td>12727</td>\n",
       "      <td>922522</td>\n",
       "      <td>1.38</td>\n",
       "    </tr>\n",
       "    <tr>\n",
       "      <th>1027</th>\n",
       "      <td>1038</td>\n",
       "      <td>12523</td>\n",
       "      <td>922522</td>\n",
       "      <td>1.36</td>\n",
       "    </tr>\n",
       "    <tr>\n",
       "      <th>746</th>\n",
       "      <td>753</td>\n",
       "      <td>11960</td>\n",
       "      <td>922522</td>\n",
       "      <td>1.30</td>\n",
       "    </tr>\n",
       "    <tr>\n",
       "      <th>123</th>\n",
       "      <td>126</td>\n",
       "      <td>11070</td>\n",
       "      <td>922522</td>\n",
       "      <td>1.20</td>\n",
       "    </tr>\n",
       "  </tbody>\n",
       "</table>\n",
       "</div>"
      ],
      "text/plain": [
       "      store_id  customer  customer_total  customer_ratio\n",
       "423        428     18456          922522            2.00\n",
       "218        221     17161          922522            1.86\n",
       "289        293     14915          922522            1.62\n",
       "1326      1342     14789          922522            1.60\n",
       "932        942     13760          922522            1.49\n",
       "1196      1209     13512          922522            1.46\n",
       "0            0     12727          922522            1.38\n",
       "1027      1038     12523          922522            1.36\n",
       "746        753     11960          922522            1.30\n",
       "123        126     11070          922522            1.20"
      ]
     },
     "execution_count": 20,
     "metadata": {},
     "output_type": "execute_result"
    }
   ],
   "source": [
    "df_customer.sort_values(by=['customer_ratio'], ascending = False).head(10)"
   ]
  },
  {
   "cell_type": "code",
   "execution_count": 21,
   "metadata": {
    "colab": {
     "base_uri": "https://localhost:8080/",
     "height": 206
    },
    "id": "yYh3lpMInghR",
    "outputId": "ff84b8ec-f500-4a41-ccd5-d94db0257690"
   },
   "outputs": [
    {
     "data": {
      "text/html": [
       "<div>\n",
       "<style scoped>\n",
       "    .dataframe tbody tr th:only-of-type {\n",
       "        vertical-align: middle;\n",
       "    }\n",
       "\n",
       "    .dataframe tbody tr th {\n",
       "        vertical-align: top;\n",
       "    }\n",
       "\n",
       "    .dataframe thead th {\n",
       "        text-align: right;\n",
       "    }\n",
       "</style>\n",
       "<table border=\"1\" class=\"dataframe\">\n",
       "  <thead>\n",
       "    <tr style=\"text-align: right;\">\n",
       "      <th></th>\n",
       "      <th>store_id</th>\n",
       "      <th>cnt</th>\n",
       "      <th>cnt_total</th>\n",
       "      <th>cnt_ratio</th>\n",
       "      <th>amt</th>\n",
       "      <th>amt_total</th>\n",
       "      <th>amt_ratio</th>\n",
       "      <th>customer</th>\n",
       "      <th>customer_total</th>\n",
       "      <th>customer_ratio</th>\n",
       "    </tr>\n",
       "  </thead>\n",
       "  <tbody>\n",
       "    <tr>\n",
       "      <th>0</th>\n",
       "      <td>0</td>\n",
       "      <td>68773</td>\n",
       "      <td>3362796</td>\n",
       "      <td>2.05</td>\n",
       "      <td>5234611</td>\n",
       "      <td>490841453</td>\n",
       "      <td>1.07</td>\n",
       "      <td>12727</td>\n",
       "      <td>922522</td>\n",
       "      <td>1.38</td>\n",
       "    </tr>\n",
       "    <tr>\n",
       "      <th>1</th>\n",
       "      <td>753</td>\n",
       "      <td>39318</td>\n",
       "      <td>3362796</td>\n",
       "      <td>1.17</td>\n",
       "      <td>9474601</td>\n",
       "      <td>490841453</td>\n",
       "      <td>1.93</td>\n",
       "      <td>11960</td>\n",
       "      <td>922522</td>\n",
       "      <td>1.30</td>\n",
       "    </tr>\n",
       "    <tr>\n",
       "      <th>2</th>\n",
       "      <td>105</td>\n",
       "      <td>36063</td>\n",
       "      <td>3362796</td>\n",
       "      <td>1.07</td>\n",
       "      <td>2991082</td>\n",
       "      <td>490841453</td>\n",
       "      <td>0.61</td>\n",
       "      <td>8207</td>\n",
       "      <td>922522</td>\n",
       "      <td>0.89</td>\n",
       "    </tr>\n",
       "    <tr>\n",
       "      <th>3</th>\n",
       "      <td>1342</td>\n",
       "      <td>33335</td>\n",
       "      <td>3362796</td>\n",
       "      <td>0.99</td>\n",
       "      <td>7301327</td>\n",
       "      <td>490841453</td>\n",
       "      <td>1.49</td>\n",
       "      <td>14789</td>\n",
       "      <td>922522</td>\n",
       "      <td>1.60</td>\n",
       "    </tr>\n",
       "    <tr>\n",
       "      <th>4</th>\n",
       "      <td>428</td>\n",
       "      <td>33285</td>\n",
       "      <td>3362796</td>\n",
       "      <td>0.99</td>\n",
       "      <td>1312204</td>\n",
       "      <td>490841453</td>\n",
       "      <td>0.27</td>\n",
       "      <td>18456</td>\n",
       "      <td>922522</td>\n",
       "      <td>2.00</td>\n",
       "    </tr>\n",
       "  </tbody>\n",
       "</table>\n",
       "</div>"
      ],
      "text/plain": [
       "   store_id    cnt  cnt_total  cnt_ratio      amt  amt_total  amt_ratio  \\\n",
       "0         0  68773    3362796       2.05  5234611  490841453       1.07   \n",
       "1       753  39318    3362796       1.17  9474601  490841453       1.93   \n",
       "2       105  36063    3362796       1.07  2991082  490841453       0.61   \n",
       "3      1342  33335    3362796       0.99  7301327  490841453       1.49   \n",
       "4       428  33285    3362796       0.99  1312204  490841453       0.27   \n",
       "\n",
       "   customer  customer_total  customer_ratio  \n",
       "0     12727          922522            1.38  \n",
       "1     11960          922522            1.30  \n",
       "2      8207          922522            0.89  \n",
       "3     14789          922522            1.60  \n",
       "4     18456          922522            2.00  "
      ]
     },
     "execution_count": 21,
     "metadata": {},
     "output_type": "execute_result"
    }
   ],
   "source": [
    "df_merge = pd.merge(df_merge, df_customer, how='left', on='store_id')\n",
    "df_merge.head(5)"
   ]
  },
  {
   "cell_type": "markdown",
   "metadata": {
    "id": "r2H4umI2oiYj"
   },
   "source": [
    "### One-time usage amount/customer unit price analysis\n",
    "---"
   ]
  },
  {
   "cell_type": "code",
   "execution_count": 22,
   "metadata": {
    "colab": {
     "base_uri": "https://localhost:8080/",
     "height": 206
    },
    "id": "ZCJfLpLInda2",
    "outputId": "7596cc9b-c734-4903-ef27-ed8a56d1a005"
   },
   "outputs": [
    {
     "data": {
      "text/html": [
       "<div>\n",
       "<style scoped>\n",
       "    .dataframe tbody tr th:only-of-type {\n",
       "        vertical-align: middle;\n",
       "    }\n",
       "\n",
       "    .dataframe tbody tr th {\n",
       "        vertical-align: top;\n",
       "    }\n",
       "\n",
       "    .dataframe thead th {\n",
       "        text-align: right;\n",
       "    }\n",
       "</style>\n",
       "<table border=\"1\" class=\"dataframe\">\n",
       "  <thead>\n",
       "    <tr style=\"text-align: right;\">\n",
       "      <th></th>\n",
       "      <th>store_id</th>\n",
       "      <th>cnt</th>\n",
       "      <th>cnt_total</th>\n",
       "      <th>cnt_ratio</th>\n",
       "      <th>amt</th>\n",
       "      <th>amt_total</th>\n",
       "      <th>amt_ratio</th>\n",
       "      <th>customer</th>\n",
       "      <th>customer_total</th>\n",
       "      <th>customer_ratio</th>\n",
       "      <th>amt_per_use</th>\n",
       "      <th>cus_per_use</th>\n",
       "    </tr>\n",
       "  </thead>\n",
       "  <tbody>\n",
       "    <tr>\n",
       "      <th>0</th>\n",
       "      <td>0</td>\n",
       "      <td>68773</td>\n",
       "      <td>3362796</td>\n",
       "      <td>2.05</td>\n",
       "      <td>5234611</td>\n",
       "      <td>490841453</td>\n",
       "      <td>1.07</td>\n",
       "      <td>12727</td>\n",
       "      <td>922522</td>\n",
       "      <td>1.38</td>\n",
       "      <td>76.0</td>\n",
       "      <td>411.0</td>\n",
       "    </tr>\n",
       "    <tr>\n",
       "      <th>1</th>\n",
       "      <td>753</td>\n",
       "      <td>39318</td>\n",
       "      <td>3362796</td>\n",
       "      <td>1.17</td>\n",
       "      <td>9474601</td>\n",
       "      <td>490841453</td>\n",
       "      <td>1.93</td>\n",
       "      <td>11960</td>\n",
       "      <td>922522</td>\n",
       "      <td>1.30</td>\n",
       "      <td>241.0</td>\n",
       "      <td>792.0</td>\n",
       "    </tr>\n",
       "    <tr>\n",
       "      <th>2</th>\n",
       "      <td>105</td>\n",
       "      <td>36063</td>\n",
       "      <td>3362796</td>\n",
       "      <td>1.07</td>\n",
       "      <td>2991082</td>\n",
       "      <td>490841453</td>\n",
       "      <td>0.61</td>\n",
       "      <td>8207</td>\n",
       "      <td>922522</td>\n",
       "      <td>0.89</td>\n",
       "      <td>83.0</td>\n",
       "      <td>364.0</td>\n",
       "    </tr>\n",
       "    <tr>\n",
       "      <th>3</th>\n",
       "      <td>1342</td>\n",
       "      <td>33335</td>\n",
       "      <td>3362796</td>\n",
       "      <td>0.99</td>\n",
       "      <td>7301327</td>\n",
       "      <td>490841453</td>\n",
       "      <td>1.49</td>\n",
       "      <td>14789</td>\n",
       "      <td>922522</td>\n",
       "      <td>1.60</td>\n",
       "      <td>219.0</td>\n",
       "      <td>494.0</td>\n",
       "    </tr>\n",
       "    <tr>\n",
       "      <th>4</th>\n",
       "      <td>428</td>\n",
       "      <td>33285</td>\n",
       "      <td>3362796</td>\n",
       "      <td>0.99</td>\n",
       "      <td>1312204</td>\n",
       "      <td>490841453</td>\n",
       "      <td>0.27</td>\n",
       "      <td>18456</td>\n",
       "      <td>922522</td>\n",
       "      <td>2.00</td>\n",
       "      <td>39.0</td>\n",
       "      <td>71.0</td>\n",
       "    </tr>\n",
       "  </tbody>\n",
       "</table>\n",
       "</div>"
      ],
      "text/plain": [
       "   store_id    cnt  cnt_total  cnt_ratio      amt  amt_total  amt_ratio  \\\n",
       "0         0  68773    3362796       2.05  5234611  490841453       1.07   \n",
       "1       753  39318    3362796       1.17  9474601  490841453       1.93   \n",
       "2       105  36063    3362796       1.07  2991082  490841453       0.61   \n",
       "3      1342  33335    3362796       0.99  7301327  490841453       1.49   \n",
       "4       428  33285    3362796       0.99  1312204  490841453       0.27   \n",
       "\n",
       "   customer  customer_total  customer_ratio  amt_per_use  cus_per_use  \n",
       "0     12727          922522            1.38         76.0        411.0  \n",
       "1     11960          922522            1.30        241.0        792.0  \n",
       "2      8207          922522            0.89         83.0        364.0  \n",
       "3     14789          922522            1.60        219.0        494.0  \n",
       "4     18456          922522            2.00         39.0         71.0  "
      ]
     },
     "execution_count": 22,
     "metadata": {},
     "output_type": "execute_result"
    }
   ],
   "source": [
    "# One-time usage amount\n",
    "df_merge['amt_per_use'] = round(df_merge['amt'] / df_merge['cnt'],0)\n",
    "\n",
    "# customer unit price analysis\n",
    "df_merge['cus_per_use'] = round(df_merge['amt'] / df_merge['customer'],0)\n",
    "\n",
    "df_merge.head(5)"
   ]
  },
  {
   "cell_type": "markdown",
   "metadata": {
    "id": "dUA9Z3UIpp_n"
   },
   "source": [
    "### Define core industries\n",
    "---"
   ]
  },
  {
   "cell_type": "code",
   "execution_count": 23,
   "metadata": {
    "colab": {
     "base_uri": "https://localhost:8080/",
     "height": 206
    },
    "id": "EgC1Kbl_p2rD",
    "outputId": "0c553000-d87c-4a3f-fa19-d7cc2ba5c358"
   },
   "outputs": [
    {
     "data": {
      "text/html": [
       "<div>\n",
       "<style scoped>\n",
       "    .dataframe tbody tr th:only-of-type {\n",
       "        vertical-align: middle;\n",
       "    }\n",
       "\n",
       "    .dataframe tbody tr th {\n",
       "        vertical-align: top;\n",
       "    }\n",
       "\n",
       "    .dataframe thead th {\n",
       "        text-align: right;\n",
       "    }\n",
       "</style>\n",
       "<table border=\"1\" class=\"dataframe\">\n",
       "  <thead>\n",
       "    <tr style=\"text-align: right;\">\n",
       "      <th></th>\n",
       "      <th>store_id</th>\n",
       "      <th>cnt</th>\n",
       "      <th>cnt_total</th>\n",
       "      <th>cnt_ratio</th>\n",
       "      <th>amt</th>\n",
       "      <th>amt_total</th>\n",
       "      <th>amt_ratio</th>\n",
       "      <th>customer</th>\n",
       "      <th>customer_total</th>\n",
       "      <th>customer_ratio</th>\n",
       "      <th>amt_per_use</th>\n",
       "      <th>cus_per_use</th>\n",
       "      <th>core_store</th>\n",
       "    </tr>\n",
       "  </thead>\n",
       "  <tbody>\n",
       "    <tr>\n",
       "      <th>0</th>\n",
       "      <td>0</td>\n",
       "      <td>68773</td>\n",
       "      <td>3362796</td>\n",
       "      <td>2.05</td>\n",
       "      <td>5234611</td>\n",
       "      <td>490841453</td>\n",
       "      <td>1.07</td>\n",
       "      <td>12727</td>\n",
       "      <td>922522</td>\n",
       "      <td>1.38</td>\n",
       "      <td>76.0</td>\n",
       "      <td>411.0</td>\n",
       "      <td>1.4725</td>\n",
       "    </tr>\n",
       "    <tr>\n",
       "      <th>1</th>\n",
       "      <td>753</td>\n",
       "      <td>39318</td>\n",
       "      <td>3362796</td>\n",
       "      <td>1.17</td>\n",
       "      <td>9474601</td>\n",
       "      <td>490841453</td>\n",
       "      <td>1.93</td>\n",
       "      <td>11960</td>\n",
       "      <td>922522</td>\n",
       "      <td>1.30</td>\n",
       "      <td>241.0</td>\n",
       "      <td>792.0</td>\n",
       "      <td>1.4815</td>\n",
       "    </tr>\n",
       "    <tr>\n",
       "      <th>2</th>\n",
       "      <td>105</td>\n",
       "      <td>36063</td>\n",
       "      <td>3362796</td>\n",
       "      <td>1.07</td>\n",
       "      <td>2991082</td>\n",
       "      <td>490841453</td>\n",
       "      <td>0.61</td>\n",
       "      <td>8207</td>\n",
       "      <td>922522</td>\n",
       "      <td>0.89</td>\n",
       "      <td>83.0</td>\n",
       "      <td>364.0</td>\n",
       "      <td>0.8460</td>\n",
       "    </tr>\n",
       "    <tr>\n",
       "      <th>3</th>\n",
       "      <td>1342</td>\n",
       "      <td>33335</td>\n",
       "      <td>3362796</td>\n",
       "      <td>0.99</td>\n",
       "      <td>7301327</td>\n",
       "      <td>490841453</td>\n",
       "      <td>1.49</td>\n",
       "      <td>14789</td>\n",
       "      <td>922522</td>\n",
       "      <td>1.60</td>\n",
       "      <td>219.0</td>\n",
       "      <td>494.0</td>\n",
       "      <td>1.3785</td>\n",
       "    </tr>\n",
       "    <tr>\n",
       "      <th>4</th>\n",
       "      <td>428</td>\n",
       "      <td>33285</td>\n",
       "      <td>3362796</td>\n",
       "      <td>0.99</td>\n",
       "      <td>1312204</td>\n",
       "      <td>490841453</td>\n",
       "      <td>0.27</td>\n",
       "      <td>18456</td>\n",
       "      <td>922522</td>\n",
       "      <td>2.00</td>\n",
       "      <td>39.0</td>\n",
       "      <td>71.0</td>\n",
       "      <td>1.0915</td>\n",
       "    </tr>\n",
       "  </tbody>\n",
       "</table>\n",
       "</div>"
      ],
      "text/plain": [
       "   store_id    cnt  cnt_total  cnt_ratio      amt  amt_total  amt_ratio  \\\n",
       "0         0  68773    3362796       2.05  5234611  490841453       1.07   \n",
       "1       753  39318    3362796       1.17  9474601  490841453       1.93   \n",
       "2       105  36063    3362796       1.07  2991082  490841453       0.61   \n",
       "3      1342  33335    3362796       0.99  7301327  490841453       1.49   \n",
       "4       428  33285    3362796       0.99  1312204  490841453       0.27   \n",
       "\n",
       "   customer  customer_total  customer_ratio  amt_per_use  cus_per_use  \\\n",
       "0     12727          922522            1.38         76.0        411.0   \n",
       "1     11960          922522            1.30        241.0        792.0   \n",
       "2      8207          922522            0.89         83.0        364.0   \n",
       "3     14789          922522            1.60        219.0        494.0   \n",
       "4     18456          922522            2.00         39.0         71.0   \n",
       "\n",
       "   core_store  \n",
       "0      1.4725  \n",
       "1      1.4815  \n",
       "2      0.8460  \n",
       "3      1.3785  \n",
       "4      1.0915  "
      ]
     },
     "execution_count": 23,
     "metadata": {},
     "output_type": "execute_result"
    }
   ],
   "source": [
    "# Define a new score by applying weights to the percentage of use, the percentage of use, and the percentage of customers used\n",
    "# cnt_ratio(a)\n",
    "# amt_ratio(b)\n",
    "# customer_ratio(c)\n",
    "\n",
    "a = 0.3\n",
    "b = 0.35\n",
    "c = 0.35\n",
    "\n",
    "df_merge['core_store'] = df_merge['cnt_ratio']*a + df_merge['amt_ratio']*b + df_merge['customer_ratio']*c\n",
    "df_merge.head(5)"
   ]
  },
  {
   "cell_type": "code",
   "execution_count": 24,
   "metadata": {
    "colab": {
     "base_uri": "https://localhost:8080/",
     "height": 270
    },
    "id": "IhhzfhITsWwy",
    "outputId": "1670e3b9-b5c1-4dbe-d64c-7ef331d7384c"
   },
   "outputs": [
    {
     "data": {
      "text/html": [
       "<div>\n",
       "<style scoped>\n",
       "    .dataframe tbody tr th:only-of-type {\n",
       "        vertical-align: middle;\n",
       "    }\n",
       "\n",
       "    .dataframe tbody tr th {\n",
       "        vertical-align: top;\n",
       "    }\n",
       "\n",
       "    .dataframe thead th {\n",
       "        text-align: right;\n",
       "    }\n",
       "</style>\n",
       "<table border=\"1\" class=\"dataframe\">\n",
       "  <thead>\n",
       "    <tr style=\"text-align: right;\">\n",
       "      <th></th>\n",
       "      <th>store_id</th>\n",
       "      <th>cnt</th>\n",
       "      <th>cnt_total</th>\n",
       "      <th>cnt_ratio</th>\n",
       "      <th>amt</th>\n",
       "      <th>amt_total</th>\n",
       "      <th>amt_ratio</th>\n",
       "      <th>customer</th>\n",
       "      <th>customer_total</th>\n",
       "      <th>customer_ratio</th>\n",
       "      <th>amt_per_use</th>\n",
       "      <th>cus_per_use</th>\n",
       "      <th>core_store</th>\n",
       "      <th>core_store_scaled</th>\n",
       "    </tr>\n",
       "  </thead>\n",
       "  <tbody>\n",
       "    <tr>\n",
       "      <th>0</th>\n",
       "      <td>0</td>\n",
       "      <td>68773</td>\n",
       "      <td>3362796</td>\n",
       "      <td>2.05</td>\n",
       "      <td>5234611</td>\n",
       "      <td>490841453</td>\n",
       "      <td>1.07</td>\n",
       "      <td>12727</td>\n",
       "      <td>922522</td>\n",
       "      <td>1.38</td>\n",
       "      <td>76.0</td>\n",
       "      <td>411.0</td>\n",
       "      <td>1.4725</td>\n",
       "      <td>99.0</td>\n",
       "    </tr>\n",
       "    <tr>\n",
       "      <th>1</th>\n",
       "      <td>753</td>\n",
       "      <td>39318</td>\n",
       "      <td>3362796</td>\n",
       "      <td>1.17</td>\n",
       "      <td>9474601</td>\n",
       "      <td>490841453</td>\n",
       "      <td>1.93</td>\n",
       "      <td>11960</td>\n",
       "      <td>922522</td>\n",
       "      <td>1.30</td>\n",
       "      <td>241.0</td>\n",
       "      <td>792.0</td>\n",
       "      <td>1.4815</td>\n",
       "      <td>100.0</td>\n",
       "    </tr>\n",
       "    <tr>\n",
       "      <th>2</th>\n",
       "      <td>105</td>\n",
       "      <td>36063</td>\n",
       "      <td>3362796</td>\n",
       "      <td>1.07</td>\n",
       "      <td>2991082</td>\n",
       "      <td>490841453</td>\n",
       "      <td>0.61</td>\n",
       "      <td>8207</td>\n",
       "      <td>922522</td>\n",
       "      <td>0.89</td>\n",
       "      <td>83.0</td>\n",
       "      <td>364.0</td>\n",
       "      <td>0.8460</td>\n",
       "      <td>57.0</td>\n",
       "    </tr>\n",
       "    <tr>\n",
       "      <th>3</th>\n",
       "      <td>1342</td>\n",
       "      <td>33335</td>\n",
       "      <td>3362796</td>\n",
       "      <td>0.99</td>\n",
       "      <td>7301327</td>\n",
       "      <td>490841453</td>\n",
       "      <td>1.49</td>\n",
       "      <td>14789</td>\n",
       "      <td>922522</td>\n",
       "      <td>1.60</td>\n",
       "      <td>219.0</td>\n",
       "      <td>494.0</td>\n",
       "      <td>1.3785</td>\n",
       "      <td>93.0</td>\n",
       "    </tr>\n",
       "    <tr>\n",
       "      <th>4</th>\n",
       "      <td>428</td>\n",
       "      <td>33285</td>\n",
       "      <td>3362796</td>\n",
       "      <td>0.99</td>\n",
       "      <td>1312204</td>\n",
       "      <td>490841453</td>\n",
       "      <td>0.27</td>\n",
       "      <td>18456</td>\n",
       "      <td>922522</td>\n",
       "      <td>2.00</td>\n",
       "      <td>39.0</td>\n",
       "      <td>71.0</td>\n",
       "      <td>1.0915</td>\n",
       "      <td>74.0</td>\n",
       "    </tr>\n",
       "  </tbody>\n",
       "</table>\n",
       "</div>"
      ],
      "text/plain": [
       "   store_id    cnt  cnt_total  cnt_ratio      amt  amt_total  amt_ratio  \\\n",
       "0         0  68773    3362796       2.05  5234611  490841453       1.07   \n",
       "1       753  39318    3362796       1.17  9474601  490841453       1.93   \n",
       "2       105  36063    3362796       1.07  2991082  490841453       0.61   \n",
       "3      1342  33335    3362796       0.99  7301327  490841453       1.49   \n",
       "4       428  33285    3362796       0.99  1312204  490841453       0.27   \n",
       "\n",
       "   customer  customer_total  customer_ratio  amt_per_use  cus_per_use  \\\n",
       "0     12727          922522            1.38         76.0        411.0   \n",
       "1     11960          922522            1.30        241.0        792.0   \n",
       "2      8207          922522            0.89         83.0        364.0   \n",
       "3     14789          922522            1.60        219.0        494.0   \n",
       "4     18456          922522            2.00         39.0         71.0   \n",
       "\n",
       "   core_store  core_store_scaled  \n",
       "0      1.4725               99.0  \n",
       "1      1.4815              100.0  \n",
       "2      0.8460               57.0  \n",
       "3      1.3785               93.0  \n",
       "4      1.0915               74.0  "
      ]
     },
     "execution_count": 24,
     "metadata": {},
     "output_type": "execute_result"
    }
   ],
   "source": [
    "# convert to 100 scale using Min-max standardization\n",
    "df_merge['core_store_scaled'] = df_merge['core_store'].apply(lambda x: (x - df_merge['core_store'].min())  / (df_merge['core_store'].max() - df_merge['core_store'].min()) )\n",
    "df_merge['core_store_scaled'] = round(df_merge['core_store_scaled'] * 100,0)\n",
    "df_merge.head(5)"
   ]
  },
  {
   "cell_type": "code",
   "execution_count": 25,
   "metadata": {
    "colab": {
     "base_uri": "https://localhost:8080/",
     "height": 270
    },
    "id": "qKfe-B0ou9ty",
    "outputId": "221af531-dceb-40df-edef-083bb51a5ccf"
   },
   "outputs": [
    {
     "data": {
      "text/html": [
       "<div>\n",
       "<style scoped>\n",
       "    .dataframe tbody tr th:only-of-type {\n",
       "        vertical-align: middle;\n",
       "    }\n",
       "\n",
       "    .dataframe tbody tr th {\n",
       "        vertical-align: top;\n",
       "    }\n",
       "\n",
       "    .dataframe thead th {\n",
       "        text-align: right;\n",
       "    }\n",
       "</style>\n",
       "<table border=\"1\" class=\"dataframe\">\n",
       "  <thead>\n",
       "    <tr style=\"text-align: right;\">\n",
       "      <th></th>\n",
       "      <th>store_id</th>\n",
       "      <th>cnt</th>\n",
       "      <th>cnt_total</th>\n",
       "      <th>cnt_ratio</th>\n",
       "      <th>amt</th>\n",
       "      <th>amt_total</th>\n",
       "      <th>amt_ratio</th>\n",
       "      <th>customer</th>\n",
       "      <th>customer_total</th>\n",
       "      <th>customer_ratio</th>\n",
       "      <th>amt_per_use</th>\n",
       "      <th>cus_per_use</th>\n",
       "      <th>core_store</th>\n",
       "      <th>core_store_scaled</th>\n",
       "    </tr>\n",
       "  </thead>\n",
       "  <tbody>\n",
       "    <tr>\n",
       "      <th>1</th>\n",
       "      <td>753</td>\n",
       "      <td>39318</td>\n",
       "      <td>3362796</td>\n",
       "      <td>1.17</td>\n",
       "      <td>9474601</td>\n",
       "      <td>490841453</td>\n",
       "      <td>1.93</td>\n",
       "      <td>11960</td>\n",
       "      <td>922522</td>\n",
       "      <td>1.30</td>\n",
       "      <td>241.0</td>\n",
       "      <td>792.0</td>\n",
       "      <td>1.4815</td>\n",
       "      <td>100.0</td>\n",
       "    </tr>\n",
       "    <tr>\n",
       "      <th>0</th>\n",
       "      <td>0</td>\n",
       "      <td>68773</td>\n",
       "      <td>3362796</td>\n",
       "      <td>2.05</td>\n",
       "      <td>5234611</td>\n",
       "      <td>490841453</td>\n",
       "      <td>1.07</td>\n",
       "      <td>12727</td>\n",
       "      <td>922522</td>\n",
       "      <td>1.38</td>\n",
       "      <td>76.0</td>\n",
       "      <td>411.0</td>\n",
       "      <td>1.4725</td>\n",
       "      <td>99.0</td>\n",
       "    </tr>\n",
       "    <tr>\n",
       "      <th>3</th>\n",
       "      <td>1342</td>\n",
       "      <td>33335</td>\n",
       "      <td>3362796</td>\n",
       "      <td>0.99</td>\n",
       "      <td>7301327</td>\n",
       "      <td>490841453</td>\n",
       "      <td>1.49</td>\n",
       "      <td>14789</td>\n",
       "      <td>922522</td>\n",
       "      <td>1.60</td>\n",
       "      <td>219.0</td>\n",
       "      <td>494.0</td>\n",
       "      <td>1.3785</td>\n",
       "      <td>93.0</td>\n",
       "    </tr>\n",
       "    <tr>\n",
       "      <th>5</th>\n",
       "      <td>221</td>\n",
       "      <td>31409</td>\n",
       "      <td>3362796</td>\n",
       "      <td>0.93</td>\n",
       "      <td>2513245</td>\n",
       "      <td>490841453</td>\n",
       "      <td>0.51</td>\n",
       "      <td>17161</td>\n",
       "      <td>922522</td>\n",
       "      <td>1.86</td>\n",
       "      <td>80.0</td>\n",
       "      <td>146.0</td>\n",
       "      <td>1.1085</td>\n",
       "      <td>75.0</td>\n",
       "    </tr>\n",
       "    <tr>\n",
       "      <th>4</th>\n",
       "      <td>428</td>\n",
       "      <td>33285</td>\n",
       "      <td>3362796</td>\n",
       "      <td>0.99</td>\n",
       "      <td>1312204</td>\n",
       "      <td>490841453</td>\n",
       "      <td>0.27</td>\n",
       "      <td>18456</td>\n",
       "      <td>922522</td>\n",
       "      <td>2.00</td>\n",
       "      <td>39.0</td>\n",
       "      <td>71.0</td>\n",
       "      <td>1.0915</td>\n",
       "      <td>74.0</td>\n",
       "    </tr>\n",
       "  </tbody>\n",
       "</table>\n",
       "</div>"
      ],
      "text/plain": [
       "   store_id    cnt  cnt_total  cnt_ratio      amt  amt_total  amt_ratio  \\\n",
       "1       753  39318    3362796       1.17  9474601  490841453       1.93   \n",
       "0         0  68773    3362796       2.05  5234611  490841453       1.07   \n",
       "3      1342  33335    3362796       0.99  7301327  490841453       1.49   \n",
       "5       221  31409    3362796       0.93  2513245  490841453       0.51   \n",
       "4       428  33285    3362796       0.99  1312204  490841453       0.27   \n",
       "\n",
       "   customer  customer_total  customer_ratio  amt_per_use  cus_per_use  \\\n",
       "1     11960          922522            1.30        241.0        792.0   \n",
       "0     12727          922522            1.38         76.0        411.0   \n",
       "3     14789          922522            1.60        219.0        494.0   \n",
       "5     17161          922522            1.86         80.0        146.0   \n",
       "4     18456          922522            2.00         39.0         71.0   \n",
       "\n",
       "   core_store  core_store_scaled  \n",
       "1      1.4815              100.0  \n",
       "0      1.4725               99.0  \n",
       "3      1.3785               93.0  \n",
       "5      1.1085               75.0  \n",
       "4      1.0915               74.0  "
      ]
     },
     "execution_count": 25,
     "metadata": {},
     "output_type": "execute_result"
    }
   ],
   "source": [
    "df_merge.sort_values(by=['core_store_scaled'], ascending=False).head(5)"
   ]
  },
  {
   "cell_type": "markdown",
   "metadata": {
    "id": "HAWBLot8rcIC"
   },
   "source": [
    "## **Process 3**  \n",
    "- **additional analysis on core industries**  \n",
    "---"
   ]
  },
  {
   "cell_type": "markdown",
   "metadata": {
    "id": "Qv7EHv7preJ_"
   },
   "source": [
    "### Core Industries Weekends/Weekdays/ Holidays Analysis\n",
    "---"
   ]
  },
  {
   "cell_type": "code",
   "execution_count": 26,
   "metadata": {
    "colab": {
     "base_uri": "https://localhost:8080/",
     "height": 206
    },
    "id": "KzjycHSozzVI",
    "outputId": "71d4720b-9940-4709-bfd7-d904f9af6aa4"
   },
   "outputs": [
    {
     "data": {
      "text/html": [
       "<div>\n",
       "<style scoped>\n",
       "    .dataframe tbody tr th:only-of-type {\n",
       "        vertical-align: middle;\n",
       "    }\n",
       "\n",
       "    .dataframe tbody tr th {\n",
       "        vertical-align: top;\n",
       "    }\n",
       "\n",
       "    .dataframe thead th {\n",
       "        text-align: right;\n",
       "    }\n",
       "</style>\n",
       "<table border=\"1\" class=\"dataframe\">\n",
       "  <thead>\n",
       "    <tr style=\"text-align: right;\">\n",
       "      <th></th>\n",
       "      <th>store_id</th>\n",
       "      <th>date</th>\n",
       "      <th>time</th>\n",
       "      <th>card_id</th>\n",
       "      <th>amount</th>\n",
       "      <th>installments</th>\n",
       "      <th>days_of_week</th>\n",
       "      <th>holyday</th>\n",
       "    </tr>\n",
       "  </thead>\n",
       "  <tbody>\n",
       "    <tr>\n",
       "      <th>0</th>\n",
       "      <td>0</td>\n",
       "      <td>2016-12-14</td>\n",
       "      <td>18:05:31</td>\n",
       "      <td>d297bba73f</td>\n",
       "      <td>5</td>\n",
       "      <td>0.0</td>\n",
       "      <td>2</td>\n",
       "      <td>0</td>\n",
       "    </tr>\n",
       "    <tr>\n",
       "      <th>1</th>\n",
       "      <td>0</td>\n",
       "      <td>2016-12-14</td>\n",
       "      <td>18:05:54</td>\n",
       "      <td>d297bba73f</td>\n",
       "      <td>-5</td>\n",
       "      <td>0.0</td>\n",
       "      <td>2</td>\n",
       "      <td>0</td>\n",
       "    </tr>\n",
       "    <tr>\n",
       "      <th>2</th>\n",
       "      <td>0</td>\n",
       "      <td>2016-12-19</td>\n",
       "      <td>12:42:31</td>\n",
       "      <td>0880849c05</td>\n",
       "      <td>144</td>\n",
       "      <td>0.0</td>\n",
       "      <td>0</td>\n",
       "      <td>0</td>\n",
       "    </tr>\n",
       "    <tr>\n",
       "      <th>3</th>\n",
       "      <td>0</td>\n",
       "      <td>2016-12-19</td>\n",
       "      <td>12:48:08</td>\n",
       "      <td>8b4f9e0e95</td>\n",
       "      <td>66</td>\n",
       "      <td>0.0</td>\n",
       "      <td>0</td>\n",
       "      <td>0</td>\n",
       "    </tr>\n",
       "    <tr>\n",
       "      <th>4</th>\n",
       "      <td>0</td>\n",
       "      <td>2016-12-19</td>\n",
       "      <td>13:31:08</td>\n",
       "      <td>7ad237eed0</td>\n",
       "      <td>24</td>\n",
       "      <td>0.0</td>\n",
       "      <td>0</td>\n",
       "      <td>0</td>\n",
       "    </tr>\n",
       "  </tbody>\n",
       "</table>\n",
       "</div>"
      ],
      "text/plain": [
       "   store_id        date      time     card_id  amount  installments  \\\n",
       "0         0  2016-12-14  18:05:31  d297bba73f       5           0.0   \n",
       "1         0  2016-12-14  18:05:54  d297bba73f      -5           0.0   \n",
       "2         0  2016-12-19  12:42:31  0880849c05     144           0.0   \n",
       "3         0  2016-12-19  12:48:08  8b4f9e0e95      66           0.0   \n",
       "4         0  2016-12-19  13:31:08  7ad237eed0      24           0.0   \n",
       "\n",
       "   days_of_week  holyday  \n",
       "0             2        0  \n",
       "1             2        0  \n",
       "2             0        0  \n",
       "3             0        0  \n",
       "4             0        0  "
      ]
     },
     "execution_count": 26,
     "metadata": {},
     "output_type": "execute_result"
    }
   ],
   "source": [
    "df.head(5)"
   ]
  },
  {
   "cell_type": "code",
   "execution_count": 27,
   "metadata": {
    "colab": {
     "base_uri": "https://localhost:8080/"
    },
    "id": "7GeZ4qJpz160",
    "outputId": "604c8fca-81a8-4b5e-d6db-00ebf12f407e"
   },
   "outputs": [
    {
     "data": {
      "text/plain": [
       "store_id\n",
       "0       68773\n",
       "753     39318\n",
       "1342    33335\n",
       "428     33285\n",
       "221     31409\n",
       "Name: count, dtype: int64"
      ]
     },
     "execution_count": 27,
     "metadata": {},
     "output_type": "execute_result"
    }
   ],
   "source": [
    "df_core_store = df[df['store_id'].isin([753, 0, 1342, 221, 428])]\n",
    "df_core_store['store_id'].value_counts()"
   ]
  },
  {
   "cell_type": "code",
   "execution_count": 28,
   "metadata": {
    "colab": {
     "base_uri": "https://localhost:8080/"
    },
    "id": "b-Us-rCizzo6",
    "outputId": "a00e4e58-3ed4-4f3c-9ad9-dc07aaf5f86f"
   },
   "outputs": [
    {
     "data": {
      "text/plain": [
       "days_of_week\n",
       "5    32850\n",
       "6    30772\n",
       "4    29282\n",
       "2    28635\n",
       "3    28269\n",
       "1    28159\n",
       "0    28153\n",
       "Name: count, dtype: int64"
      ]
     },
     "execution_count": 28,
     "metadata": {},
     "output_type": "execute_result"
    }
   ],
   "source": [
    "df_core_store['days_of_week'].value_counts()"
   ]
  },
  {
   "cell_type": "code",
   "execution_count": 28,
   "metadata": {
    "colab": {
     "base_uri": "https://localhost:8080/",
     "height": 247
    },
    "id": "g7xNXLur0QXB",
    "outputId": "fe111b73-e7f3-4763-fff9-54ff0f2e8611"
   },
   "outputs": [
    {
     "data": {
      "image/png": "[encoded data removed]",
      "text/plain": [
       "<Figure size 1000x300 with 1 Axes>"
      ]
     },
     "metadata": {},
     "output_type": "display_data"
    }
   ],
   "source": [
    "import matplotlib.pyplot as plt\n",
    "import seaborn as sns\n",
    "%matplotlib inline\n",
    "plt.style.use(['dark_background'])\n",
    "\n",
    "sns.catplot(x=\"days_of_week\", kind=\"count\",palette=\"pastel\", edgecolor=\".6\",data=df_core_store)\n",
    "plt.gcf().set_size_inches(10, 3)"
   ]
  },
  {
   "cell_type": "code",
   "execution_count": 29,
   "metadata": {
    "colab": {
     "base_uri": "https://localhost:8080/"
    },
    "id": "C20xYfIF0QgV",
    "outputId": "c25fe318-1d27-49d6-a8e4-ac9bd8ceedd9"
   },
   "outputs": [
    {
     "data": {
      "text/plain": [
       "weekend\n",
       "0    142498\n",
       "1     63622\n",
       "Name: count, dtype: int64"
      ]
     },
     "execution_count": 29,
     "metadata": {},
     "output_type": "execute_result"
    }
   ],
   "source": [
    "# compare weekends vs weekdays\n",
    "import numpy as np\n",
    "df_core_store['weekend'] = np.where(df_core_store['days_of_week'].isin([5,6]), 1, 0)\n",
    "df_core_store['weekend'].value_counts()"
   ]
  },
  {
   "cell_type": "code",
   "execution_count": 30,
   "metadata": {
    "colab": {
     "base_uri": "https://localhost:8080/",
     "height": 246
    },
    "id": "fpIABZkG0Qp1",
    "outputId": "23ca8ff3-dd3e-4957-dcfe-673b82e3375f"
   },
   "outputs": [
    {
     "name": "stdout",
     "output_type": "stream",
     "text": [
      "Saving figure core_weekend_vs_weekday\n"
     ]
    },
    {
     "data": {
      "image/png": "[encoded data removed]",
      "text/plain": [
       "<Figure size 1000x300 with 1 Axes>"
      ]
     },
     "metadata": {},
     "output_type": "display_data"
    }
   ],
   "source": [
    "# plot weekend(1), weekdays(0)\n",
    "sns.catplot(x=\"weekend\", kind=\"count\",palette=\"pastel\", edgecolor=\".6\",data=df_core_store);\n",
    "plt.gcf().set_size_inches(10, 3)\n",
    "plt.xticks([0,1], [\"Weekday (0)\", \"Weekend (1)\"])\n",
    "save_fig(\"core_weekend_vs_weekday\")"
   ]
  },
  {
   "cell_type": "code",
   "execution_count": 31,
   "metadata": {
    "colab": {
     "base_uri": "https://localhost:8080/",
     "height": 246
    },
    "id": "j_6CatOL0QyF",
    "outputId": "13637b53-2b78-4beb-ef0d-105c9c2511a2"
   },
   "outputs": [
    {
     "name": "stdout",
     "output_type": "stream",
     "text": [
      "Saving figure core_holiday_vs_nonholiday\n"
     ]
    },
    {
     "data": {
      "image/png": "[encoded data removed]",
      "text/plain": [
       "<Figure size 1000x300 with 1 Axes>"
      ]
     },
     "metadata": {},
     "output_type": "display_data"
    }
   ],
   "source": [
    "# Compare consumption by holiday\n",
    "sns.catplot(x=\"holyday\", kind=\"count\",palette=\"pastel\", edgecolor=\".6\",data=df_core_store)\n",
    "plt.gcf().set_size_inches(10, 3)\n",
    "plt.xticks([0,1], [\"Non-Holiday\", \"Holiday\"])\n",
    "save_fig(\"core_holiday_vs_nonholiday\")"
   ]
  },
  {
   "cell_type": "markdown",
   "metadata": {
    "id": "39ibQGwYyhey"
   },
   "source": [
    "### Analysis of lump-sum payments and installment payments in core industries\n",
    "---"
   ]
  },
  {
   "cell_type": "code",
   "execution_count": 32,
   "metadata": {
    "colab": {
     "base_uri": "https://localhost:8080/",
     "height": 206
    },
    "id": "JbZrVThW27bd",
    "outputId": "78bb2b44-6692-4388-9842-78394522f9b3"
   },
   "outputs": [
    {
     "data": {
      "text/html": [
       "<div>\n",
       "<style scoped>\n",
       "    .dataframe tbody tr th:only-of-type {\n",
       "        vertical-align: middle;\n",
       "    }\n",
       "\n",
       "    .dataframe tbody tr th {\n",
       "        vertical-align: top;\n",
       "    }\n",
       "\n",
       "    .dataframe thead th {\n",
       "        text-align: right;\n",
       "    }\n",
       "</style>\n",
       "<table border=\"1\" class=\"dataframe\">\n",
       "  <thead>\n",
       "    <tr style=\"text-align: right;\">\n",
       "      <th></th>\n",
       "      <th>store_id</th>\n",
       "      <th>date</th>\n",
       "      <th>time</th>\n",
       "      <th>card_id</th>\n",
       "      <th>amount</th>\n",
       "      <th>installments</th>\n",
       "      <th>days_of_week</th>\n",
       "      <th>holyday</th>\n",
       "      <th>weekend</th>\n",
       "    </tr>\n",
       "  </thead>\n",
       "  <tbody>\n",
       "    <tr>\n",
       "      <th>0</th>\n",
       "      <td>0</td>\n",
       "      <td>2016-12-14</td>\n",
       "      <td>18:05:31</td>\n",
       "      <td>d297bba73f</td>\n",
       "      <td>5</td>\n",
       "      <td>0.0</td>\n",
       "      <td>2</td>\n",
       "      <td>0</td>\n",
       "      <td>0</td>\n",
       "    </tr>\n",
       "    <tr>\n",
       "      <th>1</th>\n",
       "      <td>0</td>\n",
       "      <td>2016-12-14</td>\n",
       "      <td>18:05:54</td>\n",
       "      <td>d297bba73f</td>\n",
       "      <td>-5</td>\n",
       "      <td>0.0</td>\n",
       "      <td>2</td>\n",
       "      <td>0</td>\n",
       "      <td>0</td>\n",
       "    </tr>\n",
       "    <tr>\n",
       "      <th>2</th>\n",
       "      <td>0</td>\n",
       "      <td>2016-12-19</td>\n",
       "      <td>12:42:31</td>\n",
       "      <td>0880849c05</td>\n",
       "      <td>144</td>\n",
       "      <td>0.0</td>\n",
       "      <td>0</td>\n",
       "      <td>0</td>\n",
       "      <td>0</td>\n",
       "    </tr>\n",
       "    <tr>\n",
       "      <th>3</th>\n",
       "      <td>0</td>\n",
       "      <td>2016-12-19</td>\n",
       "      <td>12:48:08</td>\n",
       "      <td>8b4f9e0e95</td>\n",
       "      <td>66</td>\n",
       "      <td>0.0</td>\n",
       "      <td>0</td>\n",
       "      <td>0</td>\n",
       "      <td>0</td>\n",
       "    </tr>\n",
       "    <tr>\n",
       "      <th>4</th>\n",
       "      <td>0</td>\n",
       "      <td>2016-12-19</td>\n",
       "      <td>13:31:08</td>\n",
       "      <td>7ad237eed0</td>\n",
       "      <td>24</td>\n",
       "      <td>0.0</td>\n",
       "      <td>0</td>\n",
       "      <td>0</td>\n",
       "      <td>0</td>\n",
       "    </tr>\n",
       "  </tbody>\n",
       "</table>\n",
       "</div>"
      ],
      "text/plain": [
       "   store_id        date      time     card_id  amount  installments  \\\n",
       "0         0  2016-12-14  18:05:31  d297bba73f       5           0.0   \n",
       "1         0  2016-12-14  18:05:54  d297bba73f      -5           0.0   \n",
       "2         0  2016-12-19  12:42:31  0880849c05     144           0.0   \n",
       "3         0  2016-12-19  12:48:08  8b4f9e0e95      66           0.0   \n",
       "4         0  2016-12-19  13:31:08  7ad237eed0      24           0.0   \n",
       "\n",
       "   days_of_week  holyday  weekend  \n",
       "0             2        0        0  \n",
       "1             2        0        0  \n",
       "2             0        0        0  \n",
       "3             0        0        0  \n",
       "4             0        0        0  "
      ]
     },
     "execution_count": 32,
     "metadata": {},
     "output_type": "execute_result"
    }
   ],
   "source": [
    "df_core_store.head(5)"
   ]
  },
  {
   "cell_type": "code",
   "execution_count": 33,
   "metadata": {
    "colab": {
     "base_uri": "https://localhost:8080/",
     "height": 246
    },
    "id": "jbrpzdp62aTq",
    "outputId": "3341ed2b-0d67-405e-a86f-8506b07dc013"
   },
   "outputs": [
    {
     "name": "stdout",
     "output_type": "stream",
     "text": [
      "Saving figure core_installments_count\n"
     ]
    },
    {
     "data": {
      "image/png": "[encoded data removed]",
      "text/plain": [
       "<Figure size 1000x300 with 1 Axes>"
      ]
     },
     "metadata": {},
     "output_type": "display_data"
    }
   ],
   "source": [
    "sns.catplot(x=\"installments\", kind=\"count\",palette=\"pastel\", edgecolor=\".6\",data=df_core_store)\n",
    "plt.gcf().set_size_inches(10, 3)\n",
    "save_fig(\"core_installments_count\")"
   ]
  },
  {
   "cell_type": "code",
   "execution_count": 34,
   "metadata": {
    "colab": {
     "base_uri": "https://localhost:8080/"
    },
    "id": "Hj6edjNR3Nbn",
    "outputId": "7b0a0ce0-1e5a-44ac-e793-01895efed75f"
   },
   "outputs": [
    {
     "data": {
      "text/plain": [
       "installments\n",
       "0.0     205454\n",
       "3.0        477\n",
       "2.0        172\n",
       "5.0         12\n",
       "24.0         3\n",
       "4.0          2\n",
       "Name: count, dtype: int64"
      ]
     },
     "execution_count": 34,
     "metadata": {},
     "output_type": "execute_result"
    }
   ],
   "source": [
    "df_core_store['installments'].value_counts()"
   ]
  },
  {
   "cell_type": "markdown",
   "metadata": {
    "id": "MYRf1dQX2aem"
   },
   "source": [
    "### Analysis of Cancellation Amount of Key Industries\n",
    "---"
   ]
  },
  {
   "cell_type": "code",
   "execution_count": 35,
   "metadata": {
    "colab": {
     "base_uri": "https://localhost:8080/",
     "height": 206
    },
    "id": "Y_Ywufg82apo",
    "outputId": "b1828f71-b1b5-44bf-a57a-6293cd58f02e"
   },
   "outputs": [
    {
     "data": {
      "text/html": [
       "<div>\n",
       "<style scoped>\n",
       "    .dataframe tbody tr th:only-of-type {\n",
       "        vertical-align: middle;\n",
       "    }\n",
       "\n",
       "    .dataframe tbody tr th {\n",
       "        vertical-align: top;\n",
       "    }\n",
       "\n",
       "    .dataframe thead th {\n",
       "        text-align: right;\n",
       "    }\n",
       "</style>\n",
       "<table border=\"1\" class=\"dataframe\">\n",
       "  <thead>\n",
       "    <tr style=\"text-align: right;\">\n",
       "      <th></th>\n",
       "      <th>store_id</th>\n",
       "      <th>date</th>\n",
       "      <th>time</th>\n",
       "      <th>card_id</th>\n",
       "      <th>amount</th>\n",
       "      <th>installments</th>\n",
       "      <th>days_of_week</th>\n",
       "      <th>holyday</th>\n",
       "      <th>weekend</th>\n",
       "    </tr>\n",
       "  </thead>\n",
       "  <tbody>\n",
       "    <tr>\n",
       "      <th>0</th>\n",
       "      <td>0</td>\n",
       "      <td>2016-12-14</td>\n",
       "      <td>18:05:31</td>\n",
       "      <td>d297bba73f</td>\n",
       "      <td>5</td>\n",
       "      <td>0.0</td>\n",
       "      <td>2</td>\n",
       "      <td>0</td>\n",
       "      <td>0</td>\n",
       "    </tr>\n",
       "    <tr>\n",
       "      <th>1</th>\n",
       "      <td>0</td>\n",
       "      <td>2016-12-14</td>\n",
       "      <td>18:05:54</td>\n",
       "      <td>d297bba73f</td>\n",
       "      <td>-5</td>\n",
       "      <td>0.0</td>\n",
       "      <td>2</td>\n",
       "      <td>0</td>\n",
       "      <td>0</td>\n",
       "    </tr>\n",
       "    <tr>\n",
       "      <th>2</th>\n",
       "      <td>0</td>\n",
       "      <td>2016-12-19</td>\n",
       "      <td>12:42:31</td>\n",
       "      <td>0880849c05</td>\n",
       "      <td>144</td>\n",
       "      <td>0.0</td>\n",
       "      <td>0</td>\n",
       "      <td>0</td>\n",
       "      <td>0</td>\n",
       "    </tr>\n",
       "    <tr>\n",
       "      <th>3</th>\n",
       "      <td>0</td>\n",
       "      <td>2016-12-19</td>\n",
       "      <td>12:48:08</td>\n",
       "      <td>8b4f9e0e95</td>\n",
       "      <td>66</td>\n",
       "      <td>0.0</td>\n",
       "      <td>0</td>\n",
       "      <td>0</td>\n",
       "      <td>0</td>\n",
       "    </tr>\n",
       "    <tr>\n",
       "      <th>4</th>\n",
       "      <td>0</td>\n",
       "      <td>2016-12-19</td>\n",
       "      <td>13:31:08</td>\n",
       "      <td>7ad237eed0</td>\n",
       "      <td>24</td>\n",
       "      <td>0.0</td>\n",
       "      <td>0</td>\n",
       "      <td>0</td>\n",
       "      <td>0</td>\n",
       "    </tr>\n",
       "  </tbody>\n",
       "</table>\n",
       "</div>"
      ],
      "text/plain": [
       "   store_id        date      time     card_id  amount  installments  \\\n",
       "0         0  2016-12-14  18:05:31  d297bba73f       5           0.0   \n",
       "1         0  2016-12-14  18:05:54  d297bba73f      -5           0.0   \n",
       "2         0  2016-12-19  12:42:31  0880849c05     144           0.0   \n",
       "3         0  2016-12-19  12:48:08  8b4f9e0e95      66           0.0   \n",
       "4         0  2016-12-19  13:31:08  7ad237eed0      24           0.0   \n",
       "\n",
       "   days_of_week  holyday  weekend  \n",
       "0             2        0        0  \n",
       "1             2        0        0  \n",
       "2             0        0        0  \n",
       "3             0        0        0  \n",
       "4             0        0        0  "
      ]
     },
     "execution_count": 35,
     "metadata": {},
     "output_type": "execute_result"
    }
   ],
   "source": [
    "df_core_store.head(5)"
   ]
  },
  {
   "cell_type": "code",
   "execution_count": 36,
   "metadata": {
    "colab": {
     "base_uri": "https://localhost:8080/"
    },
    "id": "P3zjBMk15nuD",
    "outputId": "20a75916-dcd1-482b-c7c2-ef9d1963dd63"
   },
   "outputs": [
    {
     "data": {
      "text/plain": [
       "0.8132183681150494"
      ]
     },
     "execution_count": 36,
     "metadata": {},
     "output_type": "execute_result"
    }
   ],
   "source": [
    "abs(df_core_store[df_core_store['amount'] < 0]['amount'].sum()) / df_core_store['amount'].sum() * 100"
   ]
  },
  {
   "cell_type": "code",
   "execution_count": 37,
   "metadata": {
    "colab": {
     "base_uri": "https://localhost:8080/"
    },
    "id": "dKoyy8pH2a2e",
    "outputId": "b999fd9e-a2b0-4807-9d41-435d926996ed"
   },
   "outputs": [
    {
     "name": "stdout",
     "output_type": "stream",
     "text": [
      "store(753) : 0.38674979558505945\n",
      "store(0) : 1.396741801826344\n",
      "store(1342) : 0.5834555828002225\n",
      "store(221) : 1.7059220251109624\n",
      "store(428) : 1.1333603616510848\n"
     ]
    }
   ],
   "source": [
    "df1 = df_core_store[df_core_store['store_id']==753]\n",
    "df2 = df_core_store[df_core_store['store_id']==0]\n",
    "df3 = df_core_store[df_core_store['store_id']==1342]\n",
    "df4 = df_core_store[df_core_store['store_id']==221]\n",
    "df5 = df_core_store[df_core_store['store_id']==428]\n",
    "\n",
    "\n",
    "print(\"store(753) :\", abs(df1[df1['amount'] < 0]['amount'].sum()) / df1['amount'].sum() * 100)\n",
    "print(\"store(0) :\", abs(df2[df2['amount'] < 0]['amount'].sum()) / df2['amount'].sum() * 100)\n",
    "print(\"store(1342) :\", abs(df3[df3['amount'] < 0]['amount'].sum()) / df3['amount'].sum() * 100)\n",
    "print(\"store(221) :\", abs(df4[df4['amount'] < 0]['amount'].sum()) / df4['amount'].sum() * 100)\n",
    "print(\"store(428) :\", abs(df5[df5['amount'] < 0]['amount'].sum()) / df5['amount'].sum() * 100)"
   ]
  },
  {
   "cell_type": "markdown",
   "metadata": {
    "id": "E-735ILDzcnJ"
   },
   "source": [
    "### Analysis of changes in the share of sales by year in core industries\n",
    "---"
   ]
  },
  {
   "cell_type": "code",
   "execution_count": 38,
   "metadata": {
    "colab": {
     "base_uri": "https://localhost:8080/",
     "height": 206
    },
    "id": "nJnygdtGzynD",
    "outputId": "899049f7-fb8a-4fe6-e9cb-903970d9ce08"
   },
   "outputs": [
    {
     "data": {
      "text/html": [
       "<div>\n",
       "<style scoped>\n",
       "    .dataframe tbody tr th:only-of-type {\n",
       "        vertical-align: middle;\n",
       "    }\n",
       "\n",
       "    .dataframe tbody tr th {\n",
       "        vertical-align: top;\n",
       "    }\n",
       "\n",
       "    .dataframe thead th {\n",
       "        text-align: right;\n",
       "    }\n",
       "</style>\n",
       "<table border=\"1\" class=\"dataframe\">\n",
       "  <thead>\n",
       "    <tr style=\"text-align: right;\">\n",
       "      <th></th>\n",
       "      <th>store_id</th>\n",
       "      <th>date</th>\n",
       "      <th>time</th>\n",
       "      <th>card_id</th>\n",
       "      <th>amount</th>\n",
       "      <th>installments</th>\n",
       "      <th>days_of_week</th>\n",
       "      <th>holyday</th>\n",
       "      <th>weekend</th>\n",
       "    </tr>\n",
       "  </thead>\n",
       "  <tbody>\n",
       "    <tr>\n",
       "      <th>0</th>\n",
       "      <td>0</td>\n",
       "      <td>2016-12-14</td>\n",
       "      <td>18:05:31</td>\n",
       "      <td>d297bba73f</td>\n",
       "      <td>5</td>\n",
       "      <td>0.0</td>\n",
       "      <td>2</td>\n",
       "      <td>0</td>\n",
       "      <td>0</td>\n",
       "    </tr>\n",
       "    <tr>\n",
       "      <th>1</th>\n",
       "      <td>0</td>\n",
       "      <td>2016-12-14</td>\n",
       "      <td>18:05:54</td>\n",
       "      <td>d297bba73f</td>\n",
       "      <td>-5</td>\n",
       "      <td>0.0</td>\n",
       "      <td>2</td>\n",
       "      <td>0</td>\n",
       "      <td>0</td>\n",
       "    </tr>\n",
       "    <tr>\n",
       "      <th>2</th>\n",
       "      <td>0</td>\n",
       "      <td>2016-12-19</td>\n",
       "      <td>12:42:31</td>\n",
       "      <td>0880849c05</td>\n",
       "      <td>144</td>\n",
       "      <td>0.0</td>\n",
       "      <td>0</td>\n",
       "      <td>0</td>\n",
       "      <td>0</td>\n",
       "    </tr>\n",
       "    <tr>\n",
       "      <th>3</th>\n",
       "      <td>0</td>\n",
       "      <td>2016-12-19</td>\n",
       "      <td>12:48:08</td>\n",
       "      <td>8b4f9e0e95</td>\n",
       "      <td>66</td>\n",
       "      <td>0.0</td>\n",
       "      <td>0</td>\n",
       "      <td>0</td>\n",
       "      <td>0</td>\n",
       "    </tr>\n",
       "    <tr>\n",
       "      <th>4</th>\n",
       "      <td>0</td>\n",
       "      <td>2016-12-19</td>\n",
       "      <td>13:31:08</td>\n",
       "      <td>7ad237eed0</td>\n",
       "      <td>24</td>\n",
       "      <td>0.0</td>\n",
       "      <td>0</td>\n",
       "      <td>0</td>\n",
       "      <td>0</td>\n",
       "    </tr>\n",
       "  </tbody>\n",
       "</table>\n",
       "</div>"
      ],
      "text/plain": [
       "   store_id        date      time     card_id  amount  installments  \\\n",
       "0         0  2016-12-14  18:05:31  d297bba73f       5           0.0   \n",
       "1         0  2016-12-14  18:05:54  d297bba73f      -5           0.0   \n",
       "2         0  2016-12-19  12:42:31  0880849c05     144           0.0   \n",
       "3         0  2016-12-19  12:48:08  8b4f9e0e95      66           0.0   \n",
       "4         0  2016-12-19  13:31:08  7ad237eed0      24           0.0   \n",
       "\n",
       "   days_of_week  holyday  weekend  \n",
       "0             2        0        0  \n",
       "1             2        0        0  \n",
       "2             0        0        0  \n",
       "3             0        0        0  \n",
       "4             0        0        0  "
      ]
     },
     "execution_count": 38,
     "metadata": {},
     "output_type": "execute_result"
    }
   ],
   "source": [
    "df_core_store.head(5)"
   ]
  },
  {
   "cell_type": "code",
   "execution_count": 39,
   "metadata": {
    "id": "Fsyq4ux58AiI"
   },
   "outputs": [],
   "source": [
    "import datetime\n",
    "df_core_store['Date_merge'] = df['date'].astype(str) + ' ' + df['time'].astype(str)\n",
    "df_core_store['Date_merge'] = pd.to_datetime(df_core_store['Date_merge'])"
   ]
  },
  {
   "cell_type": "code",
   "execution_count": 40,
   "metadata": {
    "colab": {
     "base_uri": "https://localhost:8080/"
    },
    "id": "UVpZi7iR8ssQ",
    "outputId": "02f91fdf-0be2-47b5-9079-83caa898c0d2"
   },
   "outputs": [
    {
     "data": {
      "text/plain": [
       "(Timestamp('2016-08-01 00:14:51'), Timestamp('2018-07-31 23:56:14'))"
      ]
     },
     "execution_count": 40,
     "metadata": {},
     "output_type": "execute_result"
    }
   ],
   "source": [
    "# Aug,1,2016 -  July,31,2018\n",
    "df_core_store['Date_merge'].min(), df_core_store['Date_merge'].max()"
   ]
  },
  {
   "cell_type": "code",
   "execution_count": 41,
   "metadata": {
    "colab": {
     "base_uri": "https://localhost:8080/",
     "height": 206
    },
    "id": "kyCPFwcS8Jmo",
    "outputId": "2cf02873-ec1e-4133-fbdb-21e7e64d8ecb"
   },
   "outputs": [
    {
     "data": {
      "text/html": [
       "<div>\n",
       "<style scoped>\n",
       "    .dataframe tbody tr th:only-of-type {\n",
       "        vertical-align: middle;\n",
       "    }\n",
       "\n",
       "    .dataframe tbody tr th {\n",
       "        vertical-align: top;\n",
       "    }\n",
       "\n",
       "    .dataframe thead th {\n",
       "        text-align: right;\n",
       "    }\n",
       "</style>\n",
       "<table border=\"1\" class=\"dataframe\">\n",
       "  <thead>\n",
       "    <tr style=\"text-align: right;\">\n",
       "      <th></th>\n",
       "      <th>store_id</th>\n",
       "      <th>date</th>\n",
       "      <th>time</th>\n",
       "      <th>card_id</th>\n",
       "      <th>amount</th>\n",
       "      <th>installments</th>\n",
       "      <th>days_of_week</th>\n",
       "      <th>holyday</th>\n",
       "      <th>weekend</th>\n",
       "      <th>Date_merge</th>\n",
       "      <th>year</th>\n",
       "      <th>month</th>\n",
       "    </tr>\n",
       "  </thead>\n",
       "  <tbody>\n",
       "    <tr>\n",
       "      <th>0</th>\n",
       "      <td>0</td>\n",
       "      <td>2016-12-14</td>\n",
       "      <td>18:05:31</td>\n",
       "      <td>d297bba73f</td>\n",
       "      <td>5</td>\n",
       "      <td>0.0</td>\n",
       "      <td>2</td>\n",
       "      <td>0</td>\n",
       "      <td>0</td>\n",
       "      <td>2016-12-14 18:05:31</td>\n",
       "      <td>2016</td>\n",
       "      <td>12</td>\n",
       "    </tr>\n",
       "    <tr>\n",
       "      <th>1</th>\n",
       "      <td>0</td>\n",
       "      <td>2016-12-14</td>\n",
       "      <td>18:05:54</td>\n",
       "      <td>d297bba73f</td>\n",
       "      <td>-5</td>\n",
       "      <td>0.0</td>\n",
       "      <td>2</td>\n",
       "      <td>0</td>\n",
       "      <td>0</td>\n",
       "      <td>2016-12-14 18:05:54</td>\n",
       "      <td>2016</td>\n",
       "      <td>12</td>\n",
       "    </tr>\n",
       "    <tr>\n",
       "      <th>2</th>\n",
       "      <td>0</td>\n",
       "      <td>2016-12-19</td>\n",
       "      <td>12:42:31</td>\n",
       "      <td>0880849c05</td>\n",
       "      <td>144</td>\n",
       "      <td>0.0</td>\n",
       "      <td>0</td>\n",
       "      <td>0</td>\n",
       "      <td>0</td>\n",
       "      <td>2016-12-19 12:42:31</td>\n",
       "      <td>2016</td>\n",
       "      <td>12</td>\n",
       "    </tr>\n",
       "    <tr>\n",
       "      <th>3</th>\n",
       "      <td>0</td>\n",
       "      <td>2016-12-19</td>\n",
       "      <td>12:48:08</td>\n",
       "      <td>8b4f9e0e95</td>\n",
       "      <td>66</td>\n",
       "      <td>0.0</td>\n",
       "      <td>0</td>\n",
       "      <td>0</td>\n",
       "      <td>0</td>\n",
       "      <td>2016-12-19 12:48:08</td>\n",
       "      <td>2016</td>\n",
       "      <td>12</td>\n",
       "    </tr>\n",
       "    <tr>\n",
       "      <th>4</th>\n",
       "      <td>0</td>\n",
       "      <td>2016-12-19</td>\n",
       "      <td>13:31:08</td>\n",
       "      <td>7ad237eed0</td>\n",
       "      <td>24</td>\n",
       "      <td>0.0</td>\n",
       "      <td>0</td>\n",
       "      <td>0</td>\n",
       "      <td>0</td>\n",
       "      <td>2016-12-19 13:31:08</td>\n",
       "      <td>2016</td>\n",
       "      <td>12</td>\n",
       "    </tr>\n",
       "  </tbody>\n",
       "</table>\n",
       "</div>"
      ],
      "text/plain": [
       "   store_id        date      time     card_id  amount  installments  \\\n",
       "0         0  2016-12-14  18:05:31  d297bba73f       5           0.0   \n",
       "1         0  2016-12-14  18:05:54  d297bba73f      -5           0.0   \n",
       "2         0  2016-12-19  12:42:31  0880849c05     144           0.0   \n",
       "3         0  2016-12-19  12:48:08  8b4f9e0e95      66           0.0   \n",
       "4         0  2016-12-19  13:31:08  7ad237eed0      24           0.0   \n",
       "\n",
       "   days_of_week  holyday  weekend          Date_merge  year  month  \n",
       "0             2        0        0 2016-12-14 18:05:31  2016     12  \n",
       "1             2        0        0 2016-12-14 18:05:54  2016     12  \n",
       "2             0        0        0 2016-12-19 12:42:31  2016     12  \n",
       "3             0        0        0 2016-12-19 12:48:08  2016     12  \n",
       "4             0        0        0 2016-12-19 13:31:08  2016     12  "
      ]
     },
     "execution_count": 41,
     "metadata": {},
     "output_type": "execute_result"
    }
   ],
   "source": [
    "df_core_store['year'] = df_core_store['Date_merge'].dt.year\n",
    "df_core_store['month'] = df_core_store['Date_merge'].dt.month\n",
    "df_core_store.head(5)"
   ]
  },
  {
   "cell_type": "code",
   "execution_count": 42,
   "metadata": {
    "colab": {
     "base_uri": "https://localhost:8080/",
     "height": 237
    },
    "id": "1ub3iMFF9HHv",
    "outputId": "e248726a-6560-4c29-c1bb-7601398dbb62"
   },
   "outputs": [
    {
     "data": {
      "text/html": [
       "<div>\n",
       "<style scoped>\n",
       "    .dataframe tbody tr th:only-of-type {\n",
       "        vertical-align: middle;\n",
       "    }\n",
       "\n",
       "    .dataframe tbody tr th {\n",
       "        vertical-align: top;\n",
       "    }\n",
       "\n",
       "    .dataframe thead th {\n",
       "        text-align: right;\n",
       "    }\n",
       "</style>\n",
       "<table border=\"1\" class=\"dataframe\">\n",
       "  <thead>\n",
       "    <tr style=\"text-align: right;\">\n",
       "      <th></th>\n",
       "      <th>store_id</th>\n",
       "      <th>year</th>\n",
       "      <th>amount</th>\n",
       "    </tr>\n",
       "  </thead>\n",
       "  <tbody>\n",
       "    <tr>\n",
       "      <th>0</th>\n",
       "      <td>0</td>\n",
       "      <td>2016</td>\n",
       "      <td>137336</td>\n",
       "    </tr>\n",
       "    <tr>\n",
       "      <th>1</th>\n",
       "      <td>0</td>\n",
       "      <td>2017</td>\n",
       "      <td>3235476</td>\n",
       "    </tr>\n",
       "    <tr>\n",
       "      <th>2</th>\n",
       "      <td>0</td>\n",
       "      <td>2018</td>\n",
       "      <td>1861799</td>\n",
       "    </tr>\n",
       "    <tr>\n",
       "      <th>3</th>\n",
       "      <td>221</td>\n",
       "      <td>2016</td>\n",
       "      <td>528397</td>\n",
       "    </tr>\n",
       "    <tr>\n",
       "      <th>4</th>\n",
       "      <td>221</td>\n",
       "      <td>2017</td>\n",
       "      <td>1318231</td>\n",
       "    </tr>\n",
       "    <tr>\n",
       "      <th>5</th>\n",
       "      <td>221</td>\n",
       "      <td>2018</td>\n",
       "      <td>666617</td>\n",
       "    </tr>\n",
       "  </tbody>\n",
       "</table>\n",
       "</div>"
      ],
      "text/plain": [
       "   store_id  year   amount\n",
       "0         0  2016   137336\n",
       "1         0  2017  3235476\n",
       "2         0  2018  1861799\n",
       "3       221  2016   528397\n",
       "4       221  2017  1318231\n",
       "5       221  2018   666617"
      ]
     },
     "execution_count": 42,
     "metadata": {},
     "output_type": "execute_result"
    }
   ],
   "source": [
    "df_year = pd.DataFrame(df_core_store.groupby(['store_id', 'year'])['amount'].sum()).reset_index()\n",
    "df_year.head(6)"
   ]
  },
  {
   "cell_type": "code",
   "execution_count": 43,
   "metadata": {
    "colab": {
     "base_uri": "https://localhost:8080/",
     "height": 175
    },
    "id": "OrRfxWWN-MIg",
    "outputId": "18e5aa3d-36fa-4102-9dc5-4c4f713c2891"
   },
   "outputs": [
    {
     "data": {
      "text/html": [
       "<div>\n",
       "<style scoped>\n",
       "    .dataframe tbody tr th:only-of-type {\n",
       "        vertical-align: middle;\n",
       "    }\n",
       "\n",
       "    .dataframe tbody tr th {\n",
       "        vertical-align: top;\n",
       "    }\n",
       "\n",
       "    .dataframe thead th {\n",
       "        text-align: right;\n",
       "    }\n",
       "</style>\n",
       "<table border=\"1\" class=\"dataframe\">\n",
       "  <thead>\n",
       "    <tr style=\"text-align: right;\">\n",
       "      <th></th>\n",
       "      <th>0</th>\n",
       "      <th>221</th>\n",
       "      <th>428</th>\n",
       "      <th>753</th>\n",
       "      <th>1342</th>\n",
       "      <th>total</th>\n",
       "    </tr>\n",
       "    <tr>\n",
       "      <th>year</th>\n",
       "      <th></th>\n",
       "      <th></th>\n",
       "      <th></th>\n",
       "      <th></th>\n",
       "      <th></th>\n",
       "      <th></th>\n",
       "    </tr>\n",
       "  </thead>\n",
       "  <tbody>\n",
       "    <tr>\n",
       "      <th>2016</th>\n",
       "      <td>137336.0</td>\n",
       "      <td>528397.0</td>\n",
       "      <td>305336.0</td>\n",
       "      <td>525324.0</td>\n",
       "      <td>0.0</td>\n",
       "      <td>1496393.0</td>\n",
       "    </tr>\n",
       "    <tr>\n",
       "      <th>2017</th>\n",
       "      <td>3235476.0</td>\n",
       "      <td>1318231.0</td>\n",
       "      <td>665009.0</td>\n",
       "      <td>8129699.0</td>\n",
       "      <td>5113535.0</td>\n",
       "      <td>18461950.0</td>\n",
       "    </tr>\n",
       "    <tr>\n",
       "      <th>2018</th>\n",
       "      <td>1861799.0</td>\n",
       "      <td>666617.0</td>\n",
       "      <td>341859.0</td>\n",
       "      <td>819578.0</td>\n",
       "      <td>2187792.0</td>\n",
       "      <td>5877645.0</td>\n",
       "    </tr>\n",
       "  </tbody>\n",
       "</table>\n",
       "</div>"
      ],
      "text/plain": [
       "              0        221       428        753       1342       total\n",
       "year                                                                  \n",
       "2016   137336.0   528397.0  305336.0   525324.0        0.0   1496393.0\n",
       "2017  3235476.0  1318231.0  665009.0  8129699.0  5113535.0  18461950.0\n",
       "2018  1861799.0   666617.0  341859.0   819578.0  2187792.0   5877645.0"
      ]
     },
     "execution_count": 43,
     "metadata": {},
     "output_type": "execute_result"
    }
   ],
   "source": [
    "df_pivot = pd.pivot_table(df_year,\n",
    "                      index = 'year',\n",
    "                      columns = 'store_id',\n",
    "                      values = 'amount')\n",
    "df_pivot = df_pivot.reset_index()\n",
    "df_pivot.columns.names=['']\n",
    "\n",
    "df_pivot = df_pivot.set_index('year')\n",
    "\n",
    "df_pivot = df_pivot.fillna(0)\n",
    "\n",
    "df_pivot['total'] = df_pivot.iloc[:,0] + df_pivot.iloc[:,1] + df_pivot.iloc[:,2] + df_pivot.iloc[:,3] + df_pivot.iloc[:,4]\n",
    "\n",
    "df_pivot"
   ]
  },
  {
   "cell_type": "code",
   "execution_count": 44,
   "metadata": {
    "colab": {
     "base_uri": "https://localhost:8080/",
     "height": 175
    },
    "id": "nMMT6uizFNNm",
    "outputId": "620e966f-14f7-49df-8c94-b6df56de7c11"
   },
   "outputs": [
    {
     "data": {
      "text/html": [
       "<div>\n",
       "<style scoped>\n",
       "    .dataframe tbody tr th:only-of-type {\n",
       "        vertical-align: middle;\n",
       "    }\n",
       "\n",
       "    .dataframe tbody tr th {\n",
       "        vertical-align: top;\n",
       "    }\n",
       "\n",
       "    .dataframe thead th {\n",
       "        text-align: right;\n",
       "    }\n",
       "</style>\n",
       "<table border=\"1\" class=\"dataframe\">\n",
       "  <thead>\n",
       "    <tr style=\"text-align: right;\">\n",
       "      <th></th>\n",
       "      <th>0</th>\n",
       "      <th>221</th>\n",
       "      <th>428</th>\n",
       "      <th>753</th>\n",
       "      <th>1342</th>\n",
       "      <th>total</th>\n",
       "    </tr>\n",
       "    <tr>\n",
       "      <th>year</th>\n",
       "      <th></th>\n",
       "      <th></th>\n",
       "      <th></th>\n",
       "      <th></th>\n",
       "      <th></th>\n",
       "      <th></th>\n",
       "    </tr>\n",
       "  </thead>\n",
       "  <tbody>\n",
       "    <tr>\n",
       "      <th>2016</th>\n",
       "      <td>0.091778</td>\n",
       "      <td>0.353114</td>\n",
       "      <td>0.204048</td>\n",
       "      <td>0.351060</td>\n",
       "      <td>0.000000</td>\n",
       "      <td>1496393.0</td>\n",
       "    </tr>\n",
       "    <tr>\n",
       "      <th>2017</th>\n",
       "      <td>0.175251</td>\n",
       "      <td>0.071403</td>\n",
       "      <td>0.036021</td>\n",
       "      <td>0.440349</td>\n",
       "      <td>0.276977</td>\n",
       "      <td>18461950.0</td>\n",
       "    </tr>\n",
       "    <tr>\n",
       "      <th>2018</th>\n",
       "      <td>0.316759</td>\n",
       "      <td>0.113416</td>\n",
       "      <td>0.058163</td>\n",
       "      <td>0.139440</td>\n",
       "      <td>0.372223</td>\n",
       "      <td>5877645.0</td>\n",
       "    </tr>\n",
       "  </tbody>\n",
       "</table>\n",
       "</div>"
      ],
      "text/plain": [
       "             0       221       428       753      1342       total\n",
       "year                                                              \n",
       "2016  0.091778  0.353114  0.204048  0.351060  0.000000   1496393.0\n",
       "2017  0.175251  0.071403  0.036021  0.440349  0.276977  18461950.0\n",
       "2018  0.316759  0.113416  0.058163  0.139440  0.372223   5877645.0"
      ]
     },
     "execution_count": 44,
     "metadata": {},
     "output_type": "execute_result"
    }
   ],
   "source": [
    "df_pivot.iloc[:,0] = (df_pivot.iloc[:,0] / df_pivot['total'])\n",
    "df_pivot.iloc[:,1] = (df_pivot.iloc[:,1] / df_pivot['total'])\n",
    "df_pivot.iloc[:,2] = (df_pivot.iloc[:,2] / df_pivot['total'])\n",
    "df_pivot.iloc[:,3] = (df_pivot.iloc[:,3] / df_pivot['total'])\n",
    "df_pivot.iloc[:,4] = (df_pivot.iloc[:,4] / df_pivot['total'])\n",
    "\n",
    "df_pivot"
   ]
  },
  {
   "cell_type": "code",
   "execution_count": 45,
   "metadata": {
    "colab": {
     "base_uri": "https://localhost:8080/",
     "height": 175
    },
    "id": "KhRxcuPBGPK-",
    "outputId": "23f1a82a-a4ee-4ff6-c982-c3898208a6d9"
   },
   "outputs": [
    {
     "data": {
      "text/html": [
       "<div>\n",
       "<style scoped>\n",
       "    .dataframe tbody tr th:only-of-type {\n",
       "        vertical-align: middle;\n",
       "    }\n",
       "\n",
       "    .dataframe tbody tr th {\n",
       "        vertical-align: top;\n",
       "    }\n",
       "\n",
       "    .dataframe thead th {\n",
       "        text-align: right;\n",
       "    }\n",
       "</style>\n",
       "<table border=\"1\" class=\"dataframe\">\n",
       "  <thead>\n",
       "    <tr style=\"text-align: right;\">\n",
       "      <th></th>\n",
       "      <th>0</th>\n",
       "      <th>221</th>\n",
       "      <th>428</th>\n",
       "      <th>753</th>\n",
       "      <th>1342</th>\n",
       "    </tr>\n",
       "    <tr>\n",
       "      <th>year</th>\n",
       "      <th></th>\n",
       "      <th></th>\n",
       "      <th></th>\n",
       "      <th></th>\n",
       "      <th></th>\n",
       "    </tr>\n",
       "  </thead>\n",
       "  <tbody>\n",
       "    <tr>\n",
       "      <th>2016</th>\n",
       "      <td>0.091778</td>\n",
       "      <td>0.353114</td>\n",
       "      <td>0.204048</td>\n",
       "      <td>0.351060</td>\n",
       "      <td>0.000000</td>\n",
       "    </tr>\n",
       "    <tr>\n",
       "      <th>2017</th>\n",
       "      <td>0.175251</td>\n",
       "      <td>0.071403</td>\n",
       "      <td>0.036021</td>\n",
       "      <td>0.440349</td>\n",
       "      <td>0.276977</td>\n",
       "    </tr>\n",
       "    <tr>\n",
       "      <th>2018</th>\n",
       "      <td>0.316759</td>\n",
       "      <td>0.113416</td>\n",
       "      <td>0.058163</td>\n",
       "      <td>0.139440</td>\n",
       "      <td>0.372223</td>\n",
       "    </tr>\n",
       "  </tbody>\n",
       "</table>\n",
       "</div>"
      ],
      "text/plain": [
       "             0       221       428       753      1342\n",
       "year                                                  \n",
       "2016  0.091778  0.353114  0.204048  0.351060  0.000000\n",
       "2017  0.175251  0.071403  0.036021  0.440349  0.276977\n",
       "2018  0.316759  0.113416  0.058163  0.139440  0.372223"
      ]
     },
     "execution_count": 45,
     "metadata": {},
     "output_type": "execute_result"
    }
   ],
   "source": [
    "df_pivot = df_pivot.drop(['total'], axis=1)\n",
    "df_pivot"
   ]
  },
  {
   "cell_type": "code",
   "execution_count": 46,
   "metadata": {
    "colab": {
     "base_uri": "https://localhost:8080/",
     "height": 336
    },
    "id": "_QFggCgqAeyS",
    "outputId": "4c0722da-2a7b-45de-89a2-6fe1cc3d48e3"
   },
   "outputs": [
    {
     "name": "stdout",
     "output_type": "stream",
     "text": [
      "Saving figure yoy_sales_share_core\n"
     ]
    },
    {
     "data": {
      "image/png": "[encoded data removed]",
      "text/plain": [
       "<Figure size 1000x500 with 1 Axes>"
      ]
     },
     "metadata": {},
     "output_type": "display_data"
    }
   ],
   "source": [
    "import warnings\n",
    "warnings.filterwarnings('ignore')\n",
    "plt.style.use(['dark_background'])\n",
    "\n",
    "ax = df_pivot.plot(kind='barh', stacked=True, title=\"years amt\", rot=0);\n",
    "for p in ax.patches:\n",
    "    left, bottom, width, height = p.get_bbox().bounds\n",
    "    ax.annotate(\"%.1f\"%(width*100), xy=(left+width/2, bottom+height/2), ha='center', va='center', color='r');\n",
    "\n",
    "plt.box(False)\n",
    "plt.gcf().set_size_inches(10, 5)\n",
    "save_fig(\"yoy_sales_share_core\")\n",
    "plt.show()"
   ]
  },
  {
   "cell_type": "code",
   "execution_count": null,
   "metadata": {},
   "outputs": [],
   "source": []
  }
 ],
 "metadata": {
  "colab": {
   "provenance": [],
   "toc_visible": true
  },
  "kernelspec": {
   "display_name": "Python 3 (ipykernel)",
   "language": "python",
   "name": "python3"
  },
  "language_info": {
   "codemirror_mode": {
    "name": "ipython",
    "version": 3
   },
   "file_extension": ".py",
   "mimetype": "text/x-python",
   "name": "python",
   "nbconvert_exporter": "python",
   "pygments_lexer": "ipython3",
   "version": "3.8.20"
  }
 },
 "nbformat": 4,
 "nbformat_minor": 4
}
