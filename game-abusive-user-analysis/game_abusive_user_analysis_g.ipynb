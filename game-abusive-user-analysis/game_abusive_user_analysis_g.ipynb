{
 "cells": [
  {
   "cell_type": "markdown",
   "metadata": {
    "id": "vp6XKTOzDRJs"
   },
   "source": [
    "**Abusive Game User Detection Analysis**\n",
    "\n",
    "- Outlier detection through anomaly detection\n",
    "- Data Source: https://www.kaggle.com/c/pubg-finish-placement-prediction/data?select=test_V2.csv\n",
    "- Define behavioral patterns of suspected bug-abusing players and detect abnormal users\n",
    "- Compare the number of bug reports before and after model implementation  \n",
    "- Compare changes in new user acquisition before and after model implementation  \n",
    "- Compare churn rates of existing users before and after model implementation"
   ]
  },
  {
   "cell_type": "code",
   "execution_count": 2,
   "metadata": {
    "colab": {
     "base_uri": "https://localhost:8080/",
     "height": 226
    },
    "executionInfo": {
     "elapsed": 24086,
     "status": "ok",
     "timestamp": 1698576980745,
     "user": {
      "displayName": "박지환",
      "userId": "03562376240636475247"
     },
     "user_tz": -540
    },
    "id": "DvxvssCfdG9T",
    "outputId": "7171f878-fcb9-4ffa-c0c7-d1f30b6ff61c"
   },
   "outputs": [
    {
     "data": {
      "text/html": [
       "<div>\n",
       "<style scoped>\n",
       "    .dataframe tbody tr th:only-of-type {\n",
       "        vertical-align: middle;\n",
       "    }\n",
       "\n",
       "    .dataframe tbody tr th {\n",
       "        vertical-align: top;\n",
       "    }\n",
       "\n",
       "    .dataframe thead th {\n",
       "        text-align: right;\n",
       "    }\n",
       "</style>\n",
       "<table border=\"1\" class=\"dataframe\">\n",
       "  <thead>\n",
       "    <tr style=\"text-align: right;\">\n",
       "      <th></th>\n",
       "      <th>Id</th>\n",
       "      <th>groupId</th>\n",
       "      <th>matchId</th>\n",
       "      <th>assists</th>\n",
       "      <th>boosts</th>\n",
       "      <th>damageDealt</th>\n",
       "      <th>DBNOs</th>\n",
       "      <th>headshotKills</th>\n",
       "      <th>heals</th>\n",
       "      <th>killPlace</th>\n",
       "      <th>killPoints</th>\n",
       "      <th>kills</th>\n",
       "      <th>killStreaks</th>\n",
       "      <th>longestKill</th>\n",
       "      <th>maxPlace</th>\n",
       "      <th>numGroups</th>\n",
       "      <th>revives</th>\n",
       "      <th>rideDistance</th>\n",
       "      <th>roadKills</th>\n",
       "      <th>swimDistance</th>\n",
       "      <th>teamKills</th>\n",
       "      <th>vehicleDestroys</th>\n",
       "      <th>walkDistance</th>\n",
       "      <th>weaponsAcquired</th>\n",
       "      <th>winPoints</th>\n",
       "      <th>winPlacePerc</th>\n",
       "    </tr>\n",
       "  </thead>\n",
       "  <tbody>\n",
       "    <tr>\n",
       "      <th>0</th>\n",
       "      <td>0</td>\n",
       "      <td>24</td>\n",
       "      <td>0</td>\n",
       "      <td>0</td>\n",
       "      <td>5</td>\n",
       "      <td>247.30</td>\n",
       "      <td>2</td>\n",
       "      <td>0</td>\n",
       "      <td>4</td>\n",
       "      <td>17</td>\n",
       "      <td>1050</td>\n",
       "      <td>2</td>\n",
       "      <td>1</td>\n",
       "      <td>65.32</td>\n",
       "      <td>29</td>\n",
       "      <td>28</td>\n",
       "      <td>1</td>\n",
       "      <td>591.3</td>\n",
       "      <td>0</td>\n",
       "      <td>0.0</td>\n",
       "      <td>0</td>\n",
       "      <td>0</td>\n",
       "      <td>782.40</td>\n",
       "      <td>4</td>\n",
       "      <td>1458</td>\n",
       "      <td>0.8571</td>\n",
       "    </tr>\n",
       "    <tr>\n",
       "      <th>1</th>\n",
       "      <td>1</td>\n",
       "      <td>440875</td>\n",
       "      <td>1</td>\n",
       "      <td>1</td>\n",
       "      <td>0</td>\n",
       "      <td>37.65</td>\n",
       "      <td>1</td>\n",
       "      <td>1</td>\n",
       "      <td>0</td>\n",
       "      <td>45</td>\n",
       "      <td>1072</td>\n",
       "      <td>1</td>\n",
       "      <td>1</td>\n",
       "      <td>13.55</td>\n",
       "      <td>26</td>\n",
       "      <td>23</td>\n",
       "      <td>0</td>\n",
       "      <td>0.0</td>\n",
       "      <td>0</td>\n",
       "      <td>0.0</td>\n",
       "      <td>0</td>\n",
       "      <td>0</td>\n",
       "      <td>119.60</td>\n",
       "      <td>3</td>\n",
       "      <td>1511</td>\n",
       "      <td>0.0400</td>\n",
       "    </tr>\n",
       "    <tr>\n",
       "      <th>2</th>\n",
       "      <td>2</td>\n",
       "      <td>878242</td>\n",
       "      <td>2</td>\n",
       "      <td>0</td>\n",
       "      <td>1</td>\n",
       "      <td>93.73</td>\n",
       "      <td>1</td>\n",
       "      <td>0</td>\n",
       "      <td>2</td>\n",
       "      <td>54</td>\n",
       "      <td>1404</td>\n",
       "      <td>0</td>\n",
       "      <td>0</td>\n",
       "      <td>0.00</td>\n",
       "      <td>28</td>\n",
       "      <td>28</td>\n",
       "      <td>1</td>\n",
       "      <td>0.0</td>\n",
       "      <td>0</td>\n",
       "      <td>0.0</td>\n",
       "      <td>0</td>\n",
       "      <td>0</td>\n",
       "      <td>3248.00</td>\n",
       "      <td>5</td>\n",
       "      <td>1583</td>\n",
       "      <td>0.7407</td>\n",
       "    </tr>\n",
       "    <tr>\n",
       "      <th>3</th>\n",
       "      <td>3</td>\n",
       "      <td>1319841</td>\n",
       "      <td>3</td>\n",
       "      <td>0</td>\n",
       "      <td>0</td>\n",
       "      <td>95.88</td>\n",
       "      <td>0</td>\n",
       "      <td>0</td>\n",
       "      <td>0</td>\n",
       "      <td>86</td>\n",
       "      <td>1069</td>\n",
       "      <td>0</td>\n",
       "      <td>0</td>\n",
       "      <td>0.00</td>\n",
       "      <td>97</td>\n",
       "      <td>94</td>\n",
       "      <td>0</td>\n",
       "      <td>0.0</td>\n",
       "      <td>0</td>\n",
       "      <td>0.0</td>\n",
       "      <td>0</td>\n",
       "      <td>0</td>\n",
       "      <td>21.49</td>\n",
       "      <td>1</td>\n",
       "      <td>1489</td>\n",
       "      <td>0.1146</td>\n",
       "    </tr>\n",
       "    <tr>\n",
       "      <th>4</th>\n",
       "      <td>4</td>\n",
       "      <td>1757883</td>\n",
       "      <td>4</td>\n",
       "      <td>0</td>\n",
       "      <td>1</td>\n",
       "      <td>0.00</td>\n",
       "      <td>0</td>\n",
       "      <td>0</td>\n",
       "      <td>1</td>\n",
       "      <td>58</td>\n",
       "      <td>1034</td>\n",
       "      <td>0</td>\n",
       "      <td>0</td>\n",
       "      <td>0.00</td>\n",
       "      <td>47</td>\n",
       "      <td>41</td>\n",
       "      <td>0</td>\n",
       "      <td>0.0</td>\n",
       "      <td>0</td>\n",
       "      <td>0.0</td>\n",
       "      <td>0</td>\n",
       "      <td>0</td>\n",
       "      <td>640.80</td>\n",
       "      <td>4</td>\n",
       "      <td>1475</td>\n",
       "      <td>0.5217</td>\n",
       "    </tr>\n",
       "  </tbody>\n",
       "</table>\n",
       "</div>"
      ],
      "text/plain": [
       "   Id  groupId  matchId  assists  boosts  damageDealt  DBNOs  headshotKills  \\\n",
       "0   0       24        0        0       5       247.30      2              0   \n",
       "1   1   440875        1        1       0        37.65      1              1   \n",
       "2   2   878242        2        0       1        93.73      1              0   \n",
       "3   3  1319841        3        0       0        95.88      0              0   \n",
       "4   4  1757883        4        0       1         0.00      0              0   \n",
       "\n",
       "   heals  killPlace  killPoints  kills  killStreaks  longestKill  maxPlace  \\\n",
       "0      4         17        1050      2            1        65.32        29   \n",
       "1      0         45        1072      1            1        13.55        26   \n",
       "2      2         54        1404      0            0         0.00        28   \n",
       "3      0         86        1069      0            0         0.00        97   \n",
       "4      1         58        1034      0            0         0.00        47   \n",
       "\n",
       "   numGroups  revives  rideDistance  roadKills  swimDistance  teamKills  \\\n",
       "0         28        1         591.3          0           0.0          0   \n",
       "1         23        0           0.0          0           0.0          0   \n",
       "2         28        1           0.0          0           0.0          0   \n",
       "3         94        0           0.0          0           0.0          0   \n",
       "4         41        0           0.0          0           0.0          0   \n",
       "\n",
       "   vehicleDestroys  walkDistance  weaponsAcquired  winPoints  winPlacePerc  \n",
       "0                0        782.40                4       1458        0.8571  \n",
       "1                0        119.60                3       1511        0.0400  \n",
       "2                0       3248.00                5       1583        0.7407  \n",
       "3                0         21.49                1       1489        0.1146  \n",
       "4                0        640.80                4       1475        0.5217  "
      ]
     },
     "execution_count": 2,
     "metadata": {},
     "output_type": "execute_result"
    }
   ],
   "source": [
    "import pandas as pd\n",
    "pd.set_option('display.max_columns',100)\n",
    "pd.set_option('display.max_rows',100)\n",
    "\n",
    "df_train = pd.read_csv(\"game_1.csv\")\n",
    "df_test = pd.read_csv(\"game_2.csv\")\n",
    "\n",
    "df = pd.concat([df_train, df_test], axis=0)\n",
    "df.head()"
   ]
  },
  {
   "cell_type": "code",
   "execution_count": 3,
   "metadata": {},
   "outputs": [],
   "source": [
    "import os\n",
    "import matplotlib.pyplot as plt\n",
    "\n",
    "def save_fig(fig_id, tight_layout=True, fig_extension=\"png\", resolution=300):\n",
    "    IMAGES_PATH = os.path.join(\"images\")\n",
    "    os.makedirs(IMAGES_PATH, exist_ok=True)\n",
    "    path = os.path.join(IMAGES_PATH, fig_id + \".\" + fig_extension)\n",
    "    print(\"Saving figure\", fig_id)\n",
    "    if tight_layout:\n",
    "        plt.tight_layout()\n",
    "    plt.savefig(path, format=fig_extension, dpi=resolution)\n"
   ]
  },
  {
   "cell_type": "markdown",
   "metadata": {
    "id": "ti_1JRbFeA7z"
   },
   "source": [
    "**Data Preprocessing & EDA**  "
   ]
  },
  {
   "cell_type": "code",
   "execution_count": 4,
   "metadata": {
    "colab": {
     "base_uri": "https://localhost:8080/"
    },
    "executionInfo": {
     "elapsed": 277,
     "status": "ok",
     "timestamp": 1670031976312,
     "user": {
      "displayName": "박지환",
      "userId": "03562376240636475247"
     },
     "user_tz": -540
    },
    "id": "bYXa7HECfFVE",
    "outputId": "b2cde318-c3d7-4d86-d6fd-45d3047fb3d1"
   },
   "outputs": [
    {
     "name": "stdout",
     "output_type": "stream",
     "text": [
      "df : (6225249, 26)\n"
     ]
    }
   ],
   "source": [
    "print('df :', df.shape)"
   ]
  },
  {
   "cell_type": "code",
   "execution_count": 5,
   "metadata": {
    "colab": {
     "base_uri": "https://localhost:8080/"
    },
    "executionInfo": {
     "elapsed": 278,
     "status": "ok",
     "timestamp": 1670032027082,
     "user": {
      "displayName": "박지환",
      "userId": "03562376240636475247"
     },
     "user_tz": -540
    },
    "id": "7EsDNiP7e5Xc",
    "outputId": "15678e04-4b59-4ff7-f6d6-12374331beb4"
   },
   "outputs": [
    {
     "name": "stdout",
     "output_type": "stream",
     "text": [
      "<class 'pandas.core.frame.DataFrame'>\n",
      "Index: 6225249 entries, 0 to 1867912\n",
      "Data columns (total 26 columns):\n",
      " #   Column           Dtype  \n",
      "---  ------           -----  \n",
      " 0   Id               int64  \n",
      " 1   groupId          int64  \n",
      " 2   matchId          int64  \n",
      " 3   assists          int64  \n",
      " 4   boosts           int64  \n",
      " 5   damageDealt      float64\n",
      " 6   DBNOs            int64  \n",
      " 7   headshotKills    int64  \n",
      " 8   heals            int64  \n",
      " 9   killPlace        int64  \n",
      " 10  killPoints       int64  \n",
      " 11  kills            int64  \n",
      " 12  killStreaks      int64  \n",
      " 13  longestKill      float64\n",
      " 14  maxPlace         int64  \n",
      " 15  numGroups        int64  \n",
      " 16  revives          int64  \n",
      " 17  rideDistance     float64\n",
      " 18  roadKills        int64  \n",
      " 19  swimDistance     float64\n",
      " 20  teamKills        int64  \n",
      " 21  vehicleDestroys  int64  \n",
      " 22  walkDistance     float64\n",
      " 23  weaponsAcquired  int64  \n",
      " 24  winPoints        int64  \n",
      " 25  winPlacePerc     float64\n",
      "dtypes: float64(6), int64(20)\n",
      "memory usage: 1.3 GB\n"
     ]
    }
   ],
   "source": [
    "df.info()"
   ]
  },
  {
   "cell_type": "code",
   "execution_count": 6,
   "metadata": {
    "colab": {
     "base_uri": "https://localhost:8080/"
    },
    "executionInfo": {
     "elapsed": 985,
     "status": "ok",
     "timestamp": 1670032066764,
     "user": {
      "displayName": "박지환",
      "userId": "03562376240636475247"
     },
     "user_tz": -540
    },
    "id": "nY5-DZHvfNjl",
    "outputId": "854273ad-a2c2-489e-9c7d-ae461a5488f5"
   },
   "outputs": [
    {
     "name": "stdout",
     "output_type": "stream",
     "text": [
      "Id                       0\n",
      "groupId                  0\n",
      "matchId                  0\n",
      "assists                  0\n",
      "boosts                   0\n",
      "damageDealt              0\n",
      "DBNOs                    0\n",
      "headshotKills            0\n",
      "heals                    0\n",
      "killPlace                0\n",
      "killPoints               0\n",
      "kills                    0\n",
      "killStreaks              0\n",
      "longestKill              0\n",
      "maxPlace                 0\n",
      "numGroups                0\n",
      "revives                  0\n",
      "rideDistance             0\n",
      "roadKills                0\n",
      "swimDistance             0\n",
      "teamKills                0\n",
      "vehicleDestroys          0\n",
      "walkDistance             0\n",
      "weaponsAcquired          0\n",
      "winPoints                0\n",
      "winPlacePerc       1867913\n",
      "dtype: int64\n"
     ]
    }
   ],
   "source": [
    "print(df.isnull().sum())"
   ]
  },
  {
   "cell_type": "code",
   "execution_count": 7,
   "metadata": {
    "colab": {
     "base_uri": "https://localhost:8080/",
     "height": 270
    },
    "executionInfo": {
     "elapsed": 3508,
     "status": "ok",
     "timestamp": 1670032118789,
     "user": {
      "displayName": "박지환",
      "userId": "03562376240636475247"
     },
     "user_tz": -540
    },
    "id": "UeAzdQrOuUYz",
    "outputId": "fb747830-ff97-4c1e-f06b-8e8c95426b0e"
   },
   "outputs": [
    {
     "data": {
      "text/html": [
       "<div>\n",
       "<style scoped>\n",
       "    .dataframe tbody tr th:only-of-type {\n",
       "        vertical-align: middle;\n",
       "    }\n",
       "\n",
       "    .dataframe tbody tr th {\n",
       "        vertical-align: top;\n",
       "    }\n",
       "\n",
       "    .dataframe thead th {\n",
       "        text-align: right;\n",
       "    }\n",
       "</style>\n",
       "<table border=\"1\" class=\"dataframe\">\n",
       "  <thead>\n",
       "    <tr style=\"text-align: right;\">\n",
       "      <th></th>\n",
       "      <th>Id</th>\n",
       "      <th>groupId</th>\n",
       "      <th>matchId</th>\n",
       "      <th>assists</th>\n",
       "      <th>boosts</th>\n",
       "      <th>damageDealt</th>\n",
       "      <th>DBNOs</th>\n",
       "      <th>headshotKills</th>\n",
       "      <th>heals</th>\n",
       "      <th>killPlace</th>\n",
       "      <th>killPoints</th>\n",
       "      <th>kills</th>\n",
       "      <th>killStreaks</th>\n",
       "      <th>longestKill</th>\n",
       "      <th>maxPlace</th>\n",
       "      <th>numGroups</th>\n",
       "      <th>revives</th>\n",
       "      <th>rideDistance</th>\n",
       "      <th>roadKills</th>\n",
       "      <th>swimDistance</th>\n",
       "      <th>teamKills</th>\n",
       "      <th>vehicleDestroys</th>\n",
       "      <th>walkDistance</th>\n",
       "      <th>weaponsAcquired</th>\n",
       "      <th>winPoints</th>\n",
       "      <th>winPlacePerc</th>\n",
       "    </tr>\n",
       "  </thead>\n",
       "  <tbody>\n",
       "    <tr>\n",
       "      <th>0</th>\n",
       "      <td>47734</td>\n",
       "      <td>1659463</td>\n",
       "      <td>47734</td>\n",
       "      <td>0</td>\n",
       "      <td>0</td>\n",
       "      <td>100.0</td>\n",
       "      <td>1</td>\n",
       "      <td>0</td>\n",
       "      <td>0</td>\n",
       "      <td>59</td>\n",
       "      <td>1000</td>\n",
       "      <td>0</td>\n",
       "      <td>0</td>\n",
       "      <td>0.000</td>\n",
       "      <td>50</td>\n",
       "      <td>45</td>\n",
       "      <td>0</td>\n",
       "      <td>0.0</td>\n",
       "      <td>0</td>\n",
       "      <td>0.0</td>\n",
       "      <td>1</td>\n",
       "      <td>0</td>\n",
       "      <td>421.50</td>\n",
       "      <td>7</td>\n",
       "      <td>1500</td>\n",
       "      <td>NaN</td>\n",
       "    </tr>\n",
       "    <tr>\n",
       "      <th>1</th>\n",
       "      <td>47735</td>\n",
       "      <td>1659508</td>\n",
       "      <td>47735</td>\n",
       "      <td>0</td>\n",
       "      <td>1</td>\n",
       "      <td>400.0</td>\n",
       "      <td>2</td>\n",
       "      <td>0</td>\n",
       "      <td>3</td>\n",
       "      <td>9</td>\n",
       "      <td>1200</td>\n",
       "      <td>4</td>\n",
       "      <td>2</td>\n",
       "      <td>15.420</td>\n",
       "      <td>48</td>\n",
       "      <td>47</td>\n",
       "      <td>1</td>\n",
       "      <td>0.0</td>\n",
       "      <td>0</td>\n",
       "      <td>0.0</td>\n",
       "      <td>0</td>\n",
       "      <td>0</td>\n",
       "      <td>655.80</td>\n",
       "      <td>4</td>\n",
       "      <td>1526</td>\n",
       "      <td>NaN</td>\n",
       "    </tr>\n",
       "    <tr>\n",
       "      <th>2</th>\n",
       "      <td>47736</td>\n",
       "      <td>1659555</td>\n",
       "      <td>47736</td>\n",
       "      <td>0</td>\n",
       "      <td>0</td>\n",
       "      <td>0.0</td>\n",
       "      <td>0</td>\n",
       "      <td>0</td>\n",
       "      <td>0</td>\n",
       "      <td>72</td>\n",
       "      <td>1216</td>\n",
       "      <td>0</td>\n",
       "      <td>0</td>\n",
       "      <td>0.000</td>\n",
       "      <td>29</td>\n",
       "      <td>28</td>\n",
       "      <td>0</td>\n",
       "      <td>0.0</td>\n",
       "      <td>0</td>\n",
       "      <td>0.0</td>\n",
       "      <td>0</td>\n",
       "      <td>0</td>\n",
       "      <td>74.58</td>\n",
       "      <td>1</td>\n",
       "      <td>1475</td>\n",
       "      <td>NaN</td>\n",
       "    </tr>\n",
       "    <tr>\n",
       "      <th>3</th>\n",
       "      <td>47737</td>\n",
       "      <td>1659621</td>\n",
       "      <td>47737</td>\n",
       "      <td>0</td>\n",
       "      <td>0</td>\n",
       "      <td>68.6</td>\n",
       "      <td>0</td>\n",
       "      <td>0</td>\n",
       "      <td>0</td>\n",
       "      <td>68</td>\n",
       "      <td>1177</td>\n",
       "      <td>0</td>\n",
       "      <td>0</td>\n",
       "      <td>0.000</td>\n",
       "      <td>97</td>\n",
       "      <td>92</td>\n",
       "      <td>0</td>\n",
       "      <td>0.0</td>\n",
       "      <td>0</td>\n",
       "      <td>0.0</td>\n",
       "      <td>0</td>\n",
       "      <td>0</td>\n",
       "      <td>167.20</td>\n",
       "      <td>2</td>\n",
       "      <td>1464</td>\n",
       "      <td>NaN</td>\n",
       "    </tr>\n",
       "    <tr>\n",
       "      <th>4</th>\n",
       "      <td>47738</td>\n",
       "      <td>1659675</td>\n",
       "      <td>47738</td>\n",
       "      <td>0</td>\n",
       "      <td>1</td>\n",
       "      <td>370.5</td>\n",
       "      <td>3</td>\n",
       "      <td>0</td>\n",
       "      <td>1</td>\n",
       "      <td>45</td>\n",
       "      <td>1013</td>\n",
       "      <td>1</td>\n",
       "      <td>1</td>\n",
       "      <td>5.968</td>\n",
       "      <td>27</td>\n",
       "      <td>26</td>\n",
       "      <td>0</td>\n",
       "      <td>0.0</td>\n",
       "      <td>0</td>\n",
       "      <td>0.0</td>\n",
       "      <td>0</td>\n",
       "      <td>0</td>\n",
       "      <td>146.70</td>\n",
       "      <td>3</td>\n",
       "      <td>1505</td>\n",
       "      <td>NaN</td>\n",
       "    </tr>\n",
       "  </tbody>\n",
       "</table>\n",
       "</div>"
      ],
      "text/plain": [
       "      Id  groupId  matchId  assists  boosts  damageDealt  DBNOs  \\\n",
       "0  47734  1659463    47734        0       0        100.0      1   \n",
       "1  47735  1659508    47735        0       1        400.0      2   \n",
       "2  47736  1659555    47736        0       0          0.0      0   \n",
       "3  47737  1659621    47737        0       0         68.6      0   \n",
       "4  47738  1659675    47738        0       1        370.5      3   \n",
       "\n",
       "   headshotKills  heals  killPlace  killPoints  kills  killStreaks  \\\n",
       "0              0      0         59        1000      0            0   \n",
       "1              0      3          9        1200      4            2   \n",
       "2              0      0         72        1216      0            0   \n",
       "3              0      0         68        1177      0            0   \n",
       "4              0      1         45        1013      1            1   \n",
       "\n",
       "   longestKill  maxPlace  numGroups  revives  rideDistance  roadKills  \\\n",
       "0        0.000        50         45        0           0.0          0   \n",
       "1       15.420        48         47        1           0.0          0   \n",
       "2        0.000        29         28        0           0.0          0   \n",
       "3        0.000        97         92        0           0.0          0   \n",
       "4        5.968        27         26        0           0.0          0   \n",
       "\n",
       "   swimDistance  teamKills  vehicleDestroys  walkDistance  weaponsAcquired  \\\n",
       "0           0.0          1                0        421.50                7   \n",
       "1           0.0          0                0        655.80                4   \n",
       "2           0.0          0                0         74.58                1   \n",
       "3           0.0          0                0        167.20                2   \n",
       "4           0.0          0                0        146.70                3   \n",
       "\n",
       "   winPoints  winPlacePerc  \n",
       "0       1500           NaN  \n",
       "1       1526           NaN  \n",
       "2       1475           NaN  \n",
       "3       1464           NaN  \n",
       "4       1505           NaN  "
      ]
     },
     "execution_count": 7,
     "metadata": {},
     "output_type": "execute_result"
    }
   ],
   "source": [
    "df[df['winPlacePerc'].isna()].head()"
   ]
  },
  {
   "cell_type": "code",
   "execution_count": 8,
   "metadata": {
    "colab": {
     "base_uri": "https://localhost:8080/"
    },
    "executionInfo": {
     "elapsed": 1470,
     "status": "ok",
     "timestamp": 1670032184005,
     "user": {
      "displayName": "박지환",
      "userId": "03562376240636475247"
     },
     "user_tz": -540
    },
    "id": "qsGCgv9tvE6-",
    "outputId": "f2f1ca6f-6598-4ffd-8cab-8c7face12a49"
   },
   "outputs": [
    {
     "data": {
      "text/plain": [
       "Id                 0\n",
       "groupId            0\n",
       "matchId            0\n",
       "assists            0\n",
       "boosts             0\n",
       "damageDealt        0\n",
       "DBNOs              0\n",
       "headshotKills      0\n",
       "heals              0\n",
       "killPlace          0\n",
       "killPoints         0\n",
       "kills              0\n",
       "killStreaks        0\n",
       "longestKill        0\n",
       "maxPlace           0\n",
       "numGroups          0\n",
       "revives            0\n",
       "rideDistance       0\n",
       "roadKills          0\n",
       "swimDistance       0\n",
       "teamKills          0\n",
       "vehicleDestroys    0\n",
       "walkDistance       0\n",
       "weaponsAcquired    0\n",
       "winPoints          0\n",
       "winPlacePerc       0\n",
       "dtype: int64"
      ]
     },
     "execution_count": 8,
     "metadata": {},
     "output_type": "execute_result"
    }
   ],
   "source": [
    "df = df.dropna()\n",
    "df.isnull().sum()"
   ]
  },
  {
   "cell_type": "code",
   "execution_count": 9,
   "metadata": {
    "colab": {
     "base_uri": "https://localhost:8080/",
     "height": 364
    },
    "executionInfo": {
     "elapsed": 4577,
     "status": "ok",
     "timestamp": 1670032243192,
     "user": {
      "displayName": "박지환",
      "userId": "03562376240636475247"
     },
     "user_tz": -540
    },
    "id": "LLeUoPBdgF8L",
    "outputId": "f68d78af-513e-40d9-9ff4-bf1c4fa116db"
   },
   "outputs": [
    {
     "data": {
      "text/html": [
       "<div>\n",
       "<style scoped>\n",
       "    .dataframe tbody tr th:only-of-type {\n",
       "        vertical-align: middle;\n",
       "    }\n",
       "\n",
       "    .dataframe tbody tr th {\n",
       "        vertical-align: top;\n",
       "    }\n",
       "\n",
       "    .dataframe thead th {\n",
       "        text-align: right;\n",
       "    }\n",
       "</style>\n",
       "<table border=\"1\" class=\"dataframe\">\n",
       "  <thead>\n",
       "    <tr style=\"text-align: right;\">\n",
       "      <th></th>\n",
       "      <th>Id</th>\n",
       "      <th>groupId</th>\n",
       "      <th>matchId</th>\n",
       "      <th>assists</th>\n",
       "      <th>boosts</th>\n",
       "      <th>damageDealt</th>\n",
       "      <th>DBNOs</th>\n",
       "      <th>headshotKills</th>\n",
       "      <th>heals</th>\n",
       "      <th>killPlace</th>\n",
       "      <th>killPoints</th>\n",
       "      <th>kills</th>\n",
       "      <th>killStreaks</th>\n",
       "      <th>longestKill</th>\n",
       "      <th>maxPlace</th>\n",
       "      <th>numGroups</th>\n",
       "      <th>revives</th>\n",
       "      <th>rideDistance</th>\n",
       "      <th>roadKills</th>\n",
       "      <th>swimDistance</th>\n",
       "      <th>teamKills</th>\n",
       "      <th>vehicleDestroys</th>\n",
       "      <th>walkDistance</th>\n",
       "      <th>weaponsAcquired</th>\n",
       "      <th>winPoints</th>\n",
       "      <th>winPlacePerc</th>\n",
       "    </tr>\n",
       "  </thead>\n",
       "  <tbody>\n",
       "    <tr>\n",
       "      <th>count</th>\n",
       "      <td>4.357336e+06</td>\n",
       "      <td>4.357336e+06</td>\n",
       "      <td>4.357336e+06</td>\n",
       "      <td>4.357336e+06</td>\n",
       "      <td>4.357336e+06</td>\n",
       "      <td>4.357336e+06</td>\n",
       "      <td>4.357336e+06</td>\n",
       "      <td>4.357336e+06</td>\n",
       "      <td>4.357336e+06</td>\n",
       "      <td>4.357336e+06</td>\n",
       "      <td>4.357336e+06</td>\n",
       "      <td>4.357336e+06</td>\n",
       "      <td>4.357336e+06</td>\n",
       "      <td>4.357336e+06</td>\n",
       "      <td>4.357336e+06</td>\n",
       "      <td>4.357336e+06</td>\n",
       "      <td>4.357336e+06</td>\n",
       "      <td>4.357336e+06</td>\n",
       "      <td>4.357336e+06</td>\n",
       "      <td>4.357336e+06</td>\n",
       "      <td>4.357336e+06</td>\n",
       "      <td>4.357336e+06</td>\n",
       "      <td>4.357336e+06</td>\n",
       "      <td>4.357336e+06</td>\n",
       "      <td>4.357336e+06</td>\n",
       "      <td>4.357336e+06</td>\n",
       "    </tr>\n",
       "    <tr>\n",
       "      <th>mean</th>\n",
       "      <td>3.102678e+06</td>\n",
       "      <td>1.024777e+06</td>\n",
       "      <td>2.385539e+04</td>\n",
       "      <td>2.656320e-01</td>\n",
       "      <td>9.636856e-01</td>\n",
       "      <td>1.329033e+02</td>\n",
       "      <td>6.901455e-01</td>\n",
       "      <td>2.385866e-01</td>\n",
       "      <td>1.187169e+00</td>\n",
       "      <td>4.703440e+01</td>\n",
       "      <td>1.080898e+03</td>\n",
       "      <td>9.344958e-01</td>\n",
       "      <td>5.547651e-01</td>\n",
       "      <td>1.987925e+01</td>\n",
       "      <td>4.207759e+01</td>\n",
       "      <td>4.058035e+01</td>\n",
       "      <td>1.649345e-01</td>\n",
       "      <td>4.238835e+02</td>\n",
       "      <td>2.557985e-03</td>\n",
       "      <td>4.136261e+00</td>\n",
       "      <td>1.388555e-02</td>\n",
       "      <td>5.146264e-03</td>\n",
       "      <td>1.055122e+03</td>\n",
       "      <td>3.457289e+00</td>\n",
       "      <td>1.500504e+03</td>\n",
       "      <td>4.718663e-01</td>\n",
       "    </tr>\n",
       "    <tr>\n",
       "      <th>std</th>\n",
       "      <td>1.797477e+06</td>\n",
       "      <td>6.967197e+05</td>\n",
       "      <td>1.378227e+04</td>\n",
       "      <td>6.342160e-01</td>\n",
       "      <td>1.560643e+00</td>\n",
       "      <td>1.699439e+02</td>\n",
       "      <td>1.191514e+00</td>\n",
       "      <td>6.103033e-01</td>\n",
       "      <td>2.366389e+00</td>\n",
       "      <td>2.732772e+01</td>\n",
       "      <td>1.237119e+02</td>\n",
       "      <td>1.566192e+00</td>\n",
       "      <td>7.223452e-01</td>\n",
       "      <td>4.586552e+01</td>\n",
       "      <td>2.267769e+01</td>\n",
       "      <td>2.206667e+01</td>\n",
       "      <td>4.672004e-01</td>\n",
       "      <td>1.222927e+03</td>\n",
       "      <td>6.346679e-02</td>\n",
       "      <td>2.757015e+01</td>\n",
       "      <td>1.329266e-01</td>\n",
       "      <td>7.425362e-02</td>\n",
       "      <td>1.116122e+03</td>\n",
       "      <td>2.402109e+00</td>\n",
       "      <td>4.253571e+01</td>\n",
       "      <td>3.079147e-01</td>\n",
       "    </tr>\n",
       "    <tr>\n",
       "      <th>min</th>\n",
       "      <td>0.000000e+00</td>\n",
       "      <td>1.000000e+00</td>\n",
       "      <td>0.000000e+00</td>\n",
       "      <td>0.000000e+00</td>\n",
       "      <td>0.000000e+00</td>\n",
       "      <td>0.000000e+00</td>\n",
       "      <td>0.000000e+00</td>\n",
       "      <td>0.000000e+00</td>\n",
       "      <td>0.000000e+00</td>\n",
       "      <td>1.000000e+00</td>\n",
       "      <td>1.550000e+02</td>\n",
       "      <td>0.000000e+00</td>\n",
       "      <td>0.000000e+00</td>\n",
       "      <td>0.000000e+00</td>\n",
       "      <td>0.000000e+00</td>\n",
       "      <td>1.000000e+00</td>\n",
       "      <td>0.000000e+00</td>\n",
       "      <td>0.000000e+00</td>\n",
       "      <td>0.000000e+00</td>\n",
       "      <td>0.000000e+00</td>\n",
       "      <td>0.000000e+00</td>\n",
       "      <td>0.000000e+00</td>\n",
       "      <td>0.000000e+00</td>\n",
       "      <td>0.000000e+00</td>\n",
       "      <td>3.500000e+02</td>\n",
       "      <td>-0.000000e+00</td>\n",
       "    </tr>\n",
       "    <tr>\n",
       "      <th>25%</th>\n",
       "      <td>1.537746e+06</td>\n",
       "      <td>4.741378e+05</td>\n",
       "      <td>1.191400e+04</td>\n",
       "      <td>0.000000e+00</td>\n",
       "      <td>0.000000e+00</td>\n",
       "      <td>0.000000e+00</td>\n",
       "      <td>0.000000e+00</td>\n",
       "      <td>0.000000e+00</td>\n",
       "      <td>0.000000e+00</td>\n",
       "      <td>2.300000e+01</td>\n",
       "      <td>1.000000e+03</td>\n",
       "      <td>0.000000e+00</td>\n",
       "      <td>0.000000e+00</td>\n",
       "      <td>0.000000e+00</td>\n",
       "      <td>2.800000e+01</td>\n",
       "      <td>2.600000e+01</td>\n",
       "      <td>0.000000e+00</td>\n",
       "      <td>0.000000e+00</td>\n",
       "      <td>0.000000e+00</td>\n",
       "      <td>0.000000e+00</td>\n",
       "      <td>0.000000e+00</td>\n",
       "      <td>0.000000e+00</td>\n",
       "      <td>1.334000e+02</td>\n",
       "      <td>2.000000e+00</td>\n",
       "      <td>1.491000e+03</td>\n",
       "      <td>1.979000e-01</td>\n",
       "    </tr>\n",
       "    <tr>\n",
       "      <th>50%</th>\n",
       "      <td>3.110606e+06</td>\n",
       "      <td>9.430320e+05</td>\n",
       "      <td>2.383700e+04</td>\n",
       "      <td>0.000000e+00</td>\n",
       "      <td>0.000000e+00</td>\n",
       "      <td>8.776000e+01</td>\n",
       "      <td>0.000000e+00</td>\n",
       "      <td>0.000000e+00</td>\n",
       "      <td>0.000000e+00</td>\n",
       "      <td>4.700000e+01</td>\n",
       "      <td>1.029000e+03</td>\n",
       "      <td>0.000000e+00</td>\n",
       "      <td>0.000000e+00</td>\n",
       "      <td>0.000000e+00</td>\n",
       "      <td>3.000000e+01</td>\n",
       "      <td>2.900000e+01</td>\n",
       "      <td>0.000000e+00</td>\n",
       "      <td>0.000000e+00</td>\n",
       "      <td>0.000000e+00</td>\n",
       "      <td>0.000000e+00</td>\n",
       "      <td>0.000000e+00</td>\n",
       "      <td>0.000000e+00</td>\n",
       "      <td>5.732000e+02</td>\n",
       "      <td>3.000000e+00</td>\n",
       "      <td>1.500000e+03</td>\n",
       "      <td>4.583000e-01</td>\n",
       "    </tr>\n",
       "    <tr>\n",
       "      <th>75%</th>\n",
       "      <td>4.657295e+06</td>\n",
       "      <td>1.418544e+06</td>\n",
       "      <td>3.580100e+04</td>\n",
       "      <td>0.000000e+00</td>\n",
       "      <td>1.000000e+00</td>\n",
       "      <td>1.884000e+02</td>\n",
       "      <td>1.000000e+00</td>\n",
       "      <td>0.000000e+00</td>\n",
       "      <td>1.000000e+00</td>\n",
       "      <td>7.000000e+01</td>\n",
       "      <td>1.126000e+03</td>\n",
       "      <td>1.000000e+00</td>\n",
       "      <td>1.000000e+00</td>\n",
       "      <td>1.629000e+01</td>\n",
       "      <td>4.900000e+01</td>\n",
       "      <td>4.700000e+01</td>\n",
       "      <td>0.000000e+00</td>\n",
       "      <td>0.000000e+00</td>\n",
       "      <td>0.000000e+00</td>\n",
       "      <td>0.000000e+00</td>\n",
       "      <td>0.000000e+00</td>\n",
       "      <td>0.000000e+00</td>\n",
       "      <td>1.808000e+03</td>\n",
       "      <td>5.000000e+00</td>\n",
       "      <td>1.510000e+03</td>\n",
       "      <td>7.407000e-01</td>\n",
       "    </tr>\n",
       "    <tr>\n",
       "      <th>max</th>\n",
       "      <td>6.224522e+06</td>\n",
       "      <td>2.700605e+06</td>\n",
       "      <td>4.773300e+04</td>\n",
       "      <td>2.000000e+01</td>\n",
       "      <td>1.800000e+01</td>\n",
       "      <td>6.384000e+03</td>\n",
       "      <td>6.300000e+01</td>\n",
       "      <td>2.600000e+01</td>\n",
       "      <td>5.900000e+01</td>\n",
       "      <td>1.000000e+02</td>\n",
       "      <td>2.047000e+03</td>\n",
       "      <td>6.000000e+01</td>\n",
       "      <td>1.400000e+01</td>\n",
       "      <td>1.323000e+03</td>\n",
       "      <td>1.000000e+02</td>\n",
       "      <td>1.000000e+02</td>\n",
       "      <td>4.100000e+01</td>\n",
       "      <td>4.839000e+04</td>\n",
       "      <td>4.200000e+01</td>\n",
       "      <td>5.286000e+03</td>\n",
       "      <td>6.000000e+00</td>\n",
       "      <td>5.000000e+00</td>\n",
       "      <td>1.730000e+04</td>\n",
       "      <td>7.600000e+01</td>\n",
       "      <td>1.923000e+03</td>\n",
       "      <td>1.000000e+00</td>\n",
       "    </tr>\n",
       "  </tbody>\n",
       "</table>\n",
       "</div>"
      ],
      "text/plain": [
       "                 Id       groupId       matchId       assists        boosts  \\\n",
       "count  4.357336e+06  4.357336e+06  4.357336e+06  4.357336e+06  4.357336e+06   \n",
       "mean   3.102678e+06  1.024777e+06  2.385539e+04  2.656320e-01  9.636856e-01   \n",
       "std    1.797477e+06  6.967197e+05  1.378227e+04  6.342160e-01  1.560643e+00   \n",
       "min    0.000000e+00  1.000000e+00  0.000000e+00  0.000000e+00  0.000000e+00   \n",
       "25%    1.537746e+06  4.741378e+05  1.191400e+04  0.000000e+00  0.000000e+00   \n",
       "50%    3.110606e+06  9.430320e+05  2.383700e+04  0.000000e+00  0.000000e+00   \n",
       "75%    4.657295e+06  1.418544e+06  3.580100e+04  0.000000e+00  1.000000e+00   \n",
       "max    6.224522e+06  2.700605e+06  4.773300e+04  2.000000e+01  1.800000e+01   \n",
       "\n",
       "        damageDealt         DBNOs  headshotKills         heals     killPlace  \\\n",
       "count  4.357336e+06  4.357336e+06   4.357336e+06  4.357336e+06  4.357336e+06   \n",
       "mean   1.329033e+02  6.901455e-01   2.385866e-01  1.187169e+00  4.703440e+01   \n",
       "std    1.699439e+02  1.191514e+00   6.103033e-01  2.366389e+00  2.732772e+01   \n",
       "min    0.000000e+00  0.000000e+00   0.000000e+00  0.000000e+00  1.000000e+00   \n",
       "25%    0.000000e+00  0.000000e+00   0.000000e+00  0.000000e+00  2.300000e+01   \n",
       "50%    8.776000e+01  0.000000e+00   0.000000e+00  0.000000e+00  4.700000e+01   \n",
       "75%    1.884000e+02  1.000000e+00   0.000000e+00  1.000000e+00  7.000000e+01   \n",
       "max    6.384000e+03  6.300000e+01   2.600000e+01  5.900000e+01  1.000000e+02   \n",
       "\n",
       "         killPoints         kills   killStreaks   longestKill      maxPlace  \\\n",
       "count  4.357336e+06  4.357336e+06  4.357336e+06  4.357336e+06  4.357336e+06   \n",
       "mean   1.080898e+03  9.344958e-01  5.547651e-01  1.987925e+01  4.207759e+01   \n",
       "std    1.237119e+02  1.566192e+00  7.223452e-01  4.586552e+01  2.267769e+01   \n",
       "min    1.550000e+02  0.000000e+00  0.000000e+00  0.000000e+00  0.000000e+00   \n",
       "25%    1.000000e+03  0.000000e+00  0.000000e+00  0.000000e+00  2.800000e+01   \n",
       "50%    1.029000e+03  0.000000e+00  0.000000e+00  0.000000e+00  3.000000e+01   \n",
       "75%    1.126000e+03  1.000000e+00  1.000000e+00  1.629000e+01  4.900000e+01   \n",
       "max    2.047000e+03  6.000000e+01  1.400000e+01  1.323000e+03  1.000000e+02   \n",
       "\n",
       "          numGroups       revives  rideDistance     roadKills  swimDistance  \\\n",
       "count  4.357336e+06  4.357336e+06  4.357336e+06  4.357336e+06  4.357336e+06   \n",
       "mean   4.058035e+01  1.649345e-01  4.238835e+02  2.557985e-03  4.136261e+00   \n",
       "std    2.206667e+01  4.672004e-01  1.222927e+03  6.346679e-02  2.757015e+01   \n",
       "min    1.000000e+00  0.000000e+00  0.000000e+00  0.000000e+00  0.000000e+00   \n",
       "25%    2.600000e+01  0.000000e+00  0.000000e+00  0.000000e+00  0.000000e+00   \n",
       "50%    2.900000e+01  0.000000e+00  0.000000e+00  0.000000e+00  0.000000e+00   \n",
       "75%    4.700000e+01  0.000000e+00  0.000000e+00  0.000000e+00  0.000000e+00   \n",
       "max    1.000000e+02  4.100000e+01  4.839000e+04  4.200000e+01  5.286000e+03   \n",
       "\n",
       "          teamKills  vehicleDestroys  walkDistance  weaponsAcquired  \\\n",
       "count  4.357336e+06     4.357336e+06  4.357336e+06     4.357336e+06   \n",
       "mean   1.388555e-02     5.146264e-03  1.055122e+03     3.457289e+00   \n",
       "std    1.329266e-01     7.425362e-02  1.116122e+03     2.402109e+00   \n",
       "min    0.000000e+00     0.000000e+00  0.000000e+00     0.000000e+00   \n",
       "25%    0.000000e+00     0.000000e+00  1.334000e+02     2.000000e+00   \n",
       "50%    0.000000e+00     0.000000e+00  5.732000e+02     3.000000e+00   \n",
       "75%    0.000000e+00     0.000000e+00  1.808000e+03     5.000000e+00   \n",
       "max    6.000000e+00     5.000000e+00  1.730000e+04     7.600000e+01   \n",
       "\n",
       "          winPoints  winPlacePerc  \n",
       "count  4.357336e+06  4.357336e+06  \n",
       "mean   1.500504e+03  4.718663e-01  \n",
       "std    4.253571e+01  3.079147e-01  \n",
       "min    3.500000e+02 -0.000000e+00  \n",
       "25%    1.491000e+03  1.979000e-01  \n",
       "50%    1.500000e+03  4.583000e-01  \n",
       "75%    1.510000e+03  7.407000e-01  \n",
       "max    1.923000e+03  1.000000e+00  "
      ]
     },
     "execution_count": 9,
     "metadata": {},
     "output_type": "execute_result"
    }
   ],
   "source": [
    "df.describe()"
   ]
  },
  {
   "cell_type": "markdown",
   "metadata": {
    "id": "1CbTU5ZmgOYT"
   },
   "source": [
    "### Data EDA"
   ]
  },
  {
   "cell_type": "code",
   "execution_count": 10,
   "metadata": {
    "colab": {
     "base_uri": "https://localhost:8080/"
    },
    "executionInfo": {
     "elapsed": 1015,
     "status": "ok",
     "timestamp": 1670032369392,
     "user": {
      "displayName": "박지환",
      "userId": "03562376240636475247"
     },
     "user_tz": -540
    },
    "id": "sow--6cghMzy",
    "outputId": "a7bea572-213a-42d6-b0e4-f9654c825d51"
   },
   "outputs": [
    {
     "name": "stdout",
     "output_type": "stream",
     "text": [
      "unique [Id] count: 4357336\n",
      "unique [groupId] count: 1888732\n",
      "unique [matchId] count: 47734\n"
     ]
    }
   ],
   "source": [
    "for i in ['Id','groupId','matchId']:\n",
    "    print(f'unique [{i}] count:', df[i].nunique())"
   ]
  },
  {
   "cell_type": "code",
   "execution_count": 11,
   "metadata": {
    "colab": {
     "base_uri": "https://localhost:8080/",
     "height": 498
    },
    "executionInfo": {
     "elapsed": 3889,
     "status": "ok",
     "timestamp": 1670032559742,
     "user": {
      "displayName": "박지환",
      "userId": "03562376240636475247"
     },
     "user_tz": -540
    },
    "id": "2rLrp3migS0q",
    "outputId": "f43b62b4-08fa-4a2e-a4b1-139cb9c1d82d"
   },
   "outputs": [
    {
     "data": {
      "image/png": "[encoded data removed]",
      "text/plain": [
       "<Figure size 1500x800 with 1 Axes>"
      ]
     },
     "metadata": {},
     "output_type": "display_data"
    }
   ],
   "source": [
    "import seaborn as sns\n",
    "import matplotlib.pyplot as plt\n",
    "import numpy as np\n",
    "%matplotlib inline\n",
    "\n",
    "kills = df.copy()\n",
    "\n",
    "kills['killsCategories'] = pd.cut(kills['kills'], [-1,0,2,5,10,60], labels= ['0_kills', '1-2_kills', '3-5_kills', '6-10_kills', '10+_kills'])\n",
    "plt.figure(figsize=(15,8))\n",
    "sns.boxplot(x='killsCategories', y='winPlacePerc', data=kills)\n",
    "plt.show()"
   ]
  },
  {
   "cell_type": "code",
   "execution_count": 12,
   "metadata": {
    "colab": {
     "base_uri": "https://localhost:8080/",
     "height": 729
    },
    "executionInfo": {
     "elapsed": 11374,
     "status": "ok",
     "timestamp": 1670032906445,
     "user": {
      "displayName": "박지환",
      "userId": "03562376240636475247"
     },
     "user_tz": -540
    },
    "id": "R3yeVo_QgfL_",
    "outputId": "d5eab013-6250-46a6-db33-c82944f7770c"
   },
   "outputs": [
    {
     "data": {
      "image/png": "[encoded data removed]",
      "text/plain": [
       "<Figure size 1000x1000 with 3 Axes>"
      ]
     },
     "metadata": {},
     "output_type": "display_data"
    }
   ],
   "source": [
    "sns.jointplot(x='winPlacePerc',y='headshotKills', data=df, height=10, ratio=3, color=\"lime\")\n",
    "plt.show()"
   ]
  },
  {
   "cell_type": "markdown",
   "metadata": {
    "id": "mc77RfSgmLU9"
   },
   "source": [
    "**Define outlier data**  "
   ]
  },
  {
   "cell_type": "markdown",
   "metadata": {
    "id": "TO0ycDZ5zNKT"
   },
   "source": [
    "### Automated aiming"
   ]
  },
  {
   "cell_type": "code",
   "execution_count": 13,
   "metadata": {
    "colab": {
     "base_uri": "https://localhost:8080/",
     "height": 280
    },
    "executionInfo": {
     "elapsed": 16828,
     "status": "ok",
     "timestamp": 1670033846489,
     "user": {
      "displayName": "박지환",
      "userId": "03562376240636475247"
     },
     "user_tz": -540
    },
    "id": "kKUWgL10zr97",
    "outputId": "9c259c17-45ca-41db-b15e-7b8af8b9c552"
   },
   "outputs": [
    {
     "data": {
      "image/png": "[encoded data removed]",
      "text/plain": [
       "<Figure size 640x480 with 1 Axes>"
      ]
     },
     "metadata": {},
     "output_type": "display_data"
    }
   ],
   "source": [
    "# Low Total distance, high headshot percentage\n",
    "df['_totalDistance'] = df['rideDistance'] + df['walkDistance'] + df['swimDistance']\n",
    "\n",
    "df['_headshot_rate'] = df['headshotKills']/df['kills']\n",
    "df['_headshot_rate'] = df['_headshot_rate'].fillna(0)\n",
    "\n",
    "sns.scatterplot(x='_totalDistance',y='_headshot_rate', data=df, color=\"lime\");"
   ]
  },
  {
   "cell_type": "markdown",
   "metadata": {
    "id": "zAUKtFcK1ybs"
   },
   "source": [
    "### Inhuman Kills"
   ]
  },
  {
   "cell_type": "code",
   "execution_count": 14,
   "metadata": {
    "colab": {
     "base_uri": "https://localhost:8080/",
     "height": 279
    },
    "executionInfo": {
     "elapsed": 16028,
     "status": "ok",
     "timestamp": 1670034272883,
     "user": {
      "displayName": "박지환",
      "userId": "03562376240636475247"
     },
     "user_tz": -540
    },
    "id": "zgNDHHnF1UY4",
    "outputId": "37001763-ad87-4669-d592-da553387d91b"
   },
   "outputs": [
    {
     "data": {
      "image/png": "[encoded data removed]",
      "text/plain": [
       "<Figure size 640x480 with 1 Axes>"
      ]
     },
     "metadata": {},
     "output_type": "display_data"
    }
   ],
   "source": [
    "# high kills without heal\n",
    "sns.scatterplot(x='kills',y='heals', data=df, color=\"lime\");"
   ]
  },
  {
   "cell_type": "markdown",
   "metadata": {
    "id": "wN6Cedf_8g6v"
   },
   "source": [
    "### 100% Headshot Kills"
   ]
  },
  {
   "cell_type": "code",
   "execution_count": 15,
   "metadata": {
    "colab": {
     "base_uri": "https://localhost:8080/",
     "height": 280
    },
    "executionInfo": {
     "elapsed": 15915,
     "status": "ok",
     "timestamp": 1670034462336,
     "user": {
      "displayName": "박지환",
      "userId": "03562376240636475247"
     },
     "user_tz": -540
    },
    "id": "EXBH50wZzt1Y",
    "outputId": "46a75da7-1fb6-461f-d55d-b4346f432873"
   },
   "outputs": [
    {
     "data": {
      "image/png": "[encoded data removed]",
      "text/plain": [
       "<Figure size 640x480 with 1 Axes>"
      ]
     },
     "metadata": {},
     "output_type": "display_data"
    }
   ],
   "source": [
    "# users with 100% headshots?\n",
    "sns.scatterplot(x='_headshot_rate',y='kills', data=df, color=\"lime\");"
   ]
  },
  {
   "cell_type": "markdown",
   "metadata": {
    "id": "K5QaSbmN_NNW"
   },
   "source": [
    "### Anomalies in Heals"
   ]
  },
  {
   "cell_type": "code",
   "execution_count": 16,
   "metadata": {
    "colab": {
     "base_uri": "https://localhost:8080/",
     "height": 279
    },
    "executionInfo": {
     "elapsed": 18892,
     "status": "ok",
     "timestamp": 1670034586698,
     "user": {
      "displayName": "박지환",
      "userId": "03562376240636475247"
     },
     "user_tz": -540
    },
    "id": "r77JW7Xpz2lo",
    "outputId": "92f21883-a6c5-4c64-8252-c938f102608e"
   },
   "outputs": [
    {
     "data": {
      "image/png": "[encoded data removed]",
      "text/plain": [
       "<Figure size 640x480 with 1 Axes>"
      ]
     },
     "metadata": {},
     "output_type": "display_data"
    }
   ],
   "source": [
    "# too much heals?\n",
    "sns.distplot(df['heals']);"
   ]
  },
  {
   "cell_type": "markdown",
   "metadata": {
    "id": "oYPc95xD_rX8"
   },
   "source": [
    "### Without moving & WeaponsAcquired"
   ]
  },
  {
   "cell_type": "code",
   "execution_count": 17,
   "metadata": {
    "colab": {
     "base_uri": "https://localhost:8080/",
     "height": 280
    },
    "executionInfo": {
     "elapsed": 17275,
     "status": "ok",
     "timestamp": 1668930491479,
     "user": {
      "displayName": "박지환",
      "userId": "03562376240636475247"
     },
     "user_tz": -540
    },
    "id": "ZaQxBXQgAZVJ",
    "outputId": "71c9c8f0-78a1-407b-a149-6fdbc856b917"
   },
   "outputs": [
    {
     "data": {
      "image/png": "[encoded data removed]",
      "text/plain": [
       "<Figure size 640x480 with 1 Axes>"
      ]
     },
     "metadata": {},
     "output_type": "display_data"
    }
   ],
   "source": [
    "# users gaining weapon without moving?\n",
    "sns.scatterplot(x='_totalDistance',y='weaponsAcquired', data=df, color=\"lime\");"
   ]
  },
  {
   "cell_type": "markdown",
   "metadata": {
    "id": "SgPFBpytJqmy"
   },
   "source": [
    "**Modeling abnormality**  "
   ]
  },
  {
   "cell_type": "markdown",
   "metadata": {
    "id": "I9AOJcfpFwQr"
   },
   "source": [
    "### Automated aiming - analysis"
   ]
  },
  {
   "cell_type": "code",
   "execution_count": 18,
   "metadata": {
    "colab": {
     "base_uri": "https://localhost:8080/",
     "height": 288
    },
    "executionInfo": {
     "elapsed": 732,
     "status": "ok",
     "timestamp": 1670035317199,
     "user": {
      "displayName": "박지환",
      "userId": "03562376240636475247"
     },
     "user_tz": -540
    },
    "id": "u7CAg8rlEvNx",
    "outputId": "0f983d00-f382-4bf6-f6dd-47f3c223d2c5"
   },
   "outputs": [
    {
     "name": "stdout",
     "output_type": "stream",
     "text": [
      "9276\n"
     ]
    },
    {
     "data": {
      "text/html": [
       "<div>\n",
       "<style scoped>\n",
       "    .dataframe tbody tr th:only-of-type {\n",
       "        vertical-align: middle;\n",
       "    }\n",
       "\n",
       "    .dataframe tbody tr th {\n",
       "        vertical-align: top;\n",
       "    }\n",
       "\n",
       "    .dataframe thead th {\n",
       "        text-align: right;\n",
       "    }\n",
       "</style>\n",
       "<table border=\"1\" class=\"dataframe\">\n",
       "  <thead>\n",
       "    <tr style=\"text-align: right;\">\n",
       "      <th></th>\n",
       "      <th>Id</th>\n",
       "      <th>groupId</th>\n",
       "      <th>matchId</th>\n",
       "      <th>assists</th>\n",
       "      <th>boosts</th>\n",
       "      <th>damageDealt</th>\n",
       "      <th>DBNOs</th>\n",
       "      <th>headshotKills</th>\n",
       "      <th>heals</th>\n",
       "      <th>killPlace</th>\n",
       "      <th>killPoints</th>\n",
       "      <th>kills</th>\n",
       "      <th>killStreaks</th>\n",
       "      <th>longestKill</th>\n",
       "      <th>maxPlace</th>\n",
       "      <th>numGroups</th>\n",
       "      <th>revives</th>\n",
       "      <th>rideDistance</th>\n",
       "      <th>roadKills</th>\n",
       "      <th>swimDistance</th>\n",
       "      <th>teamKills</th>\n",
       "      <th>vehicleDestroys</th>\n",
       "      <th>walkDistance</th>\n",
       "      <th>weaponsAcquired</th>\n",
       "      <th>winPoints</th>\n",
       "      <th>winPlacePerc</th>\n",
       "      <th>_totalDistance</th>\n",
       "      <th>_headshot_rate</th>\n",
       "    </tr>\n",
       "  </thead>\n",
       "  <tbody>\n",
       "    <tr>\n",
       "      <th>200</th>\n",
       "      <td>200</td>\n",
       "      <td>445186</td>\n",
       "      <td>200</td>\n",
       "      <td>0</td>\n",
       "      <td>0</td>\n",
       "      <td>240.2</td>\n",
       "      <td>1</td>\n",
       "      <td>1</td>\n",
       "      <td>0</td>\n",
       "      <td>41</td>\n",
       "      <td>1133</td>\n",
       "      <td>1</td>\n",
       "      <td>1</td>\n",
       "      <td>1.153</td>\n",
       "      <td>28</td>\n",
       "      <td>28</td>\n",
       "      <td>0</td>\n",
       "      <td>0.0</td>\n",
       "      <td>0</td>\n",
       "      <td>0.0</td>\n",
       "      <td>0</td>\n",
       "      <td>0</td>\n",
       "      <td>31.20</td>\n",
       "      <td>1</td>\n",
       "      <td>1481</td>\n",
       "      <td>0.0000</td>\n",
       "      <td>31.20</td>\n",
       "      <td>1.0</td>\n",
       "    </tr>\n",
       "    <tr>\n",
       "      <th>403</th>\n",
       "      <td>403</td>\n",
       "      <td>1337806</td>\n",
       "      <td>403</td>\n",
       "      <td>0</td>\n",
       "      <td>0</td>\n",
       "      <td>249.2</td>\n",
       "      <td>1</td>\n",
       "      <td>1</td>\n",
       "      <td>0</td>\n",
       "      <td>34</td>\n",
       "      <td>1326</td>\n",
       "      <td>1</td>\n",
       "      <td>1</td>\n",
       "      <td>4.841</td>\n",
       "      <td>38</td>\n",
       "      <td>35</td>\n",
       "      <td>0</td>\n",
       "      <td>0.0</td>\n",
       "      <td>0</td>\n",
       "      <td>0.0</td>\n",
       "      <td>0</td>\n",
       "      <td>0</td>\n",
       "      <td>32.71</td>\n",
       "      <td>1</td>\n",
       "      <td>1447</td>\n",
       "      <td>0.0000</td>\n",
       "      <td>32.71</td>\n",
       "      <td>1.0</td>\n",
       "    </tr>\n",
       "    <tr>\n",
       "      <th>784</th>\n",
       "      <td>784</td>\n",
       "      <td>2606376</td>\n",
       "      <td>784</td>\n",
       "      <td>0</td>\n",
       "      <td>0</td>\n",
       "      <td>189.2</td>\n",
       "      <td>0</td>\n",
       "      <td>1</td>\n",
       "      <td>0</td>\n",
       "      <td>42</td>\n",
       "      <td>1093</td>\n",
       "      <td>1</td>\n",
       "      <td>1</td>\n",
       "      <td>34.690</td>\n",
       "      <td>96</td>\n",
       "      <td>94</td>\n",
       "      <td>0</td>\n",
       "      <td>0.0</td>\n",
       "      <td>0</td>\n",
       "      <td>0.0</td>\n",
       "      <td>0</td>\n",
       "      <td>0</td>\n",
       "      <td>35.39</td>\n",
       "      <td>1</td>\n",
       "      <td>1477</td>\n",
       "      <td>0.2000</td>\n",
       "      <td>35.39</td>\n",
       "      <td>1.0</td>\n",
       "    </tr>\n",
       "    <tr>\n",
       "      <th>1441</th>\n",
       "      <td>1441</td>\n",
       "      <td>197195</td>\n",
       "      <td>1441</td>\n",
       "      <td>0</td>\n",
       "      <td>0</td>\n",
       "      <td>100.0</td>\n",
       "      <td>0</td>\n",
       "      <td>1</td>\n",
       "      <td>0</td>\n",
       "      <td>33</td>\n",
       "      <td>1024</td>\n",
       "      <td>1</td>\n",
       "      <td>1</td>\n",
       "      <td>36.790</td>\n",
       "      <td>96</td>\n",
       "      <td>95</td>\n",
       "      <td>0</td>\n",
       "      <td>0.0</td>\n",
       "      <td>0</td>\n",
       "      <td>0.0</td>\n",
       "      <td>0</td>\n",
       "      <td>0</td>\n",
       "      <td>31.32</td>\n",
       "      <td>1</td>\n",
       "      <td>1484</td>\n",
       "      <td>0.1158</td>\n",
       "      <td>31.32</td>\n",
       "      <td>1.0</td>\n",
       "    </tr>\n",
       "    <tr>\n",
       "      <th>1565</th>\n",
       "      <td>1565</td>\n",
       "      <td>250485</td>\n",
       "      <td>1565</td>\n",
       "      <td>0</td>\n",
       "      <td>0</td>\n",
       "      <td>100.0</td>\n",
       "      <td>1</td>\n",
       "      <td>1</td>\n",
       "      <td>0</td>\n",
       "      <td>33</td>\n",
       "      <td>1000</td>\n",
       "      <td>1</td>\n",
       "      <td>1</td>\n",
       "      <td>6.801</td>\n",
       "      <td>20</td>\n",
       "      <td>20</td>\n",
       "      <td>0</td>\n",
       "      <td>0.0</td>\n",
       "      <td>0</td>\n",
       "      <td>0.0</td>\n",
       "      <td>0</td>\n",
       "      <td>0</td>\n",
       "      <td>35.17</td>\n",
       "      <td>1</td>\n",
       "      <td>1500</td>\n",
       "      <td>0.1053</td>\n",
       "      <td>35.17</td>\n",
       "      <td>1.0</td>\n",
       "    </tr>\n",
       "  </tbody>\n",
       "</table>\n",
       "</div>"
      ],
      "text/plain": [
       "        Id  groupId  matchId  assists  boosts  damageDealt  DBNOs  \\\n",
       "200    200   445186      200        0       0        240.2      1   \n",
       "403    403  1337806      403        0       0        249.2      1   \n",
       "784    784  2606376      784        0       0        189.2      0   \n",
       "1441  1441   197195     1441        0       0        100.0      0   \n",
       "1565  1565   250485     1565        0       0        100.0      1   \n",
       "\n",
       "      headshotKills  heals  killPlace  killPoints  kills  killStreaks  \\\n",
       "200               1      0         41        1133      1            1   \n",
       "403               1      0         34        1326      1            1   \n",
       "784               1      0         42        1093      1            1   \n",
       "1441              1      0         33        1024      1            1   \n",
       "1565              1      0         33        1000      1            1   \n",
       "\n",
       "      longestKill  maxPlace  numGroups  revives  rideDistance  roadKills  \\\n",
       "200         1.153        28         28        0           0.0          0   \n",
       "403         4.841        38         35        0           0.0          0   \n",
       "784        34.690        96         94        0           0.0          0   \n",
       "1441       36.790        96         95        0           0.0          0   \n",
       "1565        6.801        20         20        0           0.0          0   \n",
       "\n",
       "      swimDistance  teamKills  vehicleDestroys  walkDistance  weaponsAcquired  \\\n",
       "200            0.0          0                0         31.20                1   \n",
       "403            0.0          0                0         32.71                1   \n",
       "784            0.0          0                0         35.39                1   \n",
       "1441           0.0          0                0         31.32                1   \n",
       "1565           0.0          0                0         35.17                1   \n",
       "\n",
       "      winPoints  winPlacePerc  _totalDistance  _headshot_rate  \n",
       "200        1481        0.0000           31.20             1.0  \n",
       "403        1447        0.0000           32.71             1.0  \n",
       "784        1477        0.2000           35.39             1.0  \n",
       "1441       1484        0.1158           31.32             1.0  \n",
       "1565       1500        0.1053           35.17             1.0  "
      ]
     },
     "execution_count": 18,
     "metadata": {},
     "output_type": "execute_result"
    }
   ],
   "source": [
    "# _totalDistance, _headshot_rate\n",
    "df_1 = df[(df['_totalDistance'] <= df['_totalDistance'].quantile(0.10)) & (df['_headshot_rate']  >= 0.8)]\n",
    "print(len(df_1))\n",
    "df_1.head()"
   ]
  },
  {
   "cell_type": "code",
   "execution_count": 19,
   "metadata": {
    "colab": {
     "base_uri": "https://localhost:8080/",
     "height": 279
    },
    "executionInfo": {
     "elapsed": 700,
     "status": "ok",
     "timestamp": 1670035370945,
     "user": {
      "displayName": "박지환",
      "userId": "03562376240636475247"
     },
     "user_tz": -540
    },
    "id": "5Uwgmmz4LCNJ",
    "outputId": "a9c27bf4-17d0-48f2-e7e9-cb5bfcdd9949"
   },
   "outputs": [
    {
     "data": {
      "image/png": "[encoded data removed]",
      "text/plain": [
       "<Figure size 640x480 with 1 Axes>"
      ]
     },
     "metadata": {},
     "output_type": "display_data"
    }
   ],
   "source": [
    "# narrow down data by checking distribution of number of kills\n",
    "sns.distplot(df_1['kills']);"
   ]
  },
  {
   "cell_type": "code",
   "execution_count": 20,
   "metadata": {
    "colab": {
     "base_uri": "https://localhost:8080/"
    },
    "executionInfo": {
     "elapsed": 640,
     "status": "ok",
     "timestamp": 1670035417800,
     "user": {
      "displayName": "박지환",
      "userId": "03562376240636475247"
     },
     "user_tz": -540
    },
    "id": "pquxONjX3e11",
    "outputId": "639ae85e-a88d-4f26-91bc-2ef290206f90"
   },
   "outputs": [
    {
     "data": {
      "text/plain": [
       "(37.89, 3812.67)"
      ]
     },
     "execution_count": 20,
     "metadata": {},
     "output_type": "execute_result"
    }
   ],
   "source": [
    "df['_totalDistance'].quantile(0.10), df['_totalDistance'].quantile(0.90)"
   ]
  },
  {
   "cell_type": "code",
   "execution_count": 21,
   "metadata": {
    "colab": {
     "base_uri": "https://localhost:8080/",
     "height": 206
    },
    "executionInfo": {
     "elapsed": 281,
     "status": "ok",
     "timestamp": 1670035542059,
     "user": {
      "displayName": "박지환",
      "userId": "03562376240636475247"
     },
     "user_tz": -540
    },
    "id": "9xnSKcW3Lu5o",
    "outputId": "f4c023e6-f252-45af-8618-56fef9014951"
   },
   "outputs": [
    {
     "data": {
      "text/html": [
       "<div>\n",
       "<style scoped>\n",
       "    .dataframe tbody tr th:only-of-type {\n",
       "        vertical-align: middle;\n",
       "    }\n",
       "\n",
       "    .dataframe tbody tr th {\n",
       "        vertical-align: top;\n",
       "    }\n",
       "\n",
       "    .dataframe thead th {\n",
       "        text-align: right;\n",
       "    }\n",
       "</style>\n",
       "<table border=\"1\" class=\"dataframe\">\n",
       "  <thead>\n",
       "    <tr style=\"text-align: right;\">\n",
       "      <th></th>\n",
       "      <th>kills</th>\n",
       "      <th>_totalDistance</th>\n",
       "      <th>_headshot_rate</th>\n",
       "    </tr>\n",
       "  </thead>\n",
       "  <tbody>\n",
       "    <tr>\n",
       "      <th>500360</th>\n",
       "      <td>8</td>\n",
       "      <td>0.00</td>\n",
       "      <td>0.875000</td>\n",
       "    </tr>\n",
       "    <tr>\n",
       "      <th>524698</th>\n",
       "      <td>10</td>\n",
       "      <td>30.83</td>\n",
       "      <td>0.800000</td>\n",
       "    </tr>\n",
       "    <tr>\n",
       "      <th>1177100</th>\n",
       "      <td>7</td>\n",
       "      <td>0.00</td>\n",
       "      <td>0.857143</td>\n",
       "    </tr>\n",
       "    <tr>\n",
       "      <th>2383933</th>\n",
       "      <td>10</td>\n",
       "      <td>0.00</td>\n",
       "      <td>0.800000</td>\n",
       "    </tr>\n",
       "    <tr>\n",
       "      <th>3277980</th>\n",
       "      <td>7</td>\n",
       "      <td>14.52</td>\n",
       "      <td>0.857143</td>\n",
       "    </tr>\n",
       "  </tbody>\n",
       "</table>\n",
       "</div>"
      ],
      "text/plain": [
       "         kills  _totalDistance  _headshot_rate\n",
       "500360       8            0.00        0.875000\n",
       "524698      10           30.83        0.800000\n",
       "1177100      7            0.00        0.857143\n",
       "2383933     10            0.00        0.800000\n",
       "3277980      7           14.52        0.857143"
      ]
     },
     "execution_count": 21,
     "metadata": {},
     "output_type": "execute_result"
    }
   ],
   "source": [
    "# identify abnormal users \n",
    "df_1[df_1['kills'] > 6][['kills', '_totalDistance', '_headshot_rate']]"
   ]
  },
  {
   "cell_type": "markdown",
   "metadata": {
    "id": "5OVDqHg7A-PM"
   },
   "source": [
    "### Inhuman Kills - analysis"
   ]
  },
  {
   "cell_type": "code",
   "execution_count": 22,
   "metadata": {
    "colab": {
     "base_uri": "https://localhost:8080/",
     "height": 300
    },
    "executionInfo": {
     "elapsed": 857,
     "status": "ok",
     "timestamp": 1670035670171,
     "user": {
      "displayName": "박지환",
      "userId": "03562376240636475247"
     },
     "user_tz": -540
    },
    "id": "vrI6Ha5WG64x",
    "outputId": "012782cb-dcfc-4e98-d79d-9a7a40f6e1f0"
   },
   "outputs": [
    {
     "data": {
      "text/html": [
       "<div>\n",
       "<style scoped>\n",
       "    .dataframe tbody tr th:only-of-type {\n",
       "        vertical-align: middle;\n",
       "    }\n",
       "\n",
       "    .dataframe tbody tr th {\n",
       "        vertical-align: top;\n",
       "    }\n",
       "\n",
       "    .dataframe thead th {\n",
       "        text-align: right;\n",
       "    }\n",
       "</style>\n",
       "<table border=\"1\" class=\"dataframe\">\n",
       "  <thead>\n",
       "    <tr style=\"text-align: right;\">\n",
       "      <th></th>\n",
       "      <th>heals</th>\n",
       "      <th>kills</th>\n",
       "    </tr>\n",
       "  </thead>\n",
       "  <tbody>\n",
       "    <tr>\n",
       "      <th>count</th>\n",
       "      <td>4.357336e+06</td>\n",
       "      <td>4.357336e+06</td>\n",
       "    </tr>\n",
       "    <tr>\n",
       "      <th>mean</th>\n",
       "      <td>1.187169e+00</td>\n",
       "      <td>9.344958e-01</td>\n",
       "    </tr>\n",
       "    <tr>\n",
       "      <th>std</th>\n",
       "      <td>2.366389e+00</td>\n",
       "      <td>1.566192e+00</td>\n",
       "    </tr>\n",
       "    <tr>\n",
       "      <th>min</th>\n",
       "      <td>0.000000e+00</td>\n",
       "      <td>0.000000e+00</td>\n",
       "    </tr>\n",
       "    <tr>\n",
       "      <th>25%</th>\n",
       "      <td>0.000000e+00</td>\n",
       "      <td>0.000000e+00</td>\n",
       "    </tr>\n",
       "    <tr>\n",
       "      <th>50%</th>\n",
       "      <td>0.000000e+00</td>\n",
       "      <td>0.000000e+00</td>\n",
       "    </tr>\n",
       "    <tr>\n",
       "      <th>75%</th>\n",
       "      <td>1.000000e+00</td>\n",
       "      <td>1.000000e+00</td>\n",
       "    </tr>\n",
       "    <tr>\n",
       "      <th>max</th>\n",
       "      <td>5.900000e+01</td>\n",
       "      <td>6.000000e+01</td>\n",
       "    </tr>\n",
       "  </tbody>\n",
       "</table>\n",
       "</div>"
      ],
      "text/plain": [
       "              heals         kills\n",
       "count  4.357336e+06  4.357336e+06\n",
       "mean   1.187169e+00  9.344958e-01\n",
       "std    2.366389e+00  1.566192e+00\n",
       "min    0.000000e+00  0.000000e+00\n",
       "25%    0.000000e+00  0.000000e+00\n",
       "50%    0.000000e+00  0.000000e+00\n",
       "75%    1.000000e+00  1.000000e+00\n",
       "max    5.900000e+01  6.000000e+01"
      ]
     },
     "execution_count": 22,
     "metadata": {},
     "output_type": "execute_result"
    }
   ],
   "source": [
    "# mean heal count\n",
    "df[['heals', 'kills']].describe()"
   ]
  },
  {
   "cell_type": "code",
   "execution_count": 23,
   "metadata": {
    "colab": {
     "base_uri": "https://localhost:8080/"
    },
    "executionInfo": {
     "elapsed": 10,
     "status": "ok",
     "timestamp": 1669272935461,
     "user": {
      "displayName": "박지환",
      "userId": "03562376240636475247"
     },
     "user_tz": -540
    },
    "id": "v9WSzTk5J3b1",
    "outputId": "a18c767a-e135-4d05-dc6d-8c4453b3f0d4"
   },
   "outputs": [
    {
     "data": {
      "text/plain": [
       "(0.0, 3.0)"
      ]
     },
     "execution_count": 23,
     "metadata": {},
     "output_type": "execute_result"
    }
   ],
   "source": [
    "df['heals'].quantile(0.10), df['kills'].quantile(0.90)"
   ]
  },
  {
   "cell_type": "code",
   "execution_count": 24,
   "metadata": {
    "colab": {
     "base_uri": "https://localhost:8080/"
    },
    "executionInfo": {
     "elapsed": 304,
     "status": "ok",
     "timestamp": 1670035881448,
     "user": {
      "displayName": "박지환",
      "userId": "03562376240636475247"
     },
     "user_tz": -540
    },
    "id": "nA6AX90w5S_K",
    "outputId": "45807b58-9b34-482b-fb9a-3e1cf6716163"
   },
   "outputs": [
    {
     "data": {
      "text/plain": [
       "5.633072738084219"
      ]
     },
     "execution_count": 24,
     "metadata": {},
     "output_type": "execute_result"
    }
   ],
   "source": [
    "df['kills'].mean()+3*df['kills'].std()"
   ]
  },
  {
   "cell_type": "code",
   "execution_count": 25,
   "metadata": {
    "colab": {
     "base_uri": "https://localhost:8080/",
     "height": 442
    },
    "executionInfo": {
     "elapsed": 460,
     "status": "ok",
     "timestamp": 1670035901310,
     "user": {
      "displayName": "박지환",
      "userId": "03562376240636475247"
     },
     "user_tz": -540
    },
    "id": "UozpRyywIiSq",
    "outputId": "ee71cacf-21b2-45d1-f761-5cc4c03db837"
   },
   "outputs": [
    {
     "name": "stdout",
     "output_type": "stream",
     "text": [
      "8238\n"
     ]
    },
    {
     "data": {
      "text/html": [
       "<div>\n",
       "<style scoped>\n",
       "    .dataframe tbody tr th:only-of-type {\n",
       "        vertical-align: middle;\n",
       "    }\n",
       "\n",
       "    .dataframe tbody tr th {\n",
       "        vertical-align: top;\n",
       "    }\n",
       "\n",
       "    .dataframe thead th {\n",
       "        text-align: right;\n",
       "    }\n",
       "</style>\n",
       "<table border=\"1\" class=\"dataframe\">\n",
       "  <thead>\n",
       "    <tr style=\"text-align: right;\">\n",
       "      <th></th>\n",
       "      <th>heals</th>\n",
       "      <th>kills</th>\n",
       "    </tr>\n",
       "  </thead>\n",
       "  <tbody>\n",
       "    <tr>\n",
       "      <th>79</th>\n",
       "      <td>0</td>\n",
       "      <td>7</td>\n",
       "    </tr>\n",
       "    <tr>\n",
       "      <th>161</th>\n",
       "      <td>0</td>\n",
       "      <td>7</td>\n",
       "    </tr>\n",
       "    <tr>\n",
       "      <th>531</th>\n",
       "      <td>0</td>\n",
       "      <td>16</td>\n",
       "    </tr>\n",
       "    <tr>\n",
       "      <th>745</th>\n",
       "      <td>0</td>\n",
       "      <td>7</td>\n",
       "    </tr>\n",
       "    <tr>\n",
       "      <th>976</th>\n",
       "      <td>0</td>\n",
       "      <td>6</td>\n",
       "    </tr>\n",
       "    <tr>\n",
       "      <th>...</th>\n",
       "      <td>...</td>\n",
       "      <td>...</td>\n",
       "    </tr>\n",
       "    <tr>\n",
       "      <th>4354081</th>\n",
       "      <td>0</td>\n",
       "      <td>7</td>\n",
       "    </tr>\n",
       "    <tr>\n",
       "      <th>4355347</th>\n",
       "      <td>0</td>\n",
       "      <td>8</td>\n",
       "    </tr>\n",
       "    <tr>\n",
       "      <th>4356162</th>\n",
       "      <td>0</td>\n",
       "      <td>6</td>\n",
       "    </tr>\n",
       "    <tr>\n",
       "      <th>4356264</th>\n",
       "      <td>0</td>\n",
       "      <td>8</td>\n",
       "    </tr>\n",
       "    <tr>\n",
       "      <th>4356450</th>\n",
       "      <td>0</td>\n",
       "      <td>6</td>\n",
       "    </tr>\n",
       "  </tbody>\n",
       "</table>\n",
       "<p>8238 rows × 2 columns</p>\n",
       "</div>"
      ],
      "text/plain": [
       "         heals  kills\n",
       "79           0      7\n",
       "161          0      7\n",
       "531          0     16\n",
       "745          0      7\n",
       "976          0      6\n",
       "...        ...    ...\n",
       "4354081      0      7\n",
       "4355347      0      8\n",
       "4356162      0      6\n",
       "4356264      0      8\n",
       "4356450      0      6\n",
       "\n",
       "[8238 rows x 2 columns]"
      ]
     },
     "execution_count": 25,
     "metadata": {},
     "output_type": "execute_result"
    }
   ],
   "source": [
    "# 0 heal, users with kill #: avg * 3 standard deviations \n",
    "df_2 = df[(df['heals'] <= df['heals'].quantile(0.10)) & (df['kills']  >= df['kills'].mean()+3*df['kills'].std())]\n",
    "print(len(df_2))\n",
    "df_2[['heals', 'kills']]"
   ]
  },
  {
   "cell_type": "code",
   "execution_count": 26,
   "metadata": {
    "colab": {
     "base_uri": "https://localhost:8080/",
     "height": 279
    },
    "executionInfo": {
     "elapsed": 475,
     "status": "ok",
     "timestamp": 1670035924573,
     "user": {
      "displayName": "박지환",
      "userId": "03562376240636475247"
     },
     "user_tz": -540
    },
    "id": "9BHKyJ-tKtJE",
    "outputId": "7af3d7e8-5a17-47a4-cf45-935b7718a569"
   },
   "outputs": [
    {
     "data": {
      "image/png": "[encoded data removed]",
      "text/plain": [
       "<Figure size 640x480 with 1 Axes>"
      ]
     },
     "metadata": {},
     "output_type": "display_data"
    }
   ],
   "source": [
    "sns.distplot(df_2['kills']);"
   ]
  },
  {
   "cell_type": "code",
   "execution_count": 27,
   "metadata": {
    "colab": {
     "base_uri": "https://localhost:8080/",
     "height": 363
    },
    "executionInfo": {
     "elapsed": 12,
     "status": "ok",
     "timestamp": 1670036026824,
     "user": {
      "displayName": "박지환",
      "userId": "03562376240636475247"
     },
     "user_tz": -540
    },
    "id": "Hp3c3ZxtKzfp",
    "outputId": "7cbda1f7-b5c9-44db-f982-a1091cdec74c"
   },
   "outputs": [
    {
     "data": {
      "text/html": [
       "<div>\n",
       "<style scoped>\n",
       "    .dataframe tbody tr th:only-of-type {\n",
       "        vertical-align: middle;\n",
       "    }\n",
       "\n",
       "    .dataframe tbody tr th {\n",
       "        vertical-align: top;\n",
       "    }\n",
       "\n",
       "    .dataframe thead th {\n",
       "        text-align: right;\n",
       "    }\n",
       "</style>\n",
       "<table border=\"1\" class=\"dataframe\">\n",
       "  <thead>\n",
       "    <tr style=\"text-align: right;\">\n",
       "      <th></th>\n",
       "      <th>kills</th>\n",
       "      <th>heals</th>\n",
       "    </tr>\n",
       "  </thead>\n",
       "  <tbody>\n",
       "    <tr>\n",
       "      <th>910050</th>\n",
       "      <td>60</td>\n",
       "      <td>0</td>\n",
       "    </tr>\n",
       "    <tr>\n",
       "      <th>74095</th>\n",
       "      <td>48</td>\n",
       "      <td>0</td>\n",
       "    </tr>\n",
       "    <tr>\n",
       "      <th>455912</th>\n",
       "      <td>36</td>\n",
       "      <td>0</td>\n",
       "    </tr>\n",
       "    <tr>\n",
       "      <th>88198</th>\n",
       "      <td>34</td>\n",
       "      <td>0</td>\n",
       "    </tr>\n",
       "    <tr>\n",
       "      <th>34674</th>\n",
       "      <td>33</td>\n",
       "      <td>0</td>\n",
       "    </tr>\n",
       "    <tr>\n",
       "      <th>319149</th>\n",
       "      <td>33</td>\n",
       "      <td>0</td>\n",
       "    </tr>\n",
       "    <tr>\n",
       "      <th>722495</th>\n",
       "      <td>33</td>\n",
       "      <td>0</td>\n",
       "    </tr>\n",
       "    <tr>\n",
       "      <th>4138946</th>\n",
       "      <td>33</td>\n",
       "      <td>0</td>\n",
       "    </tr>\n",
       "    <tr>\n",
       "      <th>409678</th>\n",
       "      <td>32</td>\n",
       "      <td>0</td>\n",
       "    </tr>\n",
       "    <tr>\n",
       "      <th>671890</th>\n",
       "      <td>32</td>\n",
       "      <td>0</td>\n",
       "    </tr>\n",
       "  </tbody>\n",
       "</table>\n",
       "</div>"
      ],
      "text/plain": [
       "         kills  heals\n",
       "910050      60      0\n",
       "74095       48      0\n",
       "455912      36      0\n",
       "88198       34      0\n",
       "34674       33      0\n",
       "319149      33      0\n",
       "722495      33      0\n",
       "4138946     33      0\n",
       "409678      32      0\n",
       "671890      32      0"
      ]
     },
     "execution_count": 27,
     "metadata": {},
     "output_type": "execute_result"
    }
   ],
   "source": [
    "# find out abnormal users\n",
    "df_2[df_2['kills'] > 30][['kills', 'heals']].sort_values(by=['kills'], ascending =False)"
   ]
  },
  {
   "cell_type": "markdown",
   "metadata": {
    "id": "U9viPI5eA-bn"
   },
   "source": [
    "### 100% Headshot Kills - analysis"
   ]
  },
  {
   "cell_type": "code",
   "execution_count": 28,
   "metadata": {
    "colab": {
     "base_uri": "https://localhost:8080/",
     "height": 288
    },
    "executionInfo": {
     "elapsed": 660,
     "status": "ok",
     "timestamp": 1670036510884,
     "user": {
      "displayName": "박지환",
      "userId": "03562376240636475247"
     },
     "user_tz": -540
    },
    "id": "_YPO7d_KLBti",
    "outputId": "828f5aa8-27c7-4825-aa80-ebc003e0bbbd"
   },
   "outputs": [
    {
     "name": "stdout",
     "output_type": "stream",
     "text": [
      "266984\n"
     ]
    },
    {
     "data": {
      "text/html": [
       "<div>\n",
       "<style scoped>\n",
       "    .dataframe tbody tr th:only-of-type {\n",
       "        vertical-align: middle;\n",
       "    }\n",
       "\n",
       "    .dataframe tbody tr th {\n",
       "        vertical-align: top;\n",
       "    }\n",
       "\n",
       "    .dataframe thead th {\n",
       "        text-align: right;\n",
       "    }\n",
       "</style>\n",
       "<table border=\"1\" class=\"dataframe\">\n",
       "  <thead>\n",
       "    <tr style=\"text-align: right;\">\n",
       "      <th></th>\n",
       "      <th>Id</th>\n",
       "      <th>groupId</th>\n",
       "      <th>matchId</th>\n",
       "      <th>assists</th>\n",
       "      <th>boosts</th>\n",
       "      <th>damageDealt</th>\n",
       "      <th>DBNOs</th>\n",
       "      <th>headshotKills</th>\n",
       "      <th>heals</th>\n",
       "      <th>killPlace</th>\n",
       "      <th>killPoints</th>\n",
       "      <th>kills</th>\n",
       "      <th>killStreaks</th>\n",
       "      <th>longestKill</th>\n",
       "      <th>maxPlace</th>\n",
       "      <th>numGroups</th>\n",
       "      <th>revives</th>\n",
       "      <th>rideDistance</th>\n",
       "      <th>roadKills</th>\n",
       "      <th>swimDistance</th>\n",
       "      <th>teamKills</th>\n",
       "      <th>vehicleDestroys</th>\n",
       "      <th>walkDistance</th>\n",
       "      <th>weaponsAcquired</th>\n",
       "      <th>winPoints</th>\n",
       "      <th>winPlacePerc</th>\n",
       "      <th>_totalDistance</th>\n",
       "      <th>_headshot_rate</th>\n",
       "    </tr>\n",
       "  </thead>\n",
       "  <tbody>\n",
       "    <tr>\n",
       "      <th>1</th>\n",
       "      <td>1</td>\n",
       "      <td>440875</td>\n",
       "      <td>1</td>\n",
       "      <td>1</td>\n",
       "      <td>0</td>\n",
       "      <td>37.65</td>\n",
       "      <td>1</td>\n",
       "      <td>1</td>\n",
       "      <td>0</td>\n",
       "      <td>45</td>\n",
       "      <td>1072</td>\n",
       "      <td>1</td>\n",
       "      <td>1</td>\n",
       "      <td>13.550</td>\n",
       "      <td>26</td>\n",
       "      <td>23</td>\n",
       "      <td>0</td>\n",
       "      <td>0.0</td>\n",
       "      <td>0</td>\n",
       "      <td>0.00</td>\n",
       "      <td>0</td>\n",
       "      <td>0</td>\n",
       "      <td>119.6</td>\n",
       "      <td>3</td>\n",
       "      <td>1511</td>\n",
       "      <td>0.0400</td>\n",
       "      <td>119.60</td>\n",
       "      <td>1.0</td>\n",
       "    </tr>\n",
       "    <tr>\n",
       "      <th>10</th>\n",
       "      <td>10</td>\n",
       "      <td>45059</td>\n",
       "      <td>10</td>\n",
       "      <td>0</td>\n",
       "      <td>1</td>\n",
       "      <td>166.00</td>\n",
       "      <td>0</td>\n",
       "      <td>1</td>\n",
       "      <td>1</td>\n",
       "      <td>35</td>\n",
       "      <td>1000</td>\n",
       "      <td>1</td>\n",
       "      <td>1</td>\n",
       "      <td>31.130</td>\n",
       "      <td>98</td>\n",
       "      <td>96</td>\n",
       "      <td>0</td>\n",
       "      <td>0.0</td>\n",
       "      <td>0</td>\n",
       "      <td>0.00</td>\n",
       "      <td>0</td>\n",
       "      <td>0</td>\n",
       "      <td>184.5</td>\n",
       "      <td>3</td>\n",
       "      <td>1500</td>\n",
       "      <td>0.4536</td>\n",
       "      <td>184.50</td>\n",
       "      <td>1.0</td>\n",
       "    </tr>\n",
       "    <tr>\n",
       "      <th>32</th>\n",
       "      <td>32</td>\n",
       "      <td>1010453</td>\n",
       "      <td>32</td>\n",
       "      <td>0</td>\n",
       "      <td>3</td>\n",
       "      <td>214.90</td>\n",
       "      <td>1</td>\n",
       "      <td>2</td>\n",
       "      <td>4</td>\n",
       "      <td>19</td>\n",
       "      <td>1047</td>\n",
       "      <td>2</td>\n",
       "      <td>1</td>\n",
       "      <td>127.000</td>\n",
       "      <td>49</td>\n",
       "      <td>48</td>\n",
       "      <td>0</td>\n",
       "      <td>1576.0</td>\n",
       "      <td>0</td>\n",
       "      <td>0.00</td>\n",
       "      <td>0</td>\n",
       "      <td>0</td>\n",
       "      <td>1526.0</td>\n",
       "      <td>3</td>\n",
       "      <td>1502</td>\n",
       "      <td>0.7292</td>\n",
       "      <td>3102.00</td>\n",
       "      <td>1.0</td>\n",
       "    </tr>\n",
       "    <tr>\n",
       "      <th>33</th>\n",
       "      <td>33</td>\n",
       "      <td>1054979</td>\n",
       "      <td>33</td>\n",
       "      <td>0</td>\n",
       "      <td>0</td>\n",
       "      <td>166.20</td>\n",
       "      <td>1</td>\n",
       "      <td>1</td>\n",
       "      <td>0</td>\n",
       "      <td>37</td>\n",
       "      <td>1281</td>\n",
       "      <td>1</td>\n",
       "      <td>1</td>\n",
       "      <td>1.657</td>\n",
       "      <td>30</td>\n",
       "      <td>30</td>\n",
       "      <td>0</td>\n",
       "      <td>0.0</td>\n",
       "      <td>0</td>\n",
       "      <td>0.00</td>\n",
       "      <td>0</td>\n",
       "      <td>0</td>\n",
       "      <td>133.1</td>\n",
       "      <td>2</td>\n",
       "      <td>1544</td>\n",
       "      <td>0.2414</td>\n",
       "      <td>133.10</td>\n",
       "      <td>1.0</td>\n",
       "    </tr>\n",
       "    <tr>\n",
       "      <th>50</th>\n",
       "      <td>50</td>\n",
       "      <td>1802026</td>\n",
       "      <td>50</td>\n",
       "      <td>0</td>\n",
       "      <td>3</td>\n",
       "      <td>360.30</td>\n",
       "      <td>3</td>\n",
       "      <td>2</td>\n",
       "      <td>15</td>\n",
       "      <td>15</td>\n",
       "      <td>1046</td>\n",
       "      <td>2</td>\n",
       "      <td>1</td>\n",
       "      <td>4.853</td>\n",
       "      <td>26</td>\n",
       "      <td>26</td>\n",
       "      <td>0</td>\n",
       "      <td>0.0</td>\n",
       "      <td>0</td>\n",
       "      <td>75.86</td>\n",
       "      <td>0</td>\n",
       "      <td>0</td>\n",
       "      <td>2669.0</td>\n",
       "      <td>6</td>\n",
       "      <td>1480</td>\n",
       "      <td>0.6800</td>\n",
       "      <td>2744.86</td>\n",
       "      <td>1.0</td>\n",
       "    </tr>\n",
       "  </tbody>\n",
       "</table>\n",
       "</div>"
      ],
      "text/plain": [
       "    Id  groupId  matchId  assists  boosts  damageDealt  DBNOs  headshotKills  \\\n",
       "1    1   440875        1        1       0        37.65      1              1   \n",
       "10  10    45059       10        0       1       166.00      0              1   \n",
       "32  32  1010453       32        0       3       214.90      1              2   \n",
       "33  33  1054979       33        0       0       166.20      1              1   \n",
       "50  50  1802026       50        0       3       360.30      3              2   \n",
       "\n",
       "    heals  killPlace  killPoints  kills  killStreaks  longestKill  maxPlace  \\\n",
       "1       0         45        1072      1            1       13.550        26   \n",
       "10      1         35        1000      1            1       31.130        98   \n",
       "32      4         19        1047      2            1      127.000        49   \n",
       "33      0         37        1281      1            1        1.657        30   \n",
       "50     15         15        1046      2            1        4.853        26   \n",
       "\n",
       "    numGroups  revives  rideDistance  roadKills  swimDistance  teamKills  \\\n",
       "1          23        0           0.0          0          0.00          0   \n",
       "10         96        0           0.0          0          0.00          0   \n",
       "32         48        0        1576.0          0          0.00          0   \n",
       "33         30        0           0.0          0          0.00          0   \n",
       "50         26        0           0.0          0         75.86          0   \n",
       "\n",
       "    vehicleDestroys  walkDistance  weaponsAcquired  winPoints  winPlacePerc  \\\n",
       "1                 0         119.6                3       1511        0.0400   \n",
       "10                0         184.5                3       1500        0.4536   \n",
       "32                0        1526.0                3       1502        0.7292   \n",
       "33                0         133.1                2       1544        0.2414   \n",
       "50                0        2669.0                6       1480        0.6800   \n",
       "\n",
       "    _totalDistance  _headshot_rate  \n",
       "1           119.60             1.0  \n",
       "10          184.50             1.0  \n",
       "32         3102.00             1.0  \n",
       "33          133.10             1.0  \n",
       "50         2744.86             1.0  "
      ]
     },
     "execution_count": 28,
     "metadata": {},
     "output_type": "execute_result"
    }
   ],
   "source": [
    "# users with headshot 100%\n",
    "df_3 = df[df['_headshot_rate'] == 1]\n",
    "print(len(df_3))\n",
    "df[df['_headshot_rate'] == 1].head()"
   ]
  },
  {
   "cell_type": "code",
   "execution_count": 29,
   "metadata": {
    "colab": {
     "base_uri": "https://localhost:8080/",
     "height": 279
    },
    "executionInfo": {
     "elapsed": 1702,
     "status": "ok",
     "timestamp": 1670036551500,
     "user": {
      "displayName": "박지환",
      "userId": "03562376240636475247"
     },
     "user_tz": -540
    },
    "id": "HDsz1ZKCLB2h",
    "outputId": "27fc8176-a842-4a9b-82b7-0c35de15891f"
   },
   "outputs": [
    {
     "data": {
      "image/png": "[encoded data removed]",
      "text/plain": [
       "<Figure size 640x480 with 1 Axes>"
      ]
     },
     "metadata": {},
     "output_type": "display_data"
    }
   ],
   "source": [
    "sns.distplot(df_3['kills']);"
   ]
  },
  {
   "cell_type": "code",
   "execution_count": 30,
   "metadata": {
    "colab": {
     "base_uri": "https://localhost:8080/"
    },
    "executionInfo": {
     "elapsed": 278,
     "status": "ok",
     "timestamp": 1670036588028,
     "user": {
      "displayName": "박지환",
      "userId": "03562376240636475247"
     },
     "user_tz": -540
    },
    "id": "TzQY0sYW77iH",
    "outputId": "d7268c72-d6ce-4d1d-e8f6-9af899bdc15b"
   },
   "outputs": [
    {
     "data": {
      "text/plain": [
       "count    266984.000000\n",
       "mean          1.173804\n",
       "std           0.479215\n",
       "min           1.000000\n",
       "25%           1.000000\n",
       "50%           1.000000\n",
       "75%           1.000000\n",
       "max          17.000000\n",
       "Name: kills, dtype: float64"
      ]
     },
     "execution_count": 30,
     "metadata": {},
     "output_type": "execute_result"
    }
   ],
   "source": [
    "df_3['kills'].describe()"
   ]
  },
  {
   "cell_type": "code",
   "execution_count": 31,
   "metadata": {
    "colab": {
     "base_uri": "https://localhost:8080/"
    },
    "executionInfo": {
     "elapsed": 274,
     "status": "ok",
     "timestamp": 1670036643576,
     "user": {
      "displayName": "박지환",
      "userId": "03562376240636475247"
     },
     "user_tz": -540
    },
    "id": "c7IfaOy08L-F",
    "outputId": "e56ab8b9-ba74-4cb0-e5d1-a4eec3336d8f"
   },
   "outputs": [
    {
     "data": {
      "text/plain": [
       "2.6114506424929758"
      ]
     },
     "execution_count": 31,
     "metadata": {},
     "output_type": "execute_result"
    }
   ],
   "source": [
    "df_3['kills'].mean()+3*df_3['kills'].std()"
   ]
  },
  {
   "cell_type": "code",
   "execution_count": 32,
   "metadata": {
    "colab": {
     "base_uri": "https://localhost:8080/",
     "height": 300
    },
    "executionInfo": {
     "elapsed": 6,
     "status": "ok",
     "timestamp": 1670036728940,
     "user": {
      "displayName": "박지환",
      "userId": "03562376240636475247"
     },
     "user_tz": -540
    },
    "id": "NbEMEqsCLB8R",
    "outputId": "74840ebb-e258-4950-9f80-715f26757a97"
   },
   "outputs": [
    {
     "data": {
      "text/html": [
       "<div>\n",
       "<style scoped>\n",
       "    .dataframe tbody tr th:only-of-type {\n",
       "        vertical-align: middle;\n",
       "    }\n",
       "\n",
       "    .dataframe tbody tr th {\n",
       "        vertical-align: top;\n",
       "    }\n",
       "\n",
       "    .dataframe thead th {\n",
       "        text-align: right;\n",
       "    }\n",
       "</style>\n",
       "<table border=\"1\" class=\"dataframe\">\n",
       "  <thead>\n",
       "    <tr style=\"text-align: right;\">\n",
       "      <th></th>\n",
       "      <th>kills</th>\n",
       "      <th>_headshot_rate</th>\n",
       "    </tr>\n",
       "  </thead>\n",
       "  <tbody>\n",
       "    <tr>\n",
       "      <th>3902972</th>\n",
       "      <td>17</td>\n",
       "      <td>1.0</td>\n",
       "    </tr>\n",
       "    <tr>\n",
       "      <th>2411348</th>\n",
       "      <td>13</td>\n",
       "      <td>1.0</td>\n",
       "    </tr>\n",
       "    <tr>\n",
       "      <th>3201166</th>\n",
       "      <td>13</td>\n",
       "      <td>1.0</td>\n",
       "    </tr>\n",
       "    <tr>\n",
       "      <th>3409867</th>\n",
       "      <td>13</td>\n",
       "      <td>1.0</td>\n",
       "    </tr>\n",
       "    <tr>\n",
       "      <th>4277997</th>\n",
       "      <td>12</td>\n",
       "      <td>1.0</td>\n",
       "    </tr>\n",
       "    <tr>\n",
       "      <th>458289</th>\n",
       "      <td>11</td>\n",
       "      <td>1.0</td>\n",
       "    </tr>\n",
       "    <tr>\n",
       "      <th>3204285</th>\n",
       "      <td>11</td>\n",
       "      <td>1.0</td>\n",
       "    </tr>\n",
       "    <tr>\n",
       "      <th>4242764</th>\n",
       "      <td>11</td>\n",
       "      <td>1.0</td>\n",
       "    </tr>\n",
       "  </tbody>\n",
       "</table>\n",
       "</div>"
      ],
      "text/plain": [
       "         kills  _headshot_rate\n",
       "3902972     17             1.0\n",
       "2411348     13             1.0\n",
       "3201166     13             1.0\n",
       "3409867     13             1.0\n",
       "4277997     12             1.0\n",
       "458289      11             1.0\n",
       "3204285     11             1.0\n",
       "4242764     11             1.0"
      ]
     },
     "execution_count": 32,
     "metadata": {},
     "output_type": "execute_result"
    }
   ],
   "source": [
    "# find out abnormal users\n",
    "df_3[df_3['kills'] > 10][['kills', '_headshot_rate']].sort_values(by=['kills'], ascending =False)"
   ]
  },
  {
   "cell_type": "markdown",
   "metadata": {
    "id": "x-FILKEVA-hr"
   },
   "source": [
    "### Anomalies in Heals - analysis"
   ]
  },
  {
   "cell_type": "code",
   "execution_count": 33,
   "metadata": {
    "colab": {
     "base_uri": "https://localhost:8080/",
     "height": 279
    },
    "executionInfo": {
     "elapsed": 19092,
     "status": "ok",
     "timestamp": 1670036782999,
     "user": {
      "displayName": "박지환",
      "userId": "03562376240636475247"
     },
     "user_tz": -540
    },
    "id": "3a00NidiMazw",
    "outputId": "d534d1fe-86c9-4966-ada4-1bfaa5d44c6d"
   },
   "outputs": [
    {
     "data": {
      "image/png": "[encoded data removed]",
      "text/plain": [
       "<Figure size 640x480 with 1 Axes>"
      ]
     },
     "metadata": {},
     "output_type": "display_data"
    }
   ],
   "source": [
    "# find out how users are using heal items\n",
    "sns.distplot(df['heals']);"
   ]
  },
  {
   "cell_type": "code",
   "execution_count": 34,
   "metadata": {
    "colab": {
     "base_uri": "https://localhost:8080/"
    },
    "executionInfo": {
     "elapsed": 4,
     "status": "ok",
     "timestamp": 1670036807546,
     "user": {
      "displayName": "박지환",
      "userId": "03562376240636475247"
     },
     "user_tz": -540
    },
    "id": "Ih3LJCrm8xO3",
    "outputId": "fea0465d-9856-46bf-d349-b3a228f89416"
   },
   "outputs": [
    {
     "data": {
      "text/plain": [
       "count    4.357336e+06\n",
       "mean     1.187169e+00\n",
       "std      2.366389e+00\n",
       "min      0.000000e+00\n",
       "25%      0.000000e+00\n",
       "50%      0.000000e+00\n",
       "75%      1.000000e+00\n",
       "max      5.900000e+01\n",
       "Name: heals, dtype: float64"
      ]
     },
     "execution_count": 34,
     "metadata": {},
     "output_type": "execute_result"
    }
   ],
   "source": [
    "df['heals'].describe()"
   ]
  },
  {
   "cell_type": "code",
   "execution_count": 35,
   "metadata": {
    "colab": {
     "base_uri": "https://localhost:8080/"
    },
    "executionInfo": {
     "elapsed": 3,
     "status": "ok",
     "timestamp": 1670036855144,
     "user": {
      "displayName": "박지환",
      "userId": "03562376240636475247"
     },
     "user_tz": -540
    },
    "id": "JE19MpVgMa9q",
    "outputId": "7d93dff9-6f03-42e2-a05a-5084876195e9"
   },
   "outputs": [
    {
     "data": {
      "text/plain": [
       "271303     55\n",
       "721128     58\n",
       "1546110    59\n",
       "Name: heals, dtype: int64"
      ]
     },
     "execution_count": 35,
     "metadata": {},
     "output_type": "execute_result"
    }
   ],
   "source": [
    "# identify abnormal users\n",
    "df[df['heals']>50]['heals']"
   ]
  },
  {
   "cell_type": "markdown",
   "metadata": {
    "id": "D0v8H3ItA-mw"
   },
   "source": [
    "### Without moving & WeaponsAcquired - analysis"
   ]
  },
  {
   "cell_type": "code",
   "execution_count": 36,
   "metadata": {
    "colab": {
     "base_uri": "https://localhost:8080/"
    },
    "executionInfo": {
     "elapsed": 284,
     "status": "ok",
     "timestamp": 1670036986824,
     "user": {
      "displayName": "박지환",
      "userId": "03562376240636475247"
     },
     "user_tz": -540
    },
    "id": "7I5tU1MSbfC3",
    "outputId": "efceef66-4836-4893-c745-276fa18e99be"
   },
   "outputs": [
    {
     "data": {
      "text/plain": [
       "(37.89, 6.0)"
      ]
     },
     "execution_count": 36,
     "metadata": {},
     "output_type": "execute_result"
    }
   ],
   "source": [
    "# check threshold\n",
    "df['_totalDistance'].quantile(0.10), df['weaponsAcquired'].quantile(0.90)"
   ]
  },
  {
   "cell_type": "code",
   "execution_count": 37,
   "metadata": {
    "colab": {
     "base_uri": "https://localhost:8080/",
     "height": 288
    },
    "executionInfo": {
     "elapsed": 339,
     "status": "ok",
     "timestamp": 1670037055122,
     "user": {
      "displayName": "박지환",
      "userId": "03562376240636475247"
     },
     "user_tz": -540
    },
    "id": "Vjl_EWpLMbhe",
    "outputId": "4137dd09-2ca3-411b-8907-c135cd758a85"
   },
   "outputs": [
    {
     "name": "stdout",
     "output_type": "stream",
     "text": [
      "2265\n"
     ]
    },
    {
     "data": {
      "text/html": [
       "<div>\n",
       "<style scoped>\n",
       "    .dataframe tbody tr th:only-of-type {\n",
       "        vertical-align: middle;\n",
       "    }\n",
       "\n",
       "    .dataframe tbody tr th {\n",
       "        vertical-align: top;\n",
       "    }\n",
       "\n",
       "    .dataframe thead th {\n",
       "        text-align: right;\n",
       "    }\n",
       "</style>\n",
       "<table border=\"1\" class=\"dataframe\">\n",
       "  <thead>\n",
       "    <tr style=\"text-align: right;\">\n",
       "      <th></th>\n",
       "      <th>Id</th>\n",
       "      <th>groupId</th>\n",
       "      <th>matchId</th>\n",
       "      <th>assists</th>\n",
       "      <th>boosts</th>\n",
       "      <th>damageDealt</th>\n",
       "      <th>DBNOs</th>\n",
       "      <th>headshotKills</th>\n",
       "      <th>heals</th>\n",
       "      <th>killPlace</th>\n",
       "      <th>killPoints</th>\n",
       "      <th>kills</th>\n",
       "      <th>killStreaks</th>\n",
       "      <th>longestKill</th>\n",
       "      <th>maxPlace</th>\n",
       "      <th>numGroups</th>\n",
       "      <th>revives</th>\n",
       "      <th>rideDistance</th>\n",
       "      <th>roadKills</th>\n",
       "      <th>swimDistance</th>\n",
       "      <th>teamKills</th>\n",
       "      <th>vehicleDestroys</th>\n",
       "      <th>walkDistance</th>\n",
       "      <th>weaponsAcquired</th>\n",
       "      <th>winPoints</th>\n",
       "      <th>winPlacePerc</th>\n",
       "      <th>_totalDistance</th>\n",
       "      <th>_headshot_rate</th>\n",
       "    </tr>\n",
       "  </thead>\n",
       "  <tbody>\n",
       "    <tr>\n",
       "      <th>896</th>\n",
       "      <td>896</td>\n",
       "      <td>2655234</td>\n",
       "      <td>896</td>\n",
       "      <td>0</td>\n",
       "      <td>0</td>\n",
       "      <td>296.1</td>\n",
       "      <td>2</td>\n",
       "      <td>0</td>\n",
       "      <td>1</td>\n",
       "      <td>17</td>\n",
       "      <td>1000</td>\n",
       "      <td>0</td>\n",
       "      <td>0</td>\n",
       "      <td>0.000</td>\n",
       "      <td>6</td>\n",
       "      <td>6</td>\n",
       "      <td>0</td>\n",
       "      <td>0.0</td>\n",
       "      <td>0</td>\n",
       "      <td>0.0</td>\n",
       "      <td>1</td>\n",
       "      <td>0</td>\n",
       "      <td>0.0</td>\n",
       "      <td>8</td>\n",
       "      <td>1500</td>\n",
       "      <td>0.2000</td>\n",
       "      <td>0.0</td>\n",
       "      <td>0.000000</td>\n",
       "    </tr>\n",
       "    <tr>\n",
       "      <th>1777</th>\n",
       "      <td>1777</td>\n",
       "      <td>344864</td>\n",
       "      <td>1777</td>\n",
       "      <td>6</td>\n",
       "      <td>0</td>\n",
       "      <td>1087.0</td>\n",
       "      <td>13</td>\n",
       "      <td>6</td>\n",
       "      <td>0</td>\n",
       "      <td>1</td>\n",
       "      <td>1000</td>\n",
       "      <td>12</td>\n",
       "      <td>2</td>\n",
       "      <td>1.539</td>\n",
       "      <td>4</td>\n",
       "      <td>4</td>\n",
       "      <td>5</td>\n",
       "      <td>0.0</td>\n",
       "      <td>0</td>\n",
       "      <td>0.0</td>\n",
       "      <td>0</td>\n",
       "      <td>0</td>\n",
       "      <td>0.0</td>\n",
       "      <td>9</td>\n",
       "      <td>1500</td>\n",
       "      <td>1.0000</td>\n",
       "      <td>0.0</td>\n",
       "      <td>0.500000</td>\n",
       "    </tr>\n",
       "    <tr>\n",
       "      <th>3260</th>\n",
       "      <td>3260</td>\n",
       "      <td>993275</td>\n",
       "      <td>3260</td>\n",
       "      <td>0</td>\n",
       "      <td>0</td>\n",
       "      <td>510.9</td>\n",
       "      <td>0</td>\n",
       "      <td>1</td>\n",
       "      <td>0</td>\n",
       "      <td>6</td>\n",
       "      <td>1000</td>\n",
       "      <td>6</td>\n",
       "      <td>1</td>\n",
       "      <td>46.490</td>\n",
       "      <td>14</td>\n",
       "      <td>10</td>\n",
       "      <td>0</td>\n",
       "      <td>0.0</td>\n",
       "      <td>0</td>\n",
       "      <td>0.0</td>\n",
       "      <td>0</td>\n",
       "      <td>0</td>\n",
       "      <td>0.0</td>\n",
       "      <td>10</td>\n",
       "      <td>1500</td>\n",
       "      <td>0.7692</td>\n",
       "      <td>0.0</td>\n",
       "      <td>0.166667</td>\n",
       "    </tr>\n",
       "    <tr>\n",
       "      <th>3405</th>\n",
       "      <td>3405</td>\n",
       "      <td>1057673</td>\n",
       "      <td>3405</td>\n",
       "      <td>3</td>\n",
       "      <td>1</td>\n",
       "      <td>1462.0</td>\n",
       "      <td>0</td>\n",
       "      <td>5</td>\n",
       "      <td>6</td>\n",
       "      <td>1</td>\n",
       "      <td>1000</td>\n",
       "      <td>15</td>\n",
       "      <td>1</td>\n",
       "      <td>83.780</td>\n",
       "      <td>7</td>\n",
       "      <td>7</td>\n",
       "      <td>0</td>\n",
       "      <td>0.0</td>\n",
       "      <td>0</td>\n",
       "      <td>0.0</td>\n",
       "      <td>0</td>\n",
       "      <td>0</td>\n",
       "      <td>0.0</td>\n",
       "      <td>29</td>\n",
       "      <td>1500</td>\n",
       "      <td>1.0000</td>\n",
       "      <td>0.0</td>\n",
       "      <td>0.333333</td>\n",
       "    </tr>\n",
       "    <tr>\n",
       "      <th>3612</th>\n",
       "      <td>3612</td>\n",
       "      <td>1148248</td>\n",
       "      <td>3612</td>\n",
       "      <td>12</td>\n",
       "      <td>0</td>\n",
       "      <td>2322.0</td>\n",
       "      <td>19</td>\n",
       "      <td>5</td>\n",
       "      <td>0</td>\n",
       "      <td>2</td>\n",
       "      <td>1000</td>\n",
       "      <td>18</td>\n",
       "      <td>2</td>\n",
       "      <td>87.960</td>\n",
       "      <td>5</td>\n",
       "      <td>5</td>\n",
       "      <td>0</td>\n",
       "      <td>0.0</td>\n",
       "      <td>0</td>\n",
       "      <td>0.0</td>\n",
       "      <td>0</td>\n",
       "      <td>0</td>\n",
       "      <td>0.0</td>\n",
       "      <td>33</td>\n",
       "      <td>1500</td>\n",
       "      <td>0.7500</td>\n",
       "      <td>0.0</td>\n",
       "      <td>0.277778</td>\n",
       "    </tr>\n",
       "  </tbody>\n",
       "</table>\n",
       "</div>"
      ],
      "text/plain": [
       "        Id  groupId  matchId  assists  boosts  damageDealt  DBNOs  \\\n",
       "896    896  2655234      896        0       0        296.1      2   \n",
       "1777  1777   344864     1777        6       0       1087.0     13   \n",
       "3260  3260   993275     3260        0       0        510.9      0   \n",
       "3405  3405  1057673     3405        3       1       1462.0      0   \n",
       "3612  3612  1148248     3612       12       0       2322.0     19   \n",
       "\n",
       "      headshotKills  heals  killPlace  killPoints  kills  killStreaks  \\\n",
       "896               0      1         17        1000      0            0   \n",
       "1777              6      0          1        1000     12            2   \n",
       "3260              1      0          6        1000      6            1   \n",
       "3405              5      6          1        1000     15            1   \n",
       "3612              5      0          2        1000     18            2   \n",
       "\n",
       "      longestKill  maxPlace  numGroups  revives  rideDistance  roadKills  \\\n",
       "896         0.000         6          6        0           0.0          0   \n",
       "1777        1.539         4          4        5           0.0          0   \n",
       "3260       46.490        14         10        0           0.0          0   \n",
       "3405       83.780         7          7        0           0.0          0   \n",
       "3612       87.960         5          5        0           0.0          0   \n",
       "\n",
       "      swimDistance  teamKills  vehicleDestroys  walkDistance  weaponsAcquired  \\\n",
       "896            0.0          1                0           0.0                8   \n",
       "1777           0.0          0                0           0.0                9   \n",
       "3260           0.0          0                0           0.0               10   \n",
       "3405           0.0          0                0           0.0               29   \n",
       "3612           0.0          0                0           0.0               33   \n",
       "\n",
       "      winPoints  winPlacePerc  _totalDistance  _headshot_rate  \n",
       "896        1500        0.2000             0.0        0.000000  \n",
       "1777       1500        1.0000             0.0        0.500000  \n",
       "3260       1500        0.7692             0.0        0.166667  \n",
       "3405       1500        1.0000             0.0        0.333333  \n",
       "3612       1500        0.7500             0.0        0.277778  "
      ]
     },
     "execution_count": 37,
     "metadata": {},
     "output_type": "execute_result"
    }
   ],
   "source": [
    "#identify users\n",
    "df_5 = df[(df['_totalDistance'] <= df['_totalDistance'].quantile(0.10)) & (df['weaponsAcquired']  >= df['weaponsAcquired'].quantile(0.90))]\n",
    "print(len(df_5))\n",
    "df_5.head()"
   ]
  },
  {
   "cell_type": "code",
   "execution_count": 38,
   "metadata": {
    "colab": {
     "base_uri": "https://localhost:8080/",
     "height": 279
    },
    "executionInfo": {
     "elapsed": 885,
     "status": "ok",
     "timestamp": 1670037092896,
     "user": {
      "displayName": "박지환",
      "userId": "03562376240636475247"
     },
     "user_tz": -540
    },
    "id": "3HZXrzeQMboh",
    "outputId": "c908de5d-4183-4a64-f8e5-bd2a03fbcfc5"
   },
   "outputs": [
    {
     "data": {
      "image/png": "[encoded data removed]",
      "text/plain": [
       "<Figure size 640x480 with 1 Axes>"
      ]
     },
     "metadata": {},
     "output_type": "display_data"
    }
   ],
   "source": [
    "sns.distplot(df_5['weaponsAcquired']);"
   ]
  },
  {
   "cell_type": "code",
   "execution_count": 39,
   "metadata": {
    "colab": {
     "base_uri": "https://localhost:8080/",
     "height": 363
    },
    "executionInfo": {
     "elapsed": 399,
     "status": "ok",
     "timestamp": 1670037205749,
     "user": {
      "displayName": "박지환",
      "userId": "03562376240636475247"
     },
     "user_tz": -540
    },
    "id": "iTJktfv3Mbtk",
    "outputId": "78b38382-a570-4832-a9cb-6a956137b23a"
   },
   "outputs": [
    {
     "data": {
      "text/html": [
       "<div>\n",
       "<style scoped>\n",
       "    .dataframe tbody tr th:only-of-type {\n",
       "        vertical-align: middle;\n",
       "    }\n",
       "\n",
       "    .dataframe tbody tr th {\n",
       "        vertical-align: top;\n",
       "    }\n",
       "\n",
       "    .dataframe thead th {\n",
       "        text-align: right;\n",
       "    }\n",
       "</style>\n",
       "<table border=\"1\" class=\"dataframe\">\n",
       "  <thead>\n",
       "    <tr style=\"text-align: right;\">\n",
       "      <th></th>\n",
       "      <th>_totalDistance</th>\n",
       "      <th>weaponsAcquired</th>\n",
       "    </tr>\n",
       "  </thead>\n",
       "  <tbody>\n",
       "    <tr>\n",
       "      <th>1525623</th>\n",
       "      <td>0.000</td>\n",
       "      <td>55</td>\n",
       "    </tr>\n",
       "    <tr>\n",
       "      <th>492307</th>\n",
       "      <td>8.284</td>\n",
       "      <td>58</td>\n",
       "    </tr>\n",
       "    <tr>\n",
       "      <th>455912</th>\n",
       "      <td>9.554</td>\n",
       "      <td>58</td>\n",
       "    </tr>\n",
       "    <tr>\n",
       "      <th>74113</th>\n",
       "      <td>18.790</td>\n",
       "      <td>53</td>\n",
       "    </tr>\n",
       "    <tr>\n",
       "      <th>817586</th>\n",
       "      <td>24.380</td>\n",
       "      <td>60</td>\n",
       "    </tr>\n",
       "    <tr>\n",
       "      <th>198722</th>\n",
       "      <td>24.570</td>\n",
       "      <td>60</td>\n",
       "    </tr>\n",
       "    <tr>\n",
       "      <th>444634</th>\n",
       "      <td>25.310</td>\n",
       "      <td>51</td>\n",
       "    </tr>\n",
       "    <tr>\n",
       "      <th>1072609</th>\n",
       "      <td>30.490</td>\n",
       "      <td>72</td>\n",
       "    </tr>\n",
       "    <tr>\n",
       "      <th>966854</th>\n",
       "      <td>34.290</td>\n",
       "      <td>55</td>\n",
       "    </tr>\n",
       "    <tr>\n",
       "      <th>550242</th>\n",
       "      <td>37.670</td>\n",
       "      <td>51</td>\n",
       "    </tr>\n",
       "  </tbody>\n",
       "</table>\n",
       "</div>"
      ],
      "text/plain": [
       "         _totalDistance  weaponsAcquired\n",
       "1525623           0.000               55\n",
       "492307            8.284               58\n",
       "455912            9.554               58\n",
       "74113            18.790               53\n",
       "817586           24.380               60\n",
       "198722           24.570               60\n",
       "444634           25.310               51\n",
       "1072609          30.490               72\n",
       "966854           34.290               55\n",
       "550242           37.670               51"
      ]
     },
     "execution_count": 39,
     "metadata": {},
     "output_type": "execute_result"
    }
   ],
   "source": [
    "# find out abnormal users\n",
    "df_5[df_5['weaponsAcquired']>50][['_totalDistance', 'weaponsAcquired']].sort_values(by=['_totalDistance'])"
   ]
  },
  {
   "cell_type": "code",
   "execution_count": 40,
   "metadata": {},
   "outputs": [
    {
     "name": "stdout",
     "output_type": "stream",
     "text": [
      "Saving figure flagged_by_rule\n"
     ]
    },
    {
     "data": {
      "image/png": "[encoded data removed]",
      "text/plain": [
       "<Figure size 800x500 with 1 Axes>"
      ]
     },
     "metadata": {},
     "output_type": "display_data"
    }
   ],
   "source": [
    "if '_totalDistance' not in df.columns:\n",
    "    df['_totalDistance'] = df['rideDistance'] + df['walkDistance'] + df['swimDistance']\n",
    "if '_headshot_rate' not in df.columns:\n",
    "    df['_headshot_rate'] = (df['headshotKills'] / df['kills']).fillna(0)\n",
    "\n",
    "td_q10  = df['_totalDistance'].quantile(0.10)\n",
    "heal_q10= df['heals'].quantile(0.10)\n",
    "weap_q90= df['weaponsAcquired'].quantile(0.90)\n",
    "kill_mu, kill_sd = df['kills'].mean(), df['kills'].std()\n",
    "\n",
    "df_1 = df[(df['_totalDistance'] <= td_q10) & (df['_headshot_rate'] >= 0.8)]\n",
    "df_2 = df[(df['heals'] <= heal_q10) & (df['kills'] >= kill_mu + 3*kill_sd)]\n",
    "df_3_base = df[df['_headshot_rate'] == 1]\n",
    "df_3 = df_3_base[df_3_base['kills'] > 10]\n",
    "df_5 = df[(df['_totalDistance'] <= td_q10) & (df['weaponsAcquired'] >= weap_q90)]\n",
    "\n",
    "labels = ['Automated aiming', 'Inhuman kills\\n(low heal)', '100% headshot\\n(kills>10)', 'No-moving &\\nMany weapons']\n",
    "values = [len(df_1), len(df_2), len(df_3), len(df_5)]\n",
    "\n",
    "plt.figure(figsize=(8,5))\n",
    "bars = plt.bar(labels, values)\n",
    "for b in bars:\n",
    "    b.set_alpha(0.9)\n",
    "plt.ylabel('Flagged Users (count)')\n",
    "plt.title('Flagged Users by Rule')\n",
    "\n",
    "for x, v in enumerate(values):\n",
    "    plt.text(x, v, str(v), ha='center', va='bottom')\n",
    "\n",
    "save_fig('flagged_by_rule')\n",
    "plt.show()\n"
   ]
  },
  {
   "cell_type": "code",
   "execution_count": 42,
   "metadata": {},
   "outputs": [
    {
     "name": "stdout",
     "output_type": "stream",
     "text": [
      "Saving figure distance_vs_headshot_thresholds\n"
     ]
    },
    {
     "data": {
      "image/png": "[encoded data removed]",
      "text/plain": [
       "<Figure size 750x600 with 1 Axes>"
      ]
     },
     "metadata": {},
     "output_type": "display_data"
    }
   ],
   "source": [
    "td_q10 = df['_totalDistance'].quantile(0.10)\n",
    "\n",
    "plt.figure(figsize=(7.5,6))\n",
    "plt.scatter(df['_totalDistance'], df['_headshot_rate'], s=6, alpha=0.25, label='All users')\n",
    "flag = (df['_totalDistance'] <= td_q10) & (df['_headshot_rate'] >= 0.8)\n",
    "plt.scatter(df.loc[flag, '_totalDistance'], df.loc[flag, '_headshot_rate'], s=14, alpha=0.8, label='Flagged')\n",
    "\n",
    "plt.axvline(td_q10, linestyle='--', linewidth=1)\n",
    "plt.axhline(0.8,   linestyle='--', linewidth=1)\n",
    "\n",
    "plt.xlabel('Total Distance')\n",
    "plt.ylabel('Headshot Rate')\n",
    "plt.title('Automated aiming thresholding')\n",
    "plt.legend()\n",
    "\n",
    "save_fig('distance_vs_headshot_thresholds')\n",
    "plt.show()\n"
   ]
  },
  {
   "cell_type": "code",
   "execution_count": null,
   "metadata": {},
   "outputs": [],
   "source": []
  }
 ],
 "metadata": {
  "colab": {
   "authorship_tag": "ABX9TyN62I82fCAjNLI3mzhfFLDf",
   "mount_file_id": "1mWz88me6cHFYxGvRSaO2xjBQMDhvL22P",
   "provenance": [],
   "toc_visible": true
  },
  "gpuClass": "standard",
  "kernelspec": {
   "display_name": "Python 3 (ipykernel)",
   "language": "python",
   "name": "python3"
  },
  "language_info": {
   "codemirror_mode": {
    "name": "ipython",
    "version": 3
   },
   "file_extension": ".py",
   "mimetype": "text/x-python",
   "name": "python",
   "nbconvert_exporter": "python",
   "pygments_lexer": "ipython3",
   "version": "3.8.20"
  }
 },
 "nbformat": 4,
 "nbformat_minor": 4
}
