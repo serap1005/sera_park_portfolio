{
 "cells": [
  {
   "cell_type": "markdown",
   "metadata": {
    "id": "Y__7jTAxzZdM"
   },
   "source": [
    "# **Car Accident Fraud Prediction Analysis**  \n",
    "---\n",
    "> **Context**\n",
    "\n",
    "* Project Summary\n",
    "* Situation Introduction\n",
    "  - Process 1\n",
    "  - Process 2\n",
    "  - Process 3"
   ]
  },
  {
   "cell_type": "markdown",
   "metadata": {
    "id": "q50ZbnGPlU4Q"
   },
   "source": [
    "## **Project Summary**\n",
    "---\n",
    "\n",
    "> **Project Title**\n",
    "\n",
    "```\n",
    "▶ Car Accident Fraud Prediction Analysis\n",
    "```  \n",
    "\n",
    "> **Project Type**\n",
    "\n",
    "```\n",
    "▶ Data EDA & Classification Prediction\n",
    "Data Source: https://www.kaggle.com/competitions/2021-uofmn-travelers-modeling-competition/data\n",
    "```"
   ]
  },
  {
   "cell_type": "markdown",
   "metadata": {
    "id": "e3pPnA66lq9c"
   },
   "source": [
    "## **Project Introduction**\n",
    "---\n",
    "\n",
    "> **Scenario**\n",
    "\n",
    "```\n",
    "A car insurance company has experienced a surge in new registrations. However, along with this growth comes a concerning increase in fraudulent insurance claims.\n",
    "```\n",
    "\n",
    "> **Problem Definition**\n",
    "\n",
    "```\n",
    "▶ Rising number of fraudulent insurance claims.\n",
    "```  \n",
    "\n",
    "\n",
    "> **Expected Outcome**\n",
    "\n",
    "```\n",
    "▶ Reduction in fraudulent claim cases.\n",
    "```\n",
    "\n",
    "> **Proposed Solution**\n",
    "\n",
    "```\n",
    "▶ Identify high-risk claims with a high likelihood of fraud and conduct targeted re-evaluations to prevent fraudulent payouts\n",
    "```\n",
    "\n",
    "> **Performance Metric**  \n",
    "\n",
    "```\n",
    "▶ Compare the number of fraudulent cases before and after claim re-evaluation.\n",
    "```\n",
    "\n",
    "> **Operations**  \n",
    "\n",
    "```\n",
    "▶ Generate and load a predefined data mart on a monthly basis.\n",
    "▶ Use the fraud detection model each month to extract claims with a high fraud probability.\n",
    "▶ Prevent fraudulent transactions through re-evaluation and investigation.\n",
    "```"
   ]
  },
  {
   "cell_type": "code",
   "execution_count": 1,
   "metadata": {
    "colab": {
     "base_uri": "https://localhost:8080/",
     "height": 53
    },
    "executionInfo": {
     "elapsed": 23367,
     "status": "ok",
     "timestamp": 1696924754913,
     "user": {
      "displayName": "박지환",
      "userId": "03562376240636475247"
     },
     "user_tz": -540
    },
    "id": "OkPHxcmOzoqz",
    "outputId": "5a7ab2c5-505b-49b9-d46e-92ed10875401"
   },
   "outputs": [],
   "source": [
    "import warnings\n",
    "warnings.filterwarnings('ignore')"
   ]
  },
  {
   "cell_type": "code",
   "execution_count": 2,
   "metadata": {},
   "outputs": [],
   "source": [
    "import os\n",
    "import matplotlib.pyplot as plt\n",
    "\n",
    "def save_fig(fig_id, tight_layout=True, fig_extension=\"png\", resolution=300):\n",
    "    IMAGES_PATH = os.path.join(\"images\")\n",
    "    os.makedirs(IMAGES_PATH, exist_ok=True)\n",
    "    path = os.path.join(IMAGES_PATH, fig_id + \".\" + fig_extension)\n",
    "    print(\"Saving figure\", fig_id)\n",
    "    if tight_layout:\n",
    "        plt.tight_layout()\n",
    "    plt.savefig(path, format=fig_extension, dpi=resolution)"
   ]
  },
  {
   "cell_type": "code",
   "execution_count": 4,
   "metadata": {
    "colab": {
     "base_uri": "https://localhost:8080/",
     "height": 255
    },
    "executionInfo": {
     "elapsed": 2271,
     "status": "ok",
     "timestamp": 1696924764080,
     "user": {
      "displayName": "박지환",
      "userId": "03562376240636475247"
     },
     "user_tz": -540
    },
    "id": "XuaGkcAo04-R",
    "outputId": "f00d3ff9-0fa9-46ef-a401-667e8125cac0"
   },
   "outputs": [
    {
     "data": {
      "text/html": [
       "<div>\n",
       "<style scoped>\n",
       "    .dataframe tbody tr th:only-of-type {\n",
       "        vertical-align: middle;\n",
       "    }\n",
       "\n",
       "    .dataframe tbody tr th {\n",
       "        vertical-align: top;\n",
       "    }\n",
       "\n",
       "    .dataframe thead th {\n",
       "        text-align: right;\n",
       "    }\n",
       "</style>\n",
       "<table border=\"1\" class=\"dataframe\">\n",
       "  <thead>\n",
       "    <tr style=\"text-align: right;\">\n",
       "      <th></th>\n",
       "      <th>claim_number</th>\n",
       "      <th>age_of_driver</th>\n",
       "      <th>gender</th>\n",
       "      <th>marital_status</th>\n",
       "      <th>safty_rating</th>\n",
       "      <th>annual_income</th>\n",
       "      <th>high_education_ind</th>\n",
       "      <th>address_change_ind</th>\n",
       "      <th>living_status</th>\n",
       "      <th>zip_code</th>\n",
       "      <th>...</th>\n",
       "      <th>liab_prct</th>\n",
       "      <th>channel</th>\n",
       "      <th>policy_report_filed_ind</th>\n",
       "      <th>claim_est_payout</th>\n",
       "      <th>age_of_vehicle</th>\n",
       "      <th>vehicle_category</th>\n",
       "      <th>vehicle_price</th>\n",
       "      <th>vehicle_color</th>\n",
       "      <th>vehicle_weight</th>\n",
       "      <th>fraud</th>\n",
       "    </tr>\n",
       "  </thead>\n",
       "  <tbody>\n",
       "    <tr>\n",
       "      <th>0</th>\n",
       "      <td>1</td>\n",
       "      <td>46</td>\n",
       "      <td>M</td>\n",
       "      <td>1.0</td>\n",
       "      <td>85</td>\n",
       "      <td>38301</td>\n",
       "      <td>1</td>\n",
       "      <td>1</td>\n",
       "      <td>Rent</td>\n",
       "      <td>80006</td>\n",
       "      <td>...</td>\n",
       "      <td>74</td>\n",
       "      <td>Broker</td>\n",
       "      <td>0</td>\n",
       "      <td>7530.940993</td>\n",
       "      <td>9.0</td>\n",
       "      <td>Compact</td>\n",
       "      <td>12885.45235</td>\n",
       "      <td>white</td>\n",
       "      <td>16161.33381</td>\n",
       "      <td>0</td>\n",
       "    </tr>\n",
       "    <tr>\n",
       "      <th>1</th>\n",
       "      <td>3</td>\n",
       "      <td>21</td>\n",
       "      <td>F</td>\n",
       "      <td>0.0</td>\n",
       "      <td>75</td>\n",
       "      <td>30445</td>\n",
       "      <td>0</td>\n",
       "      <td>1</td>\n",
       "      <td>Rent</td>\n",
       "      <td>15021</td>\n",
       "      <td>...</td>\n",
       "      <td>79</td>\n",
       "      <td>Online</td>\n",
       "      <td>0</td>\n",
       "      <td>2966.024895</td>\n",
       "      <td>4.0</td>\n",
       "      <td>Large</td>\n",
       "      <td>29429.45218</td>\n",
       "      <td>white</td>\n",
       "      <td>28691.96422</td>\n",
       "      <td>0</td>\n",
       "    </tr>\n",
       "    <tr>\n",
       "      <th>2</th>\n",
       "      <td>4</td>\n",
       "      <td>49</td>\n",
       "      <td>F</td>\n",
       "      <td>0.0</td>\n",
       "      <td>87</td>\n",
       "      <td>38923</td>\n",
       "      <td>0</td>\n",
       "      <td>1</td>\n",
       "      <td>Own</td>\n",
       "      <td>20158</td>\n",
       "      <td>...</td>\n",
       "      <td>0</td>\n",
       "      <td>Broker</td>\n",
       "      <td>0</td>\n",
       "      <td>6283.888333</td>\n",
       "      <td>3.0</td>\n",
       "      <td>Compact</td>\n",
       "      <td>21701.18195</td>\n",
       "      <td>white</td>\n",
       "      <td>22090.94758</td>\n",
       "      <td>1</td>\n",
       "    </tr>\n",
       "    <tr>\n",
       "      <th>3</th>\n",
       "      <td>5</td>\n",
       "      <td>58</td>\n",
       "      <td>F</td>\n",
       "      <td>1.0</td>\n",
       "      <td>58</td>\n",
       "      <td>40605</td>\n",
       "      <td>1</td>\n",
       "      <td>0</td>\n",
       "      <td>Own</td>\n",
       "      <td>15024</td>\n",
       "      <td>...</td>\n",
       "      <td>99</td>\n",
       "      <td>Broker</td>\n",
       "      <td>1</td>\n",
       "      <td>6169.747994</td>\n",
       "      <td>4.0</td>\n",
       "      <td>Medium</td>\n",
       "      <td>13198.27344</td>\n",
       "      <td>other</td>\n",
       "      <td>38329.58106</td>\n",
       "      <td>1</td>\n",
       "    </tr>\n",
       "    <tr>\n",
       "      <th>4</th>\n",
       "      <td>6</td>\n",
       "      <td>38</td>\n",
       "      <td>M</td>\n",
       "      <td>1.0</td>\n",
       "      <td>95</td>\n",
       "      <td>36380</td>\n",
       "      <td>1</td>\n",
       "      <td>0</td>\n",
       "      <td>Rent</td>\n",
       "      <td>50034</td>\n",
       "      <td>...</td>\n",
       "      <td>7</td>\n",
       "      <td>Broker</td>\n",
       "      <td>0</td>\n",
       "      <td>4541.387150</td>\n",
       "      <td>7.0</td>\n",
       "      <td>Medium</td>\n",
       "      <td>38060.21122</td>\n",
       "      <td>gray</td>\n",
       "      <td>25876.56319</td>\n",
       "      <td>0</td>\n",
       "    </tr>\n",
       "  </tbody>\n",
       "</table>\n",
       "<p>5 rows × 25 columns</p>\n",
       "</div>"
      ],
      "text/plain": [
       "   claim_number  age_of_driver gender  marital_status  safty_rating  \\\n",
       "0             1             46      M             1.0            85   \n",
       "1             3             21      F             0.0            75   \n",
       "2             4             49      F             0.0            87   \n",
       "3             5             58      F             1.0            58   \n",
       "4             6             38      M             1.0            95   \n",
       "\n",
       "   annual_income  high_education_ind  address_change_ind living_status  \\\n",
       "0          38301                   1                   1          Rent   \n",
       "1          30445                   0                   1          Rent   \n",
       "2          38923                   0                   1           Own   \n",
       "3          40605                   1                   0           Own   \n",
       "4          36380                   1                   0          Rent   \n",
       "\n",
       "   zip_code  ... liab_prct channel policy_report_filed_ind  claim_est_payout  \\\n",
       "0     80006  ...        74  Broker                       0       7530.940993   \n",
       "1     15021  ...        79  Online                       0       2966.024895   \n",
       "2     20158  ...         0  Broker                       0       6283.888333   \n",
       "3     15024  ...        99  Broker                       1       6169.747994   \n",
       "4     50034  ...         7  Broker                       0       4541.387150   \n",
       "\n",
       "   age_of_vehicle  vehicle_category vehicle_price  vehicle_color  \\\n",
       "0             9.0           Compact   12885.45235          white   \n",
       "1             4.0             Large   29429.45218          white   \n",
       "2             3.0           Compact   21701.18195          white   \n",
       "3             4.0            Medium   13198.27344          other   \n",
       "4             7.0            Medium   38060.21122           gray   \n",
       "\n",
       "   vehicle_weight  fraud  \n",
       "0     16161.33381      0  \n",
       "1     28691.96422      0  \n",
       "2     22090.94758      1  \n",
       "3     38329.58106      1  \n",
       "4     25876.56319      0  \n",
       "\n",
       "[5 rows x 25 columns]"
      ]
     },
     "execution_count": 4,
     "metadata": {},
     "output_type": "execute_result"
    }
   ],
   "source": [
    "import pandas as pd\n",
    "df = pd.read_csv('insurance_fraud.csv')\n",
    "df.head()"
   ]
  },
  {
   "cell_type": "markdown",
   "metadata": {
    "id": "0xCTb9jR0PoO"
   },
   "source": [
    "## **Process 1**  \n",
    "- **Identify Meaningful Variables**  \n",
    "---"
   ]
  },
  {
   "cell_type": "markdown",
   "metadata": {
    "id": "9Y4IZe7I0U5h"
   },
   "source": [
    "### Data Preprocessing  \n",
    "---\n",
    "* Review the basic characteristics of the collected dataset: \n",
    "\n",
    "  (1) Check data shape\n",
    "\n",
    "  (2) Verify data type\n",
    "\n",
    "  (3) Identify missing values\n",
    "\n",
    "  (4) Detect outliers"
   ]
  },
  {
   "cell_type": "code",
   "execution_count": 5,
   "metadata": {
    "colab": {
     "base_uri": "https://localhost:8080/"
    },
    "executionInfo": {
     "elapsed": 413,
     "status": "ok",
     "timestamp": 1647777090642,
     "user": {
      "displayName": "Liner Park",
      "photoUrl": "https://lh3.googleusercontent.com/a/default-user=s64",
      "userId": "03562376240636475247"
     },
     "user_tz": -540
    },
    "id": "t1kXha_R08BE",
    "outputId": "7fac605b-e285-4601-c5e9-a2a12190f260"
   },
   "outputs": [
    {
     "name": "stdout",
     "output_type": "stream",
     "text": [
      "df (17998, 25)\n"
     ]
    }
   ],
   "source": [
    "print('df', df.shape)"
   ]
  },
  {
   "cell_type": "code",
   "execution_count": 6,
   "metadata": {
    "colab": {
     "base_uri": "https://localhost:8080/"
    },
    "executionInfo": {
     "elapsed": 10,
     "status": "ok",
     "timestamp": 1647777091115,
     "user": {
      "displayName": "Liner Park",
      "photoUrl": "https://lh3.googleusercontent.com/a/default-user=s64",
      "userId": "03562376240636475247"
     },
     "user_tz": -540
    },
    "id": "ML9Ig6La1AqJ",
    "outputId": "04fd9e8d-fea7-4687-8c5b-ff70d874b019"
   },
   "outputs": [
    {
     "name": "stdout",
     "output_type": "stream",
     "text": [
      "<class 'pandas.core.frame.DataFrame'>\n",
      "RangeIndex: 17998 entries, 0 to 17997\n",
      "Data columns (total 25 columns):\n",
      " #   Column                   Non-Null Count  Dtype  \n",
      "---  ------                   --------------  -----  \n",
      " 0   claim_number             17998 non-null  int64  \n",
      " 1   age_of_driver            17998 non-null  int64  \n",
      " 2   gender                   17998 non-null  object \n",
      " 3   marital_status           17993 non-null  float64\n",
      " 4   safty_rating             17998 non-null  int64  \n",
      " 5   annual_income            17998 non-null  int64  \n",
      " 6   high_education_ind       17998 non-null  int64  \n",
      " 7   address_change_ind       17998 non-null  int64  \n",
      " 8   living_status            17998 non-null  object \n",
      " 9   zip_code                 17998 non-null  int64  \n",
      " 10  claim_date               17998 non-null  object \n",
      " 11  claim_day_of_week        17998 non-null  object \n",
      " 12  accident_site            17998 non-null  object \n",
      " 13  past_num_of_claims       17998 non-null  int64  \n",
      " 14  witness_present_ind      17866 non-null  float64\n",
      " 15  liab_prct                17998 non-null  int64  \n",
      " 16  channel                  17998 non-null  object \n",
      " 17  policy_report_filed_ind  17998 non-null  int64  \n",
      " 18  claim_est_payout         17981 non-null  float64\n",
      " 19  age_of_vehicle           17990 non-null  float64\n",
      " 20  vehicle_category         17998 non-null  object \n",
      " 21  vehicle_price            17998 non-null  float64\n",
      " 22  vehicle_color            17998 non-null  object \n",
      " 23  vehicle_weight           17998 non-null  float64\n",
      " 24  fraud                    17998 non-null  int64  \n",
      "dtypes: float64(6), int64(11), object(8)\n",
      "memory usage: 3.4+ MB\n"
     ]
    }
   ],
   "source": [
    "df.info()"
   ]
  },
  {
   "cell_type": "code",
   "execution_count": 7,
   "metadata": {
    "colab": {
     "base_uri": "https://localhost:8080/"
    },
    "executionInfo": {
     "elapsed": 6,
     "status": "ok",
     "timestamp": 1647777091521,
     "user": {
      "displayName": "Liner Park",
      "photoUrl": "https://lh3.googleusercontent.com/a/default-user=s64",
      "userId": "03562376240636475247"
     },
     "user_tz": -540
    },
    "id": "708hjNRC5IZ0",
    "outputId": "eb51276d-909d-42c7-d95d-fa9006f4a75d"
   },
   "outputs": [
    {
     "name": "stdout",
     "output_type": "stream",
     "text": [
      "claim_number                 0\n",
      "age_of_driver                0\n",
      "gender                       0\n",
      "marital_status               5\n",
      "safty_rating                 0\n",
      "annual_income                0\n",
      "high_education_ind           0\n",
      "address_change_ind           0\n",
      "living_status                0\n",
      "zip_code                     0\n",
      "claim_date                   0\n",
      "claim_day_of_week            0\n",
      "accident_site                0\n",
      "past_num_of_claims           0\n",
      "witness_present_ind        132\n",
      "liab_prct                    0\n",
      "channel                      0\n",
      "policy_report_filed_ind      0\n",
      "claim_est_payout            17\n",
      "age_of_vehicle               8\n",
      "vehicle_category             0\n",
      "vehicle_price                0\n",
      "vehicle_color                0\n",
      "vehicle_weight               0\n",
      "fraud                        0\n",
      "dtype: int64\n"
     ]
    }
   ],
   "source": [
    "print(df.isnull().sum())"
   ]
  },
  {
   "cell_type": "code",
   "execution_count": 8,
   "metadata": {
    "id": "BRbQRyZw7ZOG"
   },
   "outputs": [],
   "source": [
    "df = df.dropna(subset=['claim_est_payout', 'age_of_vehicle'])\n",
    "df['marital_status'].fillna(0.0, inplace=True)\n",
    "df['witness_present_ind'].fillna(0.0, inplace=True)"
   ]
  },
  {
   "cell_type": "code",
   "execution_count": 9,
   "metadata": {
    "colab": {
     "base_uri": "https://localhost:8080/"
    },
    "executionInfo": {
     "elapsed": 8,
     "status": "ok",
     "timestamp": 1647777093954,
     "user": {
      "displayName": "Liner Park",
      "photoUrl": "https://lh3.googleusercontent.com/a/default-user=s64",
      "userId": "03562376240636475247"
     },
     "user_tz": -540
    },
    "id": "94-8qZRf74ht",
    "outputId": "aebd05b8-3702-4106-d637-4fb63970222a"
   },
   "outputs": [
    {
     "name": "stdout",
     "output_type": "stream",
     "text": [
      "claim_number               0\n",
      "age_of_driver              0\n",
      "gender                     0\n",
      "marital_status             0\n",
      "safty_rating               0\n",
      "annual_income              0\n",
      "high_education_ind         0\n",
      "address_change_ind         0\n",
      "living_status              0\n",
      "zip_code                   0\n",
      "claim_date                 0\n",
      "claim_day_of_week          0\n",
      "accident_site              0\n",
      "past_num_of_claims         0\n",
      "witness_present_ind        0\n",
      "liab_prct                  0\n",
      "channel                    0\n",
      "policy_report_filed_ind    0\n",
      "claim_est_payout           0\n",
      "age_of_vehicle             0\n",
      "vehicle_category           0\n",
      "vehicle_price              0\n",
      "vehicle_color              0\n",
      "vehicle_weight             0\n",
      "fraud                      0\n",
      "dtype: int64\n"
     ]
    }
   ],
   "source": [
    "print(df.isnull().sum())"
   ]
  },
  {
   "cell_type": "code",
   "execution_count": 10,
   "metadata": {
    "colab": {
     "base_uri": "https://localhost:8080/"
    },
    "executionInfo": {
     "elapsed": 9,
     "status": "ok",
     "timestamp": 1647777113874,
     "user": {
      "displayName": "Liner Park",
      "photoUrl": "https://lh3.googleusercontent.com/a/default-user=s64",
      "userId": "03562376240636475247"
     },
     "user_tz": -540
    },
    "id": "Lp_Qt0DT7eMU",
    "outputId": "26c37ac0-5ac6-4c3d-c0a2-409ca72de020"
   },
   "outputs": [
    {
     "data": {
      "text/plain": [
       "fraud\n",
       "0    15161\n",
       "1     2812\n",
       "Name: count, dtype: int64"
      ]
     },
     "execution_count": 10,
     "metadata": {},
     "output_type": "execute_result"
    }
   ],
   "source": [
    "df['fraud'].value_counts()"
   ]
  },
  {
   "cell_type": "code",
   "execution_count": 11,
   "metadata": {
    "colab": {
     "base_uri": "https://localhost:8080/"
    },
    "executionInfo": {
     "elapsed": 4,
     "status": "ok",
     "timestamp": 1647777114274,
     "user": {
      "displayName": "Liner Park",
      "photoUrl": "https://lh3.googleusercontent.com/a/default-user=s64",
      "userId": "03562376240636475247"
     },
     "user_tz": -540
    },
    "id": "or9f4zlz7hDE",
    "outputId": "35c331be-b8a4-4c69-e2fb-5d04bcafd990"
   },
   "outputs": [
    {
     "data": {
      "text/plain": [
       "0.15627431366010894"
      ]
     },
     "execution_count": 11,
     "metadata": {},
     "output_type": "execute_result"
    }
   ],
   "source": [
    "# Fraud Rate : \n",
    "2812 / (2812 + 15182)"
   ]
  },
  {
   "cell_type": "code",
   "execution_count": 12,
   "metadata": {
    "colab": {
     "base_uri": "https://localhost:8080/"
    },
    "executionInfo": {
     "elapsed": 351,
     "status": "ok",
     "timestamp": 1647777117497,
     "user": {
      "displayName": "Liner Park",
      "photoUrl": "https://lh3.googleusercontent.com/a/default-user=s64",
      "userId": "03562376240636475247"
     },
     "user_tz": -540
    },
    "id": "UClhE_LW5iPB",
    "outputId": "b251f192-201f-4f55-d569-1c024165e3c7"
   },
   "outputs": [
    {
     "name": "stdout",
     "output_type": "stream",
     "text": [
      "categoical_list : ['gender', 'living_status', 'claim_date', 'claim_day_of_week', 'accident_site', 'channel', 'vehicle_category', 'vehicle_color']\n",
      "numeric_list : ['claim_number', 'age_of_driver', 'marital_status', 'safty_rating', 'annual_income', 'high_education_ind', 'address_change_ind', 'zip_code', 'past_num_of_claims', 'witness_present_ind', 'liab_prct', 'policy_report_filed_ind', 'claim_est_payout', 'age_of_vehicle', 'vehicle_price', 'vehicle_weight', 'fraud']\n"
     ]
    }
   ],
   "source": [
    "# numeric & categorical value\n",
    "numeric_list=[]\n",
    "categoical_list=[]\n",
    "\n",
    "for i in df.columns :\n",
    "  if df[i].dtypes == 'O' :\n",
    "    categoical_list.append(i)\n",
    "  else :\n",
    "    numeric_list.append(i)\n",
    "\n",
    "print(\"categoical_list :\", categoical_list)\n",
    "print(\"numeric_list :\", numeric_list)"
   ]
  },
  {
   "cell_type": "code",
   "execution_count": 13,
   "metadata": {
    "colab": {
     "base_uri": "https://localhost:8080/",
     "height": 488
    },
    "executionInfo": {
     "elapsed": 62,
     "status": "ok",
     "timestamp": 1647777119071,
     "user": {
      "displayName": "Liner Park",
      "photoUrl": "https://lh3.googleusercontent.com/a/default-user=s64",
      "userId": "03562376240636475247"
     },
     "user_tz": -540
    },
    "id": "h1KMttsSPgpM",
    "outputId": "e3d46ddc-685b-4302-a16d-9e04ac737dd2"
   },
   "outputs": [
    {
     "data": {
      "text/html": [
       "<div>\n",
       "<style scoped>\n",
       "    .dataframe tbody tr th:only-of-type {\n",
       "        vertical-align: middle;\n",
       "    }\n",
       "\n",
       "    .dataframe tbody tr th {\n",
       "        vertical-align: top;\n",
       "    }\n",
       "\n",
       "    .dataframe thead th {\n",
       "        text-align: right;\n",
       "    }\n",
       "</style>\n",
       "<table border=\"1\" class=\"dataframe\">\n",
       "  <thead>\n",
       "    <tr style=\"text-align: right;\">\n",
       "      <th></th>\n",
       "      <th>claim_number</th>\n",
       "      <th>age_of_driver</th>\n",
       "      <th>marital_status</th>\n",
       "      <th>safty_rating</th>\n",
       "      <th>annual_income</th>\n",
       "      <th>high_education_ind</th>\n",
       "      <th>address_change_ind</th>\n",
       "      <th>zip_code</th>\n",
       "      <th>past_num_of_claims</th>\n",
       "      <th>witness_present_ind</th>\n",
       "      <th>liab_prct</th>\n",
       "      <th>policy_report_filed_ind</th>\n",
       "      <th>claim_est_payout</th>\n",
       "      <th>age_of_vehicle</th>\n",
       "      <th>vehicle_price</th>\n",
       "      <th>vehicle_weight</th>\n",
       "      <th>fraud</th>\n",
       "    </tr>\n",
       "  </thead>\n",
       "  <tbody>\n",
       "    <tr>\n",
       "      <th>0</th>\n",
       "      <td>1</td>\n",
       "      <td>46</td>\n",
       "      <td>1.0</td>\n",
       "      <td>85</td>\n",
       "      <td>38301</td>\n",
       "      <td>1</td>\n",
       "      <td>1</td>\n",
       "      <td>80006</td>\n",
       "      <td>1</td>\n",
       "      <td>0.0</td>\n",
       "      <td>74</td>\n",
       "      <td>0</td>\n",
       "      <td>7530.940993</td>\n",
       "      <td>9.0</td>\n",
       "      <td>12885.452350</td>\n",
       "      <td>16161.33381</td>\n",
       "      <td>0</td>\n",
       "    </tr>\n",
       "    <tr>\n",
       "      <th>1</th>\n",
       "      <td>3</td>\n",
       "      <td>21</td>\n",
       "      <td>0.0</td>\n",
       "      <td>75</td>\n",
       "      <td>30445</td>\n",
       "      <td>0</td>\n",
       "      <td>1</td>\n",
       "      <td>15021</td>\n",
       "      <td>1</td>\n",
       "      <td>1.0</td>\n",
       "      <td>79</td>\n",
       "      <td>0</td>\n",
       "      <td>2966.024895</td>\n",
       "      <td>4.0</td>\n",
       "      <td>29429.452180</td>\n",
       "      <td>28691.96422</td>\n",
       "      <td>0</td>\n",
       "    </tr>\n",
       "    <tr>\n",
       "      <th>2</th>\n",
       "      <td>4</td>\n",
       "      <td>49</td>\n",
       "      <td>0.0</td>\n",
       "      <td>87</td>\n",
       "      <td>38923</td>\n",
       "      <td>0</td>\n",
       "      <td>1</td>\n",
       "      <td>20158</td>\n",
       "      <td>0</td>\n",
       "      <td>0.0</td>\n",
       "      <td>0</td>\n",
       "      <td>0</td>\n",
       "      <td>6283.888333</td>\n",
       "      <td>3.0</td>\n",
       "      <td>21701.181950</td>\n",
       "      <td>22090.94758</td>\n",
       "      <td>1</td>\n",
       "    </tr>\n",
       "    <tr>\n",
       "      <th>3</th>\n",
       "      <td>5</td>\n",
       "      <td>58</td>\n",
       "      <td>1.0</td>\n",
       "      <td>58</td>\n",
       "      <td>40605</td>\n",
       "      <td>1</td>\n",
       "      <td>0</td>\n",
       "      <td>15024</td>\n",
       "      <td>3</td>\n",
       "      <td>0.0</td>\n",
       "      <td>99</td>\n",
       "      <td>1</td>\n",
       "      <td>6169.747994</td>\n",
       "      <td>4.0</td>\n",
       "      <td>13198.273440</td>\n",
       "      <td>38329.58106</td>\n",
       "      <td>1</td>\n",
       "    </tr>\n",
       "    <tr>\n",
       "      <th>4</th>\n",
       "      <td>6</td>\n",
       "      <td>38</td>\n",
       "      <td>1.0</td>\n",
       "      <td>95</td>\n",
       "      <td>36380</td>\n",
       "      <td>1</td>\n",
       "      <td>0</td>\n",
       "      <td>50034</td>\n",
       "      <td>0</td>\n",
       "      <td>1.0</td>\n",
       "      <td>7</td>\n",
       "      <td>0</td>\n",
       "      <td>4541.387150</td>\n",
       "      <td>7.0</td>\n",
       "      <td>38060.211220</td>\n",
       "      <td>25876.56319</td>\n",
       "      <td>0</td>\n",
       "    </tr>\n",
       "    <tr>\n",
       "      <th>...</th>\n",
       "      <td>...</td>\n",
       "      <td>...</td>\n",
       "      <td>...</td>\n",
       "      <td>...</td>\n",
       "      <td>...</td>\n",
       "      <td>...</td>\n",
       "      <td>...</td>\n",
       "      <td>...</td>\n",
       "      <td>...</td>\n",
       "      <td>...</td>\n",
       "      <td>...</td>\n",
       "      <td>...</td>\n",
       "      <td>...</td>\n",
       "      <td>...</td>\n",
       "      <td>...</td>\n",
       "      <td>...</td>\n",
       "      <td>...</td>\n",
       "    </tr>\n",
       "    <tr>\n",
       "      <th>17993</th>\n",
       "      <td>29993</td>\n",
       "      <td>69</td>\n",
       "      <td>1.0</td>\n",
       "      <td>93</td>\n",
       "      <td>42338</td>\n",
       "      <td>1</td>\n",
       "      <td>0</td>\n",
       "      <td>15012</td>\n",
       "      <td>0</td>\n",
       "      <td>0.0</td>\n",
       "      <td>99</td>\n",
       "      <td>0</td>\n",
       "      <td>4806.841803</td>\n",
       "      <td>6.0</td>\n",
       "      <td>32144.571850</td>\n",
       "      <td>16868.53410</td>\n",
       "      <td>0</td>\n",
       "    </tr>\n",
       "    <tr>\n",
       "      <th>17994</th>\n",
       "      <td>29996</td>\n",
       "      <td>35</td>\n",
       "      <td>0.0</td>\n",
       "      <td>22</td>\n",
       "      <td>35579</td>\n",
       "      <td>1</td>\n",
       "      <td>1</td>\n",
       "      <td>20111</td>\n",
       "      <td>1</td>\n",
       "      <td>0.0</td>\n",
       "      <td>94</td>\n",
       "      <td>1</td>\n",
       "      <td>4089.794471</td>\n",
       "      <td>3.0</td>\n",
       "      <td>9468.510601</td>\n",
       "      <td>31500.99689</td>\n",
       "      <td>1</td>\n",
       "    </tr>\n",
       "    <tr>\n",
       "      <th>17995</th>\n",
       "      <td>29997</td>\n",
       "      <td>27</td>\n",
       "      <td>1.0</td>\n",
       "      <td>81</td>\n",
       "      <td>32953</td>\n",
       "      <td>0</td>\n",
       "      <td>1</td>\n",
       "      <td>15012</td>\n",
       "      <td>2</td>\n",
       "      <td>0.0</td>\n",
       "      <td>1</td>\n",
       "      <td>1</td>\n",
       "      <td>2225.803056</td>\n",
       "      <td>5.0</td>\n",
       "      <td>64974.369590</td>\n",
       "      <td>44536.25506</td>\n",
       "      <td>0</td>\n",
       "    </tr>\n",
       "    <tr>\n",
       "      <th>17996</th>\n",
       "      <td>29999</td>\n",
       "      <td>52</td>\n",
       "      <td>1.0</td>\n",
       "      <td>86</td>\n",
       "      <td>39519</td>\n",
       "      <td>1</td>\n",
       "      <td>0</td>\n",
       "      <td>15026</td>\n",
       "      <td>1</td>\n",
       "      <td>1.0</td>\n",
       "      <td>75</td>\n",
       "      <td>1</td>\n",
       "      <td>9560.744844</td>\n",
       "      <td>3.0</td>\n",
       "      <td>24983.268110</td>\n",
       "      <td>50093.75959</td>\n",
       "      <td>0</td>\n",
       "    </tr>\n",
       "    <tr>\n",
       "      <th>17997</th>\n",
       "      <td>30000</td>\n",
       "      <td>61</td>\n",
       "      <td>0.0</td>\n",
       "      <td>60</td>\n",
       "      <td>41126</td>\n",
       "      <td>1</td>\n",
       "      <td>0</td>\n",
       "      <td>50001</td>\n",
       "      <td>1</td>\n",
       "      <td>1.0</td>\n",
       "      <td>35</td>\n",
       "      <td>0</td>\n",
       "      <td>5166.915270</td>\n",
       "      <td>5.0</td>\n",
       "      <td>19295.970480</td>\n",
       "      <td>15257.21450</td>\n",
       "      <td>0</td>\n",
       "    </tr>\n",
       "  </tbody>\n",
       "</table>\n",
       "<p>17973 rows × 17 columns</p>\n",
       "</div>"
      ],
      "text/plain": [
       "       claim_number  age_of_driver  marital_status  safty_rating  \\\n",
       "0                 1             46             1.0            85   \n",
       "1                 3             21             0.0            75   \n",
       "2                 4             49             0.0            87   \n",
       "3                 5             58             1.0            58   \n",
       "4                 6             38             1.0            95   \n",
       "...             ...            ...             ...           ...   \n",
       "17993         29993             69             1.0            93   \n",
       "17994         29996             35             0.0            22   \n",
       "17995         29997             27             1.0            81   \n",
       "17996         29999             52             1.0            86   \n",
       "17997         30000             61             0.0            60   \n",
       "\n",
       "       annual_income  high_education_ind  address_change_ind  zip_code  \\\n",
       "0              38301                   1                   1     80006   \n",
       "1              30445                   0                   1     15021   \n",
       "2              38923                   0                   1     20158   \n",
       "3              40605                   1                   0     15024   \n",
       "4              36380                   1                   0     50034   \n",
       "...              ...                 ...                 ...       ...   \n",
       "17993          42338                   1                   0     15012   \n",
       "17994          35579                   1                   1     20111   \n",
       "17995          32953                   0                   1     15012   \n",
       "17996          39519                   1                   0     15026   \n",
       "17997          41126                   1                   0     50001   \n",
       "\n",
       "       past_num_of_claims  witness_present_ind  liab_prct  \\\n",
       "0                       1                  0.0         74   \n",
       "1                       1                  1.0         79   \n",
       "2                       0                  0.0          0   \n",
       "3                       3                  0.0         99   \n",
       "4                       0                  1.0          7   \n",
       "...                   ...                  ...        ...   \n",
       "17993                   0                  0.0         99   \n",
       "17994                   1                  0.0         94   \n",
       "17995                   2                  0.0          1   \n",
       "17996                   1                  1.0         75   \n",
       "17997                   1                  1.0         35   \n",
       "\n",
       "       policy_report_filed_ind  claim_est_payout  age_of_vehicle  \\\n",
       "0                            0       7530.940993             9.0   \n",
       "1                            0       2966.024895             4.0   \n",
       "2                            0       6283.888333             3.0   \n",
       "3                            1       6169.747994             4.0   \n",
       "4                            0       4541.387150             7.0   \n",
       "...                        ...               ...             ...   \n",
       "17993                        0       4806.841803             6.0   \n",
       "17994                        1       4089.794471             3.0   \n",
       "17995                        1       2225.803056             5.0   \n",
       "17996                        1       9560.744844             3.0   \n",
       "17997                        0       5166.915270             5.0   \n",
       "\n",
       "       vehicle_price  vehicle_weight  fraud  \n",
       "0       12885.452350     16161.33381      0  \n",
       "1       29429.452180     28691.96422      0  \n",
       "2       21701.181950     22090.94758      1  \n",
       "3       13198.273440     38329.58106      1  \n",
       "4       38060.211220     25876.56319      0  \n",
       "...              ...             ...    ...  \n",
       "17993   32144.571850     16868.53410      0  \n",
       "17994    9468.510601     31500.99689      1  \n",
       "17995   64974.369590     44536.25506      0  \n",
       "17996   24983.268110     50093.75959      0  \n",
       "17997   19295.970480     15257.21450      0  \n",
       "\n",
       "[17973 rows x 17 columns]"
      ]
     },
     "execution_count": 13,
     "metadata": {},
     "output_type": "execute_result"
    }
   ],
   "source": [
    "df[numeric_list]"
   ]
  },
  {
   "cell_type": "markdown",
   "metadata": {
    "id": "SspY0R3X5lHb"
   },
   "source": [
    "## **Process 2**  \n",
    "- **Explore Fraudulent Cases**  \n",
    "---"
   ]
  },
  {
   "cell_type": "markdown",
   "metadata": {
    "id": "C40Ww82q6FPa"
   },
   "source": [
    "### Numeric Variable\n",
    "---"
   ]
  },
  {
   "cell_type": "code",
   "execution_count": 14,
   "metadata": {
    "colab": {
     "base_uri": "https://localhost:8080/"
    },
    "executionInfo": {
     "elapsed": 381,
     "status": "ok",
     "timestamp": 1647777122669,
     "user": {
      "displayName": "Liner Park",
      "photoUrl": "https://lh3.googleusercontent.com/a/default-user=s64",
      "userId": "03562376240636475247"
     },
     "user_tz": -540
    },
    "id": "n5HDbDuK5oq6",
    "outputId": "78469d25-8ea6-4ee3-f6e0-bd61e03a1d62"
   },
   "outputs": [
    {
     "name": "stdout",
     "output_type": "stream",
     "text": [
      "numeric_list : ['claim_number', 'age_of_driver', 'marital_status', 'safty_rating', 'annual_income', 'high_education_ind', 'address_change_ind', 'zip_code', 'past_num_of_claims', 'witness_present_ind', 'liab_prct', 'policy_report_filed_ind', 'claim_est_payout', 'age_of_vehicle', 'vehicle_price', 'vehicle_weight', 'fraud']\n"
     ]
    }
   ],
   "source": [
    "print(\"numeric_list :\", numeric_list)"
   ]
  },
  {
   "cell_type": "code",
   "execution_count": 15,
   "metadata": {
    "colab": {
     "base_uri": "https://localhost:8080/",
     "height": 270
    },
    "executionInfo": {
     "elapsed": 12,
     "status": "ok",
     "timestamp": 1647777122672,
     "user": {
      "displayName": "Liner Park",
      "photoUrl": "https://lh3.googleusercontent.com/a/default-user=s64",
      "userId": "03562376240636475247"
     },
     "user_tz": -540
    },
    "id": "r8sO2BKCSgT8",
    "outputId": "1500b429-0fb9-4d1c-bb76-b14250ee4cb6"
   },
   "outputs": [
    {
     "data": {
      "text/html": [
       "<div>\n",
       "<style scoped>\n",
       "    .dataframe tbody tr th:only-of-type {\n",
       "        vertical-align: middle;\n",
       "    }\n",
       "\n",
       "    .dataframe tbody tr th {\n",
       "        vertical-align: top;\n",
       "    }\n",
       "\n",
       "    .dataframe thead th {\n",
       "        text-align: right;\n",
       "    }\n",
       "</style>\n",
       "<table border=\"1\" class=\"dataframe\">\n",
       "  <thead>\n",
       "    <tr style=\"text-align: right;\">\n",
       "      <th></th>\n",
       "      <th>claim_number</th>\n",
       "      <th>age_of_driver</th>\n",
       "      <th>marital_status</th>\n",
       "      <th>safty_rating</th>\n",
       "      <th>annual_income</th>\n",
       "      <th>high_education_ind</th>\n",
       "      <th>address_change_ind</th>\n",
       "      <th>zip_code</th>\n",
       "      <th>past_num_of_claims</th>\n",
       "      <th>witness_present_ind</th>\n",
       "      <th>liab_prct</th>\n",
       "      <th>policy_report_filed_ind</th>\n",
       "      <th>claim_est_payout</th>\n",
       "      <th>age_of_vehicle</th>\n",
       "      <th>vehicle_price</th>\n",
       "      <th>vehicle_weight</th>\n",
       "      <th>fraud</th>\n",
       "    </tr>\n",
       "  </thead>\n",
       "  <tbody>\n",
       "    <tr>\n",
       "      <th>0</th>\n",
       "      <td>1</td>\n",
       "      <td>46</td>\n",
       "      <td>1.0</td>\n",
       "      <td>85</td>\n",
       "      <td>38301</td>\n",
       "      <td>1</td>\n",
       "      <td>1</td>\n",
       "      <td>80006</td>\n",
       "      <td>1</td>\n",
       "      <td>0.0</td>\n",
       "      <td>74</td>\n",
       "      <td>0</td>\n",
       "      <td>7530.940993</td>\n",
       "      <td>9.0</td>\n",
       "      <td>12885.45235</td>\n",
       "      <td>16161.33381</td>\n",
       "      <td>0</td>\n",
       "    </tr>\n",
       "    <tr>\n",
       "      <th>1</th>\n",
       "      <td>3</td>\n",
       "      <td>21</td>\n",
       "      <td>0.0</td>\n",
       "      <td>75</td>\n",
       "      <td>30445</td>\n",
       "      <td>0</td>\n",
       "      <td>1</td>\n",
       "      <td>15021</td>\n",
       "      <td>1</td>\n",
       "      <td>1.0</td>\n",
       "      <td>79</td>\n",
       "      <td>0</td>\n",
       "      <td>2966.024895</td>\n",
       "      <td>4.0</td>\n",
       "      <td>29429.45218</td>\n",
       "      <td>28691.96422</td>\n",
       "      <td>0</td>\n",
       "    </tr>\n",
       "    <tr>\n",
       "      <th>2</th>\n",
       "      <td>4</td>\n",
       "      <td>49</td>\n",
       "      <td>0.0</td>\n",
       "      <td>87</td>\n",
       "      <td>38923</td>\n",
       "      <td>0</td>\n",
       "      <td>1</td>\n",
       "      <td>20158</td>\n",
       "      <td>0</td>\n",
       "      <td>0.0</td>\n",
       "      <td>0</td>\n",
       "      <td>0</td>\n",
       "      <td>6283.888333</td>\n",
       "      <td>3.0</td>\n",
       "      <td>21701.18195</td>\n",
       "      <td>22090.94758</td>\n",
       "      <td>1</td>\n",
       "    </tr>\n",
       "    <tr>\n",
       "      <th>3</th>\n",
       "      <td>5</td>\n",
       "      <td>58</td>\n",
       "      <td>1.0</td>\n",
       "      <td>58</td>\n",
       "      <td>40605</td>\n",
       "      <td>1</td>\n",
       "      <td>0</td>\n",
       "      <td>15024</td>\n",
       "      <td>3</td>\n",
       "      <td>0.0</td>\n",
       "      <td>99</td>\n",
       "      <td>1</td>\n",
       "      <td>6169.747994</td>\n",
       "      <td>4.0</td>\n",
       "      <td>13198.27344</td>\n",
       "      <td>38329.58106</td>\n",
       "      <td>1</td>\n",
       "    </tr>\n",
       "    <tr>\n",
       "      <th>4</th>\n",
       "      <td>6</td>\n",
       "      <td>38</td>\n",
       "      <td>1.0</td>\n",
       "      <td>95</td>\n",
       "      <td>36380</td>\n",
       "      <td>1</td>\n",
       "      <td>0</td>\n",
       "      <td>50034</td>\n",
       "      <td>0</td>\n",
       "      <td>1.0</td>\n",
       "      <td>7</td>\n",
       "      <td>0</td>\n",
       "      <td>4541.387150</td>\n",
       "      <td>7.0</td>\n",
       "      <td>38060.21122</td>\n",
       "      <td>25876.56319</td>\n",
       "      <td>0</td>\n",
       "    </tr>\n",
       "  </tbody>\n",
       "</table>\n",
       "</div>"
      ],
      "text/plain": [
       "   claim_number  age_of_driver  marital_status  safty_rating  annual_income  \\\n",
       "0             1             46             1.0            85          38301   \n",
       "1             3             21             0.0            75          30445   \n",
       "2             4             49             0.0            87          38923   \n",
       "3             5             58             1.0            58          40605   \n",
       "4             6             38             1.0            95          36380   \n",
       "\n",
       "   high_education_ind  address_change_ind  zip_code  past_num_of_claims  \\\n",
       "0                   1                   1     80006                   1   \n",
       "1                   0                   1     15021                   1   \n",
       "2                   0                   1     20158                   0   \n",
       "3                   1                   0     15024                   3   \n",
       "4                   1                   0     50034                   0   \n",
       "\n",
       "   witness_present_ind  liab_prct  policy_report_filed_ind  claim_est_payout  \\\n",
       "0                  0.0         74                        0       7530.940993   \n",
       "1                  1.0         79                        0       2966.024895   \n",
       "2                  0.0          0                        0       6283.888333   \n",
       "3                  0.0         99                        1       6169.747994   \n",
       "4                  1.0          7                        0       4541.387150   \n",
       "\n",
       "   age_of_vehicle  vehicle_price  vehicle_weight  fraud  \n",
       "0             9.0    12885.45235     16161.33381      0  \n",
       "1             4.0    29429.45218     28691.96422      0  \n",
       "2             3.0    21701.18195     22090.94758      1  \n",
       "3             4.0    13198.27344     38329.58106      1  \n",
       "4             7.0    38060.21122     25876.56319      0  "
      ]
     },
     "execution_count": 15,
     "metadata": {},
     "output_type": "execute_result"
    }
   ],
   "source": [
    "df[numeric_list].head(5)"
   ]
  },
  {
   "cell_type": "code",
   "execution_count": 16,
   "metadata": {
    "colab": {
     "base_uri": "https://localhost:8080/",
     "height": 280
    },
    "executionInfo": {
     "elapsed": 1694,
     "status": "ok",
     "timestamp": 1647777130955,
     "user": {
      "displayName": "Liner Park",
      "photoUrl": "https://lh3.googleusercontent.com/a/default-user=s64",
      "userId": "03562376240636475247"
     },
     "user_tz": -540
    },
    "id": "FAfpTQ4u6EjS",
    "outputId": "c9efacd7-5374-43a3-836d-fa00b2cbb833"
   },
   "outputs": [
    {
     "data": {
      "image/png": "[encoded data removed]",
      "text/plain": [
       "<Figure size 640x480 with 1 Axes>"
      ]
     },
     "metadata": {},
     "output_type": "display_data"
    }
   ],
   "source": [
    "# age_of_driver distribution\n",
    "import matplotlib.pyplot as plt\n",
    "import seaborn as sns\n",
    "%matplotlib inline\n",
    "\n",
    "sns.distplot(df['age_of_driver']);"
   ]
  },
  {
   "cell_type": "code",
   "execution_count": 17,
   "metadata": {
    "colab": {
     "base_uri": "https://localhost:8080/",
     "height": 424
    },
    "executionInfo": {
     "elapsed": 360,
     "status": "ok",
     "timestamp": 1647777170234,
     "user": {
      "displayName": "Liner Park",
      "photoUrl": "https://lh3.googleusercontent.com/a/default-user=s64",
      "userId": "03562376240636475247"
     },
     "user_tz": -540
    },
    "id": "ks6TuTPb6TeK",
    "outputId": "efc883aa-bd11-4c2c-9f6c-401431eb62ef"
   },
   "outputs": [
    {
     "data": {
      "text/html": [
       "<div>\n",
       "<style scoped>\n",
       "    .dataframe tbody tr th:only-of-type {\n",
       "        vertical-align: middle;\n",
       "    }\n",
       "\n",
       "    .dataframe tbody tr th {\n",
       "        vertical-align: top;\n",
       "    }\n",
       "\n",
       "    .dataframe thead th {\n",
       "        text-align: right;\n",
       "    }\n",
       "</style>\n",
       "<table border=\"1\" class=\"dataframe\">\n",
       "  <thead>\n",
       "    <tr style=\"text-align: right;\">\n",
       "      <th></th>\n",
       "      <th>age_of_driver</th>\n",
       "      <th>age_of_driver_gp</th>\n",
       "    </tr>\n",
       "  </thead>\n",
       "  <tbody>\n",
       "    <tr>\n",
       "      <th>0</th>\n",
       "      <td>46</td>\n",
       "      <td>2</td>\n",
       "    </tr>\n",
       "    <tr>\n",
       "      <th>1</th>\n",
       "      <td>21</td>\n",
       "      <td>1</td>\n",
       "    </tr>\n",
       "    <tr>\n",
       "      <th>2</th>\n",
       "      <td>49</td>\n",
       "      <td>2</td>\n",
       "    </tr>\n",
       "    <tr>\n",
       "      <th>3</th>\n",
       "      <td>58</td>\n",
       "      <td>3</td>\n",
       "    </tr>\n",
       "    <tr>\n",
       "      <th>4</th>\n",
       "      <td>38</td>\n",
       "      <td>2</td>\n",
       "    </tr>\n",
       "    <tr>\n",
       "      <th>...</th>\n",
       "      <td>...</td>\n",
       "      <td>...</td>\n",
       "    </tr>\n",
       "    <tr>\n",
       "      <th>17993</th>\n",
       "      <td>69</td>\n",
       "      <td>3</td>\n",
       "    </tr>\n",
       "    <tr>\n",
       "      <th>17994</th>\n",
       "      <td>35</td>\n",
       "      <td>2</td>\n",
       "    </tr>\n",
       "    <tr>\n",
       "      <th>17995</th>\n",
       "      <td>27</td>\n",
       "      <td>1</td>\n",
       "    </tr>\n",
       "    <tr>\n",
       "      <th>17996</th>\n",
       "      <td>52</td>\n",
       "      <td>3</td>\n",
       "    </tr>\n",
       "    <tr>\n",
       "      <th>17997</th>\n",
       "      <td>61</td>\n",
       "      <td>3</td>\n",
       "    </tr>\n",
       "  </tbody>\n",
       "</table>\n",
       "<p>17973 rows × 2 columns</p>\n",
       "</div>"
      ],
      "text/plain": [
       "       age_of_driver  age_of_driver_gp\n",
       "0                 46                 2\n",
       "1                 21                 1\n",
       "2                 49                 2\n",
       "3                 58                 3\n",
       "4                 38                 2\n",
       "...              ...               ...\n",
       "17993             69                 3\n",
       "17994             35                 2\n",
       "17995             27                 1\n",
       "17996             52                 3\n",
       "17997             61                 3\n",
       "\n",
       "[17973 rows x 2 columns]"
      ]
     },
     "execution_count": 17,
     "metadata": {},
     "output_type": "execute_result"
    }
   ],
   "source": [
    "# segmentation\n",
    "import numpy as np\n",
    "df['age_of_driver_gp'] = np.where (df['age_of_driver'] <= 30, 1,\n",
    "                           np.where(df['age_of_driver'] <= 50, 2, 3))\n",
    "\n",
    "df[['age_of_driver','age_of_driver_gp']]"
   ]
  },
  {
   "cell_type": "code",
   "execution_count": 18,
   "metadata": {
    "colab": {
     "base_uri": "https://localhost:8080/",
     "height": 143
    },
    "executionInfo": {
     "elapsed": 353,
     "status": "ok",
     "timestamp": 1647777177347,
     "user": {
      "displayName": "Liner Park",
      "photoUrl": "https://lh3.googleusercontent.com/a/default-user=s64",
      "userId": "03562376240636475247"
     },
     "user_tz": -540
    },
    "id": "sJgoLA286j9D",
    "outputId": "15e790a5-cdae-4751-a933-e1a9c0eaad29"
   },
   "outputs": [
    {
     "data": {
      "text/html": [
       "<div>\n",
       "<style scoped>\n",
       "    .dataframe tbody tr th:only-of-type {\n",
       "        vertical-align: middle;\n",
       "    }\n",
       "\n",
       "    .dataframe tbody tr th {\n",
       "        vertical-align: top;\n",
       "    }\n",
       "\n",
       "    .dataframe thead th {\n",
       "        text-align: right;\n",
       "    }\n",
       "</style>\n",
       "<table border=\"1\" class=\"dataframe\">\n",
       "  <thead>\n",
       "    <tr style=\"text-align: right;\">\n",
       "      <th></th>\n",
       "      <th>age_of_driver_gp</th>\n",
       "      <th>0</th>\n",
       "      <th>1</th>\n",
       "      <th>ratio</th>\n",
       "    </tr>\n",
       "  </thead>\n",
       "  <tbody>\n",
       "    <tr>\n",
       "      <th>0</th>\n",
       "      <td>1</td>\n",
       "      <td>2047</td>\n",
       "      <td>378</td>\n",
       "      <td>15.6</td>\n",
       "    </tr>\n",
       "    <tr>\n",
       "      <th>1</th>\n",
       "      <td>2</td>\n",
       "      <td>8838</td>\n",
       "      <td>1981</td>\n",
       "      <td>18.3</td>\n",
       "    </tr>\n",
       "    <tr>\n",
       "      <th>2</th>\n",
       "      <td>3</td>\n",
       "      <td>4276</td>\n",
       "      <td>453</td>\n",
       "      <td>9.6</td>\n",
       "    </tr>\n",
       "  </tbody>\n",
       "</table>\n",
       "</div>"
      ],
      "text/plain": [
       "   age_of_driver_gp     0     1  ratio\n",
       "0                 1  2047   378   15.6\n",
       "1                 2  8838  1981   18.3\n",
       "2                 3  4276   453    9.6"
      ]
     },
     "execution_count": 18,
     "metadata": {},
     "output_type": "execute_result"
    }
   ],
   "source": [
    "# fraud rate per segmentation\n",
    "num_val='age_of_driver_gp'\n",
    "\n",
    "# 1\n",
    "df_tran = pd.DataFrame(df.groupby([num_val, 'fraud'])['claim_number'].count()).reset_index()\n",
    "df_tran.head(5)\n",
    "\n",
    "# 2\n",
    "df_pivot = pd.pivot_table(df_tran,index = num_val,columns = 'fraud', values = 'claim_number')\n",
    "# 3\n",
    "df_pivot = df_pivot.reset_index()\n",
    "df_pivot.columns.names=['']\n",
    "\n",
    "# 4\n",
    "df_pivot['ratio'] =   round((df_pivot.iloc[:,2] / (df_pivot.iloc[:,1] + df_pivot.iloc[:,2])) * 100,1)\n",
    "df_pivot"
   ]
  },
  {
   "cell_type": "code",
   "execution_count": 19,
   "metadata": {
    "colab": {
     "base_uri": "https://localhost:8080/",
     "height": 283
    },
    "executionInfo": {
     "elapsed": 535,
     "status": "ok",
     "timestamp": 1647777187914,
     "user": {
      "displayName": "Liner Park",
      "photoUrl": "https://lh3.googleusercontent.com/a/default-user=s64",
      "userId": "03562376240636475247"
     },
     "user_tz": -540
    },
    "id": "56NuJD1vZxU_",
    "outputId": "cc133604-2c03-4c2c-d1b3-ee8519a0aee3"
   },
   "outputs": [
    {
     "data": {
      "image/png": "[encoded data removed]",
      "text/plain": [
       "<Figure size 640x480 with 1 Axes>"
      ]
     },
     "metadata": {},
     "output_type": "display_data"
    }
   ],
   "source": [
    "# annual_income distribution\n",
    "sns.distplot(df['annual_income']);"
   ]
  },
  {
   "cell_type": "code",
   "execution_count": 20,
   "metadata": {
    "colab": {
     "base_uri": "https://localhost:8080/",
     "height": 424
    },
    "executionInfo": {
     "elapsed": 9,
     "status": "ok",
     "timestamp": 1647777188270,
     "user": {
      "displayName": "Liner Park",
      "photoUrl": "https://lh3.googleusercontent.com/a/default-user=s64",
      "userId": "03562376240636475247"
     },
     "user_tz": -540
    },
    "id": "aesP5FPMZ6bJ",
    "outputId": "dbc7ea03-ce12-43f7-c502-56ac0ffe7b7f"
   },
   "outputs": [
    {
     "data": {
      "text/html": [
       "<div>\n",
       "<style scoped>\n",
       "    .dataframe tbody tr th:only-of-type {\n",
       "        vertical-align: middle;\n",
       "    }\n",
       "\n",
       "    .dataframe tbody tr th {\n",
       "        vertical-align: top;\n",
       "    }\n",
       "\n",
       "    .dataframe thead th {\n",
       "        text-align: right;\n",
       "    }\n",
       "</style>\n",
       "<table border=\"1\" class=\"dataframe\">\n",
       "  <thead>\n",
       "    <tr style=\"text-align: right;\">\n",
       "      <th></th>\n",
       "      <th>annual_income</th>\n",
       "      <th>annual_income_gp</th>\n",
       "    </tr>\n",
       "  </thead>\n",
       "  <tbody>\n",
       "    <tr>\n",
       "      <th>0</th>\n",
       "      <td>38301</td>\n",
       "      <td>2</td>\n",
       "    </tr>\n",
       "    <tr>\n",
       "      <th>1</th>\n",
       "      <td>30445</td>\n",
       "      <td>1</td>\n",
       "    </tr>\n",
       "    <tr>\n",
       "      <th>2</th>\n",
       "      <td>38923</td>\n",
       "      <td>2</td>\n",
       "    </tr>\n",
       "    <tr>\n",
       "      <th>3</th>\n",
       "      <td>40605</td>\n",
       "      <td>3</td>\n",
       "    </tr>\n",
       "    <tr>\n",
       "      <th>4</th>\n",
       "      <td>36380</td>\n",
       "      <td>2</td>\n",
       "    </tr>\n",
       "    <tr>\n",
       "      <th>...</th>\n",
       "      <td>...</td>\n",
       "      <td>...</td>\n",
       "    </tr>\n",
       "    <tr>\n",
       "      <th>17993</th>\n",
       "      <td>42338</td>\n",
       "      <td>3</td>\n",
       "    </tr>\n",
       "    <tr>\n",
       "      <th>17994</th>\n",
       "      <td>35579</td>\n",
       "      <td>2</td>\n",
       "    </tr>\n",
       "    <tr>\n",
       "      <th>17995</th>\n",
       "      <td>32953</td>\n",
       "      <td>1</td>\n",
       "    </tr>\n",
       "    <tr>\n",
       "      <th>17996</th>\n",
       "      <td>39519</td>\n",
       "      <td>2</td>\n",
       "    </tr>\n",
       "    <tr>\n",
       "      <th>17997</th>\n",
       "      <td>41126</td>\n",
       "      <td>3</td>\n",
       "    </tr>\n",
       "  </tbody>\n",
       "</table>\n",
       "<p>17973 rows × 2 columns</p>\n",
       "</div>"
      ],
      "text/plain": [
       "       annual_income  annual_income_gp\n",
       "0              38301                 2\n",
       "1              30445                 1\n",
       "2              38923                 2\n",
       "3              40605                 3\n",
       "4              36380                 2\n",
       "...              ...               ...\n",
       "17993          42338                 3\n",
       "17994          35579                 2\n",
       "17995          32953                 1\n",
       "17996          39519                 2\n",
       "17997          41126                 3\n",
       "\n",
       "[17973 rows x 2 columns]"
      ]
     },
     "execution_count": 20,
     "metadata": {},
     "output_type": "execute_result"
    }
   ],
   "source": [
    "# segmentation\n",
    "import numpy as np\n",
    "df['annual_income_gp'] = np.where (df['annual_income'] <= 35000, 1,\n",
    "                           np.where(df['annual_income'] <= 40000, 2, 3))\n",
    "\n",
    "df[['annual_income','annual_income_gp']]"
   ]
  },
  {
   "cell_type": "code",
   "execution_count": 21,
   "metadata": {
    "colab": {
     "base_uri": "https://localhost:8080/",
     "height": 143
    },
    "executionInfo": {
     "elapsed": 644,
     "status": "ok",
     "timestamp": 1647777190834,
     "user": {
      "displayName": "Liner Park",
      "photoUrl": "https://lh3.googleusercontent.com/a/default-user=s64",
      "userId": "03562376240636475247"
     },
     "user_tz": -540
    },
    "id": "cLlSI5TLZ74m",
    "outputId": "48057ae9-0c14-4faf-f38f-5f925cb58ec6"
   },
   "outputs": [
    {
     "data": {
      "text/html": [
       "<div>\n",
       "<style scoped>\n",
       "    .dataframe tbody tr th:only-of-type {\n",
       "        vertical-align: middle;\n",
       "    }\n",
       "\n",
       "    .dataframe tbody tr th {\n",
       "        vertical-align: top;\n",
       "    }\n",
       "\n",
       "    .dataframe thead th {\n",
       "        text-align: right;\n",
       "    }\n",
       "</style>\n",
       "<table border=\"1\" class=\"dataframe\">\n",
       "  <thead>\n",
       "    <tr style=\"text-align: right;\">\n",
       "      <th></th>\n",
       "      <th>annual_income_gp</th>\n",
       "      <th>0</th>\n",
       "      <th>1</th>\n",
       "      <th>ratio</th>\n",
       "    </tr>\n",
       "  </thead>\n",
       "  <tbody>\n",
       "    <tr>\n",
       "      <th>0</th>\n",
       "      <td>1</td>\n",
       "      <td>3134</td>\n",
       "      <td>592</td>\n",
       "      <td>15.9</td>\n",
       "    </tr>\n",
       "    <tr>\n",
       "      <th>1</th>\n",
       "      <td>2</td>\n",
       "      <td>9222</td>\n",
       "      <td>1911</td>\n",
       "      <td>17.2</td>\n",
       "    </tr>\n",
       "    <tr>\n",
       "      <th>2</th>\n",
       "      <td>3</td>\n",
       "      <td>2805</td>\n",
       "      <td>309</td>\n",
       "      <td>9.9</td>\n",
       "    </tr>\n",
       "  </tbody>\n",
       "</table>\n",
       "</div>"
      ],
      "text/plain": [
       "   annual_income_gp     0     1  ratio\n",
       "0                 1  3134   592   15.9\n",
       "1                 2  9222  1911   17.2\n",
       "2                 3  2805   309    9.9"
      ]
     },
     "execution_count": 21,
     "metadata": {},
     "output_type": "execute_result"
    }
   ],
   "source": [
    "# fraud rate per segmentation\n",
    "cat_val='annual_income_gp'\n",
    "\n",
    "# 1\n",
    "df_tran = pd.DataFrame(df.groupby([cat_val, 'fraud'])['claim_number'].count()).reset_index()\n",
    "df_tran.head(5)\n",
    "\n",
    "# 2\n",
    "df_pivot = pd.pivot_table(df_tran, index = cat_val, columns = 'fraud', values = 'claim_number')\n",
    "# 3\n",
    "df_pivot = df_pivot.reset_index()\n",
    "df_pivot.columns.names=['']\n",
    "\n",
    "# 4\n",
    "df_pivot['ratio'] =   round((df_pivot.iloc[:,2] / (df_pivot.iloc[:,1] + df_pivot.iloc[:,2])) * 100,1)\n",
    "df_pivot"
   ]
  },
  {
   "cell_type": "markdown",
   "metadata": {
    "id": "Lnz1fB-P7WlD"
   },
   "source": [
    "### Categorical Variable\n",
    "---"
   ]
  },
  {
   "cell_type": "code",
   "execution_count": 22,
   "metadata": {
    "colab": {
     "base_uri": "https://localhost:8080/",
     "height": 424
    },
    "executionInfo": {
     "elapsed": 423,
     "status": "ok",
     "timestamp": 1647679898722,
     "user": {
      "displayName": "Liner Park",
      "photoUrl": "https://lh3.googleusercontent.com/a/default-user=s64",
      "userId": "03562376240636475247"
     },
     "user_tz": -540
    },
    "id": "4NsPW5Pv7reN",
    "outputId": "9dde91f3-8ffd-48ff-d66a-850c721d50a9"
   },
   "outputs": [
    {
     "data": {
      "text/html": [
       "<div>\n",
       "<style scoped>\n",
       "    .dataframe tbody tr th:only-of-type {\n",
       "        vertical-align: middle;\n",
       "    }\n",
       "\n",
       "    .dataframe tbody tr th {\n",
       "        vertical-align: top;\n",
       "    }\n",
       "\n",
       "    .dataframe thead th {\n",
       "        text-align: right;\n",
       "    }\n",
       "</style>\n",
       "<table border=\"1\" class=\"dataframe\">\n",
       "  <thead>\n",
       "    <tr style=\"text-align: right;\">\n",
       "      <th></th>\n",
       "      <th>gender</th>\n",
       "      <th>living_status</th>\n",
       "      <th>claim_date</th>\n",
       "      <th>claim_day_of_week</th>\n",
       "      <th>accident_site</th>\n",
       "      <th>channel</th>\n",
       "      <th>vehicle_category</th>\n",
       "      <th>vehicle_color</th>\n",
       "    </tr>\n",
       "  </thead>\n",
       "  <tbody>\n",
       "    <tr>\n",
       "      <th>0</th>\n",
       "      <td>M</td>\n",
       "      <td>Rent</td>\n",
       "      <td>12/16/2016</td>\n",
       "      <td>Friday</td>\n",
       "      <td>Local</td>\n",
       "      <td>Broker</td>\n",
       "      <td>Compact</td>\n",
       "      <td>white</td>\n",
       "    </tr>\n",
       "    <tr>\n",
       "      <th>1</th>\n",
       "      <td>F</td>\n",
       "      <td>Rent</td>\n",
       "      <td>2/12/2015</td>\n",
       "      <td>Thursday</td>\n",
       "      <td>Highway</td>\n",
       "      <td>Online</td>\n",
       "      <td>Large</td>\n",
       "      <td>white</td>\n",
       "    </tr>\n",
       "    <tr>\n",
       "      <th>2</th>\n",
       "      <td>F</td>\n",
       "      <td>Own</td>\n",
       "      <td>12/6/2016</td>\n",
       "      <td>Tuesday</td>\n",
       "      <td>Local</td>\n",
       "      <td>Broker</td>\n",
       "      <td>Compact</td>\n",
       "      <td>white</td>\n",
       "    </tr>\n",
       "    <tr>\n",
       "      <th>3</th>\n",
       "      <td>F</td>\n",
       "      <td>Own</td>\n",
       "      <td>5/5/2016</td>\n",
       "      <td>Thursday</td>\n",
       "      <td>Local</td>\n",
       "      <td>Broker</td>\n",
       "      <td>Medium</td>\n",
       "      <td>other</td>\n",
       "    </tr>\n",
       "    <tr>\n",
       "      <th>4</th>\n",
       "      <td>M</td>\n",
       "      <td>Rent</td>\n",
       "      <td>10/27/2015</td>\n",
       "      <td>Tuesday</td>\n",
       "      <td>Highway</td>\n",
       "      <td>Broker</td>\n",
       "      <td>Medium</td>\n",
       "      <td>gray</td>\n",
       "    </tr>\n",
       "    <tr>\n",
       "      <th>...</th>\n",
       "      <td>...</td>\n",
       "      <td>...</td>\n",
       "      <td>...</td>\n",
       "      <td>...</td>\n",
       "      <td>...</td>\n",
       "      <td>...</td>\n",
       "      <td>...</td>\n",
       "      <td>...</td>\n",
       "    </tr>\n",
       "    <tr>\n",
       "      <th>17993</th>\n",
       "      <td>M</td>\n",
       "      <td>Own</td>\n",
       "      <td>3/28/2015</td>\n",
       "      <td>Saturday</td>\n",
       "      <td>Local</td>\n",
       "      <td>Broker</td>\n",
       "      <td>Medium</td>\n",
       "      <td>black</td>\n",
       "    </tr>\n",
       "    <tr>\n",
       "      <th>17994</th>\n",
       "      <td>F</td>\n",
       "      <td>Own</td>\n",
       "      <td>1/5/2015</td>\n",
       "      <td>Monday</td>\n",
       "      <td>Local</td>\n",
       "      <td>Phone</td>\n",
       "      <td>Medium</td>\n",
       "      <td>blue</td>\n",
       "    </tr>\n",
       "    <tr>\n",
       "      <th>17995</th>\n",
       "      <td>F</td>\n",
       "      <td>Rent</td>\n",
       "      <td>9/10/2016</td>\n",
       "      <td>Saturday</td>\n",
       "      <td>Local</td>\n",
       "      <td>Online</td>\n",
       "      <td>Medium</td>\n",
       "      <td>black</td>\n",
       "    </tr>\n",
       "    <tr>\n",
       "      <th>17996</th>\n",
       "      <td>F</td>\n",
       "      <td>Own</td>\n",
       "      <td>12/25/2015</td>\n",
       "      <td>Friday</td>\n",
       "      <td>Highway</td>\n",
       "      <td>Broker</td>\n",
       "      <td>Compact</td>\n",
       "      <td>white</td>\n",
       "    </tr>\n",
       "    <tr>\n",
       "      <th>17997</th>\n",
       "      <td>F</td>\n",
       "      <td>Rent</td>\n",
       "      <td>9/26/2016</td>\n",
       "      <td>Monday</td>\n",
       "      <td>Parking Lot</td>\n",
       "      <td>Phone</td>\n",
       "      <td>Medium</td>\n",
       "      <td>blue</td>\n",
       "    </tr>\n",
       "  </tbody>\n",
       "</table>\n",
       "<p>17973 rows × 8 columns</p>\n",
       "</div>"
      ],
      "text/plain": [
       "      gender living_status  claim_date claim_day_of_week accident_site  \\\n",
       "0          M          Rent  12/16/2016            Friday         Local   \n",
       "1          F          Rent   2/12/2015          Thursday       Highway   \n",
       "2          F           Own   12/6/2016           Tuesday         Local   \n",
       "3          F           Own    5/5/2016          Thursday         Local   \n",
       "4          M          Rent  10/27/2015           Tuesday       Highway   \n",
       "...      ...           ...         ...               ...           ...   \n",
       "17993      M           Own   3/28/2015          Saturday         Local   \n",
       "17994      F           Own    1/5/2015            Monday         Local   \n",
       "17995      F          Rent   9/10/2016          Saturday         Local   \n",
       "17996      F           Own  12/25/2015            Friday       Highway   \n",
       "17997      F          Rent   9/26/2016            Monday   Parking Lot   \n",
       "\n",
       "      channel vehicle_category vehicle_color  \n",
       "0      Broker          Compact         white  \n",
       "1      Online            Large         white  \n",
       "2      Broker          Compact         white  \n",
       "3      Broker           Medium         other  \n",
       "4      Broker           Medium          gray  \n",
       "...       ...              ...           ...  \n",
       "17993  Broker           Medium         black  \n",
       "17994   Phone           Medium          blue  \n",
       "17995  Online           Medium         black  \n",
       "17996  Broker          Compact         white  \n",
       "17997   Phone           Medium          blue  \n",
       "\n",
       "[17973 rows x 8 columns]"
      ]
     },
     "execution_count": 22,
     "metadata": {},
     "output_type": "execute_result"
    }
   ],
   "source": [
    "df[categoical_list]"
   ]
  },
  {
   "cell_type": "code",
   "execution_count": 23,
   "metadata": {
    "colab": {
     "base_uri": "https://localhost:8080/"
    },
    "executionInfo": {
     "elapsed": 419,
     "status": "ok",
     "timestamp": 1647679927498,
     "user": {
      "displayName": "Liner Park",
      "photoUrl": "https://lh3.googleusercontent.com/a/default-user=s64",
      "userId": "03562376240636475247"
     },
     "user_tz": -540
    },
    "id": "f2000ZAWwQps",
    "outputId": "56904670-3d8b-4b04-d18a-66b589f20ccf"
   },
   "outputs": [
    {
     "data": {
      "text/plain": [
       "0    12/16/2016\n",
       "1     2/12/2015\n",
       "2     12/6/2016\n",
       "3      5/5/2016\n",
       "4    10/27/2015\n",
       "Name: claim_date, dtype: object"
      ]
     },
     "execution_count": 23,
     "metadata": {},
     "output_type": "execute_result"
    }
   ],
   "source": [
    "df['claim_date'].head(5)"
   ]
  },
  {
   "cell_type": "code",
   "execution_count": 24,
   "metadata": {
    "colab": {
     "base_uri": "https://localhost:8080/",
     "height": 424
    },
    "executionInfo": {
     "elapsed": 363,
     "status": "ok",
     "timestamp": 1647777197533,
     "user": {
      "displayName": "Liner Park",
      "photoUrl": "https://lh3.googleusercontent.com/a/default-user=s64",
      "userId": "03562376240636475247"
     },
     "user_tz": -540
    },
    "id": "KWLViD7W742c",
    "outputId": "67f734e2-e64c-4107-eeb6-09b980d0e2a4"
   },
   "outputs": [
    {
     "data": {
      "text/html": [
       "<div>\n",
       "<style scoped>\n",
       "    .dataframe tbody tr th:only-of-type {\n",
       "        vertical-align: middle;\n",
       "    }\n",
       "\n",
       "    .dataframe tbody tr th {\n",
       "        vertical-align: top;\n",
       "    }\n",
       "\n",
       "    .dataframe thead th {\n",
       "        text-align: right;\n",
       "    }\n",
       "</style>\n",
       "<table border=\"1\" class=\"dataframe\">\n",
       "  <thead>\n",
       "    <tr style=\"text-align: right;\">\n",
       "      <th></th>\n",
       "      <th>claim_date</th>\n",
       "      <th>year</th>\n",
       "      <th>month</th>\n",
       "    </tr>\n",
       "  </thead>\n",
       "  <tbody>\n",
       "    <tr>\n",
       "      <th>0</th>\n",
       "      <td>12/16/2016</td>\n",
       "      <td>2016</td>\n",
       "      <td>12</td>\n",
       "    </tr>\n",
       "    <tr>\n",
       "      <th>1</th>\n",
       "      <td>2/12/2015</td>\n",
       "      <td>2015</td>\n",
       "      <td>2</td>\n",
       "    </tr>\n",
       "    <tr>\n",
       "      <th>2</th>\n",
       "      <td>12/6/2016</td>\n",
       "      <td>2016</td>\n",
       "      <td>12</td>\n",
       "    </tr>\n",
       "    <tr>\n",
       "      <th>3</th>\n",
       "      <td>5/5/2016</td>\n",
       "      <td>2016</td>\n",
       "      <td>5</td>\n",
       "    </tr>\n",
       "    <tr>\n",
       "      <th>4</th>\n",
       "      <td>10/27/2015</td>\n",
       "      <td>2015</td>\n",
       "      <td>10</td>\n",
       "    </tr>\n",
       "    <tr>\n",
       "      <th>...</th>\n",
       "      <td>...</td>\n",
       "      <td>...</td>\n",
       "      <td>...</td>\n",
       "    </tr>\n",
       "    <tr>\n",
       "      <th>17993</th>\n",
       "      <td>3/28/2015</td>\n",
       "      <td>2015</td>\n",
       "      <td>3</td>\n",
       "    </tr>\n",
       "    <tr>\n",
       "      <th>17994</th>\n",
       "      <td>1/5/2015</td>\n",
       "      <td>2015</td>\n",
       "      <td>1</td>\n",
       "    </tr>\n",
       "    <tr>\n",
       "      <th>17995</th>\n",
       "      <td>9/10/2016</td>\n",
       "      <td>2016</td>\n",
       "      <td>9</td>\n",
       "    </tr>\n",
       "    <tr>\n",
       "      <th>17996</th>\n",
       "      <td>12/25/2015</td>\n",
       "      <td>2015</td>\n",
       "      <td>12</td>\n",
       "    </tr>\n",
       "    <tr>\n",
       "      <th>17997</th>\n",
       "      <td>9/26/2016</td>\n",
       "      <td>2016</td>\n",
       "      <td>9</td>\n",
       "    </tr>\n",
       "  </tbody>\n",
       "</table>\n",
       "<p>17973 rows × 3 columns</p>\n",
       "</div>"
      ],
      "text/plain": [
       "       claim_date  year month\n",
       "0      12/16/2016  2016    12\n",
       "1       2/12/2015  2015     2\n",
       "2       12/6/2016  2016    12\n",
       "3        5/5/2016  2016     5\n",
       "4      10/27/2015  2015    10\n",
       "...           ...   ...   ...\n",
       "17993   3/28/2015  2015     3\n",
       "17994    1/5/2015  2015     1\n",
       "17995   9/10/2016  2016     9\n",
       "17996  12/25/2015  2015    12\n",
       "17997   9/26/2016  2016     9\n",
       "\n",
       "[17973 rows x 3 columns]"
      ]
     },
     "execution_count": 24,
     "metadata": {},
     "output_type": "execute_result"
    }
   ],
   "source": [
    "# split date data \n",
    "df['year'] = df['claim_date'].apply(lambda x: x.split('/')[2])\n",
    "df['month'] = df['claim_date'].apply(lambda x: x.split('/')[0])\n",
    "\n",
    "df[['claim_date', 'year', 'month']]"
   ]
  },
  {
   "cell_type": "code",
   "execution_count": 25,
   "metadata": {
    "colab": {
     "base_uri": "https://localhost:8080/"
    },
    "executionInfo": {
     "elapsed": 386,
     "status": "ok",
     "timestamp": 1647777201587,
     "user": {
      "displayName": "Liner Park",
      "photoUrl": "https://lh3.googleusercontent.com/a/default-user=s64",
      "userId": "03562376240636475247"
     },
     "user_tz": -540
    },
    "id": "DnW27ede7sbD",
    "outputId": "c0c07c8b-e2b3-4367-a38d-ad8363a4dbcd"
   },
   "outputs": [
    {
     "name": "stdout",
     "output_type": "stream",
     "text": [
      "categoical_list : ['gender', 'living_status', 'claim_date', 'claim_day_of_week', 'accident_site', 'channel', 'vehicle_category', 'vehicle_color']\n"
     ]
    }
   ],
   "source": [
    "print(\"categoical_list :\", categoical_list)"
   ]
  },
  {
   "cell_type": "code",
   "execution_count": 26,
   "metadata": {
    "colab": {
     "base_uri": "https://localhost:8080/",
     "height": 246
    },
    "executionInfo": {
     "elapsed": 1106,
     "status": "ok",
     "timestamp": 1647777223614,
     "user": {
      "displayName": "Liner Park",
      "photoUrl": "https://lh3.googleusercontent.com/a/default-user=s64",
      "userId": "03562376240636475247"
     },
     "user_tz": -540
    },
    "id": "Dc8F_ct97vLU",
    "outputId": "9ef8491c-3211-46e5-bbf5-7926d88524b2"
   },
   "outputs": [
    {
     "data": {
      "image/png": "[encoded data removed]",
      "text/plain": [
       "<Figure size 1000x300 with 1 Axes>"
      ]
     },
     "metadata": {},
     "output_type": "display_data"
    }
   ],
   "source": [
    "# fraud rate by year\n",
    "\n",
    "sns.catplot(x=\"year\", hue=\"fraud\", kind=\"count\",palette=\"pastel\", edgecolor=\".6\",data=df);\n",
    "plt.gcf().set_size_inches(10, 3)"
   ]
  },
  {
   "cell_type": "code",
   "execution_count": 27,
   "metadata": {
    "colab": {
     "base_uri": "https://localhost:8080/",
     "height": 112
    },
    "executionInfo": {
     "elapsed": 419,
     "status": "ok",
     "timestamp": 1647777228352,
     "user": {
      "displayName": "Liner Park",
      "photoUrl": "https://lh3.googleusercontent.com/a/default-user=s64",
      "userId": "03562376240636475247"
     },
     "user_tz": -540
    },
    "id": "guo0N6drBx5P",
    "outputId": "aa551b44-c068-4194-a959-f51b6c634673"
   },
   "outputs": [
    {
     "data": {
      "text/html": [
       "<div>\n",
       "<style scoped>\n",
       "    .dataframe tbody tr th:only-of-type {\n",
       "        vertical-align: middle;\n",
       "    }\n",
       "\n",
       "    .dataframe tbody tr th {\n",
       "        vertical-align: top;\n",
       "    }\n",
       "\n",
       "    .dataframe thead th {\n",
       "        text-align: right;\n",
       "    }\n",
       "</style>\n",
       "<table border=\"1\" class=\"dataframe\">\n",
       "  <thead>\n",
       "    <tr style=\"text-align: right;\">\n",
       "      <th></th>\n",
       "      <th>year</th>\n",
       "      <th>0</th>\n",
       "      <th>1</th>\n",
       "      <th>ratio</th>\n",
       "    </tr>\n",
       "  </thead>\n",
       "  <tbody>\n",
       "    <tr>\n",
       "      <th>1</th>\n",
       "      <td>2016</td>\n",
       "      <td>7355</td>\n",
       "      <td>1520</td>\n",
       "      <td>17.1</td>\n",
       "    </tr>\n",
       "    <tr>\n",
       "      <th>0</th>\n",
       "      <td>2015</td>\n",
       "      <td>7806</td>\n",
       "      <td>1292</td>\n",
       "      <td>14.2</td>\n",
       "    </tr>\n",
       "  </tbody>\n",
       "</table>\n",
       "</div>"
      ],
      "text/plain": [
       "   year     0     1  ratio\n",
       "1  2016  7355  1520   17.1\n",
       "0  2015  7806  1292   14.2"
      ]
     },
     "execution_count": 27,
     "metadata": {},
     "output_type": "execute_result"
    }
   ],
   "source": [
    "#fraud rate per segmentation\n",
    "cat_val='year'\n",
    "\n",
    "# 1\n",
    "df_tran = pd.DataFrame(df.groupby([cat_val, 'fraud'])['claim_number'].count()).reset_index()\n",
    "df_tran.head(5)\n",
    "\n",
    "# 2\n",
    "df_pivot = pd.pivot_table(df_tran, index = cat_val, columns = 'fraud', values = 'claim_number')\n",
    "\n",
    "# 3\n",
    "df_pivot = df_pivot.reset_index()\n",
    "df_pivot.columns.names=['']\n",
    "\n",
    "# 4\n",
    "df_pivot['ratio'] =   round((df_pivot.iloc[:,2] / (df_pivot.iloc[:,1] + df_pivot.iloc[:,2])) * 100,1)\n",
    "df_pivot.sort_values(by=['ratio'], ascending = False)"
   ]
  },
  {
   "cell_type": "code",
   "execution_count": 28,
   "metadata": {
    "colab": {
     "base_uri": "https://localhost:8080/",
     "height": 247
    },
    "executionInfo": {
     "elapsed": 414,
     "status": "ok",
     "timestamp": 1647777235687,
     "user": {
      "displayName": "Liner Park",
      "photoUrl": "https://lh3.googleusercontent.com/a/default-user=s64",
      "userId": "03562376240636475247"
     },
     "user_tz": -540
    },
    "id": "4onXlIzdwplE",
    "outputId": "52830061-64cd-4b85-aab6-e8414f60e4ec"
   },
   "outputs": [
    {
     "data": {
      "image/png": "[encoded data removed]",
      "text/plain": [
       "<Figure size 1000x300 with 1 Axes>"
      ]
     },
     "metadata": {},
     "output_type": "display_data"
    }
   ],
   "source": [
    "# fraud rate per accident site\n",
    "sns.catplot(x=\"accident_site\", hue=\"fraud\", kind=\"count\",palette=\"pastel\", edgecolor=\".6\",data=df);\n",
    "plt.gcf().set_size_inches(10, 3)"
   ]
  },
  {
   "cell_type": "code",
   "execution_count": 29,
   "metadata": {
    "colab": {
     "base_uri": "https://localhost:8080/",
     "height": 143
    },
    "executionInfo": {
     "elapsed": 14,
     "status": "ok",
     "timestamp": 1647777235689,
     "user": {
      "displayName": "Liner Park",
      "photoUrl": "https://lh3.googleusercontent.com/a/default-user=s64",
      "userId": "03562376240636475247"
     },
     "user_tz": -540
    },
    "id": "KSxAHzzxwptC",
    "outputId": "55b98e5b-7234-4a13-9bc6-72c5640d39f0"
   },
   "outputs": [
    {
     "data": {
      "text/html": [
       "<div>\n",
       "<style scoped>\n",
       "    .dataframe tbody tr th:only-of-type {\n",
       "        vertical-align: middle;\n",
       "    }\n",
       "\n",
       "    .dataframe tbody tr th {\n",
       "        vertical-align: top;\n",
       "    }\n",
       "\n",
       "    .dataframe thead th {\n",
       "        text-align: right;\n",
       "    }\n",
       "</style>\n",
       "<table border=\"1\" class=\"dataframe\">\n",
       "  <thead>\n",
       "    <tr style=\"text-align: right;\">\n",
       "      <th></th>\n",
       "      <th>accident_site</th>\n",
       "      <th>0</th>\n",
       "      <th>1</th>\n",
       "      <th>ratio</th>\n",
       "    </tr>\n",
       "  </thead>\n",
       "  <tbody>\n",
       "    <tr>\n",
       "      <th>0</th>\n",
       "      <td>Highway</td>\n",
       "      <td>2980</td>\n",
       "      <td>772</td>\n",
       "      <td>20.6</td>\n",
       "    </tr>\n",
       "    <tr>\n",
       "      <th>1</th>\n",
       "      <td>Local</td>\n",
       "      <td>7251</td>\n",
       "      <td>1509</td>\n",
       "      <td>17.2</td>\n",
       "    </tr>\n",
       "    <tr>\n",
       "      <th>2</th>\n",
       "      <td>Parking Lot</td>\n",
       "      <td>4930</td>\n",
       "      <td>531</td>\n",
       "      <td>9.7</td>\n",
       "    </tr>\n",
       "  </tbody>\n",
       "</table>\n",
       "</div>"
      ],
      "text/plain": [
       "  accident_site     0     1  ratio\n",
       "0       Highway  2980   772   20.6\n",
       "1         Local  7251  1509   17.2\n",
       "2   Parking Lot  4930   531    9.7"
      ]
     },
     "execution_count": 29,
     "metadata": {},
     "output_type": "execute_result"
    }
   ],
   "source": [
    "cat_val='accident_site'\n",
    "\n",
    "# 1\n",
    "df_tran = pd.DataFrame(df.groupby([cat_val, 'fraud'])['claim_number'].count()).reset_index()\n",
    "df_tran.head(5)\n",
    "\n",
    "# 2\n",
    "df_pivot = pd.pivot_table(df_tran, index = cat_val, columns = 'fraud', values = 'claim_number')\n",
    "\n",
    "#3\n",
    "df_pivot = df_pivot.reset_index()\n",
    "df_pivot.columns.names=['']\n",
    "\n",
    "# 4\n",
    "df_pivot['ratio'] =   round((df_pivot.iloc[:,2] / (df_pivot.iloc[:,1] + df_pivot.iloc[:,2])) * 100,1)\n",
    "df_pivot.sort_values(by=['ratio'], ascending = False)"
   ]
  },
  {
   "cell_type": "markdown",
   "metadata": {
    "id": "1Ar6dYiNB14O"
   },
   "source": [
    "\n",
    "## **Process 3**  \n",
    "- **fraud prediction using ML**  \n",
    "---"
   ]
  },
  {
   "cell_type": "code",
   "execution_count": 30,
   "metadata": {
    "colab": {
     "base_uri": "https://localhost:8080/",
     "height": 299
    },
    "executionInfo": {
     "elapsed": 526,
     "status": "ok",
     "timestamp": 1647681027753,
     "user": {
      "displayName": "Liner Park",
      "photoUrl": "https://lh3.googleusercontent.com/a/default-user=s64",
      "userId": "03562376240636475247"
     },
     "user_tz": -540
    },
    "id": "qtfAJrtZB-T1",
    "outputId": "38a28b4a-ac2e-462f-e109-0fde073b88f8"
   },
   "outputs": [
    {
     "data": {
      "text/html": [
       "<div>\n",
       "<style scoped>\n",
       "    .dataframe tbody tr th:only-of-type {\n",
       "        vertical-align: middle;\n",
       "    }\n",
       "\n",
       "    .dataframe tbody tr th {\n",
       "        vertical-align: top;\n",
       "    }\n",
       "\n",
       "    .dataframe thead th {\n",
       "        text-align: right;\n",
       "    }\n",
       "</style>\n",
       "<table border=\"1\" class=\"dataframe\">\n",
       "  <thead>\n",
       "    <tr style=\"text-align: right;\">\n",
       "      <th></th>\n",
       "      <th>claim_number</th>\n",
       "      <th>age_of_driver</th>\n",
       "      <th>gender</th>\n",
       "      <th>marital_status</th>\n",
       "      <th>safty_rating</th>\n",
       "      <th>annual_income</th>\n",
       "      <th>high_education_ind</th>\n",
       "      <th>address_change_ind</th>\n",
       "      <th>living_status</th>\n",
       "      <th>zip_code</th>\n",
       "      <th>...</th>\n",
       "      <th>age_of_vehicle</th>\n",
       "      <th>vehicle_category</th>\n",
       "      <th>vehicle_price</th>\n",
       "      <th>vehicle_color</th>\n",
       "      <th>vehicle_weight</th>\n",
       "      <th>fraud</th>\n",
       "      <th>age_of_driver_gp</th>\n",
       "      <th>annual_income_gp</th>\n",
       "      <th>year</th>\n",
       "      <th>month</th>\n",
       "    </tr>\n",
       "  </thead>\n",
       "  <tbody>\n",
       "    <tr>\n",
       "      <th>0</th>\n",
       "      <td>1</td>\n",
       "      <td>46</td>\n",
       "      <td>M</td>\n",
       "      <td>1.0</td>\n",
       "      <td>85</td>\n",
       "      <td>38301</td>\n",
       "      <td>1</td>\n",
       "      <td>1</td>\n",
       "      <td>Rent</td>\n",
       "      <td>80006</td>\n",
       "      <td>...</td>\n",
       "      <td>9.0</td>\n",
       "      <td>Compact</td>\n",
       "      <td>12885.45235</td>\n",
       "      <td>white</td>\n",
       "      <td>16161.33381</td>\n",
       "      <td>0</td>\n",
       "      <td>2</td>\n",
       "      <td>2</td>\n",
       "      <td>2016</td>\n",
       "      <td>12</td>\n",
       "    </tr>\n",
       "    <tr>\n",
       "      <th>1</th>\n",
       "      <td>3</td>\n",
       "      <td>21</td>\n",
       "      <td>F</td>\n",
       "      <td>0.0</td>\n",
       "      <td>75</td>\n",
       "      <td>30445</td>\n",
       "      <td>0</td>\n",
       "      <td>1</td>\n",
       "      <td>Rent</td>\n",
       "      <td>15021</td>\n",
       "      <td>...</td>\n",
       "      <td>4.0</td>\n",
       "      <td>Large</td>\n",
       "      <td>29429.45218</td>\n",
       "      <td>white</td>\n",
       "      <td>28691.96422</td>\n",
       "      <td>0</td>\n",
       "      <td>1</td>\n",
       "      <td>1</td>\n",
       "      <td>2015</td>\n",
       "      <td>2</td>\n",
       "    </tr>\n",
       "    <tr>\n",
       "      <th>2</th>\n",
       "      <td>4</td>\n",
       "      <td>49</td>\n",
       "      <td>F</td>\n",
       "      <td>0.0</td>\n",
       "      <td>87</td>\n",
       "      <td>38923</td>\n",
       "      <td>0</td>\n",
       "      <td>1</td>\n",
       "      <td>Own</td>\n",
       "      <td>20158</td>\n",
       "      <td>...</td>\n",
       "      <td>3.0</td>\n",
       "      <td>Compact</td>\n",
       "      <td>21701.18195</td>\n",
       "      <td>white</td>\n",
       "      <td>22090.94758</td>\n",
       "      <td>1</td>\n",
       "      <td>2</td>\n",
       "      <td>2</td>\n",
       "      <td>2016</td>\n",
       "      <td>12</td>\n",
       "    </tr>\n",
       "    <tr>\n",
       "      <th>3</th>\n",
       "      <td>5</td>\n",
       "      <td>58</td>\n",
       "      <td>F</td>\n",
       "      <td>1.0</td>\n",
       "      <td>58</td>\n",
       "      <td>40605</td>\n",
       "      <td>1</td>\n",
       "      <td>0</td>\n",
       "      <td>Own</td>\n",
       "      <td>15024</td>\n",
       "      <td>...</td>\n",
       "      <td>4.0</td>\n",
       "      <td>Medium</td>\n",
       "      <td>13198.27344</td>\n",
       "      <td>other</td>\n",
       "      <td>38329.58106</td>\n",
       "      <td>1</td>\n",
       "      <td>3</td>\n",
       "      <td>3</td>\n",
       "      <td>2016</td>\n",
       "      <td>5</td>\n",
       "    </tr>\n",
       "    <tr>\n",
       "      <th>4</th>\n",
       "      <td>6</td>\n",
       "      <td>38</td>\n",
       "      <td>M</td>\n",
       "      <td>1.0</td>\n",
       "      <td>95</td>\n",
       "      <td>36380</td>\n",
       "      <td>1</td>\n",
       "      <td>0</td>\n",
       "      <td>Rent</td>\n",
       "      <td>50034</td>\n",
       "      <td>...</td>\n",
       "      <td>7.0</td>\n",
       "      <td>Medium</td>\n",
       "      <td>38060.21122</td>\n",
       "      <td>gray</td>\n",
       "      <td>25876.56319</td>\n",
       "      <td>0</td>\n",
       "      <td>2</td>\n",
       "      <td>2</td>\n",
       "      <td>2015</td>\n",
       "      <td>10</td>\n",
       "    </tr>\n",
       "  </tbody>\n",
       "</table>\n",
       "<p>5 rows × 29 columns</p>\n",
       "</div>"
      ],
      "text/plain": [
       "   claim_number  age_of_driver gender  marital_status  safty_rating  \\\n",
       "0             1             46      M             1.0            85   \n",
       "1             3             21      F             0.0            75   \n",
       "2             4             49      F             0.0            87   \n",
       "3             5             58      F             1.0            58   \n",
       "4             6             38      M             1.0            95   \n",
       "\n",
       "   annual_income  high_education_ind  address_change_ind living_status  \\\n",
       "0          38301                   1                   1          Rent   \n",
       "1          30445                   0                   1          Rent   \n",
       "2          38923                   0                   1           Own   \n",
       "3          40605                   1                   0           Own   \n",
       "4          36380                   1                   0          Rent   \n",
       "\n",
       "   zip_code  ... age_of_vehicle vehicle_category vehicle_price  vehicle_color  \\\n",
       "0     80006  ...            9.0          Compact   12885.45235          white   \n",
       "1     15021  ...            4.0            Large   29429.45218          white   \n",
       "2     20158  ...            3.0          Compact   21701.18195          white   \n",
       "3     15024  ...            4.0           Medium   13198.27344          other   \n",
       "4     50034  ...            7.0           Medium   38060.21122           gray   \n",
       "\n",
       "   vehicle_weight  fraud age_of_driver_gp  annual_income_gp  year  month  \n",
       "0     16161.33381      0                2                 2  2016     12  \n",
       "1     28691.96422      0                1                 1  2015      2  \n",
       "2     22090.94758      1                2                 2  2016     12  \n",
       "3     38329.58106      1                3                 3  2016      5  \n",
       "4     25876.56319      0                2                 2  2015     10  \n",
       "\n",
       "[5 rows x 29 columns]"
      ]
     },
     "execution_count": 30,
     "metadata": {},
     "output_type": "execute_result"
    }
   ],
   "source": [
    "df.head(5)"
   ]
  },
  {
   "cell_type": "code",
   "execution_count": 31,
   "metadata": {
    "colab": {
     "base_uri": "https://localhost:8080/"
    },
    "executionInfo": {
     "elapsed": 421,
     "status": "ok",
     "timestamp": 1647681181370,
     "user": {
      "displayName": "Liner Park",
      "photoUrl": "https://lh3.googleusercontent.com/a/default-user=s64",
      "userId": "03562376240636475247"
     },
     "user_tz": -540
    },
    "id": "nVQAlpyBcxRt",
    "outputId": "acc74c7b-0c89-4507-8a0f-f9f109b47d48"
   },
   "outputs": [
    {
     "data": {
      "text/plain": [
       "Index(['claim_number', 'age_of_driver', 'gender', 'marital_status',\n",
       "       'safty_rating', 'annual_income', 'high_education_ind',\n",
       "       'address_change_ind', 'living_status', 'zip_code', 'claim_date',\n",
       "       'claim_day_of_week', 'accident_site', 'past_num_of_claims',\n",
       "       'witness_present_ind', 'liab_prct', 'channel',\n",
       "       'policy_report_filed_ind', 'claim_est_payout', 'age_of_vehicle',\n",
       "       'vehicle_category', 'vehicle_price', 'vehicle_color', 'vehicle_weight',\n",
       "       'fraud', 'age_of_driver_gp', 'annual_income_gp', 'year', 'month'],\n",
       "      dtype='object')"
      ]
     },
     "execution_count": 31,
     "metadata": {},
     "output_type": "execute_result"
    }
   ],
   "source": [
    "df.columns"
   ]
  },
  {
   "cell_type": "code",
   "execution_count": 32,
   "metadata": {
    "colab": {
     "base_uri": "https://localhost:8080/"
    },
    "executionInfo": {
     "elapsed": 962,
     "status": "ok",
     "timestamp": 1647681236162,
     "user": {
      "displayName": "Liner Park",
      "photoUrl": "https://lh3.googleusercontent.com/a/default-user=s64",
      "userId": "03562376240636475247"
     },
     "user_tz": -540
    },
    "id": "2LGYvx5NCWrn",
    "outputId": "aa1c8c7c-ac87-4643-ff79-4e4fb6ae2602"
   },
   "outputs": [
    {
     "name": "stdout",
     "output_type": "stream",
     "text": [
      "(12581, 23)\n",
      "(12581,)\n",
      "(5392, 23)\n",
      "(5392,)\n"
     ]
    }
   ],
   "source": [
    "from sklearn.model_selection import train_test_split\n",
    "from sklearn.ensemble import RandomForestClassifier\n",
    "from sklearn import metrics\n",
    "\n",
    "X=df.drop(['claim_number', 'claim_date', 'year','age_of_driver_gp', 'annual_income_gp'\n",
    "           ,'fraud'], axis=1)\n",
    "Y=df['fraud']\n",
    "\n",
    "x_train, x_test, y_train, y_test = train_test_split(X, Y, test_size=0.3, stratify=Y)\n",
    "\n",
    "print(x_train.shape)\n",
    "print(y_train.shape)\n",
    "\n",
    "print(x_test.shape)\n",
    "print(y_test.shape)"
   ]
  },
  {
   "cell_type": "code",
   "execution_count": 33,
   "metadata": {
    "colab": {
     "base_uri": "https://localhost:8080/"
    },
    "executionInfo": {
     "elapsed": 406,
     "status": "ok",
     "timestamp": 1647681256334,
     "user": {
      "displayName": "Liner Park",
      "photoUrl": "https://lh3.googleusercontent.com/a/default-user=s64",
      "userId": "03562376240636475247"
     },
     "user_tz": -540
    },
    "id": "vIS3ml5ZdJqC",
    "outputId": "09aaec9c-3a0f-4d79-8101-e7144a2ec864"
   },
   "outputs": [
    {
     "data": {
      "text/plain": [
       "['gender',\n",
       " 'living_status',\n",
       " 'claim_date',\n",
       " 'claim_day_of_week',\n",
       " 'accident_site',\n",
       " 'channel',\n",
       " 'vehicle_category',\n",
       " 'vehicle_color']"
      ]
     },
     "execution_count": 33,
     "metadata": {},
     "output_type": "execute_result"
    }
   ],
   "source": [
    "categoical_list"
   ]
  },
  {
   "cell_type": "code",
   "execution_count": 34,
   "metadata": {
    "id": "dLWG8OgPCvZI"
   },
   "outputs": [
    {
     "data": {
      "text/plain": [
       "['gender',\n",
       " 'living_status',\n",
       " 'claim_day_of_week',\n",
       " 'accident_site',\n",
       " 'channel',\n",
       " 'vehicle_category',\n",
       " 'vehicle_color',\n",
       " 'month']"
      ]
     },
     "execution_count": 34,
     "metadata": {},
     "output_type": "execute_result"
    }
   ],
   "source": [
    "categoical_list.remove('claim_date')\n",
    "categoical_list.append('month')\n",
    "categoical_list"
   ]
  },
  {
   "cell_type": "code",
   "execution_count": 35,
   "metadata": {
    "colab": {
     "base_uri": "https://localhost:8080/",
     "height": 424
    },
    "executionInfo": {
     "elapsed": 412,
     "status": "ok",
     "timestamp": 1647681338937,
     "user": {
      "displayName": "Liner Park",
      "photoUrl": "https://lh3.googleusercontent.com/a/default-user=s64",
      "userId": "03562376240636475247"
     },
     "user_tz": -540
    },
    "id": "FdpXgXIlC5JR",
    "outputId": "2c8db18a-4091-4bcc-ef84-23f54205717e"
   },
   "outputs": [
    {
     "data": {
      "text/html": [
       "<div>\n",
       "<style scoped>\n",
       "    .dataframe tbody tr th:only-of-type {\n",
       "        vertical-align: middle;\n",
       "    }\n",
       "\n",
       "    .dataframe tbody tr th {\n",
       "        vertical-align: top;\n",
       "    }\n",
       "\n",
       "    .dataframe thead th {\n",
       "        text-align: right;\n",
       "    }\n",
       "</style>\n",
       "<table border=\"1\" class=\"dataframe\">\n",
       "  <thead>\n",
       "    <tr style=\"text-align: right;\">\n",
       "      <th></th>\n",
       "      <th>gender</th>\n",
       "      <th>living_status</th>\n",
       "      <th>claim_day_of_week</th>\n",
       "      <th>accident_site</th>\n",
       "      <th>channel</th>\n",
       "      <th>vehicle_category</th>\n",
       "      <th>vehicle_color</th>\n",
       "      <th>month</th>\n",
       "    </tr>\n",
       "  </thead>\n",
       "  <tbody>\n",
       "    <tr>\n",
       "      <th>0</th>\n",
       "      <td>M</td>\n",
       "      <td>Rent</td>\n",
       "      <td>Friday</td>\n",
       "      <td>Local</td>\n",
       "      <td>Broker</td>\n",
       "      <td>Compact</td>\n",
       "      <td>white</td>\n",
       "      <td>12</td>\n",
       "    </tr>\n",
       "    <tr>\n",
       "      <th>1</th>\n",
       "      <td>F</td>\n",
       "      <td>Rent</td>\n",
       "      <td>Thursday</td>\n",
       "      <td>Highway</td>\n",
       "      <td>Online</td>\n",
       "      <td>Large</td>\n",
       "      <td>white</td>\n",
       "      <td>2</td>\n",
       "    </tr>\n",
       "    <tr>\n",
       "      <th>2</th>\n",
       "      <td>F</td>\n",
       "      <td>Own</td>\n",
       "      <td>Tuesday</td>\n",
       "      <td>Local</td>\n",
       "      <td>Broker</td>\n",
       "      <td>Compact</td>\n",
       "      <td>white</td>\n",
       "      <td>12</td>\n",
       "    </tr>\n",
       "    <tr>\n",
       "      <th>3</th>\n",
       "      <td>F</td>\n",
       "      <td>Own</td>\n",
       "      <td>Thursday</td>\n",
       "      <td>Local</td>\n",
       "      <td>Broker</td>\n",
       "      <td>Medium</td>\n",
       "      <td>other</td>\n",
       "      <td>5</td>\n",
       "    </tr>\n",
       "    <tr>\n",
       "      <th>4</th>\n",
       "      <td>M</td>\n",
       "      <td>Rent</td>\n",
       "      <td>Tuesday</td>\n",
       "      <td>Highway</td>\n",
       "      <td>Broker</td>\n",
       "      <td>Medium</td>\n",
       "      <td>gray</td>\n",
       "      <td>10</td>\n",
       "    </tr>\n",
       "    <tr>\n",
       "      <th>...</th>\n",
       "      <td>...</td>\n",
       "      <td>...</td>\n",
       "      <td>...</td>\n",
       "      <td>...</td>\n",
       "      <td>...</td>\n",
       "      <td>...</td>\n",
       "      <td>...</td>\n",
       "      <td>...</td>\n",
       "    </tr>\n",
       "    <tr>\n",
       "      <th>17993</th>\n",
       "      <td>M</td>\n",
       "      <td>Own</td>\n",
       "      <td>Saturday</td>\n",
       "      <td>Local</td>\n",
       "      <td>Broker</td>\n",
       "      <td>Medium</td>\n",
       "      <td>black</td>\n",
       "      <td>3</td>\n",
       "    </tr>\n",
       "    <tr>\n",
       "      <th>17994</th>\n",
       "      <td>F</td>\n",
       "      <td>Own</td>\n",
       "      <td>Monday</td>\n",
       "      <td>Local</td>\n",
       "      <td>Phone</td>\n",
       "      <td>Medium</td>\n",
       "      <td>blue</td>\n",
       "      <td>1</td>\n",
       "    </tr>\n",
       "    <tr>\n",
       "      <th>17995</th>\n",
       "      <td>F</td>\n",
       "      <td>Rent</td>\n",
       "      <td>Saturday</td>\n",
       "      <td>Local</td>\n",
       "      <td>Online</td>\n",
       "      <td>Medium</td>\n",
       "      <td>black</td>\n",
       "      <td>9</td>\n",
       "    </tr>\n",
       "    <tr>\n",
       "      <th>17996</th>\n",
       "      <td>F</td>\n",
       "      <td>Own</td>\n",
       "      <td>Friday</td>\n",
       "      <td>Highway</td>\n",
       "      <td>Broker</td>\n",
       "      <td>Compact</td>\n",
       "      <td>white</td>\n",
       "      <td>12</td>\n",
       "    </tr>\n",
       "    <tr>\n",
       "      <th>17997</th>\n",
       "      <td>F</td>\n",
       "      <td>Rent</td>\n",
       "      <td>Monday</td>\n",
       "      <td>Parking Lot</td>\n",
       "      <td>Phone</td>\n",
       "      <td>Medium</td>\n",
       "      <td>blue</td>\n",
       "      <td>9</td>\n",
       "    </tr>\n",
       "  </tbody>\n",
       "</table>\n",
       "<p>17973 rows × 8 columns</p>\n",
       "</div>"
      ],
      "text/plain": [
       "      gender living_status claim_day_of_week accident_site channel  \\\n",
       "0          M          Rent            Friday         Local  Broker   \n",
       "1          F          Rent          Thursday       Highway  Online   \n",
       "2          F           Own           Tuesday         Local  Broker   \n",
       "3          F           Own          Thursday         Local  Broker   \n",
       "4          M          Rent           Tuesday       Highway  Broker   \n",
       "...      ...           ...               ...           ...     ...   \n",
       "17993      M           Own          Saturday         Local  Broker   \n",
       "17994      F           Own            Monday         Local   Phone   \n",
       "17995      F          Rent          Saturday         Local  Online   \n",
       "17996      F           Own            Friday       Highway  Broker   \n",
       "17997      F          Rent            Monday   Parking Lot   Phone   \n",
       "\n",
       "      vehicle_category vehicle_color month  \n",
       "0              Compact         white    12  \n",
       "1                Large         white     2  \n",
       "2              Compact         white    12  \n",
       "3               Medium         other     5  \n",
       "4               Medium          gray    10  \n",
       "...                ...           ...   ...  \n",
       "17993           Medium         black     3  \n",
       "17994           Medium          blue     1  \n",
       "17995           Medium         black     9  \n",
       "17996          Compact         white    12  \n",
       "17997           Medium          blue     9  \n",
       "\n",
       "[17973 rows x 8 columns]"
      ]
     },
     "execution_count": 35,
     "metadata": {},
     "output_type": "execute_result"
    }
   ],
   "source": [
    "df[categoical_list]"
   ]
  },
  {
   "cell_type": "code",
   "execution_count": 36,
   "metadata": {
    "colab": {
     "base_uri": "https://localhost:8080/"
    },
    "executionInfo": {
     "elapsed": 436,
     "status": "ok",
     "timestamp": 1647681519226,
     "user": {
      "displayName": "Liner Park",
      "photoUrl": "https://lh3.googleusercontent.com/a/default-user=s64",
      "userId": "03562376240636475247"
     },
     "user_tz": -540
    },
    "id": "SrPF-4FZCgpe",
    "outputId": "88c79434-9baa-4056-bb84-abb140ae5b51"
   },
   "outputs": [
    {
     "name": "stdout",
     "output_type": "stream",
     "text": [
      "gender\n",
      "living_status\n",
      "claim_day_of_week\n",
      "accident_site\n",
      "channel\n",
      "vehicle_category\n",
      "vehicle_color\n",
      "month\n"
     ]
    }
   ],
   "source": [
    "# use label encoding to transfrom categorical variables -> numerical\n",
    "from sklearn.preprocessing import LabelEncoder\n",
    "\n",
    "for col in categoical_list:\n",
    "    print(col)\n",
    "    le = LabelEncoder()\n",
    "    le.fit(list(x_train[col].values) + list(x_test[col].values))\n",
    "    x_train[col] = le.transform(x_train[col])\n",
    "    x_test[col] = le.transform(x_test[col])"
   ]
  },
  {
   "cell_type": "code",
   "execution_count": 37,
   "metadata": {
    "colab": {
     "base_uri": "https://localhost:8080/",
     "height": 144
    },
    "executionInfo": {
     "elapsed": 412,
     "status": "ok",
     "timestamp": 1647681540419,
     "user": {
      "displayName": "Liner Park",
      "photoUrl": "https://lh3.googleusercontent.com/a/default-user=s64",
      "userId": "03562376240636475247"
     },
     "user_tz": -540
    },
    "id": "P8OjkRPEESBq",
    "outputId": "d7f4d681-8f34-4831-c2a7-a8a6ebae78b9"
   },
   "outputs": [
    {
     "data": {
      "text/html": [
       "<div>\n",
       "<style scoped>\n",
       "    .dataframe tbody tr th:only-of-type {\n",
       "        vertical-align: middle;\n",
       "    }\n",
       "\n",
       "    .dataframe tbody tr th {\n",
       "        vertical-align: top;\n",
       "    }\n",
       "\n",
       "    .dataframe thead th {\n",
       "        text-align: right;\n",
       "    }\n",
       "</style>\n",
       "<table border=\"1\" class=\"dataframe\">\n",
       "  <thead>\n",
       "    <tr style=\"text-align: right;\">\n",
       "      <th></th>\n",
       "      <th>gender</th>\n",
       "      <th>living_status</th>\n",
       "      <th>claim_day_of_week</th>\n",
       "      <th>accident_site</th>\n",
       "      <th>channel</th>\n",
       "      <th>vehicle_category</th>\n",
       "      <th>vehicle_color</th>\n",
       "      <th>month</th>\n",
       "    </tr>\n",
       "  </thead>\n",
       "  <tbody>\n",
       "    <tr>\n",
       "      <th>16694</th>\n",
       "      <td>1</td>\n",
       "      <td>0</td>\n",
       "      <td>3</td>\n",
       "      <td>0</td>\n",
       "      <td>0</td>\n",
       "      <td>0</td>\n",
       "      <td>5</td>\n",
       "      <td>8</td>\n",
       "    </tr>\n",
       "    <tr>\n",
       "      <th>2902</th>\n",
       "      <td>1</td>\n",
       "      <td>1</td>\n",
       "      <td>1</td>\n",
       "      <td>1</td>\n",
       "      <td>2</td>\n",
       "      <td>1</td>\n",
       "      <td>1</td>\n",
       "      <td>11</td>\n",
       "    </tr>\n",
       "    <tr>\n",
       "      <th>10562</th>\n",
       "      <td>1</td>\n",
       "      <td>0</td>\n",
       "      <td>2</td>\n",
       "      <td>1</td>\n",
       "      <td>2</td>\n",
       "      <td>1</td>\n",
       "      <td>4</td>\n",
       "      <td>8</td>\n",
       "    </tr>\n",
       "  </tbody>\n",
       "</table>\n",
       "</div>"
      ],
      "text/plain": [
       "       gender  living_status  claim_day_of_week  accident_site  channel  \\\n",
       "16694       1              0                  3              0        0   \n",
       "2902        1              1                  1              1        2   \n",
       "10562       1              0                  2              1        2   \n",
       "\n",
       "       vehicle_category  vehicle_color  month  \n",
       "16694                 0              5      8  \n",
       "2902                  1              1     11  \n",
       "10562                 1              4      8  "
      ]
     },
     "execution_count": 37,
     "metadata": {},
     "output_type": "execute_result"
    }
   ],
   "source": [
    "x_train[categoical_list].head(3)"
   ]
  },
  {
   "cell_type": "code",
   "execution_count": 38,
   "metadata": {
    "colab": {
     "base_uri": "https://localhost:8080/",
     "height": 144
    },
    "executionInfo": {
     "elapsed": 447,
     "status": "ok",
     "timestamp": 1647681554060,
     "user": {
      "displayName": "Liner Park",
      "photoUrl": "https://lh3.googleusercontent.com/a/default-user=s64",
      "userId": "03562376240636475247"
     },
     "user_tz": -540
    },
    "id": "O0-lAP8wESHF",
    "outputId": "2496aebf-ff11-439e-92c8-4ac9601d0b63"
   },
   "outputs": [
    {
     "data": {
      "text/html": [
       "<div>\n",
       "<style scoped>\n",
       "    .dataframe tbody tr th:only-of-type {\n",
       "        vertical-align: middle;\n",
       "    }\n",
       "\n",
       "    .dataframe tbody tr th {\n",
       "        vertical-align: top;\n",
       "    }\n",
       "\n",
       "    .dataframe thead th {\n",
       "        text-align: right;\n",
       "    }\n",
       "</style>\n",
       "<table border=\"1\" class=\"dataframe\">\n",
       "  <thead>\n",
       "    <tr style=\"text-align: right;\">\n",
       "      <th></th>\n",
       "      <th>gender</th>\n",
       "      <th>living_status</th>\n",
       "      <th>claim_day_of_week</th>\n",
       "      <th>accident_site</th>\n",
       "      <th>channel</th>\n",
       "      <th>vehicle_category</th>\n",
       "      <th>vehicle_color</th>\n",
       "      <th>month</th>\n",
       "    </tr>\n",
       "  </thead>\n",
       "  <tbody>\n",
       "    <tr>\n",
       "      <th>11186</th>\n",
       "      <td>0</td>\n",
       "      <td>1</td>\n",
       "      <td>2</td>\n",
       "      <td>1</td>\n",
       "      <td>0</td>\n",
       "      <td>0</td>\n",
       "      <td>0</td>\n",
       "      <td>0</td>\n",
       "    </tr>\n",
       "    <tr>\n",
       "      <th>8936</th>\n",
       "      <td>1</td>\n",
       "      <td>0</td>\n",
       "      <td>1</td>\n",
       "      <td>1</td>\n",
       "      <td>0</td>\n",
       "      <td>1</td>\n",
       "      <td>4</td>\n",
       "      <td>4</td>\n",
       "    </tr>\n",
       "    <tr>\n",
       "      <th>2612</th>\n",
       "      <td>1</td>\n",
       "      <td>1</td>\n",
       "      <td>3</td>\n",
       "      <td>2</td>\n",
       "      <td>2</td>\n",
       "      <td>2</td>\n",
       "      <td>3</td>\n",
       "      <td>4</td>\n",
       "    </tr>\n",
       "  </tbody>\n",
       "</table>\n",
       "</div>"
      ],
      "text/plain": [
       "       gender  living_status  claim_day_of_week  accident_site  channel  \\\n",
       "11186       0              1                  2              1        0   \n",
       "8936        1              0                  1              1        0   \n",
       "2612        1              1                  3              2        2   \n",
       "\n",
       "       vehicle_category  vehicle_color  month  \n",
       "11186                 0              0      0  \n",
       "8936                  1              4      4  \n",
       "2612                  2              3      4  "
      ]
     },
     "execution_count": 38,
     "metadata": {},
     "output_type": "execute_result"
    }
   ],
   "source": [
    "x_test[categoical_list].head(3)"
   ]
  },
  {
   "cell_type": "markdown",
   "metadata": {
    "id": "lHqBEXZ1Dc7X"
   },
   "source": [
    "### Model Learning & Evaluation\n",
    "---"
   ]
  },
  {
   "cell_type": "code",
   "execution_count": 39,
   "metadata": {
    "id": "7d-FbP-YHfdA"
   },
   "outputs": [
    {
     "name": "stdout",
     "output_type": "stream",
     "text": [
      "[LightGBM] [Info] Number of positive: 1968, number of negative: 10613\n",
      "[LightGBM] [Info] Auto-choosing row-wise multi-threading, the overhead of testing was 0.000650 seconds.\n",
      "You can set `force_row_wise=true` to remove the overhead.\n",
      "And if memory is not enough, you can set `force_col_wise=true`.\n",
      "[LightGBM] [Info] Total Bins 1601\n",
      "[LightGBM] [Info] Number of data points in the train set: 12581, number of used features: 23\n",
      "[LightGBM] [Info] [binary:BoostFromScore]: pavg=0.156426 -> initscore=-1.685062\n",
      "[LightGBM] [Info] Start training from score -1.685062\n"
     ]
    }
   ],
   "source": [
    "#hyperparameter\n",
    "import lightgbm as lgb\n",
    "\n",
    "d_train = lgb.Dataset (x_train, label = y_train)\n",
    "\n",
    "params = {}\n",
    "params [ 'learning_rate'] = 0.02\n",
    "params [ 'boosting_type'] = 'gbdt' \n",
    "\n",
    "params ['objective'] = 'binary'\n",
    "params [ 'metric' ] = 'binary_logloss'\n",
    "params [ 'max_depth'] = 2\n",
    "params [ 'num_leaves' ] = 4 \n",
    "params ['seed'] = 23456\n",
    "\n",
    "clf = lgb.train (params, d_train, 500)"
   ]
  },
  {
   "cell_type": "code",
   "execution_count": 40,
   "metadata": {
    "colab": {
     "base_uri": "https://localhost:8080/"
    },
    "executionInfo": {
     "elapsed": 458,
     "status": "ok",
     "timestamp": 1647682722325,
     "user": {
      "displayName": "Liner Park",
      "photoUrl": "https://lh3.googleusercontent.com/a/default-user=s64",
      "userId": "03562376240636475247"
     },
     "user_tz": -540
    },
    "id": "qDyPPnbfHgH2",
    "outputId": "d78c6d67-640f-4cbf-c45b-40f15fa670f3"
   },
   "outputs": [
    {
     "name": "stdout",
     "output_type": "stream",
     "text": [
      "              precision    recall  f1-score   support\n",
      "\n",
      "           0       0.87      0.96      0.91     10613\n",
      "           1       0.48      0.22      0.30      1968\n",
      "\n",
      "    accuracy                           0.84     12581\n",
      "   macro avg       0.67      0.59      0.60     12581\n",
      "weighted avg       0.81      0.84      0.81     12581\n",
      "\n",
      "              precision    recall  f1-score   support\n",
      "\n",
      "           0       0.86      0.95      0.90      4548\n",
      "           1       0.38      0.17      0.23       844\n",
      "\n",
      "    accuracy                           0.83      5392\n",
      "   macro avg       0.62      0.56      0.57      5392\n",
      "weighted avg       0.78      0.83      0.80      5392\n",
      "\n"
     ]
    }
   ],
   "source": [
    "from sklearn.metrics import classification_report\n",
    "\n",
    "y_pred_train = clf.predict(x_train)\n",
    "for i in range(0,len(y_pred_train)):\n",
    "    if y_pred_train[i]>=.3:\n",
    "        # setting threshold to .5\n",
    "       y_pred_train[i]=1\n",
    "    else:\n",
    "       y_pred_train[i]=0\n",
    "\n",
    "y_pred_test = clf.predict(x_test)\n",
    "for i in range(0,len(y_pred_test)):\n",
    "    if y_pred_test[i]>=.3:\n",
    "        # setting threshold to .5\n",
    "       y_pred_test[i]=1\n",
    "    else:\n",
    "       y_pred_test[i]=0\n",
    "\n",
    "\n",
    "\n",
    "print(classification_report(y_train, y_pred_train))\n",
    "print(classification_report(y_test, y_pred_test))"
   ]
  },
  {
   "cell_type": "code",
   "execution_count": 41,
   "metadata": {
    "colab": {
     "base_uri": "https://localhost:8080/"
    },
    "executionInfo": {
     "elapsed": 8,
     "status": "ok",
     "timestamp": 1647682722326,
     "user": {
      "displayName": "Liner Park",
      "photoUrl": "https://lh3.googleusercontent.com/a/default-user=s64",
      "userId": "03562376240636475247"
     },
     "user_tz": -540
    },
    "id": "5z9aXoeoiJLE",
    "outputId": "c242ce26-ef88-40ba-ee39-8f50b735c29b"
   },
   "outputs": [
    {
     "data": {
      "text/plain": [
       "0.0    5016\n",
       "1.0     376\n",
       "Name: count, dtype: int64"
      ]
     },
     "execution_count": 41,
     "metadata": {},
     "output_type": "execute_result"
    }
   ],
   "source": [
    "pd.Series(y_pred_test).value_counts()"
   ]
  },
  {
   "cell_type": "code",
   "execution_count": 42,
   "metadata": {
    "colab": {
     "base_uri": "https://localhost:8080/"
    },
    "executionInfo": {
     "elapsed": 415,
     "status": "ok",
     "timestamp": 1647682638979,
     "user": {
      "displayName": "Liner Park",
      "photoUrl": "https://lh3.googleusercontent.com/a/default-user=s64",
      "userId": "03562376240636475247"
     },
     "user_tz": -540
    },
    "id": "sKkXwq62InGO",
    "outputId": "b18058df-9472-4cb6-855d-fceebe1bedca"
   },
   "outputs": [
    {
     "name": "stdout",
     "output_type": "stream",
     "text": [
      "roc_score_train : 0.7502241412395751\n",
      "roc_score_test : 0.717241602996161\n"
     ]
    }
   ],
   "source": [
    "# over-fitting\n",
    "# reduce difference in performance\n",
    "from sklearn.metrics import roc_auc_score\n",
    "\n",
    "y_pred_train_proba = clf.predict(x_train)\n",
    "y_pred_test_proba = clf.predict(x_test)\n",
    "\n",
    "\n",
    "roc_score_train = roc_auc_score(y_train, y_pred_train_proba)\n",
    "roc_score_test = roc_auc_score(y_test, y_pred_test_proba)\n",
    "\n",
    "print(\"roc_score_train :\", roc_score_train)\n",
    "print(\"roc_score_test :\", roc_score_test)"
   ]
  },
  {
   "cell_type": "code",
   "execution_count": 43,
   "metadata": {
    "id": "wpbchZZhI5-7"
   },
   "outputs": [
    {
     "data": {
      "image/png": "[encoded data removed]",
      "text/plain": [
       "<Figure size 640x480 with 1 Axes>"
      ]
     },
     "metadata": {},
     "output_type": "display_data"
    }
   ],
   "source": [
    "from sklearn.metrics import roc_curve\n",
    "def roc_curve_plot(y_test , pred_proba_c1):\n",
    "    # return false positive rate & true positive rate\n",
    "    fprs , tprs , thresholds = roc_curve(y_test ,pred_proba_c1)\n",
    "\n",
    "    # plot ROC Curve\n",
    "    plt.plot(fprs , tprs, label='ROC', color = 'blue')\n",
    "    # plot random curve\n",
    "    plt.plot([0, 1], [0, 1], 'k--', label='Random', color='white')\n",
    "\n",
    "    start, end = plt.xlim()\n",
    "    plt.xticks(np.round(np.arange(start, end, 0.1),2))\n",
    "    plt.xlim(0,1)\n",
    "    plt.ylim(0,1)\n",
    "    plt.xlabel('FPR( 1 - Sensitivity )')\n",
    "    plt.ylabel('TPR( Recall )')\n",
    "    plt.legend()\n",
    "    plt.show()\n",
    "roc_curve_plot(y_test, y_pred_test_proba)"
   ]
  },
  {
   "cell_type": "markdown",
   "metadata": {
    "id": "Ruwp3kntGnHI"
   },
   "source": [
    "### Indicate Features\n",
    "---"
   ]
  },
  {
   "cell_type": "code",
   "execution_count": 44,
   "metadata": {
    "colab": {
     "base_uri": "https://localhost:8080/",
     "height": 390
    },
    "executionInfo": {
     "elapsed": 690,
     "status": "ok",
     "timestamp": 1647683061615,
     "user": {
      "displayName": "Liner Park",
      "photoUrl": "https://lh3.googleusercontent.com/a/default-user=s64",
      "userId": "03562376240636475247"
     },
     "user_tz": -540
    },
    "id": "idzFF5EAKtDs",
    "outputId": "808fee88-dc94-470d-feb9-dfc4647fbbf0"
   },
   "outputs": [
    {
     "data": {
      "image/png": "[encoded data removed]",
      "text/plain": [
       "<Figure size 800x600 with 1 Axes>"
      ]
     },
     "metadata": {},
     "output_type": "display_data"
    }
   ],
   "source": [
    "import matplotlib.pyplot as plt\n",
    "import seaborn as sns\n",
    "\n",
    "ftr_importances_values = clf.feature_importance()\n",
    "ftr_importances = pd.Series(ftr_importances_values, index = X.columns)\n",
    "ftr_top20 = ftr_importances.sort_values(ascending=False)[:30]\n",
    "\n",
    "cmap = plt.cm.Blues \n",
    "colors = cmap(np.linspace(0.95, 0.15, len(ftr_top20)))\n",
    "\n",
    "plt.figure(figsize=(8,6))\n",
    "plt.title('Feature Importances')\n",
    "sns.barplot(x=ftr_top20, y=ftr_top20.index, palette=colors, edgecolor='none')\n",
    "plt.show()"
   ]
  },
  {
   "cell_type": "code",
   "execution_count": 45,
   "metadata": {
    "colab": {
     "base_uri": "https://localhost:8080/",
     "height": 280
    },
    "executionInfo": {
     "elapsed": 1331,
     "status": "ok",
     "timestamp": 1647777337183,
     "user": {
      "displayName": "Liner Park",
      "photoUrl": "https://lh3.googleusercontent.com/a/default-user=s64",
      "userId": "03562376240636475247"
     },
     "user_tz": -540
    },
    "id": "9abrzpmcIie9",
    "outputId": "28548369-fa4e-43ed-8e32-f0eaeae71f91"
   },
   "outputs": [
    {
     "data": {
      "image/png": "[encoded data removed]",
      "text/plain": [
       "<Figure size 640x480 with 1 Axes>"
      ]
     },
     "metadata": {},
     "output_type": "display_data"
    }
   ],
   "source": [
    "sns.distplot(df['claim_est_payout']);"
   ]
  },
  {
   "cell_type": "code",
   "execution_count": 46,
   "metadata": {
    "colab": {
     "base_uri": "https://localhost:8080/",
     "height": 424
    },
    "executionInfo": {
     "elapsed": 372,
     "status": "ok",
     "timestamp": 1647777340959,
     "user": {
      "displayName": "Liner Park",
      "photoUrl": "https://lh3.googleusercontent.com/a/default-user=s64",
      "userId": "03562376240636475247"
     },
     "user_tz": -540
    },
    "id": "GcXTaD2ZIo--",
    "outputId": "cfca420b-237b-4cdc-f8c9-fbccdfa0257a"
   },
   "outputs": [
    {
     "data": {
      "text/html": [
       "<div>\n",
       "<style scoped>\n",
       "    .dataframe tbody tr th:only-of-type {\n",
       "        vertical-align: middle;\n",
       "    }\n",
       "\n",
       "    .dataframe tbody tr th {\n",
       "        vertical-align: top;\n",
       "    }\n",
       "\n",
       "    .dataframe thead th {\n",
       "        text-align: right;\n",
       "    }\n",
       "</style>\n",
       "<table border=\"1\" class=\"dataframe\">\n",
       "  <thead>\n",
       "    <tr style=\"text-align: right;\">\n",
       "      <th></th>\n",
       "      <th>claim_est_payout</th>\n",
       "      <th>claim_est_payout_gp</th>\n",
       "    </tr>\n",
       "  </thead>\n",
       "  <tbody>\n",
       "    <tr>\n",
       "      <th>0</th>\n",
       "      <td>7530.940993</td>\n",
       "      <td>3</td>\n",
       "    </tr>\n",
       "    <tr>\n",
       "      <th>1</th>\n",
       "      <td>2966.024895</td>\n",
       "      <td>2</td>\n",
       "    </tr>\n",
       "    <tr>\n",
       "      <th>2</th>\n",
       "      <td>6283.888333</td>\n",
       "      <td>2</td>\n",
       "    </tr>\n",
       "    <tr>\n",
       "      <th>3</th>\n",
       "      <td>6169.747994</td>\n",
       "      <td>2</td>\n",
       "    </tr>\n",
       "    <tr>\n",
       "      <th>4</th>\n",
       "      <td>4541.387150</td>\n",
       "      <td>2</td>\n",
       "    </tr>\n",
       "    <tr>\n",
       "      <th>...</th>\n",
       "      <td>...</td>\n",
       "      <td>...</td>\n",
       "    </tr>\n",
       "    <tr>\n",
       "      <th>17993</th>\n",
       "      <td>4806.841803</td>\n",
       "      <td>2</td>\n",
       "    </tr>\n",
       "    <tr>\n",
       "      <th>17994</th>\n",
       "      <td>4089.794471</td>\n",
       "      <td>2</td>\n",
       "    </tr>\n",
       "    <tr>\n",
       "      <th>17995</th>\n",
       "      <td>2225.803056</td>\n",
       "      <td>1</td>\n",
       "    </tr>\n",
       "    <tr>\n",
       "      <th>17996</th>\n",
       "      <td>9560.744844</td>\n",
       "      <td>3</td>\n",
       "    </tr>\n",
       "    <tr>\n",
       "      <th>17997</th>\n",
       "      <td>5166.915270</td>\n",
       "      <td>2</td>\n",
       "    </tr>\n",
       "  </tbody>\n",
       "</table>\n",
       "<p>17973 rows × 2 columns</p>\n",
       "</div>"
      ],
      "text/plain": [
       "       claim_est_payout  claim_est_payout_gp\n",
       "0           7530.940993                    3\n",
       "1           2966.024895                    2\n",
       "2           6283.888333                    2\n",
       "3           6169.747994                    2\n",
       "4           4541.387150                    2\n",
       "...                 ...                  ...\n",
       "17993       4806.841803                    2\n",
       "17994       4089.794471                    2\n",
       "17995       2225.803056                    1\n",
       "17996       9560.744844                    3\n",
       "17997       5166.915270                    2\n",
       "\n",
       "[17973 rows x 2 columns]"
      ]
     },
     "execution_count": 46,
     "metadata": {},
     "output_type": "execute_result"
    }
   ],
   "source": [
    "# segmentation\n",
    "df['claim_est_payout_gp'] = np.where (df['claim_est_payout'] <= 2500, 1,\n",
    "                           np.where(df['claim_est_payout'] <= 7500, 2, 3))\n",
    "\n",
    "df[['claim_est_payout','claim_est_payout_gp']]"
   ]
  },
  {
   "cell_type": "code",
   "execution_count": 47,
   "metadata": {
    "colab": {
     "base_uri": "https://localhost:8080/"
    },
    "executionInfo": {
     "elapsed": 3,
     "status": "ok",
     "timestamp": 1647777341339,
     "user": {
      "displayName": "Liner Park",
      "photoUrl": "https://lh3.googleusercontent.com/a/default-user=s64",
      "userId": "03562376240636475247"
     },
     "user_tz": -540
    },
    "id": "6IieENueIqct",
    "outputId": "3922d947-41cd-424e-a648-8b08d7d8d696"
   },
   "outputs": [
    {
     "data": {
      "text/plain": [
       "claim_est_payout_gp  fraud\n",
       "1                    0         1588\n",
       "                     1          404\n",
       "2                    0        11703\n",
       "                     1         1998\n",
       "3                    0         1870\n",
       "                     1          410\n",
       "Name: fraud, dtype: int64"
      ]
     },
     "execution_count": 47,
     "metadata": {},
     "output_type": "execute_result"
    }
   ],
   "source": [
    "df.groupby(['claim_est_payout_gp', 'fraud'])['fraud'].count()"
   ]
  },
  {
   "cell_type": "code",
   "execution_count": 48,
   "metadata": {
    "colab": {
     "base_uri": "https://localhost:8080/"
    },
    "executionInfo": {
     "elapsed": 379,
     "status": "ok",
     "timestamp": 1647777347216,
     "user": {
      "displayName": "Liner Park",
      "photoUrl": "https://lh3.googleusercontent.com/a/default-user=s64",
      "userId": "03562376240636475247"
     },
     "user_tz": -540
    },
    "id": "dLQU_9SBIsfL",
    "outputId": "621c2e77-5223-41bb-830b-1217a0f0fb8d"
   },
   "outputs": [
    {
     "name": "stdout",
     "output_type": "stream",
     "text": [
      "gp1 : 0.20281124497991967\n",
      "gp2 : 0.14582877162250932\n",
      "gp3 : 0.17982456140350878\n"
     ]
    }
   ],
   "source": [
    "# lower claim_est_payout tends to yield higher fraud case\n",
    "print(\"gp1 :\", 404 / (404+1588))\n",
    "print(\"gp2 :\", 1998 / (1998+11703))\n",
    "print(\"gp3 :\", 410 / (410+1870))"
   ]
  },
  {
   "cell_type": "markdown",
   "metadata": {
    "id": "l8XdfqeyKtv6"
   },
   "source": [
    "### Save and Read Model\n",
    "---"
   ]
  },
  {
   "cell_type": "code",
   "execution_count": 49,
   "metadata": {
    "id": "LChuHaEyL5KS"
   },
   "outputs": [],
   "source": [
    "import pickle\n",
    "saved_model = pickle.dumps(clf)\n",
    "clf_from_pickle = pickle.loads(saved_model)"
   ]
  },
  {
   "cell_type": "markdown",
   "metadata": {},
   "source": [
    "### Visualization\n",
    "---"
   ]
  },
  {
   "cell_type": "code",
   "execution_count": 52,
   "metadata": {},
   "outputs": [
    {
     "name": "stdout",
     "output_type": "stream",
     "text": [
      "Saving figure pr_curve\n"
     ]
    },
    {
     "data": {
      "image/png": "[encoded data removed]",
      "text/plain": [
       "<Figure size 750x600 with 1 Axes>"
      ]
     },
     "metadata": {},
     "output_type": "display_data"
    }
   ],
   "source": [
    "# Precision–Recall Curve\n",
    "\n",
    "import numpy as np\n",
    "import matplotlib.pyplot as plt\n",
    "from sklearn.metrics import precision_recall_curve, average_precision_score\n",
    "\n",
    "plt.style.use('default')\n",
    "\n",
    "prec, rec, thr = precision_recall_curve(y_test, y_pred_test_proba)\n",
    "ap = average_precision_score(y_test, y_pred_test_proba)\n",
    "\n",
    "f1 = 2 * (prec[:-1] * rec[:-1]) / (prec[:-1] + rec[:-1] + 1e-12)\n",
    "best_idx = np.argmax(f1)\n",
    "best_thr = thr[best_idx]\n",
    "\n",
    "plt.figure(figsize=(7.5,6))\n",
    "plt.plot(rec, prec, lw=2)\n",
    "plt.scatter(rec[best_idx], prec[best_idx], s=60)\n",
    "plt.text(rec[best_idx], prec[best_idx],\n",
    "         f\" thr={best_thr:.2f}\\n F1={f1[best_idx]:.2f}\",\n",
    "         ha='left', va='bottom')\n",
    "\n",
    "plt.title(f'Precision–Recall Curve (AP={ap:.3f})')\n",
    "plt.xlabel('Recall'); plt.ylabel('Precision'); plt.grid(alpha=0.2)\n",
    "\n",
    "save_fig('pr_curve')\n",
    "plt.show()\n"
   ]
  },
  {
   "cell_type": "code",
   "execution_count": 53,
   "metadata": {},
   "outputs": [
    {
     "name": "stdout",
     "output_type": "stream",
     "text": [
      "Saving figure gain_curve\n"
     ]
    },
    {
     "data": {
      "image/png": "[encoded data removed]",
      "text/plain": [
       "<Figure size 750x600 with 1 Axes>"
      ]
     },
     "metadata": {},
     "output_type": "display_data"
    }
   ],
   "source": [
    "# Top-k capture curve (cumulative gain)\n",
    "\n",
    "import numpy as np\n",
    "import matplotlib.pyplot as plt\n",
    "\n",
    "order = np.argsort(-y_pred_test_proba)\n",
    "y_true_sorted = np.array(y_test)[order]\n",
    "\n",
    "cum_fraud = np.cumsum(y_true_sorted)\n",
    "total_fraud = cum_fraud[-1] if cum_fraud.size else 1\n",
    "capture_rate = cum_fraud / total_fraud\n",
    "\n",
    "population = np.arange(1, len(y_true_sorted)+1) / len(y_true_sorted)\n",
    "\n",
    "plt.figure(figsize=(7.5,6))\n",
    "plt.plot(population*100, capture_rate*100, lw=2, label='Model')\n",
    "plt.plot([0,100],[0,100], '--', lw=1, label='Baseline')\n",
    "\n",
    "for k in [10,20,30]:\n",
    "    idx = int(len(population)*k/100)\n",
    "    plt.scatter(k, capture_rate[idx]*100, s=35)\n",
    "\n",
    "plt.xlabel('Top-k% of population (sorted by risk)')\n",
    "plt.ylabel('% of fraud captured')\n",
    "plt.title('Cumulative Gain (Test)')\n",
    "plt.legend()\n",
    "plt.grid(alpha=0.2)\n",
    "\n",
    "save_fig('gain_curve')\n",
    "plt.show()\n"
   ]
  },
  {
   "cell_type": "code",
   "execution_count": null,
   "metadata": {},
   "outputs": [],
   "source": []
  }
 ],
 "metadata": {
  "colab": {
   "authorship_tag": "ABX9TyNoX93Mou7ME5e4bxuHyCso",
   "provenance": [],
   "toc_visible": true
  },
  "kernelspec": {
   "display_name": "Python 3 (ipykernel)",
   "language": "python",
   "name": "python3"
  },
  "language_info": {
   "codemirror_mode": {
    "name": "ipython",
    "version": 3
   },
   "file_extension": ".py",
   "mimetype": "text/x-python",
   "name": "python",
   "nbconvert_exporter": "python",
   "pygments_lexer": "ipython3",
   "version": "3.8.20"
  }
 },
 "nbformat": 4,
 "nbformat_minor": 4
}
